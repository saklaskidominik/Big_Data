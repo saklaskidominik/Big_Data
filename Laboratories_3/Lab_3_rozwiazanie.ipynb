{
 "cells": [
  {
   "cell_type": "markdown",
   "metadata": {
    "application/vnd.databricks.v1+cell": {
     "cellMetadata": {
      "byteLimit": 2048000,
      "rowLimit": 10000
     },
     "inputWidgets": {},
     "nuid": "ec18c344-90d6-4bed-9262-86da6ef2ba48",
     "showTitle": false,
     "tableResultSettingsMap": {},
     "title": ""
    }
   },
   "source": [
    "**Zadanie 1** - Importuj notatnik Ćwiczenia 3.dbc/ipynb i wykonaj opisane zadania\n",
    "a.\tPodczas wykonywania zadań sprawdź plan wykonania `explain()`\n"
   ]
  },
  {
   "cell_type": "markdown",
   "metadata": {
    "application/vnd.databricks.v1+cell": {
     "cellMetadata": {
      "byteLimit": 2048000,
      "rowLimit": 10000
     },
     "inputWidgets": {},
     "nuid": "14fcfb31-ec89-41b4-b40f-50fe66ea2411",
     "showTitle": false,
     "tableResultSettingsMap": {},
     "title": ""
    }
   },
   "source": [
    "W funkcji `display()` prezentuję jedynie pierwsze 10 wierszy danych. Jest to spowodowane ograniczeniami związanymi z umieszczaniem pełnych danych na GitHubie. Wyświetlanie limitowanej liczby rekordów umożliwia efektywne zarządzanie danymi bez przeciążania repozytorium dużą ilością informacji.\n"
   ]
  },
  {
   "cell_type": "code",
   "execution_count": 0,
   "metadata": {
    "application/vnd.databricks.v1+cell": {
     "cellMetadata": {
      "byteLimit": 2048000,
      "rowLimit": 10000
     },
     "inputWidgets": {},
     "nuid": "2b5d1763-6d3b-44d6-b70b-10eceff55836",
     "showTitle": false,
     "tableResultSettingsMap": {},
     "title": ""
    }
   },
   "outputs": [],
   "source": [
    "from pyspark.sql.functions import *"
   ]
  },
  {
   "cell_type": "markdown",
   "metadata": {
    "application/vnd.databricks.v1+cell": {
     "cellMetadata": {
      "byteLimit": 2048000,
      "rowLimit": 10000
     },
     "inputWidgets": {},
     "nuid": "8f1eb294-585d-4cd5-b6f5-7527ae399fdf",
     "showTitle": false,
     "tableResultSettingsMap": {},
     "title": ""
    }
   },
   "source": [
    "1. Names.csv \n",
    "* Dodaj kolumnę z wartością czasu wykonania notatnika w formacie epoch\n",
    "* Dodaj kolumnę w której wyliczysz wzrost w stopach (feet)\n",
    "* Odpowiedz na pytanie jakie jest najpopularniesze imię?\n",
    "* Dodaj kolumnę i policz wiek aktorów \n",
    "* Usuń kolumny (bio, death_details)\n",
    "* Zmień nazwy kolumn - dodaj kapitalizaję i usuń _\n",
    "* Posortuj dataframe po imieniu rosnąco"
   ]
  },
  {
   "cell_type": "code",
   "execution_count": 0,
   "metadata": {
    "application/vnd.databricks.v1+cell": {
     "cellMetadata": {
      "byteLimit": 2048000,
      "rowLimit": 10000
     },
     "inputWidgets": {},
     "nuid": "682ee105-0a36-455f-9c09-98dfba93ba21",
     "showTitle": false,
     "tableResultSettingsMap": {},
     "title": ""
    }
   },
   "outputs": [
    {
     "output_type": "display_data",
     "data": {
      "text/html": [
       "<style scoped>\n",
       "  .table-result-container {\n",
       "    max-height: 300px;\n",
       "    overflow: auto;\n",
       "  }\n",
       "  table, th, td {\n",
       "    border: 1px solid black;\n",
       "    border-collapse: collapse;\n",
       "  }\n",
       "  th, td {\n",
       "    padding: 5px;\n",
       "  }\n",
       "  th {\n",
       "    text-align: left;\n",
       "  }\n",
       "</style><div class='table-result-container'><table class='table-result'><thead style='background-color: white'><tr><th>imdb_name_id</th><th>name</th><th>birth_name</th><th>height</th><th>bio</th><th>birth_details</th><th>date_of_birth</th><th>place_of_birth</th><th>death_details</th><th>date_of_death</th><th>place_of_death</th><th>reason_of_death</th><th>spouses_string</th><th>spouses</th><th>divorces</th><th>spouses_with_children</th><th>children</th></tr></thead><tbody><tr><td>nm0000001</td><td>Fred Astaire</td><td>Frederic Austerlitz Jr.</td><td>177</td><td>Fred Astaire was born in Omaha, Nebraska, to Johanna (Geilus) and Fritz Austerlitz, a brewer. Fred entered show business at age 5. He was successful both in vaudeville and on Broadway in partnership with his sister, Adele Astaire. After Adele retired to marry in 1932, Astaire headed to Hollywood. Signed to RKO, he was loaned to MGM to appear in La danza di Venere (1933) before starting work on RKO's Carioca (1933). In the latter film, he began his highly successful partnership with Ginger Rogers, with whom he danced in 9 RKO pictures. During these years, he was also active in recording and radio. On film, Astaire later appeared opposite a number of partners through various studios. After a temporary retirement in 1945-7, during which he opened Fred Astaire Dance Studios, Astaire returned to film to star in more musicals through 1957. He subsequently performed a number of straight dramatic roles in film and TV.</td><td>May 10, 1899 in Omaha, Nebraska, USA</td><td>1899-05-10</td><td>Omaha, Nebraska, USA</td><td>June 22, 1987 in Los Angeles, California, USA  (pneumonia)</td><td>22.06.1987</td><td>Los Angeles, California, USA  </td><td>pneumonia</td><td>Robyn Smith  (27 June 1980 - 22 June 1987) (his death)Phyllis Livingston Potter  (12 July 1933 - 13 September 1954) (her death) (2 children)</td><td>2</td><td>0</td><td>1</td><td>2</td></tr><tr><td>nm0000002</td><td>Lauren Bacall</td><td>Betty Joan Perske</td><td>174</td><td>Lauren Bacall was born Betty Joan Perske on September 16, 1924, in New York City. She was the daughter of Natalie Weinstein-Bacal, a Romanian Jewish immigrant, and William Perske, who was born in New Jersey, to Polish Jewish parents. Her family was middle-class, with her father working as a salesman and her mother as a secretary. They divorced when she was five and she rarely saw her father after that.As a school girl, she originally wanted to be a dancer, but later switched gears to head into acting. She studied at the American Academy of Dramatic Arts in New York, after attending She was educated at Highland Manor, a private boarding school in Tarrytown, New York (through the generosity of wealthy uncles), and then at Julia Richman High School, which enabled her to get her feet wet in some off-Broadway productions.Out of school, she entered modeling and, because of her beauty, appeared on the cover of Harper's Bazaar, one of the most popular magazines in the US. The wife of famed director Howard Hawks spotted the picture in the publication and arranged with her husband to have Lauren take a screen test. As a result, which was entirely positive, she was given the part of Marie Browning in Acque del Sud (1944), a thriller opposite Humphrey Bogart, when she was just 19 years old. This not only set the tone for a fabulous career but also one of Hollywood's greatest love stories (she married Bogart in 1945). It was also the first of several Bogie-Bacall films.After 1945's L'agente confidenziale (1945), Lauren received second billing in Il grande sonno (1946) with Bogart. The mystery, in the role of Vivian Sternwood Rutledge, was a resounding success. Although she was making one film a year, each production would be eagerly awaited by the public. In 1947, again with her husband, Lauren starred in the thriller La fuga (1947). The film kept movie patrons on the edge of their seats. The following year, she starred with Bogart, Edward G. Robinson, and Lionel Barrymore in L'isola di corallo (1948). The crime drama was even more of a nail biter than her previous film.In 1950, Lauren starred in Le foglie d'oro (1950), a drama set in 1894. It was a film of note because she appeared without her husband - her co-star was Gary Cooper. In 1953, Lauren appeared in her first comedy as Schatze Page in Come sposare un milionario (1953). The film, with co-stars Marilyn Monroe and Betty Grable, was a smash hit all across the theaters of America.After filming La donna del destino (1957), which was released in 1957, Humphrey Bogart died on January 14 from throat cancer. Devastated at being a widow, Lauren returned to the silver screen with Dono d'amore (1958) in 1958 opposite Robert Stack. The production turned out to be a big disappointment. Undaunted, Lauren moved back to New York City and appeared in several Broadway plays to huge critical acclaim. She was enjoying acting before live audiences and the audiences in turn enjoyed her fine performances.Lauren was away from the big screen for five years, but she returned in 1964 to appear in Elettroshock (1964) and Donne v'insegno come si seduce un uomo (1964). The latter film was a comedy starring Henry Fonda and Tony Curtis. In 1966, Lauren starred in Detective's Story (1966) with Paul Newman and Julie Harris, which was one of former's signature films.Alternating her time between films and the stage, Lauren returned in 1974's Assassinio sull'Orient Express (1974). The film, based on Agatha Christie's best-selling book was a huge hit. It also garnered Ingrid Bergman her third Oscar. Actually, the huge star-studded cast helped to ensure its success. Two years later, in 1976, Lauren co-starred with John Wayne in Il pistolero (1976). The film was Wayne's last - he died from cancer in 1979.In 1981, she played an actress being stalked by a crazed admirer in Un'ombra nel buio (1981). The thriller was absolutely fascinating with Lauren in the lead role. After that production, Lauren was away from films again, this time for seven years. In the interim, she again appeared on the stages of Broadway. When she returned, it was for the filming of 1988's Mr. North (1988). After 1990's Misery non deve morire (1990) and several made for television films, Lauren appeared in 1996's Fuga dalla Casa Bianca (1996), a comedy romp with Jack Lemmon and James Garner as two ex-presidents and their escapades.Despite her age and failing health, she made a small-scale comeback in the English-language dub of Hayao Miyazaki's Il castello errante di Howl (2004) (Howl's Moving Castle, based on the young-adult novel by Diana Wynne Jones) as the Witch of the Waste, but acting endeavors for the beloved actress became increasingly rare. Lauren Bacall died on 12 August 2014, five weeks short of her 90th birthday.</td><td>September 16, 1924 in The Bronx, New York City, New York, USA</td><td>16.09.1924</td><td>The Bronx, New York City, New York, USA</td><td>August 12, 2014 in New York City, New York, USA  (stroke)</td><td>12.08.2014</td><td>New York City, New York, USA  </td><td>stroke</td><td>Jason Robards  (4 July 1961 - 10 September 1969) (divorced) (1 child)Humphrey Bogart  (21 May 1945 - 14 January 1957) (his death) (2 children)</td><td>2</td><td>1</td><td>2</td><td>3</td></tr><tr><td>nm0000003</td><td>Brigitte Bardot</td><td>Brigitte Bardot</td><td>166</td><td>Brigitte Bardot was born on September 28, 1934 in Paris, France. Her father had an engineering degree and worked with his father in the family business. Brigitte's mother encouraged her daughter to take up music and dance, and she proved to be very adept at it. By the time she was 15, Brigitte was trying a modeling career, and found herself in the French magazine Elle. Her incredible beauty readily apparent, Brigitte next tried films. In 1952, she appeared on screen for the first time as Javotte Lemoine in Le trou normand (1952). Two more films followed and it was also the same year she married Roger Vadim (the union lasted 3½ years). Capitalizing on her success in French films, Brigitte made her first American production in Atto d'amore (1953) with Kirk Douglas, but she continued to make films in France. Brigitte's explosive sexuality took the United States by storm, and the effect she had on millions of American men who had not seen a woman like her in a long, long time--if ever--was electric. Rise to the phrase sex kitten and fascination of her in the United States consisted of magazines photographs and dubbed over French films--good, bad or indifferent, her films drew audiences--mainly men--into theaters like lemmings. In 1965, she appeared as herself in the American-made Erasmo il lentigginoso (1965) with James Stewart (she only appeared in one scene). Just before she turned 40, Brigitte retired from movies after filming Colinot l'alzasottane (1973). She prefers life outside of stardom. While it enabled her to become internationally famous, it also carried with it annoyances. It was not anything for her to have fans enter her house or wander around the grounds of her home in the hopes of getting a glimpse of her or to take something that belonged to her. Paparazzi constantly hounded her with their cameras. She has been so soft-hearted that some people even have taken advantage of her generosity. After her life in the spotlight, Brigitte went on to become a leading spokesperson for animal rights and started the Foundation Brigitte Bardot dedicated solely to that cause. Her work in that realm is, perhaps, far greater than any film she could have made. Brigitte has been married to Bernard d'Ormale since 1992 and they reside in St. Tropez with their nearly 50 pets.</td><td>September 28, 1934 in Paris, France</td><td>28.09.1934</td><td>Paris, France</td><td>null</td><td>null</td><td>null</td><td>null</td><td>Bernard d'Ormale  (16 August 1992 - present)Gunter Sachs  (14 July 1966 - 3 July 1969) (divorced)Jacques Charrier  (18 June 1959 - 20 November 1962) (divorced) (1 child)Roger Vadim  (20 December 1952 - 6 December 1957) (divorced)</td><td>4</td><td>3</td><td>1</td><td>1</td></tr><tr><td>nm0000004</td><td>John Belushi</td><td>John Adam Belushi</td><td>170</td><td>John Belushi was born in Chicago, Illinois, USA, on January 24, 1949, to Agnes Demetri (Samaras) and Adam Anastos Belushi, a restaurant owner. His father was an Albanian immigrant, from Qytezë, and his mother was also of Albanian descent. He grew up in Wheaton, where the family moved when he was six. Though a young hellion in grade school, John became the perfect all-American boy during his high school years where he was co-captain of the Wheaton Central High School football team and was elected homecoming king his senior year. He also developed an interest in acting and appeared in the high school variety show. Encouraged by his drama teacher, John decided to put aside his plans to become a football coach to pursue a career in acting.After graduation in 1967, John performed in summer stock in rural Indiana in a variety of roles from Cardinal Wolsey in Anne of a Thousand Days to a comic detective in Ten Little Indians. In the fall of his freshman year at the University of Wisconsin at Whitewater, John changed his image into a bad-boy appearance by growing his hair long and began to have problems with discipline and structure of attending classes.Dropping out of Wisconsin, John spent the next two years at the College of DuPage, a junior college a few miles from his parents' Wheaton home, where his father began persuading him to become a partner in his restaurant, but John still preferred acting. While attending DuPage, John helped found the West Compass Players, an improv comedy troupe patterned after Chicago's famous Second City ensemble.In 1971, John made the leap to Second City itself where he performed in various on-stage comic performances with others, who included Harold Ramis and Joe Flaherty. John loved his life at Second City where he performed six nights a week, perfecting the physical gonzo style of comedy he later made famous.A year later, John and his live-in girlfriend from his high school years, Judith Belushi-Pisano, moved to New York because John had joined the cast of National Lampoon's Lemmings, an off-Broadway rock musical revue that was originally booked for a six-week run but played to full crowds for nearly 10 months.In 1973, John was hired as a writer for the syndicated National Lampoon's Radio Hour which became the National Lampoon Show in 1975. John's big break came that same year when he joined the ground-breaking TV variety series Il Saturday Night Live (1975) which made him a star. The unpredictable, aggressively physical style of humor that he began on Second City flowered on SNL.In 1978, while still working on Il Saturday Night Live (1975), John appeared in the movie Verso il sud (1978) which starred and was directed by Jack Nicholson. It was here that director John Landis noticed John and decided to cast him in his movie National Lampoon's Animal House (1978). John's minor role as the notorious, beer-swilling Bluto made it a box-office smash and the year's top grossing comedy. Despite appearing in only a dozen scenes, John's performance stole the movie, which portrays college fraternity shenanigans at a small college set in the year 1962.In 1979, John along with fellow SNL regular Dan Aykroyd quit the series to pursue movie projects. John and Dan Aykroyd appeared in minor roles in Steven Spielberg's financially unsuccessful 1941 - Allarme a Hollywood (1979) and, the following year, in John Landis' The Blues Brothers - I fratelli Blues (1980). Around this time, John's drug use began escalating. Cocaine, which was ubiquitous in show-business circles in the 1970's, became his drug of choice. After he first experimented with cocaine in the mid 1970s, John almost immediately became addicted to it. His frequent cocaine sniffing binges became a source of friction between him and Judy, whom he married in 1976.John's love for blues and soul music inspired the Blues Brothers. He and Aykroyd first appeared as Joliet Jake and Elwood Blues, a pair of white soul men dressed in black suits, skinny ties, fedora hats and Rayban sunglasses, as a warm-up act before the telecasts of Il Saturday Night Live (1975). Building on the success of their acts and the release of their album A Briefcase Full of Blues, John and Dan Aykroyd starred in the movie, which gave John a chance to act with his favorite musical heroes including Ray Charles, James Brown and Aretha Franklin.Although John's reputation for being an off-screen party animal is legendary, his generous side is less well known. Using some of his money, he bought his father a ranch outside San Diego for him to live. John helped set up some of his Chicago friends with their own businesses and even financially helped his younger brother, Jim Belushi, who followed his older brother's path to both Second City and Il Saturday Night Live (1975).In 1981, John appeared in the movie Chiamami Aquila (1981), playing a hard-nosed Chicago newspaperman who finds romance in Colorado with eagle expert Blair Brown. That same year, John and Dan Aykroyd appeared again in the movie I vicini di casa (1981), which gave them a chance to reverse roles, with John playing a straight-arrow family man whose life is turned upside down when a wild family man (Aykroyd) moves in next door.In January 1982, John began work on the screenplay for another movie to be titled Noble Rot. Also, John had checked into a bungalow at the Chateau Marmont, a popular celebrity hotel in Los Angeles. John's drug use had been steadily increasing for over a year now, which alarmed his wife and friends, but he continued to promise Judy that he would quit someday. On March 5, 1982, John Belushi was found dead in his hotel room at the age of 33. The local coroner gave the cause of death as a lethal injection of cocaine and heroin. Several years later, John's drug dealing/drug user companion during his final weeks, Cathy Smith, was tried and sentenced to three years in prison for supplying John with the drugs. Close friend James Taylor sang That Lonesome Road at a memorial service at Martha's Vineyard cemetery where John was buried.</td><td>January 24, 1949 in Chicago, Illinois, USA</td><td>24.01.1949</td><td>Chicago, Illinois, USA</td><td>March 5, 1982 in Hollywood, Los Angeles, California, USA  (acute cocaine and heroin intoxication)</td><td>05.03.1982</td><td>Hollywood, Los Angeles, California, USA  </td><td>acute cocaine and heroin intoxication</td><td>Judith Belushi-Pisano  (31 December 1976 - 5 March 1982) (his death)</td><td>1</td><td>0</td><td>0</td><td>0</td></tr><tr><td>nm0000005</td><td>Ingmar Bergman</td><td>Ernst Ingmar Bergman</td><td>179</td><td>Ernst Ingmar Bergman was born July 14, 1918, the son of a priest. The film and T.V. series, Con le migliori intenzioni (1992) is biographical and shows the early marriage of his parents. The film 'Söndagsbarn' depicts a bicycle journey with his father. In the miniseries Conversazioni private (1996) is the trilogy closed. Here, as in 'Den Goda Viljan' Pernilla August play his mother. Note that all three movies are not always full true biographical stories. He began his career early with a puppet theatre which he, his sister and their friends played with. But he was the manager. Strictly professional he begun writing in 1941. He had written a play called 'Kaspers död' (A.K.A. 'Kaspers Death') which was produced the same year. It became his entrance into the movie business as Stina Bergman (not a close relative), from the company S.F. (Swedish Filmindustry), had seen the play and thought that there must be some dramatic talent in young Ingmar. His first job was to save other more famous writers' poor scripts. Under one of that script-saving works he remembered that he had written a novel about his last year as a student. He took the novel, did the save-poor-script job first, then wrote a screenplay on his own novel. When he went back to S.F., he delivered two scripts rather than one. The script was Spasimo (1944) and was the fist Bergman screenplay that was put into film (by Alf Sjöberg). It was also in that movie Bergman did his first professional film-director job. Because Alf Sjöberg was busy, Bergman got the order to shoot the last sequence of the film. Ingmar Bergman is the father of Daniel Bergman, director, and Mats Bergman, actor at the Swedish Royal Dramatic Theater. Ingmar Bergman was also C.E.O. of the same theatre between 1963-1966, where he hired almost every professional actor in Sweden. In 1976 he had a famous tax problem. Bergman had trusted other people to advise him on his finances, but it turned out to be very bad advice. Bergman had to leave the country immediately, and so he went to Germany. A few years later he returned to Sweden and made his last theatrical film Fanny & Alexander (1982) (A.K.A. 'Fanny and Alexander'). In later life he retired from movie directing, but still wrote scripts for film and T.V. and directed plays at the Swedish Royal Dramatic Theatre for many years. He died peacefully in his sleep on July 30, 2007.</td><td>July 14, 1918 in Uppsala, Uppsala län, Sweden</td><td>14.07.1918</td><td>Uppsala, Uppsala län, Sweden</td><td>July 30, 2007 in Fårö, Gotlands län, Sweden  (natural causes)</td><td>30.07.2007</td><td>Fårö, Gotlands län, Sweden  </td><td>natural causes</td><td>Ingrid Bergman  (11 November 1971 - 20 May 1995) (her death) (1 child)Käbi Laretei  (1959 - 1969) (divorced) (1 child)Gun Grut  (1951 - 1959) (divorced) (1 child)Ellen Bergman  (22 July 1945 - 1950) (divorced) (4 children)Else Fisher  (25 March 1943 - 1945) (divorced) (1 child)</td><td>5</td><td>4</td><td>5</td><td>8</td></tr><tr><td>nm0000006</td><td>Ingrid Bergman</td><td>Ingrid Bergman</td><td>178</td><td>Ingrid Bergman was one of the greatest actresses from Hollywood's lamented Golden Era. Her natural and unpretentious beauty and her immense acting talent made her one of the most celebrated figures in the history of American cinema. Bergman is also one of the most Oscar-awarded actresses, tied with Meryl Streep, both second only to Katharine Hepburn.Ingrid Bergman was born on August 29, 1915 in Stockholm, Sweden, to a German mother, Frieda Henrietta (Adler), and a Swedish father, Justus Samuel Bergman, an artist and photographer. Her mother died when she was only two and her father died when she was 12. She went to live with an elderly uncle.The woman who would be one of the top stars in Hollywood in the 1940s had decided to become an actress after finishing her formal schooling. She had had a taste of acting at age 17 when she played an uncredited role of a girl standing in line in the Swedish film Landskamp (1932) in 1932 - not much of a beginning for a girl who would be known as Sweden's illustrious gift to Hollywood. Her parents died when she was just a girl and the uncle she lived with didn't want to stand in the way of Ingrid's dream. The next year she enrolled at the Royal Dramatic Theatre School in Stockholm but decided that stage acting was not for her. It would be three more years before she would have another chance at a film. When she did, it was more than just a bit part. The film in question was Munkbrogreven (1935), where she had a speaking part as Elsa Edlund. After several films that year that established her as a class actress, Ingrid appeared in La sposa scomparsa (1936) as Anita Hoffman. Luckily for her, American producer David O. Selznick saw it and sent a representative from Selznick International Pictures to gain rights to the story and have Ingrid signed to a contract. Once signed, she came to California and starred in United Artists' 1939 remake of her 1936 film, Intermezzo (1939), reprising her original role. The film was a hit and so was Ingrid.Her beauty was unlike anything the movie industry had seen before and her acting was superb. Hollywood was about to find out that they had the most versatile actress the industry had ever seen. Here was a woman who truly cared about the craft she represented. The public fell in love with her. Ingrid was under contract to go back to Sweden to film Solo una notte (1939) in 1939 and Juninatten (1940) in 1940. Back in the US she appeared in three films, all well-received. She made only one film in 1942, but it was the classic Casablanca (1942) opposite Humphrey Bogart.Ingrid was choosing her roles well. In 1943 she was nominated for an Academy Award for her role in Per chi suona la campana (1943), the only film she made that year. The critics and public didn't forget her when she made Angoscia (1944) the following year--her role of Paula Alquist got her the Oscar for Best Actress. In 1945 Ingrid played in Io ti salverò (1945), Saratoga (1945) and Le campane di Santa Maria (1945), for which she received her third Oscar nomination for her role of Sister Benedict. She made no films in 1947, but bounced back with a fourth nomination for Giovanna d'Arco (1948). In 1949 she went to Italy to film Stromboli (Terra di Dio) (1950), directed by Roberto Rossellini. She fell in love with him and left her husband, Dr. Peter Lindstrom, and daughter, Pia Lindström. America's moral guardians in the press and the pulpits were outraged. She was pregnant and decided to remain in Italy, where her son was born. In 1952 Ingrid had twins, Isotta and Isabella Rossellini, who became an outstanding actress in her own right, as did Pia.Ingrid continued to make films in Italy and finally returned to Hollywood in 1956 in the title role in Anastasia (1956), which was filmed in England. For this she won her second Academy Award. She had scarcely missed a beat. Ingrid continued to bounce between Europe and the US making movies, and fine ones at that. A film with Ingrid Bergman was sure to be a quality production. In her final big-screen performance in 1978's Sinfonia d'autunno (1978) she had her final Academy Award nomination. Though she didn't win, many felt it was the most sterling performance of her career. Ingrid retired, but not before she gave an outstanding performance in the mini-series Una donna di nome Golda (1982), a film about Israeli prime minister Golda Meir. For this she won an Emmy Award as Best Actress, but, unfortunately, she did not live to see the fruits of her labor.Ingrid died from cancer on August 29, 1982, her 67th birthday, in London, England.</td><td>August 29, 1915 in Stockholm, Sweden</td><td>29.08.1915</td><td>Stockholm, Sweden</td><td>August 29, 1982 in Chelsea, London, England, UK  (lymphoma complications following a breast cancer operation)</td><td>29.08.1982</td><td>Chelsea, London, England, UK  </td><td>lymphoma complications following a breast cancer operation</td><td>Lars Schmidt  (21 December 1958 - 1978) (divorced)Roberto Rossellini  (24 May 1950 - 7 November 1957) (divorced) (3 children)Dr. Petter Aron Lindström  (10 July 1937 - 9 February 1950) (divorced) (1 child)</td><td>3</td><td>3</td><td>2</td><td>4</td></tr><tr><td>nm0000007</td><td>Humphrey Bogart</td><td>Humphrey DeForest Bogart</td><td>173</td><td>Humphrey DeForest Bogart was born in New York City, New York, to Maud Humphrey, a famed magazine illustrator and suffragette, and Belmont DeForest Bogart, a moderately wealthy surgeon (who was secretly addicted to opium). Bogart was educated at Trinity School, NYC, and was sent to Phillips Academy in Andover, Massachusetts, in preparation for medical studies at Yale. He was expelled from Phillips and joined the U.S. Naval Reserve. From 1920 to 1922, he managed a stage company owned by family friend William A. Brady (the father of actress Alice Brady), performing a variety of tasks at Brady's film studio in New York. He then began regular stage performances. Alexander Woollcott described his acting in a 1922 play as inadequate. In 1930, he gained a contract with Fox, his feature film debut in a ten-minute short, Broadway's Like That (1930), co-starring Ruth Etting and Joan Blondell. Fox released him after two years. After five years of stage and minor film roles, he had his breakthrough role in La foresta pietrificata (1936) from Warner Bros. He won the part over Edward G. Robinson only after the star, Leslie Howard, threatened Warner Bros. that he would quit unless Bogart was given the key role of Duke Mantee, which he had played in the Broadway production with Howard. The film was a major success and led to a long-term contract with Warner Bros. From 1936 to 1940, Bogart appeared in 28 films, usually as a gangster, twice in Westerns and even a horror film. His landmark year was 1941 (often capitalizing on parts George Raft had stupidly rejected) with roles in classics such as Una pallottola per Roy (1941) and as Sam Spade in one of his most fondly remembered films, Il mistero del falco (1941). These were followed by Casablanca (1942), Il grande sonno (1946), and L'isola di corallo (1948). Bogart, despite his erratic education, was incredibly well-read and he favored writers and intellectuals within his small circle of friends. In 1947, he joined wife Lauren Bacall and other actors protesting the House Un-American Activities Committee witch hunts. He also formed his own production company, and the next year made Il tesoro della Sierra Madre (1948). Bogie won the best actor Academy Award for La regina d'Africa (1951) and was nominated for Casablanca (1942) and as Captain Queeg in L'ammutinamento del Caine (1954), a film made when he was already seriously ill. He died in his sleep at his Hollywood home following surgeries and a battle with throat cancer.</td><td>December 25, 1899 in New York City, New York, USA</td><td>1899-12-25</td><td>New York City, New York, USA</td><td>January 14, 1957 in Los Angeles, California, USA  (esophageal cancer)</td><td>14.01.1957</td><td>Los Angeles, California, USA  </td><td>esophageal cancer</td><td>Lauren Bacall  (21 May 1945 - 14 January 1957) (his death) (2 children)Mayo Methot  (21 August 1938 - 10 May 1945) (divorced)Mary Philips  (3 April 1928 - 11 August 1938) (divorced)Helen Menken  (20 May 1926 - 18 November 1927) (divorced)</td><td>4</td><td>3</td><td>1</td><td>2</td></tr><tr><td>nm0000009</td><td>Richard Burton</td><td>Richard Walter Jenkins</td><td>178</td><td>Probably best-remembered for his turbulent personal life with Elizabeth Taylor (whom he married twice), Richard Burton was nonetheless also regarded as an often brilliant British actor of the post-WWII period.Burton was born Richard Walter Jenkins in 1925 into a Welsh (Cymraeg)-speaking family in Pontrhydyfen to Edith Maude (Thomas) and Richard Walter Jenkins, a coal miner. The twelfth of thirteen children, his mother died while he was a toddler and his father later abandoned the family, leaving him to be raised by an elder sister, Cecilia. An avid fan of Shakespeare, poetry and reading, he once said home is where the books are. He received a scholarship to Oxford University to study acting and made his first stage appearance in 1944.His first film appearances were in routine British movies such as The Last Days of Dolwyn (1949), Tempesta a Liverpool (1950) and La quinta offensiva (1951). Then he started to appear in Hollywood movies such as Mia cugina Rachele (1952), La tunica (1953) and Alessandro il grande (1956), added to this he was also spending considerable time in stage productions, both in the UK and USA, often to splendid reviews. The late 1950s was an exciting and inventive time in UK cinema, often referred to as the British New Wave, and Burton was right in the thick of things, and showcased a sensational performance in I giovani arrabbiati (1959). He also appeared with a cavalcade of international stars in the World War II magnum opus Il giorno più lungo (1962), and then onto arguably his most notorious role as that of Marc Antony opposite Elizabeth Taylor in the hugely expensive Cleopatra (1963). This was, of course, the film that kick-started their fiery and passionate romance (plus two marriages), and the two of them appeared in several productions over the next few years including International Hotel (1963), Castelli di sabbia (1965), the dynamic Chi ha paura di Virginia Woolf? (1966) and La bisbetica domata (1967), as well as box office flops like I commedianti (1967). Burton did better when he was off on his own giving higher caliber performances, such as those in Becket e il suo re (1964), the film adaptation of the Tennessee Williams play La notte dell'iguana (1964), the brilliant espionage thriller La spia che venne dal freddo (1965) and alongside Clint Eastwood in the World War II action adventure film Dove osano le aquile (1968).His audience appeal began to decline somewhat by the end of the 1960s as fans turned to younger, more virile male stars, however Burton was superb in Anna dei mille giorni (1969) as King Henry VIII, he put on a reasonable show in the boring Attacco a Rommel (1971), was over the top in the awful Il mascalzone (1971), gave sleepwalking performances in Una faccia di c... (1972) and Barbablù (1972), and was wildly miscast in the ludicrous L'assassinio di Trotsky (1972).By the early 1970s, quality male lead roles were definitely going to other stars, and Burton found himself appearing in some movies of dubious quality, just to pay the bills and support family, including Divorzia lui divorzia lei (1973) (his last on-screen appearance with Taylor), L'uomo del clan (1974), Breve incontro (1974), Jackpot (1974) (which was never completed) and L'esorcista II - L'eretico (1977). However, he won another Oscar nomination for his excellent performance as a concerned psychiatrist in Equus (1977). He appeared with fellow acting icons Richard Harris and Roger Moore in I 4 dell'oca selvaggia (1978) about mercenaries in South Africa. While the film had a modest initial run, over the past thirty-five years it has picked up quite a cult following. His final performances were as the wily inquisitor O'Brien in the most recent film version of George Orwell's dystopian Orwell 1984 (1984), in which he won good reviews, and in the TV mini series Ellis Island (1984). He passed away on August 5, 1984 in Celigny, Switzerland from a cerebral hemorrhage.</td><td>November 10, 1925 in Pontrhydyfen, Wales, UK</td><td>10.11.1925</td><td>Pontrhydyfen, Wales, UK</td><td>August 5, 1984 in Céligny, Geneva, Switzerland  (cerebral hemorrhage)</td><td>05.08.1984</td><td>Céligny, Geneva, Switzerland  </td><td>cerebral hemorrhage</td><td>Sally Burton  (3 July 1983 - 5 August 1984) (his death)Susan Hunt  (21 August 1976 - 27 February 1983) (divorced)Elizabeth Taylor  (10 October 1975 - 29 July 1976) (divorced)Elizabeth Taylor  (15 March 1964 - 26 June 1974) (divorced) (1 child)Sybil Williams  (5 February 1949 - 5 December 1963) (divorced) (2 children)</td><td>5</td><td>4</td><td>2</td><td>3</td></tr><tr><td>nm0000010</td><td>James Cagney</td><td>James Francis Cagney</td><td>165</td><td>One of Hollywood's preeminent male stars of all time, James Cagney was also an accomplished dancer and easily played light comedy. James Francis Cagney was born on the Lower East Side of Manhattan in New York City, to Carolyn (Nelson) and James Francis Cagney, Sr., who was a bartender and amateur boxer. Cagney was of Norwegian (from his maternal grandfather) and Irish descent. Ending three decades on the screen, he retired to his farm in Stanfordville, New York (some 77 miles/124 km. north of his New York City birthplace), after starring in Billy Wilder's Uno, due, tre! (1961). He emerged from retirement to star in the 1981 screen adaptation of E.L. Doctorow's novel Ragtime (Ragtime (1981)), in which he was reunited with his frequent co-star of the 1930s, Pat O'Brien, and which was his last theatrical film and O'Brien's as well). Cagney's final performance came in the title role of the made-for-TV movie Terrible Joe Moran (1984), in which he played opposite Art Carney.</td><td>July 17, 1899 in New York City, New York, USA</td><td>1899-07-17</td><td>New York City, New York, USA</td><td>March 30, 1986 in Stanfordville, New York, USA  (heart attack following illness from diabetes)</td><td>30.03.1986</td><td>Stanfordville, New York, USA  </td><td>heart attack following illness from diabetes</td><td>Frances Cagney  (28 September 1922 - 30 March 1986) (his death) (2 children)</td><td>1</td><td>0</td><td>1</td><td>2</td></tr><tr><td>nm0000011</td><td>Gary Cooper</td><td>Frank James Cooper</td><td>191</td><td>Born to Alice Cooper and Charles Cooper. Gary attended school at Dunstable school England, Helena Montana and Grinnell College, Grinnell, Iowa (then called Iowa College). His first stage experience was during high school and college. Afterwards, he worked as an extra for one year before getting a part in a two-reeler by the independent producer Hans Tiesler . Eileen Sedgwick was his first leading lady. He then appeared in Fiore del deserto (1926) for United Artists before moving to Paramount. While there he appeared in a small part in Ali (1927), Cosetta (1927), and other films.</td><td>May 7, 1901 in Helena, Montana, USA</td><td>07.05.1901</td><td>Helena, Montana, USA</td><td>May 13, 1961 in Beverly Hills, Los Angeles, California, USA  (prostate cancer)</td><td>13.05.1961</td><td>Beverly Hills, Los Angeles, California, USA  </td><td>prostate cancer</td><td>Sandra Shaw  (15 December 1933 - 13 May 1961) (his death) (1 child)</td><td>1</td><td>0</td><td>1</td><td>1</td></tr></tbody></table></div>"
      ]
     },
     "metadata": {
      "application/vnd.databricks.v1+output": {
       "addedWidgets": {},
       "aggData": [],
       "aggError": "",
       "aggOverflow": false,
       "aggSchema": [],
       "aggSeriesLimitReached": false,
       "aggType": "",
       "arguments": {},
       "columnCustomDisplayInfos": {},
       "data": [
        [
         "nm0000001",
         "Fred Astaire",
         "Frederic Austerlitz Jr.",
         177,
         "Fred Astaire was born in Omaha, Nebraska, to Johanna (Geilus) and Fritz Austerlitz, a brewer. Fred entered show business at age 5. He was successful both in vaudeville and on Broadway in partnership with his sister, Adele Astaire. After Adele retired to marry in 1932, Astaire headed to Hollywood. Signed to RKO, he was loaned to MGM to appear in La danza di Venere (1933) before starting work on RKO's Carioca (1933). In the latter film, he began his highly successful partnership with Ginger Rogers, with whom he danced in 9 RKO pictures. During these years, he was also active in recording and radio. On film, Astaire later appeared opposite a number of partners through various studios. After a temporary retirement in 1945-7, during which he opened Fred Astaire Dance Studios, Astaire returned to film to star in more musicals through 1957. He subsequently performed a number of straight dramatic roles in film and TV.",
         "May 10, 1899 in Omaha, Nebraska, USA",
         "1899-05-10",
         "Omaha, Nebraska, USA",
         "June 22, 1987 in Los Angeles, California, USA  (pneumonia)",
         "22.06.1987",
         "Los Angeles, California, USA  ",
         "pneumonia",
         "Robyn Smith  (27 June 1980 - 22 June 1987) (his death)Phyllis Livingston Potter  (12 July 1933 - 13 September 1954) (her death) (2 children)",
         2,
         0,
         1,
         2
        ],
        [
         "nm0000002",
         "Lauren Bacall",
         "Betty Joan Perske",
         174,
         "Lauren Bacall was born Betty Joan Perske on September 16, 1924, in New York City. She was the daughter of Natalie Weinstein-Bacal, a Romanian Jewish immigrant, and William Perske, who was born in New Jersey, to Polish Jewish parents. Her family was middle-class, with her father working as a salesman and her mother as a secretary. They divorced when she was five and she rarely saw her father after that.As a school girl, she originally wanted to be a dancer, but later switched gears to head into acting. She studied at the American Academy of Dramatic Arts in New York, after attending She was educated at Highland Manor, a private boarding school in Tarrytown, New York (through the generosity of wealthy uncles), and then at Julia Richman High School, which enabled her to get her feet wet in some off-Broadway productions.Out of school, she entered modeling and, because of her beauty, appeared on the cover of Harper's Bazaar, one of the most popular magazines in the US. The wife of famed director Howard Hawks spotted the picture in the publication and arranged with her husband to have Lauren take a screen test. As a result, which was entirely positive, she was given the part of Marie Browning in Acque del Sud (1944), a thriller opposite Humphrey Bogart, when she was just 19 years old. This not only set the tone for a fabulous career but also one of Hollywood's greatest love stories (she married Bogart in 1945). It was also the first of several Bogie-Bacall films.After 1945's L'agente confidenziale (1945), Lauren received second billing in Il grande sonno (1946) with Bogart. The mystery, in the role of Vivian Sternwood Rutledge, was a resounding success. Although she was making one film a year, each production would be eagerly awaited by the public. In 1947, again with her husband, Lauren starred in the thriller La fuga (1947). The film kept movie patrons on the edge of their seats. The following year, she starred with Bogart, Edward G. Robinson, and Lionel Barrymore in L'isola di corallo (1948). The crime drama was even more of a nail biter than her previous film.In 1950, Lauren starred in Le foglie d'oro (1950), a drama set in 1894. It was a film of note because she appeared without her husband - her co-star was Gary Cooper. In 1953, Lauren appeared in her first comedy as Schatze Page in Come sposare un milionario (1953). The film, with co-stars Marilyn Monroe and Betty Grable, was a smash hit all across the theaters of America.After filming La donna del destino (1957), which was released in 1957, Humphrey Bogart died on January 14 from throat cancer. Devastated at being a widow, Lauren returned to the silver screen with Dono d'amore (1958) in 1958 opposite Robert Stack. The production turned out to be a big disappointment. Undaunted, Lauren moved back to New York City and appeared in several Broadway plays to huge critical acclaim. She was enjoying acting before live audiences and the audiences in turn enjoyed her fine performances.Lauren was away from the big screen for five years, but she returned in 1964 to appear in Elettroshock (1964) and Donne v'insegno come si seduce un uomo (1964). The latter film was a comedy starring Henry Fonda and Tony Curtis. In 1966, Lauren starred in Detective's Story (1966) with Paul Newman and Julie Harris, which was one of former's signature films.Alternating her time between films and the stage, Lauren returned in 1974's Assassinio sull'Orient Express (1974). The film, based on Agatha Christie's best-selling book was a huge hit. It also garnered Ingrid Bergman her third Oscar. Actually, the huge star-studded cast helped to ensure its success. Two years later, in 1976, Lauren co-starred with John Wayne in Il pistolero (1976). The film was Wayne's last - he died from cancer in 1979.In 1981, she played an actress being stalked by a crazed admirer in Un'ombra nel buio (1981). The thriller was absolutely fascinating with Lauren in the lead role. After that production, Lauren was away from films again, this time for seven years. In the interim, she again appeared on the stages of Broadway. When she returned, it was for the filming of 1988's Mr. North (1988). After 1990's Misery non deve morire (1990) and several made for television films, Lauren appeared in 1996's Fuga dalla Casa Bianca (1996), a comedy romp with Jack Lemmon and James Garner as two ex-presidents and their escapades.Despite her age and failing health, she made a small-scale comeback in the English-language dub of Hayao Miyazaki's Il castello errante di Howl (2004) (Howl's Moving Castle, based on the young-adult novel by Diana Wynne Jones) as the Witch of the Waste, but acting endeavors for the beloved actress became increasingly rare. Lauren Bacall died on 12 August 2014, five weeks short of her 90th birthday.",
         "September 16, 1924 in The Bronx, New York City, New York, USA",
         "16.09.1924",
         "The Bronx, New York City, New York, USA",
         "August 12, 2014 in New York City, New York, USA  (stroke)",
         "12.08.2014",
         "New York City, New York, USA  ",
         "stroke",
         "Jason Robards  (4 July 1961 - 10 September 1969) (divorced) (1 child)Humphrey Bogart  (21 May 1945 - 14 January 1957) (his death) (2 children)",
         2,
         1,
         2,
         3
        ],
        [
         "nm0000003",
         "Brigitte Bardot",
         "Brigitte Bardot",
         166,
         "Brigitte Bardot was born on September 28, 1934 in Paris, France. Her father had an engineering degree and worked with his father in the family business. Brigitte's mother encouraged her daughter to take up music and dance, and she proved to be very adept at it. By the time she was 15, Brigitte was trying a modeling career, and found herself in the French magazine Elle. Her incredible beauty readily apparent, Brigitte next tried films. In 1952, she appeared on screen for the first time as Javotte Lemoine in Le trou normand (1952). Two more films followed and it was also the same year she married Roger Vadim (the union lasted 3½ years). Capitalizing on her success in French films, Brigitte made her first American production in Atto d'amore (1953) with Kirk Douglas, but she continued to make films in France. Brigitte's explosive sexuality took the United States by storm, and the effect she had on millions of American men who had not seen a woman like her in a long, long time--if ever--was electric. Rise to the phrase sex kitten and fascination of her in the United States consisted of magazines photographs and dubbed over French films--good, bad or indifferent, her films drew audiences--mainly men--into theaters like lemmings. In 1965, she appeared as herself in the American-made Erasmo il lentigginoso (1965) with James Stewart (she only appeared in one scene). Just before she turned 40, Brigitte retired from movies after filming Colinot l'alzasottane (1973). She prefers life outside of stardom. While it enabled her to become internationally famous, it also carried with it annoyances. It was not anything for her to have fans enter her house or wander around the grounds of her home in the hopes of getting a glimpse of her or to take something that belonged to her. Paparazzi constantly hounded her with their cameras. She has been so soft-hearted that some people even have taken advantage of her generosity. After her life in the spotlight, Brigitte went on to become a leading spokesperson for animal rights and started the Foundation Brigitte Bardot dedicated solely to that cause. Her work in that realm is, perhaps, far greater than any film she could have made. Brigitte has been married to Bernard d'Ormale since 1992 and they reside in St. Tropez with their nearly 50 pets.",
         "September 28, 1934 in Paris, France",
         "28.09.1934",
         "Paris, France",
         null,
         null,
         null,
         null,
         "Bernard d'Ormale  (16 August 1992 - present)Gunter Sachs  (14 July 1966 - 3 July 1969) (divorced)Jacques Charrier  (18 June 1959 - 20 November 1962) (divorced) (1 child)Roger Vadim  (20 December 1952 - 6 December 1957) (divorced)",
         4,
         3,
         1,
         1
        ],
        [
         "nm0000004",
         "John Belushi",
         "John Adam Belushi",
         170,
         "John Belushi was born in Chicago, Illinois, USA, on January 24, 1949, to Agnes Demetri (Samaras) and Adam Anastos Belushi, a restaurant owner. His father was an Albanian immigrant, from Qytezë, and his mother was also of Albanian descent. He grew up in Wheaton, where the family moved when he was six. Though a young hellion in grade school, John became the perfect all-American boy during his high school years where he was co-captain of the Wheaton Central High School football team and was elected homecoming king his senior year. He also developed an interest in acting and appeared in the high school variety show. Encouraged by his drama teacher, John decided to put aside his plans to become a football coach to pursue a career in acting.After graduation in 1967, John performed in summer stock in rural Indiana in a variety of roles from Cardinal Wolsey in Anne of a Thousand Days to a comic detective in Ten Little Indians. In the fall of his freshman year at the University of Wisconsin at Whitewater, John changed his image into a bad-boy appearance by growing his hair long and began to have problems with discipline and structure of attending classes.Dropping out of Wisconsin, John spent the next two years at the College of DuPage, a junior college a few miles from his parents' Wheaton home, where his father began persuading him to become a partner in his restaurant, but John still preferred acting. While attending DuPage, John helped found the West Compass Players, an improv comedy troupe patterned after Chicago's famous Second City ensemble.In 1971, John made the leap to Second City itself where he performed in various on-stage comic performances with others, who included Harold Ramis and Joe Flaherty. John loved his life at Second City where he performed six nights a week, perfecting the physical gonzo style of comedy he later made famous.A year later, John and his live-in girlfriend from his high school years, Judith Belushi-Pisano, moved to New York because John had joined the cast of National Lampoon's Lemmings, an off-Broadway rock musical revue that was originally booked for a six-week run but played to full crowds for nearly 10 months.In 1973, John was hired as a writer for the syndicated National Lampoon's Radio Hour which became the National Lampoon Show in 1975. John's big break came that same year when he joined the ground-breaking TV variety series Il Saturday Night Live (1975) which made him a star. The unpredictable, aggressively physical style of humor that he began on Second City flowered on SNL.In 1978, while still working on Il Saturday Night Live (1975), John appeared in the movie Verso il sud (1978) which starred and was directed by Jack Nicholson. It was here that director John Landis noticed John and decided to cast him in his movie National Lampoon's Animal House (1978). John's minor role as the notorious, beer-swilling Bluto made it a box-office smash and the year's top grossing comedy. Despite appearing in only a dozen scenes, John's performance stole the movie, which portrays college fraternity shenanigans at a small college set in the year 1962.In 1979, John along with fellow SNL regular Dan Aykroyd quit the series to pursue movie projects. John and Dan Aykroyd appeared in minor roles in Steven Spielberg's financially unsuccessful 1941 - Allarme a Hollywood (1979) and, the following year, in John Landis' The Blues Brothers - I fratelli Blues (1980). Around this time, John's drug use began escalating. Cocaine, which was ubiquitous in show-business circles in the 1970's, became his drug of choice. After he first experimented with cocaine in the mid 1970s, John almost immediately became addicted to it. His frequent cocaine sniffing binges became a source of friction between him and Judy, whom he married in 1976.John's love for blues and soul music inspired the Blues Brothers. He and Aykroyd first appeared as Joliet Jake and Elwood Blues, a pair of white soul men dressed in black suits, skinny ties, fedora hats and Rayban sunglasses, as a warm-up act before the telecasts of Il Saturday Night Live (1975). Building on the success of their acts and the release of their album A Briefcase Full of Blues, John and Dan Aykroyd starred in the movie, which gave John a chance to act with his favorite musical heroes including Ray Charles, James Brown and Aretha Franklin.Although John's reputation for being an off-screen party animal is legendary, his generous side is less well known. Using some of his money, he bought his father a ranch outside San Diego for him to live. John helped set up some of his Chicago friends with their own businesses and even financially helped his younger brother, Jim Belushi, who followed his older brother's path to both Second City and Il Saturday Night Live (1975).In 1981, John appeared in the movie Chiamami Aquila (1981), playing a hard-nosed Chicago newspaperman who finds romance in Colorado with eagle expert Blair Brown. That same year, John and Dan Aykroyd appeared again in the movie I vicini di casa (1981), which gave them a chance to reverse roles, with John playing a straight-arrow family man whose life is turned upside down when a wild family man (Aykroyd) moves in next door.In January 1982, John began work on the screenplay for another movie to be titled Noble Rot. Also, John had checked into a bungalow at the Chateau Marmont, a popular celebrity hotel in Los Angeles. John's drug use had been steadily increasing for over a year now, which alarmed his wife and friends, but he continued to promise Judy that he would quit someday. On March 5, 1982, John Belushi was found dead in his hotel room at the age of 33. The local coroner gave the cause of death as a lethal injection of cocaine and heroin. Several years later, John's drug dealing/drug user companion during his final weeks, Cathy Smith, was tried and sentenced to three years in prison for supplying John with the drugs. Close friend James Taylor sang That Lonesome Road at a memorial service at Martha's Vineyard cemetery where John was buried.",
         "January 24, 1949 in Chicago, Illinois, USA",
         "24.01.1949",
         "Chicago, Illinois, USA",
         "March 5, 1982 in Hollywood, Los Angeles, California, USA  (acute cocaine and heroin intoxication)",
         "05.03.1982",
         "Hollywood, Los Angeles, California, USA  ",
         "acute cocaine and heroin intoxication",
         "Judith Belushi-Pisano  (31 December 1976 - 5 March 1982) (his death)",
         1,
         0,
         0,
         0
        ],
        [
         "nm0000005",
         "Ingmar Bergman",
         "Ernst Ingmar Bergman",
         179,
         "Ernst Ingmar Bergman was born July 14, 1918, the son of a priest. The film and T.V. series, Con le migliori intenzioni (1992) is biographical and shows the early marriage of his parents. The film 'Söndagsbarn' depicts a bicycle journey with his father. In the miniseries Conversazioni private (1996) is the trilogy closed. Here, as in 'Den Goda Viljan' Pernilla August play his mother. Note that all three movies are not always full true biographical stories. He began his career early with a puppet theatre which he, his sister and their friends played with. But he was the manager. Strictly professional he begun writing in 1941. He had written a play called 'Kaspers död' (A.K.A. 'Kaspers Death') which was produced the same year. It became his entrance into the movie business as Stina Bergman (not a close relative), from the company S.F. (Swedish Filmindustry), had seen the play and thought that there must be some dramatic talent in young Ingmar. His first job was to save other more famous writers' poor scripts. Under one of that script-saving works he remembered that he had written a novel about his last year as a student. He took the novel, did the save-poor-script job first, then wrote a screenplay on his own novel. When he went back to S.F., he delivered two scripts rather than one. The script was Spasimo (1944) and was the fist Bergman screenplay that was put into film (by Alf Sjöberg). It was also in that movie Bergman did his first professional film-director job. Because Alf Sjöberg was busy, Bergman got the order to shoot the last sequence of the film. Ingmar Bergman is the father of Daniel Bergman, director, and Mats Bergman, actor at the Swedish Royal Dramatic Theater. Ingmar Bergman was also C.E.O. of the same theatre between 1963-1966, where he hired almost every professional actor in Sweden. In 1976 he had a famous tax problem. Bergman had trusted other people to advise him on his finances, but it turned out to be very bad advice. Bergman had to leave the country immediately, and so he went to Germany. A few years later he returned to Sweden and made his last theatrical film Fanny & Alexander (1982) (A.K.A. 'Fanny and Alexander'). In later life he retired from movie directing, but still wrote scripts for film and T.V. and directed plays at the Swedish Royal Dramatic Theatre for many years. He died peacefully in his sleep on July 30, 2007.",
         "July 14, 1918 in Uppsala, Uppsala län, Sweden",
         "14.07.1918",
         "Uppsala, Uppsala län, Sweden",
         "July 30, 2007 in Fårö, Gotlands län, Sweden  (natural causes)",
         "30.07.2007",
         "Fårö, Gotlands län, Sweden  ",
         "natural causes",
         "Ingrid Bergman  (11 November 1971 - 20 May 1995) (her death) (1 child)Käbi Laretei  (1959 - 1969) (divorced) (1 child)Gun Grut  (1951 - 1959) (divorced) (1 child)Ellen Bergman  (22 July 1945 - 1950) (divorced) (4 children)Else Fisher  (25 March 1943 - 1945) (divorced) (1 child)",
         5,
         4,
         5,
         8
        ],
        [
         "nm0000006",
         "Ingrid Bergman",
         "Ingrid Bergman",
         178,
         "Ingrid Bergman was one of the greatest actresses from Hollywood's lamented Golden Era. Her natural and unpretentious beauty and her immense acting talent made her one of the most celebrated figures in the history of American cinema. Bergman is also one of the most Oscar-awarded actresses, tied with Meryl Streep, both second only to Katharine Hepburn.Ingrid Bergman was born on August 29, 1915 in Stockholm, Sweden, to a German mother, Frieda Henrietta (Adler), and a Swedish father, Justus Samuel Bergman, an artist and photographer. Her mother died when she was only two and her father died when she was 12. She went to live with an elderly uncle.The woman who would be one of the top stars in Hollywood in the 1940s had decided to become an actress after finishing her formal schooling. She had had a taste of acting at age 17 when she played an uncredited role of a girl standing in line in the Swedish film Landskamp (1932) in 1932 - not much of a beginning for a girl who would be known as Sweden's illustrious gift to Hollywood. Her parents died when she was just a girl and the uncle she lived with didn't want to stand in the way of Ingrid's dream. The next year she enrolled at the Royal Dramatic Theatre School in Stockholm but decided that stage acting was not for her. It would be three more years before she would have another chance at a film. When she did, it was more than just a bit part. The film in question was Munkbrogreven (1935), where she had a speaking part as Elsa Edlund. After several films that year that established her as a class actress, Ingrid appeared in La sposa scomparsa (1936) as Anita Hoffman. Luckily for her, American producer David O. Selznick saw it and sent a representative from Selznick International Pictures to gain rights to the story and have Ingrid signed to a contract. Once signed, she came to California and starred in United Artists' 1939 remake of her 1936 film, Intermezzo (1939), reprising her original role. The film was a hit and so was Ingrid.Her beauty was unlike anything the movie industry had seen before and her acting was superb. Hollywood was about to find out that they had the most versatile actress the industry had ever seen. Here was a woman who truly cared about the craft she represented. The public fell in love with her. Ingrid was under contract to go back to Sweden to film Solo una notte (1939) in 1939 and Juninatten (1940) in 1940. Back in the US she appeared in three films, all well-received. She made only one film in 1942, but it was the classic Casablanca (1942) opposite Humphrey Bogart.Ingrid was choosing her roles well. In 1943 she was nominated for an Academy Award for her role in Per chi suona la campana (1943), the only film she made that year. The critics and public didn't forget her when she made Angoscia (1944) the following year--her role of Paula Alquist got her the Oscar for Best Actress. In 1945 Ingrid played in Io ti salverò (1945), Saratoga (1945) and Le campane di Santa Maria (1945), for which she received her third Oscar nomination for her role of Sister Benedict. She made no films in 1947, but bounced back with a fourth nomination for Giovanna d'Arco (1948). In 1949 she went to Italy to film Stromboli (Terra di Dio) (1950), directed by Roberto Rossellini. She fell in love with him and left her husband, Dr. Peter Lindstrom, and daughter, Pia Lindström. America's moral guardians in the press and the pulpits were outraged. She was pregnant and decided to remain in Italy, where her son was born. In 1952 Ingrid had twins, Isotta and Isabella Rossellini, who became an outstanding actress in her own right, as did Pia.Ingrid continued to make films in Italy and finally returned to Hollywood in 1956 in the title role in Anastasia (1956), which was filmed in England. For this she won her second Academy Award. She had scarcely missed a beat. Ingrid continued to bounce between Europe and the US making movies, and fine ones at that. A film with Ingrid Bergman was sure to be a quality production. In her final big-screen performance in 1978's Sinfonia d'autunno (1978) she had her final Academy Award nomination. Though she didn't win, many felt it was the most sterling performance of her career. Ingrid retired, but not before she gave an outstanding performance in the mini-series Una donna di nome Golda (1982), a film about Israeli prime minister Golda Meir. For this she won an Emmy Award as Best Actress, but, unfortunately, she did not live to see the fruits of her labor.Ingrid died from cancer on August 29, 1982, her 67th birthday, in London, England.",
         "August 29, 1915 in Stockholm, Sweden",
         "29.08.1915",
         "Stockholm, Sweden",
         "August 29, 1982 in Chelsea, London, England, UK  (lymphoma complications following a breast cancer operation)",
         "29.08.1982",
         "Chelsea, London, England, UK  ",
         "lymphoma complications following a breast cancer operation",
         "Lars Schmidt  (21 December 1958 - 1978) (divorced)Roberto Rossellini  (24 May 1950 - 7 November 1957) (divorced) (3 children)Dr. Petter Aron Lindström  (10 July 1937 - 9 February 1950) (divorced) (1 child)",
         3,
         3,
         2,
         4
        ],
        [
         "nm0000007",
         "Humphrey Bogart",
         "Humphrey DeForest Bogart",
         173,
         "Humphrey DeForest Bogart was born in New York City, New York, to Maud Humphrey, a famed magazine illustrator and suffragette, and Belmont DeForest Bogart, a moderately wealthy surgeon (who was secretly addicted to opium). Bogart was educated at Trinity School, NYC, and was sent to Phillips Academy in Andover, Massachusetts, in preparation for medical studies at Yale. He was expelled from Phillips and joined the U.S. Naval Reserve. From 1920 to 1922, he managed a stage company owned by family friend William A. Brady (the father of actress Alice Brady), performing a variety of tasks at Brady's film studio in New York. He then began regular stage performances. Alexander Woollcott described his acting in a 1922 play as inadequate. In 1930, he gained a contract with Fox, his feature film debut in a ten-minute short, Broadway's Like That (1930), co-starring Ruth Etting and Joan Blondell. Fox released him after two years. After five years of stage and minor film roles, he had his breakthrough role in La foresta pietrificata (1936) from Warner Bros. He won the part over Edward G. Robinson only after the star, Leslie Howard, threatened Warner Bros. that he would quit unless Bogart was given the key role of Duke Mantee, which he had played in the Broadway production with Howard. The film was a major success and led to a long-term contract with Warner Bros. From 1936 to 1940, Bogart appeared in 28 films, usually as a gangster, twice in Westerns and even a horror film. His landmark year was 1941 (often capitalizing on parts George Raft had stupidly rejected) with roles in classics such as Una pallottola per Roy (1941) and as Sam Spade in one of his most fondly remembered films, Il mistero del falco (1941). These were followed by Casablanca (1942), Il grande sonno (1946), and L'isola di corallo (1948). Bogart, despite his erratic education, was incredibly well-read and he favored writers and intellectuals within his small circle of friends. In 1947, he joined wife Lauren Bacall and other actors protesting the House Un-American Activities Committee witch hunts. He also formed his own production company, and the next year made Il tesoro della Sierra Madre (1948). Bogie won the best actor Academy Award for La regina d'Africa (1951) and was nominated for Casablanca (1942) and as Captain Queeg in L'ammutinamento del Caine (1954), a film made when he was already seriously ill. He died in his sleep at his Hollywood home following surgeries and a battle with throat cancer.",
         "December 25, 1899 in New York City, New York, USA",
         "1899-12-25",
         "New York City, New York, USA",
         "January 14, 1957 in Los Angeles, California, USA  (esophageal cancer)",
         "14.01.1957",
         "Los Angeles, California, USA  ",
         "esophageal cancer",
         "Lauren Bacall  (21 May 1945 - 14 January 1957) (his death) (2 children)Mayo Methot  (21 August 1938 - 10 May 1945) (divorced)Mary Philips  (3 April 1928 - 11 August 1938) (divorced)Helen Menken  (20 May 1926 - 18 November 1927) (divorced)",
         4,
         3,
         1,
         2
        ],
        [
         "nm0000009",
         "Richard Burton",
         "Richard Walter Jenkins",
         178,
         "Probably best-remembered for his turbulent personal life with Elizabeth Taylor (whom he married twice), Richard Burton was nonetheless also regarded as an often brilliant British actor of the post-WWII period.Burton was born Richard Walter Jenkins in 1925 into a Welsh (Cymraeg)-speaking family in Pontrhydyfen to Edith Maude (Thomas) and Richard Walter Jenkins, a coal miner. The twelfth of thirteen children, his mother died while he was a toddler and his father later abandoned the family, leaving him to be raised by an elder sister, Cecilia. An avid fan of Shakespeare, poetry and reading, he once said home is where the books are. He received a scholarship to Oxford University to study acting and made his first stage appearance in 1944.His first film appearances were in routine British movies such as The Last Days of Dolwyn (1949), Tempesta a Liverpool (1950) and La quinta offensiva (1951). Then he started to appear in Hollywood movies such as Mia cugina Rachele (1952), La tunica (1953) and Alessandro il grande (1956), added to this he was also spending considerable time in stage productions, both in the UK and USA, often to splendid reviews. The late 1950s was an exciting and inventive time in UK cinema, often referred to as the British New Wave, and Burton was right in the thick of things, and showcased a sensational performance in I giovani arrabbiati (1959). He also appeared with a cavalcade of international stars in the World War II magnum opus Il giorno più lungo (1962), and then onto arguably his most notorious role as that of Marc Antony opposite Elizabeth Taylor in the hugely expensive Cleopatra (1963). This was, of course, the film that kick-started their fiery and passionate romance (plus two marriages), and the two of them appeared in several productions over the next few years including International Hotel (1963), Castelli di sabbia (1965), the dynamic Chi ha paura di Virginia Woolf? (1966) and La bisbetica domata (1967), as well as box office flops like I commedianti (1967). Burton did better when he was off on his own giving higher caliber performances, such as those in Becket e il suo re (1964), the film adaptation of the Tennessee Williams play La notte dell'iguana (1964), the brilliant espionage thriller La spia che venne dal freddo (1965) and alongside Clint Eastwood in the World War II action adventure film Dove osano le aquile (1968).His audience appeal began to decline somewhat by the end of the 1960s as fans turned to younger, more virile male stars, however Burton was superb in Anna dei mille giorni (1969) as King Henry VIII, he put on a reasonable show in the boring Attacco a Rommel (1971), was over the top in the awful Il mascalzone (1971), gave sleepwalking performances in Una faccia di c... (1972) and Barbablù (1972), and was wildly miscast in the ludicrous L'assassinio di Trotsky (1972).By the early 1970s, quality male lead roles were definitely going to other stars, and Burton found himself appearing in some movies of dubious quality, just to pay the bills and support family, including Divorzia lui divorzia lei (1973) (his last on-screen appearance with Taylor), L'uomo del clan (1974), Breve incontro (1974), Jackpot (1974) (which was never completed) and L'esorcista II - L'eretico (1977). However, he won another Oscar nomination for his excellent performance as a concerned psychiatrist in Equus (1977). He appeared with fellow acting icons Richard Harris and Roger Moore in I 4 dell'oca selvaggia (1978) about mercenaries in South Africa. While the film had a modest initial run, over the past thirty-five years it has picked up quite a cult following. His final performances were as the wily inquisitor O'Brien in the most recent film version of George Orwell's dystopian Orwell 1984 (1984), in which he won good reviews, and in the TV mini series Ellis Island (1984). He passed away on August 5, 1984 in Celigny, Switzerland from a cerebral hemorrhage.",
         "November 10, 1925 in Pontrhydyfen, Wales, UK",
         "10.11.1925",
         "Pontrhydyfen, Wales, UK",
         "August 5, 1984 in Céligny, Geneva, Switzerland  (cerebral hemorrhage)",
         "05.08.1984",
         "Céligny, Geneva, Switzerland  ",
         "cerebral hemorrhage",
         "Sally Burton  (3 July 1983 - 5 August 1984) (his death)Susan Hunt  (21 August 1976 - 27 February 1983) (divorced)Elizabeth Taylor  (10 October 1975 - 29 July 1976) (divorced)Elizabeth Taylor  (15 March 1964 - 26 June 1974) (divorced) (1 child)Sybil Williams  (5 February 1949 - 5 December 1963) (divorced) (2 children)",
         5,
         4,
         2,
         3
        ],
        [
         "nm0000010",
         "James Cagney",
         "James Francis Cagney",
         165,
         "One of Hollywood's preeminent male stars of all time, James Cagney was also an accomplished dancer and easily played light comedy. James Francis Cagney was born on the Lower East Side of Manhattan in New York City, to Carolyn (Nelson) and James Francis Cagney, Sr., who was a bartender and amateur boxer. Cagney was of Norwegian (from his maternal grandfather) and Irish descent. Ending three decades on the screen, he retired to his farm in Stanfordville, New York (some 77 miles/124 km. north of his New York City birthplace), after starring in Billy Wilder's Uno, due, tre! (1961). He emerged from retirement to star in the 1981 screen adaptation of E.L. Doctorow's novel Ragtime (Ragtime (1981)), in which he was reunited with his frequent co-star of the 1930s, Pat O'Brien, and which was his last theatrical film and O'Brien's as well). Cagney's final performance came in the title role of the made-for-TV movie Terrible Joe Moran (1984), in which he played opposite Art Carney.",
         "July 17, 1899 in New York City, New York, USA",
         "1899-07-17",
         "New York City, New York, USA",
         "March 30, 1986 in Stanfordville, New York, USA  (heart attack following illness from diabetes)",
         "30.03.1986",
         "Stanfordville, New York, USA  ",
         "heart attack following illness from diabetes",
         "Frances Cagney  (28 September 1922 - 30 March 1986) (his death) (2 children)",
         1,
         0,
         1,
         2
        ],
        [
         "nm0000011",
         "Gary Cooper",
         "Frank James Cooper",
         191,
         "Born to Alice Cooper and Charles Cooper. Gary attended school at Dunstable school England, Helena Montana and Grinnell College, Grinnell, Iowa (then called Iowa College). His first stage experience was during high school and college. Afterwards, he worked as an extra for one year before getting a part in a two-reeler by the independent producer Hans Tiesler . Eileen Sedgwick was his first leading lady. He then appeared in Fiore del deserto (1926) for United Artists before moving to Paramount. While there he appeared in a small part in Ali (1927), Cosetta (1927), and other films.",
         "May 7, 1901 in Helena, Montana, USA",
         "07.05.1901",
         "Helena, Montana, USA",
         "May 13, 1961 in Beverly Hills, Los Angeles, California, USA  (prostate cancer)",
         "13.05.1961",
         "Beverly Hills, Los Angeles, California, USA  ",
         "prostate cancer",
         "Sandra Shaw  (15 December 1933 - 13 May 1961) (his death) (1 child)",
         1,
         0,
         1,
         1
        ]
       ],
       "datasetInfos": [],
       "dbfsResultPath": null,
       "isJsonSchema": true,
       "metadata": {},
       "overflow": false,
       "plotOptions": {
        "customPlotOptions": {},
        "displayType": "table",
        "pivotAggregation": null,
        "pivotColumns": null,
        "xColumns": null,
        "yColumns": null
       },
       "removedWidgets": [],
       "schema": [
        {
         "metadata": "{}",
         "name": "imdb_name_id",
         "type": "\"string\""
        },
        {
         "metadata": "{}",
         "name": "name",
         "type": "\"string\""
        },
        {
         "metadata": "{}",
         "name": "birth_name",
         "type": "\"string\""
        },
        {
         "metadata": "{}",
         "name": "height",
         "type": "\"integer\""
        },
        {
         "metadata": "{}",
         "name": "bio",
         "type": "\"string\""
        },
        {
         "metadata": "{}",
         "name": "birth_details",
         "type": "\"string\""
        },
        {
         "metadata": "{}",
         "name": "date_of_birth",
         "type": "\"string\""
        },
        {
         "metadata": "{}",
         "name": "place_of_birth",
         "type": "\"string\""
        },
        {
         "metadata": "{}",
         "name": "death_details",
         "type": "\"string\""
        },
        {
         "metadata": "{}",
         "name": "date_of_death",
         "type": "\"string\""
        },
        {
         "metadata": "{}",
         "name": "place_of_death",
         "type": "\"string\""
        },
        {
         "metadata": "{}",
         "name": "reason_of_death",
         "type": "\"string\""
        },
        {
         "metadata": "{}",
         "name": "spouses_string",
         "type": "\"string\""
        },
        {
         "metadata": "{}",
         "name": "spouses",
         "type": "\"integer\""
        },
        {
         "metadata": "{}",
         "name": "divorces",
         "type": "\"integer\""
        },
        {
         "metadata": "{}",
         "name": "spouses_with_children",
         "type": "\"integer\""
        },
        {
         "metadata": "{}",
         "name": "children",
         "type": "\"integer\""
        }
       ],
       "type": "table"
      }
     },
     "output_type": "display_data"
    }
   ],
   "source": [
    "filePath = \"dbfs:/FileStore/tables/Files/names.csv\"\n",
    "namesDF = spark.read.format(\"csv\") \\\n",
    "            .option(\"header\", \"true\") \\\n",
    "            .option(\"inferSchema\", \"true\") \\\n",
    "            .load(filePath)\n",
    "\n",
    "display(namesDF.limit(10))\n"
   ]
  },
  {
   "cell_type": "markdown",
   "metadata": {
    "application/vnd.databricks.v1+cell": {
     "cellMetadata": {
      "byteLimit": 2048000,
      "rowLimit": 10000
     },
     "inputWidgets": {},
     "nuid": "fa931ca9-0f30-4b51-99e1-cc517574f65d",
     "showTitle": false,
     "tableResultSettingsMap": {},
     "title": ""
    }
   },
   "source": [
    "1.1 Dodaj kolumnę z wartością czasu wykonania notatnika w formacie epoch"
   ]
  },
  {
   "cell_type": "code",
   "execution_count": 0,
   "metadata": {
    "application/vnd.databricks.v1+cell": {
     "cellMetadata": {
      "byteLimit": 2048000,
      "rowLimit": 10000
     },
     "inputWidgets": {},
     "nuid": "bab6b313-37a4-43d6-8c5f-77db09a7f4b6",
     "showTitle": false,
     "tableResultSettingsMap": {},
     "title": ""
    }
   },
   "outputs": [
    {
     "output_type": "display_data",
     "data": {
      "text/html": [
       "<style scoped>\n",
       "  .table-result-container {\n",
       "    max-height: 300px;\n",
       "    overflow: auto;\n",
       "  }\n",
       "  table, th, td {\n",
       "    border: 1px solid black;\n",
       "    border-collapse: collapse;\n",
       "  }\n",
       "  th, td {\n",
       "    padding: 5px;\n",
       "  }\n",
       "  th {\n",
       "    text-align: left;\n",
       "  }\n",
       "</style><div class='table-result-container'><table class='table-result'><thead style='background-color: white'><tr><th>imdb_name_id</th><th>name</th><th>birth_name</th><th>height</th><th>bio</th><th>birth_details</th><th>date_of_birth</th><th>place_of_birth</th><th>death_details</th><th>date_of_death</th><th>place_of_death</th><th>reason_of_death</th><th>spouses_string</th><th>spouses</th><th>divorces</th><th>spouses_with_children</th><th>children</th><th>notebook_epoch_time_names</th></tr></thead><tbody><tr><td>nm0000001</td><td>Fred Astaire</td><td>Frederic Austerlitz Jr.</td><td>177</td><td>Fred Astaire was born in Omaha, Nebraska, to Johanna (Geilus) and Fritz Austerlitz, a brewer. Fred entered show business at age 5. He was successful both in vaudeville and on Broadway in partnership with his sister, Adele Astaire. After Adele retired to marry in 1932, Astaire headed to Hollywood. Signed to RKO, he was loaned to MGM to appear in La danza di Venere (1933) before starting work on RKO's Carioca (1933). In the latter film, he began his highly successful partnership with Ginger Rogers, with whom he danced in 9 RKO pictures. During these years, he was also active in recording and radio. On film, Astaire later appeared opposite a number of partners through various studios. After a temporary retirement in 1945-7, during which he opened Fred Astaire Dance Studios, Astaire returned to film to star in more musicals through 1957. He subsequently performed a number of straight dramatic roles in film and TV.</td><td>May 10, 1899 in Omaha, Nebraska, USA</td><td>1899-05-10</td><td>Omaha, Nebraska, USA</td><td>June 22, 1987 in Los Angeles, California, USA  (pneumonia)</td><td>22.06.1987</td><td>Los Angeles, California, USA  </td><td>pneumonia</td><td>Robyn Smith  (27 June 1980 - 22 June 1987) (his death)Phyllis Livingston Potter  (12 July 1933 - 13 September 1954) (her death) (2 children)</td><td>2</td><td>0</td><td>1</td><td>2</td><td>1742662637</td></tr><tr><td>nm0000002</td><td>Lauren Bacall</td><td>Betty Joan Perske</td><td>174</td><td>Lauren Bacall was born Betty Joan Perske on September 16, 1924, in New York City. She was the daughter of Natalie Weinstein-Bacal, a Romanian Jewish immigrant, and William Perske, who was born in New Jersey, to Polish Jewish parents. Her family was middle-class, with her father working as a salesman and her mother as a secretary. They divorced when she was five and she rarely saw her father after that.As a school girl, she originally wanted to be a dancer, but later switched gears to head into acting. She studied at the American Academy of Dramatic Arts in New York, after attending She was educated at Highland Manor, a private boarding school in Tarrytown, New York (through the generosity of wealthy uncles), and then at Julia Richman High School, which enabled her to get her feet wet in some off-Broadway productions.Out of school, she entered modeling and, because of her beauty, appeared on the cover of Harper's Bazaar, one of the most popular magazines in the US. The wife of famed director Howard Hawks spotted the picture in the publication and arranged with her husband to have Lauren take a screen test. As a result, which was entirely positive, she was given the part of Marie Browning in Acque del Sud (1944), a thriller opposite Humphrey Bogart, when she was just 19 years old. This not only set the tone for a fabulous career but also one of Hollywood's greatest love stories (she married Bogart in 1945). It was also the first of several Bogie-Bacall films.After 1945's L'agente confidenziale (1945), Lauren received second billing in Il grande sonno (1946) with Bogart. The mystery, in the role of Vivian Sternwood Rutledge, was a resounding success. Although she was making one film a year, each production would be eagerly awaited by the public. In 1947, again with her husband, Lauren starred in the thriller La fuga (1947). The film kept movie patrons on the edge of their seats. The following year, she starred with Bogart, Edward G. Robinson, and Lionel Barrymore in L'isola di corallo (1948). The crime drama was even more of a nail biter than her previous film.In 1950, Lauren starred in Le foglie d'oro (1950), a drama set in 1894. It was a film of note because she appeared without her husband - her co-star was Gary Cooper. In 1953, Lauren appeared in her first comedy as Schatze Page in Come sposare un milionario (1953). The film, with co-stars Marilyn Monroe and Betty Grable, was a smash hit all across the theaters of America.After filming La donna del destino (1957), which was released in 1957, Humphrey Bogart died on January 14 from throat cancer. Devastated at being a widow, Lauren returned to the silver screen with Dono d'amore (1958) in 1958 opposite Robert Stack. The production turned out to be a big disappointment. Undaunted, Lauren moved back to New York City and appeared in several Broadway plays to huge critical acclaim. She was enjoying acting before live audiences and the audiences in turn enjoyed her fine performances.Lauren was away from the big screen for five years, but she returned in 1964 to appear in Elettroshock (1964) and Donne v'insegno come si seduce un uomo (1964). The latter film was a comedy starring Henry Fonda and Tony Curtis. In 1966, Lauren starred in Detective's Story (1966) with Paul Newman and Julie Harris, which was one of former's signature films.Alternating her time between films and the stage, Lauren returned in 1974's Assassinio sull'Orient Express (1974). The film, based on Agatha Christie's best-selling book was a huge hit. It also garnered Ingrid Bergman her third Oscar. Actually, the huge star-studded cast helped to ensure its success. Two years later, in 1976, Lauren co-starred with John Wayne in Il pistolero (1976). The film was Wayne's last - he died from cancer in 1979.In 1981, she played an actress being stalked by a crazed admirer in Un'ombra nel buio (1981). The thriller was absolutely fascinating with Lauren in the lead role. After that production, Lauren was away from films again, this time for seven years. In the interim, she again appeared on the stages of Broadway. When she returned, it was for the filming of 1988's Mr. North (1988). After 1990's Misery non deve morire (1990) and several made for television films, Lauren appeared in 1996's Fuga dalla Casa Bianca (1996), a comedy romp with Jack Lemmon and James Garner as two ex-presidents and their escapades.Despite her age and failing health, she made a small-scale comeback in the English-language dub of Hayao Miyazaki's Il castello errante di Howl (2004) (Howl's Moving Castle, based on the young-adult novel by Diana Wynne Jones) as the Witch of the Waste, but acting endeavors for the beloved actress became increasingly rare. Lauren Bacall died on 12 August 2014, five weeks short of her 90th birthday.</td><td>September 16, 1924 in The Bronx, New York City, New York, USA</td><td>16.09.1924</td><td>The Bronx, New York City, New York, USA</td><td>August 12, 2014 in New York City, New York, USA  (stroke)</td><td>12.08.2014</td><td>New York City, New York, USA  </td><td>stroke</td><td>Jason Robards  (4 July 1961 - 10 September 1969) (divorced) (1 child)Humphrey Bogart  (21 May 1945 - 14 January 1957) (his death) (2 children)</td><td>2</td><td>1</td><td>2</td><td>3</td><td>1742662637</td></tr><tr><td>nm0000003</td><td>Brigitte Bardot</td><td>Brigitte Bardot</td><td>166</td><td>Brigitte Bardot was born on September 28, 1934 in Paris, France. Her father had an engineering degree and worked with his father in the family business. Brigitte's mother encouraged her daughter to take up music and dance, and she proved to be very adept at it. By the time she was 15, Brigitte was trying a modeling career, and found herself in the French magazine Elle. Her incredible beauty readily apparent, Brigitte next tried films. In 1952, she appeared on screen for the first time as Javotte Lemoine in Le trou normand (1952). Two more films followed and it was also the same year she married Roger Vadim (the union lasted 3½ years). Capitalizing on her success in French films, Brigitte made her first American production in Atto d'amore (1953) with Kirk Douglas, but she continued to make films in France. Brigitte's explosive sexuality took the United States by storm, and the effect she had on millions of American men who had not seen a woman like her in a long, long time--if ever--was electric. Rise to the phrase sex kitten and fascination of her in the United States consisted of magazines photographs and dubbed over French films--good, bad or indifferent, her films drew audiences--mainly men--into theaters like lemmings. In 1965, she appeared as herself in the American-made Erasmo il lentigginoso (1965) with James Stewart (she only appeared in one scene). Just before she turned 40, Brigitte retired from movies after filming Colinot l'alzasottane (1973). She prefers life outside of stardom. While it enabled her to become internationally famous, it also carried with it annoyances. It was not anything for her to have fans enter her house or wander around the grounds of her home in the hopes of getting a glimpse of her or to take something that belonged to her. Paparazzi constantly hounded her with their cameras. She has been so soft-hearted that some people even have taken advantage of her generosity. After her life in the spotlight, Brigitte went on to become a leading spokesperson for animal rights and started the Foundation Brigitte Bardot dedicated solely to that cause. Her work in that realm is, perhaps, far greater than any film she could have made. Brigitte has been married to Bernard d'Ormale since 1992 and they reside in St. Tropez with their nearly 50 pets.</td><td>September 28, 1934 in Paris, France</td><td>28.09.1934</td><td>Paris, France</td><td>null</td><td>null</td><td>null</td><td>null</td><td>Bernard d'Ormale  (16 August 1992 - present)Gunter Sachs  (14 July 1966 - 3 July 1969) (divorced)Jacques Charrier  (18 June 1959 - 20 November 1962) (divorced) (1 child)Roger Vadim  (20 December 1952 - 6 December 1957) (divorced)</td><td>4</td><td>3</td><td>1</td><td>1</td><td>1742662637</td></tr><tr><td>nm0000004</td><td>John Belushi</td><td>John Adam Belushi</td><td>170</td><td>John Belushi was born in Chicago, Illinois, USA, on January 24, 1949, to Agnes Demetri (Samaras) and Adam Anastos Belushi, a restaurant owner. His father was an Albanian immigrant, from Qytezë, and his mother was also of Albanian descent. He grew up in Wheaton, where the family moved when he was six. Though a young hellion in grade school, John became the perfect all-American boy during his high school years where he was co-captain of the Wheaton Central High School football team and was elected homecoming king his senior year. He also developed an interest in acting and appeared in the high school variety show. Encouraged by his drama teacher, John decided to put aside his plans to become a football coach to pursue a career in acting.After graduation in 1967, John performed in summer stock in rural Indiana in a variety of roles from Cardinal Wolsey in Anne of a Thousand Days to a comic detective in Ten Little Indians. In the fall of his freshman year at the University of Wisconsin at Whitewater, John changed his image into a bad-boy appearance by growing his hair long and began to have problems with discipline and structure of attending classes.Dropping out of Wisconsin, John spent the next two years at the College of DuPage, a junior college a few miles from his parents' Wheaton home, where his father began persuading him to become a partner in his restaurant, but John still preferred acting. While attending DuPage, John helped found the West Compass Players, an improv comedy troupe patterned after Chicago's famous Second City ensemble.In 1971, John made the leap to Second City itself where he performed in various on-stage comic performances with others, who included Harold Ramis and Joe Flaherty. John loved his life at Second City where he performed six nights a week, perfecting the physical gonzo style of comedy he later made famous.A year later, John and his live-in girlfriend from his high school years, Judith Belushi-Pisano, moved to New York because John had joined the cast of National Lampoon's Lemmings, an off-Broadway rock musical revue that was originally booked for a six-week run but played to full crowds for nearly 10 months.In 1973, John was hired as a writer for the syndicated National Lampoon's Radio Hour which became the National Lampoon Show in 1975. John's big break came that same year when he joined the ground-breaking TV variety series Il Saturday Night Live (1975) which made him a star. The unpredictable, aggressively physical style of humor that he began on Second City flowered on SNL.In 1978, while still working on Il Saturday Night Live (1975), John appeared in the movie Verso il sud (1978) which starred and was directed by Jack Nicholson. It was here that director John Landis noticed John and decided to cast him in his movie National Lampoon's Animal House (1978). John's minor role as the notorious, beer-swilling Bluto made it a box-office smash and the year's top grossing comedy. Despite appearing in only a dozen scenes, John's performance stole the movie, which portrays college fraternity shenanigans at a small college set in the year 1962.In 1979, John along with fellow SNL regular Dan Aykroyd quit the series to pursue movie projects. John and Dan Aykroyd appeared in minor roles in Steven Spielberg's financially unsuccessful 1941 - Allarme a Hollywood (1979) and, the following year, in John Landis' The Blues Brothers - I fratelli Blues (1980). Around this time, John's drug use began escalating. Cocaine, which was ubiquitous in show-business circles in the 1970's, became his drug of choice. After he first experimented with cocaine in the mid 1970s, John almost immediately became addicted to it. His frequent cocaine sniffing binges became a source of friction between him and Judy, whom he married in 1976.John's love for blues and soul music inspired the Blues Brothers. He and Aykroyd first appeared as Joliet Jake and Elwood Blues, a pair of white soul men dressed in black suits, skinny ties, fedora hats and Rayban sunglasses, as a warm-up act before the telecasts of Il Saturday Night Live (1975). Building on the success of their acts and the release of their album A Briefcase Full of Blues, John and Dan Aykroyd starred in the movie, which gave John a chance to act with his favorite musical heroes including Ray Charles, James Brown and Aretha Franklin.Although John's reputation for being an off-screen party animal is legendary, his generous side is less well known. Using some of his money, he bought his father a ranch outside San Diego for him to live. John helped set up some of his Chicago friends with their own businesses and even financially helped his younger brother, Jim Belushi, who followed his older brother's path to both Second City and Il Saturday Night Live (1975).In 1981, John appeared in the movie Chiamami Aquila (1981), playing a hard-nosed Chicago newspaperman who finds romance in Colorado with eagle expert Blair Brown. That same year, John and Dan Aykroyd appeared again in the movie I vicini di casa (1981), which gave them a chance to reverse roles, with John playing a straight-arrow family man whose life is turned upside down when a wild family man (Aykroyd) moves in next door.In January 1982, John began work on the screenplay for another movie to be titled Noble Rot. Also, John had checked into a bungalow at the Chateau Marmont, a popular celebrity hotel in Los Angeles. John's drug use had been steadily increasing for over a year now, which alarmed his wife and friends, but he continued to promise Judy that he would quit someday. On March 5, 1982, John Belushi was found dead in his hotel room at the age of 33. The local coroner gave the cause of death as a lethal injection of cocaine and heroin. Several years later, John's drug dealing/drug user companion during his final weeks, Cathy Smith, was tried and sentenced to three years in prison for supplying John with the drugs. Close friend James Taylor sang That Lonesome Road at a memorial service at Martha's Vineyard cemetery where John was buried.</td><td>January 24, 1949 in Chicago, Illinois, USA</td><td>24.01.1949</td><td>Chicago, Illinois, USA</td><td>March 5, 1982 in Hollywood, Los Angeles, California, USA  (acute cocaine and heroin intoxication)</td><td>05.03.1982</td><td>Hollywood, Los Angeles, California, USA  </td><td>acute cocaine and heroin intoxication</td><td>Judith Belushi-Pisano  (31 December 1976 - 5 March 1982) (his death)</td><td>1</td><td>0</td><td>0</td><td>0</td><td>1742662637</td></tr><tr><td>nm0000005</td><td>Ingmar Bergman</td><td>Ernst Ingmar Bergman</td><td>179</td><td>Ernst Ingmar Bergman was born July 14, 1918, the son of a priest. The film and T.V. series, Con le migliori intenzioni (1992) is biographical and shows the early marriage of his parents. The film 'Söndagsbarn' depicts a bicycle journey with his father. In the miniseries Conversazioni private (1996) is the trilogy closed. Here, as in 'Den Goda Viljan' Pernilla August play his mother. Note that all three movies are not always full true biographical stories. He began his career early with a puppet theatre which he, his sister and their friends played with. But he was the manager. Strictly professional he begun writing in 1941. He had written a play called 'Kaspers död' (A.K.A. 'Kaspers Death') which was produced the same year. It became his entrance into the movie business as Stina Bergman (not a close relative), from the company S.F. (Swedish Filmindustry), had seen the play and thought that there must be some dramatic talent in young Ingmar. His first job was to save other more famous writers' poor scripts. Under one of that script-saving works he remembered that he had written a novel about his last year as a student. He took the novel, did the save-poor-script job first, then wrote a screenplay on his own novel. When he went back to S.F., he delivered two scripts rather than one. The script was Spasimo (1944) and was the fist Bergman screenplay that was put into film (by Alf Sjöberg). It was also in that movie Bergman did his first professional film-director job. Because Alf Sjöberg was busy, Bergman got the order to shoot the last sequence of the film. Ingmar Bergman is the father of Daniel Bergman, director, and Mats Bergman, actor at the Swedish Royal Dramatic Theater. Ingmar Bergman was also C.E.O. of the same theatre between 1963-1966, where he hired almost every professional actor in Sweden. In 1976 he had a famous tax problem. Bergman had trusted other people to advise him on his finances, but it turned out to be very bad advice. Bergman had to leave the country immediately, and so he went to Germany. A few years later he returned to Sweden and made his last theatrical film Fanny & Alexander (1982) (A.K.A. 'Fanny and Alexander'). In later life he retired from movie directing, but still wrote scripts for film and T.V. and directed plays at the Swedish Royal Dramatic Theatre for many years. He died peacefully in his sleep on July 30, 2007.</td><td>July 14, 1918 in Uppsala, Uppsala län, Sweden</td><td>14.07.1918</td><td>Uppsala, Uppsala län, Sweden</td><td>July 30, 2007 in Fårö, Gotlands län, Sweden  (natural causes)</td><td>30.07.2007</td><td>Fårö, Gotlands län, Sweden  </td><td>natural causes</td><td>Ingrid Bergman  (11 November 1971 - 20 May 1995) (her death) (1 child)Käbi Laretei  (1959 - 1969) (divorced) (1 child)Gun Grut  (1951 - 1959) (divorced) (1 child)Ellen Bergman  (22 July 1945 - 1950) (divorced) (4 children)Else Fisher  (25 March 1943 - 1945) (divorced) (1 child)</td><td>5</td><td>4</td><td>5</td><td>8</td><td>1742662637</td></tr><tr><td>nm0000006</td><td>Ingrid Bergman</td><td>Ingrid Bergman</td><td>178</td><td>Ingrid Bergman was one of the greatest actresses from Hollywood's lamented Golden Era. Her natural and unpretentious beauty and her immense acting talent made her one of the most celebrated figures in the history of American cinema. Bergman is also one of the most Oscar-awarded actresses, tied with Meryl Streep, both second only to Katharine Hepburn.Ingrid Bergman was born on August 29, 1915 in Stockholm, Sweden, to a German mother, Frieda Henrietta (Adler), and a Swedish father, Justus Samuel Bergman, an artist and photographer. Her mother died when she was only two and her father died when she was 12. She went to live with an elderly uncle.The woman who would be one of the top stars in Hollywood in the 1940s had decided to become an actress after finishing her formal schooling. She had had a taste of acting at age 17 when she played an uncredited role of a girl standing in line in the Swedish film Landskamp (1932) in 1932 - not much of a beginning for a girl who would be known as Sweden's illustrious gift to Hollywood. Her parents died when she was just a girl and the uncle she lived with didn't want to stand in the way of Ingrid's dream. The next year she enrolled at the Royal Dramatic Theatre School in Stockholm but decided that stage acting was not for her. It would be three more years before she would have another chance at a film. When she did, it was more than just a bit part. The film in question was Munkbrogreven (1935), where she had a speaking part as Elsa Edlund. After several films that year that established her as a class actress, Ingrid appeared in La sposa scomparsa (1936) as Anita Hoffman. Luckily for her, American producer David O. Selznick saw it and sent a representative from Selznick International Pictures to gain rights to the story and have Ingrid signed to a contract. Once signed, she came to California and starred in United Artists' 1939 remake of her 1936 film, Intermezzo (1939), reprising her original role. The film was a hit and so was Ingrid.Her beauty was unlike anything the movie industry had seen before and her acting was superb. Hollywood was about to find out that they had the most versatile actress the industry had ever seen. Here was a woman who truly cared about the craft she represented. The public fell in love with her. Ingrid was under contract to go back to Sweden to film Solo una notte (1939) in 1939 and Juninatten (1940) in 1940. Back in the US she appeared in three films, all well-received. She made only one film in 1942, but it was the classic Casablanca (1942) opposite Humphrey Bogart.Ingrid was choosing her roles well. In 1943 she was nominated for an Academy Award for her role in Per chi suona la campana (1943), the only film she made that year. The critics and public didn't forget her when she made Angoscia (1944) the following year--her role of Paula Alquist got her the Oscar for Best Actress. In 1945 Ingrid played in Io ti salverò (1945), Saratoga (1945) and Le campane di Santa Maria (1945), for which she received her third Oscar nomination for her role of Sister Benedict. She made no films in 1947, but bounced back with a fourth nomination for Giovanna d'Arco (1948). In 1949 she went to Italy to film Stromboli (Terra di Dio) (1950), directed by Roberto Rossellini. She fell in love with him and left her husband, Dr. Peter Lindstrom, and daughter, Pia Lindström. America's moral guardians in the press and the pulpits were outraged. She was pregnant and decided to remain in Italy, where her son was born. In 1952 Ingrid had twins, Isotta and Isabella Rossellini, who became an outstanding actress in her own right, as did Pia.Ingrid continued to make films in Italy and finally returned to Hollywood in 1956 in the title role in Anastasia (1956), which was filmed in England. For this she won her second Academy Award. She had scarcely missed a beat. Ingrid continued to bounce between Europe and the US making movies, and fine ones at that. A film with Ingrid Bergman was sure to be a quality production. In her final big-screen performance in 1978's Sinfonia d'autunno (1978) she had her final Academy Award nomination. Though she didn't win, many felt it was the most sterling performance of her career. Ingrid retired, but not before she gave an outstanding performance in the mini-series Una donna di nome Golda (1982), a film about Israeli prime minister Golda Meir. For this she won an Emmy Award as Best Actress, but, unfortunately, she did not live to see the fruits of her labor.Ingrid died from cancer on August 29, 1982, her 67th birthday, in London, England.</td><td>August 29, 1915 in Stockholm, Sweden</td><td>29.08.1915</td><td>Stockholm, Sweden</td><td>August 29, 1982 in Chelsea, London, England, UK  (lymphoma complications following a breast cancer operation)</td><td>29.08.1982</td><td>Chelsea, London, England, UK  </td><td>lymphoma complications following a breast cancer operation</td><td>Lars Schmidt  (21 December 1958 - 1978) (divorced)Roberto Rossellini  (24 May 1950 - 7 November 1957) (divorced) (3 children)Dr. Petter Aron Lindström  (10 July 1937 - 9 February 1950) (divorced) (1 child)</td><td>3</td><td>3</td><td>2</td><td>4</td><td>1742662637</td></tr><tr><td>nm0000007</td><td>Humphrey Bogart</td><td>Humphrey DeForest Bogart</td><td>173</td><td>Humphrey DeForest Bogart was born in New York City, New York, to Maud Humphrey, a famed magazine illustrator and suffragette, and Belmont DeForest Bogart, a moderately wealthy surgeon (who was secretly addicted to opium). Bogart was educated at Trinity School, NYC, and was sent to Phillips Academy in Andover, Massachusetts, in preparation for medical studies at Yale. He was expelled from Phillips and joined the U.S. Naval Reserve. From 1920 to 1922, he managed a stage company owned by family friend William A. Brady (the father of actress Alice Brady), performing a variety of tasks at Brady's film studio in New York. He then began regular stage performances. Alexander Woollcott described his acting in a 1922 play as inadequate. In 1930, he gained a contract with Fox, his feature film debut in a ten-minute short, Broadway's Like That (1930), co-starring Ruth Etting and Joan Blondell. Fox released him after two years. After five years of stage and minor film roles, he had his breakthrough role in La foresta pietrificata (1936) from Warner Bros. He won the part over Edward G. Robinson only after the star, Leslie Howard, threatened Warner Bros. that he would quit unless Bogart was given the key role of Duke Mantee, which he had played in the Broadway production with Howard. The film was a major success and led to a long-term contract with Warner Bros. From 1936 to 1940, Bogart appeared in 28 films, usually as a gangster, twice in Westerns and even a horror film. His landmark year was 1941 (often capitalizing on parts George Raft had stupidly rejected) with roles in classics such as Una pallottola per Roy (1941) and as Sam Spade in one of his most fondly remembered films, Il mistero del falco (1941). These were followed by Casablanca (1942), Il grande sonno (1946), and L'isola di corallo (1948). Bogart, despite his erratic education, was incredibly well-read and he favored writers and intellectuals within his small circle of friends. In 1947, he joined wife Lauren Bacall and other actors protesting the House Un-American Activities Committee witch hunts. He also formed his own production company, and the next year made Il tesoro della Sierra Madre (1948). Bogie won the best actor Academy Award for La regina d'Africa (1951) and was nominated for Casablanca (1942) and as Captain Queeg in L'ammutinamento del Caine (1954), a film made when he was already seriously ill. He died in his sleep at his Hollywood home following surgeries and a battle with throat cancer.</td><td>December 25, 1899 in New York City, New York, USA</td><td>1899-12-25</td><td>New York City, New York, USA</td><td>January 14, 1957 in Los Angeles, California, USA  (esophageal cancer)</td><td>14.01.1957</td><td>Los Angeles, California, USA  </td><td>esophageal cancer</td><td>Lauren Bacall  (21 May 1945 - 14 January 1957) (his death) (2 children)Mayo Methot  (21 August 1938 - 10 May 1945) (divorced)Mary Philips  (3 April 1928 - 11 August 1938) (divorced)Helen Menken  (20 May 1926 - 18 November 1927) (divorced)</td><td>4</td><td>3</td><td>1</td><td>2</td><td>1742662637</td></tr><tr><td>nm0000009</td><td>Richard Burton</td><td>Richard Walter Jenkins</td><td>178</td><td>Probably best-remembered for his turbulent personal life with Elizabeth Taylor (whom he married twice), Richard Burton was nonetheless also regarded as an often brilliant British actor of the post-WWII period.Burton was born Richard Walter Jenkins in 1925 into a Welsh (Cymraeg)-speaking family in Pontrhydyfen to Edith Maude (Thomas) and Richard Walter Jenkins, a coal miner. The twelfth of thirteen children, his mother died while he was a toddler and his father later abandoned the family, leaving him to be raised by an elder sister, Cecilia. An avid fan of Shakespeare, poetry and reading, he once said home is where the books are. He received a scholarship to Oxford University to study acting and made his first stage appearance in 1944.His first film appearances were in routine British movies such as The Last Days of Dolwyn (1949), Tempesta a Liverpool (1950) and La quinta offensiva (1951). Then he started to appear in Hollywood movies such as Mia cugina Rachele (1952), La tunica (1953) and Alessandro il grande (1956), added to this he was also spending considerable time in stage productions, both in the UK and USA, often to splendid reviews. The late 1950s was an exciting and inventive time in UK cinema, often referred to as the British New Wave, and Burton was right in the thick of things, and showcased a sensational performance in I giovani arrabbiati (1959). He also appeared with a cavalcade of international stars in the World War II magnum opus Il giorno più lungo (1962), and then onto arguably his most notorious role as that of Marc Antony opposite Elizabeth Taylor in the hugely expensive Cleopatra (1963). This was, of course, the film that kick-started their fiery and passionate romance (plus two marriages), and the two of them appeared in several productions over the next few years including International Hotel (1963), Castelli di sabbia (1965), the dynamic Chi ha paura di Virginia Woolf? (1966) and La bisbetica domata (1967), as well as box office flops like I commedianti (1967). Burton did better when he was off on his own giving higher caliber performances, such as those in Becket e il suo re (1964), the film adaptation of the Tennessee Williams play La notte dell'iguana (1964), the brilliant espionage thriller La spia che venne dal freddo (1965) and alongside Clint Eastwood in the World War II action adventure film Dove osano le aquile (1968).His audience appeal began to decline somewhat by the end of the 1960s as fans turned to younger, more virile male stars, however Burton was superb in Anna dei mille giorni (1969) as King Henry VIII, he put on a reasonable show in the boring Attacco a Rommel (1971), was over the top in the awful Il mascalzone (1971), gave sleepwalking performances in Una faccia di c... (1972) and Barbablù (1972), and was wildly miscast in the ludicrous L'assassinio di Trotsky (1972).By the early 1970s, quality male lead roles were definitely going to other stars, and Burton found himself appearing in some movies of dubious quality, just to pay the bills and support family, including Divorzia lui divorzia lei (1973) (his last on-screen appearance with Taylor), L'uomo del clan (1974), Breve incontro (1974), Jackpot (1974) (which was never completed) and L'esorcista II - L'eretico (1977). However, he won another Oscar nomination for his excellent performance as a concerned psychiatrist in Equus (1977). He appeared with fellow acting icons Richard Harris and Roger Moore in I 4 dell'oca selvaggia (1978) about mercenaries in South Africa. While the film had a modest initial run, over the past thirty-five years it has picked up quite a cult following. His final performances were as the wily inquisitor O'Brien in the most recent film version of George Orwell's dystopian Orwell 1984 (1984), in which he won good reviews, and in the TV mini series Ellis Island (1984). He passed away on August 5, 1984 in Celigny, Switzerland from a cerebral hemorrhage.</td><td>November 10, 1925 in Pontrhydyfen, Wales, UK</td><td>10.11.1925</td><td>Pontrhydyfen, Wales, UK</td><td>August 5, 1984 in Céligny, Geneva, Switzerland  (cerebral hemorrhage)</td><td>05.08.1984</td><td>Céligny, Geneva, Switzerland  </td><td>cerebral hemorrhage</td><td>Sally Burton  (3 July 1983 - 5 August 1984) (his death)Susan Hunt  (21 August 1976 - 27 February 1983) (divorced)Elizabeth Taylor  (10 October 1975 - 29 July 1976) (divorced)Elizabeth Taylor  (15 March 1964 - 26 June 1974) (divorced) (1 child)Sybil Williams  (5 February 1949 - 5 December 1963) (divorced) (2 children)</td><td>5</td><td>4</td><td>2</td><td>3</td><td>1742662637</td></tr><tr><td>nm0000010</td><td>James Cagney</td><td>James Francis Cagney</td><td>165</td><td>One of Hollywood's preeminent male stars of all time, James Cagney was also an accomplished dancer and easily played light comedy. James Francis Cagney was born on the Lower East Side of Manhattan in New York City, to Carolyn (Nelson) and James Francis Cagney, Sr., who was a bartender and amateur boxer. Cagney was of Norwegian (from his maternal grandfather) and Irish descent. Ending three decades on the screen, he retired to his farm in Stanfordville, New York (some 77 miles/124 km. north of his New York City birthplace), after starring in Billy Wilder's Uno, due, tre! (1961). He emerged from retirement to star in the 1981 screen adaptation of E.L. Doctorow's novel Ragtime (Ragtime (1981)), in which he was reunited with his frequent co-star of the 1930s, Pat O'Brien, and which was his last theatrical film and O'Brien's as well). Cagney's final performance came in the title role of the made-for-TV movie Terrible Joe Moran (1984), in which he played opposite Art Carney.</td><td>July 17, 1899 in New York City, New York, USA</td><td>1899-07-17</td><td>New York City, New York, USA</td><td>March 30, 1986 in Stanfordville, New York, USA  (heart attack following illness from diabetes)</td><td>30.03.1986</td><td>Stanfordville, New York, USA  </td><td>heart attack following illness from diabetes</td><td>Frances Cagney  (28 September 1922 - 30 March 1986) (his death) (2 children)</td><td>1</td><td>0</td><td>1</td><td>2</td><td>1742662637</td></tr><tr><td>nm0000011</td><td>Gary Cooper</td><td>Frank James Cooper</td><td>191</td><td>Born to Alice Cooper and Charles Cooper. Gary attended school at Dunstable school England, Helena Montana and Grinnell College, Grinnell, Iowa (then called Iowa College). His first stage experience was during high school and college. Afterwards, he worked as an extra for one year before getting a part in a two-reeler by the independent producer Hans Tiesler . Eileen Sedgwick was his first leading lady. He then appeared in Fiore del deserto (1926) for United Artists before moving to Paramount. While there he appeared in a small part in Ali (1927), Cosetta (1927), and other films.</td><td>May 7, 1901 in Helena, Montana, USA</td><td>07.05.1901</td><td>Helena, Montana, USA</td><td>May 13, 1961 in Beverly Hills, Los Angeles, California, USA  (prostate cancer)</td><td>13.05.1961</td><td>Beverly Hills, Los Angeles, California, USA  </td><td>prostate cancer</td><td>Sandra Shaw  (15 December 1933 - 13 May 1961) (his death) (1 child)</td><td>1</td><td>0</td><td>1</td><td>1</td><td>1742662637</td></tr></tbody></table></div>"
      ]
     },
     "metadata": {
      "application/vnd.databricks.v1+output": {
       "addedWidgets": {},
       "aggData": [],
       "aggError": "",
       "aggOverflow": false,
       "aggSchema": [],
       "aggSeriesLimitReached": false,
       "aggType": "",
       "arguments": {},
       "columnCustomDisplayInfos": {},
       "data": [
        [
         "nm0000001",
         "Fred Astaire",
         "Frederic Austerlitz Jr.",
         177,
         "Fred Astaire was born in Omaha, Nebraska, to Johanna (Geilus) and Fritz Austerlitz, a brewer. Fred entered show business at age 5. He was successful both in vaudeville and on Broadway in partnership with his sister, Adele Astaire. After Adele retired to marry in 1932, Astaire headed to Hollywood. Signed to RKO, he was loaned to MGM to appear in La danza di Venere (1933) before starting work on RKO's Carioca (1933). In the latter film, he began his highly successful partnership with Ginger Rogers, with whom he danced in 9 RKO pictures. During these years, he was also active in recording and radio. On film, Astaire later appeared opposite a number of partners through various studios. After a temporary retirement in 1945-7, during which he opened Fred Astaire Dance Studios, Astaire returned to film to star in more musicals through 1957. He subsequently performed a number of straight dramatic roles in film and TV.",
         "May 10, 1899 in Omaha, Nebraska, USA",
         "1899-05-10",
         "Omaha, Nebraska, USA",
         "June 22, 1987 in Los Angeles, California, USA  (pneumonia)",
         "22.06.1987",
         "Los Angeles, California, USA  ",
         "pneumonia",
         "Robyn Smith  (27 June 1980 - 22 June 1987) (his death)Phyllis Livingston Potter  (12 July 1933 - 13 September 1954) (her death) (2 children)",
         2,
         0,
         1,
         2,
         1742662637
        ],
        [
         "nm0000002",
         "Lauren Bacall",
         "Betty Joan Perske",
         174,
         "Lauren Bacall was born Betty Joan Perske on September 16, 1924, in New York City. She was the daughter of Natalie Weinstein-Bacal, a Romanian Jewish immigrant, and William Perske, who was born in New Jersey, to Polish Jewish parents. Her family was middle-class, with her father working as a salesman and her mother as a secretary. They divorced when she was five and she rarely saw her father after that.As a school girl, she originally wanted to be a dancer, but later switched gears to head into acting. She studied at the American Academy of Dramatic Arts in New York, after attending She was educated at Highland Manor, a private boarding school in Tarrytown, New York (through the generosity of wealthy uncles), and then at Julia Richman High School, which enabled her to get her feet wet in some off-Broadway productions.Out of school, she entered modeling and, because of her beauty, appeared on the cover of Harper's Bazaar, one of the most popular magazines in the US. The wife of famed director Howard Hawks spotted the picture in the publication and arranged with her husband to have Lauren take a screen test. As a result, which was entirely positive, she was given the part of Marie Browning in Acque del Sud (1944), a thriller opposite Humphrey Bogart, when she was just 19 years old. This not only set the tone for a fabulous career but also one of Hollywood's greatest love stories (she married Bogart in 1945). It was also the first of several Bogie-Bacall films.After 1945's L'agente confidenziale (1945), Lauren received second billing in Il grande sonno (1946) with Bogart. The mystery, in the role of Vivian Sternwood Rutledge, was a resounding success. Although she was making one film a year, each production would be eagerly awaited by the public. In 1947, again with her husband, Lauren starred in the thriller La fuga (1947). The film kept movie patrons on the edge of their seats. The following year, she starred with Bogart, Edward G. Robinson, and Lionel Barrymore in L'isola di corallo (1948). The crime drama was even more of a nail biter than her previous film.In 1950, Lauren starred in Le foglie d'oro (1950), a drama set in 1894. It was a film of note because she appeared without her husband - her co-star was Gary Cooper. In 1953, Lauren appeared in her first comedy as Schatze Page in Come sposare un milionario (1953). The film, with co-stars Marilyn Monroe and Betty Grable, was a smash hit all across the theaters of America.After filming La donna del destino (1957), which was released in 1957, Humphrey Bogart died on January 14 from throat cancer. Devastated at being a widow, Lauren returned to the silver screen with Dono d'amore (1958) in 1958 opposite Robert Stack. The production turned out to be a big disappointment. Undaunted, Lauren moved back to New York City and appeared in several Broadway plays to huge critical acclaim. She was enjoying acting before live audiences and the audiences in turn enjoyed her fine performances.Lauren was away from the big screen for five years, but she returned in 1964 to appear in Elettroshock (1964) and Donne v'insegno come si seduce un uomo (1964). The latter film was a comedy starring Henry Fonda and Tony Curtis. In 1966, Lauren starred in Detective's Story (1966) with Paul Newman and Julie Harris, which was one of former's signature films.Alternating her time between films and the stage, Lauren returned in 1974's Assassinio sull'Orient Express (1974). The film, based on Agatha Christie's best-selling book was a huge hit. It also garnered Ingrid Bergman her third Oscar. Actually, the huge star-studded cast helped to ensure its success. Two years later, in 1976, Lauren co-starred with John Wayne in Il pistolero (1976). The film was Wayne's last - he died from cancer in 1979.In 1981, she played an actress being stalked by a crazed admirer in Un'ombra nel buio (1981). The thriller was absolutely fascinating with Lauren in the lead role. After that production, Lauren was away from films again, this time for seven years. In the interim, she again appeared on the stages of Broadway. When she returned, it was for the filming of 1988's Mr. North (1988). After 1990's Misery non deve morire (1990) and several made for television films, Lauren appeared in 1996's Fuga dalla Casa Bianca (1996), a comedy romp with Jack Lemmon and James Garner as two ex-presidents and their escapades.Despite her age and failing health, she made a small-scale comeback in the English-language dub of Hayao Miyazaki's Il castello errante di Howl (2004) (Howl's Moving Castle, based on the young-adult novel by Diana Wynne Jones) as the Witch of the Waste, but acting endeavors for the beloved actress became increasingly rare. Lauren Bacall died on 12 August 2014, five weeks short of her 90th birthday.",
         "September 16, 1924 in The Bronx, New York City, New York, USA",
         "16.09.1924",
         "The Bronx, New York City, New York, USA",
         "August 12, 2014 in New York City, New York, USA  (stroke)",
         "12.08.2014",
         "New York City, New York, USA  ",
         "stroke",
         "Jason Robards  (4 July 1961 - 10 September 1969) (divorced) (1 child)Humphrey Bogart  (21 May 1945 - 14 January 1957) (his death) (2 children)",
         2,
         1,
         2,
         3,
         1742662637
        ],
        [
         "nm0000003",
         "Brigitte Bardot",
         "Brigitte Bardot",
         166,
         "Brigitte Bardot was born on September 28, 1934 in Paris, France. Her father had an engineering degree and worked with his father in the family business. Brigitte's mother encouraged her daughter to take up music and dance, and she proved to be very adept at it. By the time she was 15, Brigitte was trying a modeling career, and found herself in the French magazine Elle. Her incredible beauty readily apparent, Brigitte next tried films. In 1952, she appeared on screen for the first time as Javotte Lemoine in Le trou normand (1952). Two more films followed and it was also the same year she married Roger Vadim (the union lasted 3½ years). Capitalizing on her success in French films, Brigitte made her first American production in Atto d'amore (1953) with Kirk Douglas, but she continued to make films in France. Brigitte's explosive sexuality took the United States by storm, and the effect she had on millions of American men who had not seen a woman like her in a long, long time--if ever--was electric. Rise to the phrase sex kitten and fascination of her in the United States consisted of magazines photographs and dubbed over French films--good, bad or indifferent, her films drew audiences--mainly men--into theaters like lemmings. In 1965, she appeared as herself in the American-made Erasmo il lentigginoso (1965) with James Stewart (she only appeared in one scene). Just before she turned 40, Brigitte retired from movies after filming Colinot l'alzasottane (1973). She prefers life outside of stardom. While it enabled her to become internationally famous, it also carried with it annoyances. It was not anything for her to have fans enter her house or wander around the grounds of her home in the hopes of getting a glimpse of her or to take something that belonged to her. Paparazzi constantly hounded her with their cameras. She has been so soft-hearted that some people even have taken advantage of her generosity. After her life in the spotlight, Brigitte went on to become a leading spokesperson for animal rights and started the Foundation Brigitte Bardot dedicated solely to that cause. Her work in that realm is, perhaps, far greater than any film she could have made. Brigitte has been married to Bernard d'Ormale since 1992 and they reside in St. Tropez with their nearly 50 pets.",
         "September 28, 1934 in Paris, France",
         "28.09.1934",
         "Paris, France",
         null,
         null,
         null,
         null,
         "Bernard d'Ormale  (16 August 1992 - present)Gunter Sachs  (14 July 1966 - 3 July 1969) (divorced)Jacques Charrier  (18 June 1959 - 20 November 1962) (divorced) (1 child)Roger Vadim  (20 December 1952 - 6 December 1957) (divorced)",
         4,
         3,
         1,
         1,
         1742662637
        ],
        [
         "nm0000004",
         "John Belushi",
         "John Adam Belushi",
         170,
         "John Belushi was born in Chicago, Illinois, USA, on January 24, 1949, to Agnes Demetri (Samaras) and Adam Anastos Belushi, a restaurant owner. His father was an Albanian immigrant, from Qytezë, and his mother was also of Albanian descent. He grew up in Wheaton, where the family moved when he was six. Though a young hellion in grade school, John became the perfect all-American boy during his high school years where he was co-captain of the Wheaton Central High School football team and was elected homecoming king his senior year. He also developed an interest in acting and appeared in the high school variety show. Encouraged by his drama teacher, John decided to put aside his plans to become a football coach to pursue a career in acting.After graduation in 1967, John performed in summer stock in rural Indiana in a variety of roles from Cardinal Wolsey in Anne of a Thousand Days to a comic detective in Ten Little Indians. In the fall of his freshman year at the University of Wisconsin at Whitewater, John changed his image into a bad-boy appearance by growing his hair long and began to have problems with discipline and structure of attending classes.Dropping out of Wisconsin, John spent the next two years at the College of DuPage, a junior college a few miles from his parents' Wheaton home, where his father began persuading him to become a partner in his restaurant, but John still preferred acting. While attending DuPage, John helped found the West Compass Players, an improv comedy troupe patterned after Chicago's famous Second City ensemble.In 1971, John made the leap to Second City itself where he performed in various on-stage comic performances with others, who included Harold Ramis and Joe Flaherty. John loved his life at Second City where he performed six nights a week, perfecting the physical gonzo style of comedy he later made famous.A year later, John and his live-in girlfriend from his high school years, Judith Belushi-Pisano, moved to New York because John had joined the cast of National Lampoon's Lemmings, an off-Broadway rock musical revue that was originally booked for a six-week run but played to full crowds for nearly 10 months.In 1973, John was hired as a writer for the syndicated National Lampoon's Radio Hour which became the National Lampoon Show in 1975. John's big break came that same year when he joined the ground-breaking TV variety series Il Saturday Night Live (1975) which made him a star. The unpredictable, aggressively physical style of humor that he began on Second City flowered on SNL.In 1978, while still working on Il Saturday Night Live (1975), John appeared in the movie Verso il sud (1978) which starred and was directed by Jack Nicholson. It was here that director John Landis noticed John and decided to cast him in his movie National Lampoon's Animal House (1978). John's minor role as the notorious, beer-swilling Bluto made it a box-office smash and the year's top grossing comedy. Despite appearing in only a dozen scenes, John's performance stole the movie, which portrays college fraternity shenanigans at a small college set in the year 1962.In 1979, John along with fellow SNL regular Dan Aykroyd quit the series to pursue movie projects. John and Dan Aykroyd appeared in minor roles in Steven Spielberg's financially unsuccessful 1941 - Allarme a Hollywood (1979) and, the following year, in John Landis' The Blues Brothers - I fratelli Blues (1980). Around this time, John's drug use began escalating. Cocaine, which was ubiquitous in show-business circles in the 1970's, became his drug of choice. After he first experimented with cocaine in the mid 1970s, John almost immediately became addicted to it. His frequent cocaine sniffing binges became a source of friction between him and Judy, whom he married in 1976.John's love for blues and soul music inspired the Blues Brothers. He and Aykroyd first appeared as Joliet Jake and Elwood Blues, a pair of white soul men dressed in black suits, skinny ties, fedora hats and Rayban sunglasses, as a warm-up act before the telecasts of Il Saturday Night Live (1975). Building on the success of their acts and the release of their album A Briefcase Full of Blues, John and Dan Aykroyd starred in the movie, which gave John a chance to act with his favorite musical heroes including Ray Charles, James Brown and Aretha Franklin.Although John's reputation for being an off-screen party animal is legendary, his generous side is less well known. Using some of his money, he bought his father a ranch outside San Diego for him to live. John helped set up some of his Chicago friends with their own businesses and even financially helped his younger brother, Jim Belushi, who followed his older brother's path to both Second City and Il Saturday Night Live (1975).In 1981, John appeared in the movie Chiamami Aquila (1981), playing a hard-nosed Chicago newspaperman who finds romance in Colorado with eagle expert Blair Brown. That same year, John and Dan Aykroyd appeared again in the movie I vicini di casa (1981), which gave them a chance to reverse roles, with John playing a straight-arrow family man whose life is turned upside down when a wild family man (Aykroyd) moves in next door.In January 1982, John began work on the screenplay for another movie to be titled Noble Rot. Also, John had checked into a bungalow at the Chateau Marmont, a popular celebrity hotel in Los Angeles. John's drug use had been steadily increasing for over a year now, which alarmed his wife and friends, but he continued to promise Judy that he would quit someday. On March 5, 1982, John Belushi was found dead in his hotel room at the age of 33. The local coroner gave the cause of death as a lethal injection of cocaine and heroin. Several years later, John's drug dealing/drug user companion during his final weeks, Cathy Smith, was tried and sentenced to three years in prison for supplying John with the drugs. Close friend James Taylor sang That Lonesome Road at a memorial service at Martha's Vineyard cemetery where John was buried.",
         "January 24, 1949 in Chicago, Illinois, USA",
         "24.01.1949",
         "Chicago, Illinois, USA",
         "March 5, 1982 in Hollywood, Los Angeles, California, USA  (acute cocaine and heroin intoxication)",
         "05.03.1982",
         "Hollywood, Los Angeles, California, USA  ",
         "acute cocaine and heroin intoxication",
         "Judith Belushi-Pisano  (31 December 1976 - 5 March 1982) (his death)",
         1,
         0,
         0,
         0,
         1742662637
        ],
        [
         "nm0000005",
         "Ingmar Bergman",
         "Ernst Ingmar Bergman",
         179,
         "Ernst Ingmar Bergman was born July 14, 1918, the son of a priest. The film and T.V. series, Con le migliori intenzioni (1992) is biographical and shows the early marriage of his parents. The film 'Söndagsbarn' depicts a bicycle journey with his father. In the miniseries Conversazioni private (1996) is the trilogy closed. Here, as in 'Den Goda Viljan' Pernilla August play his mother. Note that all three movies are not always full true biographical stories. He began his career early with a puppet theatre which he, his sister and their friends played with. But he was the manager. Strictly professional he begun writing in 1941. He had written a play called 'Kaspers död' (A.K.A. 'Kaspers Death') which was produced the same year. It became his entrance into the movie business as Stina Bergman (not a close relative), from the company S.F. (Swedish Filmindustry), had seen the play and thought that there must be some dramatic talent in young Ingmar. His first job was to save other more famous writers' poor scripts. Under one of that script-saving works he remembered that he had written a novel about his last year as a student. He took the novel, did the save-poor-script job first, then wrote a screenplay on his own novel. When he went back to S.F., he delivered two scripts rather than one. The script was Spasimo (1944) and was the fist Bergman screenplay that was put into film (by Alf Sjöberg). It was also in that movie Bergman did his first professional film-director job. Because Alf Sjöberg was busy, Bergman got the order to shoot the last sequence of the film. Ingmar Bergman is the father of Daniel Bergman, director, and Mats Bergman, actor at the Swedish Royal Dramatic Theater. Ingmar Bergman was also C.E.O. of the same theatre between 1963-1966, where he hired almost every professional actor in Sweden. In 1976 he had a famous tax problem. Bergman had trusted other people to advise him on his finances, but it turned out to be very bad advice. Bergman had to leave the country immediately, and so he went to Germany. A few years later he returned to Sweden and made his last theatrical film Fanny & Alexander (1982) (A.K.A. 'Fanny and Alexander'). In later life he retired from movie directing, but still wrote scripts for film and T.V. and directed plays at the Swedish Royal Dramatic Theatre for many years. He died peacefully in his sleep on July 30, 2007.",
         "July 14, 1918 in Uppsala, Uppsala län, Sweden",
         "14.07.1918",
         "Uppsala, Uppsala län, Sweden",
         "July 30, 2007 in Fårö, Gotlands län, Sweden  (natural causes)",
         "30.07.2007",
         "Fårö, Gotlands län, Sweden  ",
         "natural causes",
         "Ingrid Bergman  (11 November 1971 - 20 May 1995) (her death) (1 child)Käbi Laretei  (1959 - 1969) (divorced) (1 child)Gun Grut  (1951 - 1959) (divorced) (1 child)Ellen Bergman  (22 July 1945 - 1950) (divorced) (4 children)Else Fisher  (25 March 1943 - 1945) (divorced) (1 child)",
         5,
         4,
         5,
         8,
         1742662637
        ],
        [
         "nm0000006",
         "Ingrid Bergman",
         "Ingrid Bergman",
         178,
         "Ingrid Bergman was one of the greatest actresses from Hollywood's lamented Golden Era. Her natural and unpretentious beauty and her immense acting talent made her one of the most celebrated figures in the history of American cinema. Bergman is also one of the most Oscar-awarded actresses, tied with Meryl Streep, both second only to Katharine Hepburn.Ingrid Bergman was born on August 29, 1915 in Stockholm, Sweden, to a German mother, Frieda Henrietta (Adler), and a Swedish father, Justus Samuel Bergman, an artist and photographer. Her mother died when she was only two and her father died when she was 12. She went to live with an elderly uncle.The woman who would be one of the top stars in Hollywood in the 1940s had decided to become an actress after finishing her formal schooling. She had had a taste of acting at age 17 when she played an uncredited role of a girl standing in line in the Swedish film Landskamp (1932) in 1932 - not much of a beginning for a girl who would be known as Sweden's illustrious gift to Hollywood. Her parents died when she was just a girl and the uncle she lived with didn't want to stand in the way of Ingrid's dream. The next year she enrolled at the Royal Dramatic Theatre School in Stockholm but decided that stage acting was not for her. It would be three more years before she would have another chance at a film. When she did, it was more than just a bit part. The film in question was Munkbrogreven (1935), where she had a speaking part as Elsa Edlund. After several films that year that established her as a class actress, Ingrid appeared in La sposa scomparsa (1936) as Anita Hoffman. Luckily for her, American producer David O. Selznick saw it and sent a representative from Selznick International Pictures to gain rights to the story and have Ingrid signed to a contract. Once signed, she came to California and starred in United Artists' 1939 remake of her 1936 film, Intermezzo (1939), reprising her original role. The film was a hit and so was Ingrid.Her beauty was unlike anything the movie industry had seen before and her acting was superb. Hollywood was about to find out that they had the most versatile actress the industry had ever seen. Here was a woman who truly cared about the craft she represented. The public fell in love with her. Ingrid was under contract to go back to Sweden to film Solo una notte (1939) in 1939 and Juninatten (1940) in 1940. Back in the US she appeared in three films, all well-received. She made only one film in 1942, but it was the classic Casablanca (1942) opposite Humphrey Bogart.Ingrid was choosing her roles well. In 1943 she was nominated for an Academy Award for her role in Per chi suona la campana (1943), the only film she made that year. The critics and public didn't forget her when she made Angoscia (1944) the following year--her role of Paula Alquist got her the Oscar for Best Actress. In 1945 Ingrid played in Io ti salverò (1945), Saratoga (1945) and Le campane di Santa Maria (1945), for which she received her third Oscar nomination for her role of Sister Benedict. She made no films in 1947, but bounced back with a fourth nomination for Giovanna d'Arco (1948). In 1949 she went to Italy to film Stromboli (Terra di Dio) (1950), directed by Roberto Rossellini. She fell in love with him and left her husband, Dr. Peter Lindstrom, and daughter, Pia Lindström. America's moral guardians in the press and the pulpits were outraged. She was pregnant and decided to remain in Italy, where her son was born. In 1952 Ingrid had twins, Isotta and Isabella Rossellini, who became an outstanding actress in her own right, as did Pia.Ingrid continued to make films in Italy and finally returned to Hollywood in 1956 in the title role in Anastasia (1956), which was filmed in England. For this she won her second Academy Award. She had scarcely missed a beat. Ingrid continued to bounce between Europe and the US making movies, and fine ones at that. A film with Ingrid Bergman was sure to be a quality production. In her final big-screen performance in 1978's Sinfonia d'autunno (1978) she had her final Academy Award nomination. Though she didn't win, many felt it was the most sterling performance of her career. Ingrid retired, but not before she gave an outstanding performance in the mini-series Una donna di nome Golda (1982), a film about Israeli prime minister Golda Meir. For this she won an Emmy Award as Best Actress, but, unfortunately, she did not live to see the fruits of her labor.Ingrid died from cancer on August 29, 1982, her 67th birthday, in London, England.",
         "August 29, 1915 in Stockholm, Sweden",
         "29.08.1915",
         "Stockholm, Sweden",
         "August 29, 1982 in Chelsea, London, England, UK  (lymphoma complications following a breast cancer operation)",
         "29.08.1982",
         "Chelsea, London, England, UK  ",
         "lymphoma complications following a breast cancer operation",
         "Lars Schmidt  (21 December 1958 - 1978) (divorced)Roberto Rossellini  (24 May 1950 - 7 November 1957) (divorced) (3 children)Dr. Petter Aron Lindström  (10 July 1937 - 9 February 1950) (divorced) (1 child)",
         3,
         3,
         2,
         4,
         1742662637
        ],
        [
         "nm0000007",
         "Humphrey Bogart",
         "Humphrey DeForest Bogart",
         173,
         "Humphrey DeForest Bogart was born in New York City, New York, to Maud Humphrey, a famed magazine illustrator and suffragette, and Belmont DeForest Bogart, a moderately wealthy surgeon (who was secretly addicted to opium). Bogart was educated at Trinity School, NYC, and was sent to Phillips Academy in Andover, Massachusetts, in preparation for medical studies at Yale. He was expelled from Phillips and joined the U.S. Naval Reserve. From 1920 to 1922, he managed a stage company owned by family friend William A. Brady (the father of actress Alice Brady), performing a variety of tasks at Brady's film studio in New York. He then began regular stage performances. Alexander Woollcott described his acting in a 1922 play as inadequate. In 1930, he gained a contract with Fox, his feature film debut in a ten-minute short, Broadway's Like That (1930), co-starring Ruth Etting and Joan Blondell. Fox released him after two years. After five years of stage and minor film roles, he had his breakthrough role in La foresta pietrificata (1936) from Warner Bros. He won the part over Edward G. Robinson only after the star, Leslie Howard, threatened Warner Bros. that he would quit unless Bogart was given the key role of Duke Mantee, which he had played in the Broadway production with Howard. The film was a major success and led to a long-term contract with Warner Bros. From 1936 to 1940, Bogart appeared in 28 films, usually as a gangster, twice in Westerns and even a horror film. His landmark year was 1941 (often capitalizing on parts George Raft had stupidly rejected) with roles in classics such as Una pallottola per Roy (1941) and as Sam Spade in one of his most fondly remembered films, Il mistero del falco (1941). These were followed by Casablanca (1942), Il grande sonno (1946), and L'isola di corallo (1948). Bogart, despite his erratic education, was incredibly well-read and he favored writers and intellectuals within his small circle of friends. In 1947, he joined wife Lauren Bacall and other actors protesting the House Un-American Activities Committee witch hunts. He also formed his own production company, and the next year made Il tesoro della Sierra Madre (1948). Bogie won the best actor Academy Award for La regina d'Africa (1951) and was nominated for Casablanca (1942) and as Captain Queeg in L'ammutinamento del Caine (1954), a film made when he was already seriously ill. He died in his sleep at his Hollywood home following surgeries and a battle with throat cancer.",
         "December 25, 1899 in New York City, New York, USA",
         "1899-12-25",
         "New York City, New York, USA",
         "January 14, 1957 in Los Angeles, California, USA  (esophageal cancer)",
         "14.01.1957",
         "Los Angeles, California, USA  ",
         "esophageal cancer",
         "Lauren Bacall  (21 May 1945 - 14 January 1957) (his death) (2 children)Mayo Methot  (21 August 1938 - 10 May 1945) (divorced)Mary Philips  (3 April 1928 - 11 August 1938) (divorced)Helen Menken  (20 May 1926 - 18 November 1927) (divorced)",
         4,
         3,
         1,
         2,
         1742662637
        ],
        [
         "nm0000009",
         "Richard Burton",
         "Richard Walter Jenkins",
         178,
         "Probably best-remembered for his turbulent personal life with Elizabeth Taylor (whom he married twice), Richard Burton was nonetheless also regarded as an often brilliant British actor of the post-WWII period.Burton was born Richard Walter Jenkins in 1925 into a Welsh (Cymraeg)-speaking family in Pontrhydyfen to Edith Maude (Thomas) and Richard Walter Jenkins, a coal miner. The twelfth of thirteen children, his mother died while he was a toddler and his father later abandoned the family, leaving him to be raised by an elder sister, Cecilia. An avid fan of Shakespeare, poetry and reading, he once said home is where the books are. He received a scholarship to Oxford University to study acting and made his first stage appearance in 1944.His first film appearances were in routine British movies such as The Last Days of Dolwyn (1949), Tempesta a Liverpool (1950) and La quinta offensiva (1951). Then he started to appear in Hollywood movies such as Mia cugina Rachele (1952), La tunica (1953) and Alessandro il grande (1956), added to this he was also spending considerable time in stage productions, both in the UK and USA, often to splendid reviews. The late 1950s was an exciting and inventive time in UK cinema, often referred to as the British New Wave, and Burton was right in the thick of things, and showcased a sensational performance in I giovani arrabbiati (1959). He also appeared with a cavalcade of international stars in the World War II magnum opus Il giorno più lungo (1962), and then onto arguably his most notorious role as that of Marc Antony opposite Elizabeth Taylor in the hugely expensive Cleopatra (1963). This was, of course, the film that kick-started their fiery and passionate romance (plus two marriages), and the two of them appeared in several productions over the next few years including International Hotel (1963), Castelli di sabbia (1965), the dynamic Chi ha paura di Virginia Woolf? (1966) and La bisbetica domata (1967), as well as box office flops like I commedianti (1967). Burton did better when he was off on his own giving higher caliber performances, such as those in Becket e il suo re (1964), the film adaptation of the Tennessee Williams play La notte dell'iguana (1964), the brilliant espionage thriller La spia che venne dal freddo (1965) and alongside Clint Eastwood in the World War II action adventure film Dove osano le aquile (1968).His audience appeal began to decline somewhat by the end of the 1960s as fans turned to younger, more virile male stars, however Burton was superb in Anna dei mille giorni (1969) as King Henry VIII, he put on a reasonable show in the boring Attacco a Rommel (1971), was over the top in the awful Il mascalzone (1971), gave sleepwalking performances in Una faccia di c... (1972) and Barbablù (1972), and was wildly miscast in the ludicrous L'assassinio di Trotsky (1972).By the early 1970s, quality male lead roles were definitely going to other stars, and Burton found himself appearing in some movies of dubious quality, just to pay the bills and support family, including Divorzia lui divorzia lei (1973) (his last on-screen appearance with Taylor), L'uomo del clan (1974), Breve incontro (1974), Jackpot (1974) (which was never completed) and L'esorcista II - L'eretico (1977). However, he won another Oscar nomination for his excellent performance as a concerned psychiatrist in Equus (1977). He appeared with fellow acting icons Richard Harris and Roger Moore in I 4 dell'oca selvaggia (1978) about mercenaries in South Africa. While the film had a modest initial run, over the past thirty-five years it has picked up quite a cult following. His final performances were as the wily inquisitor O'Brien in the most recent film version of George Orwell's dystopian Orwell 1984 (1984), in which he won good reviews, and in the TV mini series Ellis Island (1984). He passed away on August 5, 1984 in Celigny, Switzerland from a cerebral hemorrhage.",
         "November 10, 1925 in Pontrhydyfen, Wales, UK",
         "10.11.1925",
         "Pontrhydyfen, Wales, UK",
         "August 5, 1984 in Céligny, Geneva, Switzerland  (cerebral hemorrhage)",
         "05.08.1984",
         "Céligny, Geneva, Switzerland  ",
         "cerebral hemorrhage",
         "Sally Burton  (3 July 1983 - 5 August 1984) (his death)Susan Hunt  (21 August 1976 - 27 February 1983) (divorced)Elizabeth Taylor  (10 October 1975 - 29 July 1976) (divorced)Elizabeth Taylor  (15 March 1964 - 26 June 1974) (divorced) (1 child)Sybil Williams  (5 February 1949 - 5 December 1963) (divorced) (2 children)",
         5,
         4,
         2,
         3,
         1742662637
        ],
        [
         "nm0000010",
         "James Cagney",
         "James Francis Cagney",
         165,
         "One of Hollywood's preeminent male stars of all time, James Cagney was also an accomplished dancer and easily played light comedy. James Francis Cagney was born on the Lower East Side of Manhattan in New York City, to Carolyn (Nelson) and James Francis Cagney, Sr., who was a bartender and amateur boxer. Cagney was of Norwegian (from his maternal grandfather) and Irish descent. Ending three decades on the screen, he retired to his farm in Stanfordville, New York (some 77 miles/124 km. north of his New York City birthplace), after starring in Billy Wilder's Uno, due, tre! (1961). He emerged from retirement to star in the 1981 screen adaptation of E.L. Doctorow's novel Ragtime (Ragtime (1981)), in which he was reunited with his frequent co-star of the 1930s, Pat O'Brien, and which was his last theatrical film and O'Brien's as well). Cagney's final performance came in the title role of the made-for-TV movie Terrible Joe Moran (1984), in which he played opposite Art Carney.",
         "July 17, 1899 in New York City, New York, USA",
         "1899-07-17",
         "New York City, New York, USA",
         "March 30, 1986 in Stanfordville, New York, USA  (heart attack following illness from diabetes)",
         "30.03.1986",
         "Stanfordville, New York, USA  ",
         "heart attack following illness from diabetes",
         "Frances Cagney  (28 September 1922 - 30 March 1986) (his death) (2 children)",
         1,
         0,
         1,
         2,
         1742662637
        ],
        [
         "nm0000011",
         "Gary Cooper",
         "Frank James Cooper",
         191,
         "Born to Alice Cooper and Charles Cooper. Gary attended school at Dunstable school England, Helena Montana and Grinnell College, Grinnell, Iowa (then called Iowa College). His first stage experience was during high school and college. Afterwards, he worked as an extra for one year before getting a part in a two-reeler by the independent producer Hans Tiesler . Eileen Sedgwick was his first leading lady. He then appeared in Fiore del deserto (1926) for United Artists before moving to Paramount. While there he appeared in a small part in Ali (1927), Cosetta (1927), and other films.",
         "May 7, 1901 in Helena, Montana, USA",
         "07.05.1901",
         "Helena, Montana, USA",
         "May 13, 1961 in Beverly Hills, Los Angeles, California, USA  (prostate cancer)",
         "13.05.1961",
         "Beverly Hills, Los Angeles, California, USA  ",
         "prostate cancer",
         "Sandra Shaw  (15 December 1933 - 13 May 1961) (his death) (1 child)",
         1,
         0,
         1,
         1,
         1742662637
        ]
       ],
       "datasetInfos": [],
       "dbfsResultPath": null,
       "isJsonSchema": true,
       "metadata": {},
       "overflow": false,
       "plotOptions": {
        "customPlotOptions": {},
        "displayType": "table",
        "pivotAggregation": null,
        "pivotColumns": null,
        "xColumns": null,
        "yColumns": null
       },
       "removedWidgets": [],
       "schema": [
        {
         "metadata": "{}",
         "name": "imdb_name_id",
         "type": "\"string\""
        },
        {
         "metadata": "{}",
         "name": "name",
         "type": "\"string\""
        },
        {
         "metadata": "{}",
         "name": "birth_name",
         "type": "\"string\""
        },
        {
         "metadata": "{}",
         "name": "height",
         "type": "\"integer\""
        },
        {
         "metadata": "{}",
         "name": "bio",
         "type": "\"string\""
        },
        {
         "metadata": "{}",
         "name": "birth_details",
         "type": "\"string\""
        },
        {
         "metadata": "{}",
         "name": "date_of_birth",
         "type": "\"string\""
        },
        {
         "metadata": "{}",
         "name": "place_of_birth",
         "type": "\"string\""
        },
        {
         "metadata": "{}",
         "name": "death_details",
         "type": "\"string\""
        },
        {
         "metadata": "{}",
         "name": "date_of_death",
         "type": "\"string\""
        },
        {
         "metadata": "{}",
         "name": "place_of_death",
         "type": "\"string\""
        },
        {
         "metadata": "{}",
         "name": "reason_of_death",
         "type": "\"string\""
        },
        {
         "metadata": "{}",
         "name": "spouses_string",
         "type": "\"string\""
        },
        {
         "metadata": "{}",
         "name": "spouses",
         "type": "\"integer\""
        },
        {
         "metadata": "{}",
         "name": "divorces",
         "type": "\"integer\""
        },
        {
         "metadata": "{}",
         "name": "spouses_with_children",
         "type": "\"integer\""
        },
        {
         "metadata": "{}",
         "name": "children",
         "type": "\"integer\""
        },
        {
         "metadata": "{}",
         "name": "notebook_epoch_time_names",
         "type": "\"long\""
        }
       ],
       "type": "table"
      }
     },
     "output_type": "display_data"
    },
    {
     "output_type": "stream",
     "name": "stdout",
     "output_type": "stream",
     "text": [
      "== Physical Plan ==\n*(1) Project [imdb_name_id#11128, name#11129, birth_name#11130, height#11131, bio#11132, birth_details#11133, date_of_birth#11134, place_of_birth#11135, death_details#11136, date_of_death#11137, place_of_death#11138, reason_of_death#11139, spouses_string#11140, spouses#11141, divorces#11142, spouses_with_children#11143, children#11144, 1742662637 AS notebook_epoch_time_names#11214L]\n+- FileScan csv [imdb_name_id#11128,name#11129,birth_name#11130,height#11131,bio#11132,birth_details#11133,date_of_birth#11134,place_of_birth#11135,death_details#11136,date_of_death#11137,place_of_death#11138,reason_of_death#11139,spouses_string#11140,spouses#11141,divorces#11142,spouses_with_children#11143,children#11144] Batched: false, DataFilters: [], Format: CSV, Location: InMemoryFileIndex(1 paths)[dbfs:/FileStore/tables/Files/names.csv], PartitionFilters: [], PushedFilters: [], ReadSchema: struct<imdb_name_id:string,name:string,birth_name:string,height:int,bio:string,birth_details:stri...\n\n\n"
     ]
    }
   ],
   "source": [
    "namesWithEpoch = namesDF.withColumn(\"notebook_epoch_time_names\", unix_timestamp())\n",
    "display(namesWithEpoch.limit(10))\n",
    "namesWithEpoch.explain()"
   ]
  },
  {
   "cell_type": "markdown",
   "metadata": {
    "application/vnd.databricks.v1+cell": {
     "cellMetadata": {
      "byteLimit": 2048000,
      "rowLimit": 10000
     },
     "inputWidgets": {},
     "nuid": "f9407ea2-086a-4454-ac1f-90a6a8c87ef5",
     "showTitle": false,
     "tableResultSettingsMap": {},
     "title": ""
    }
   },
   "source": [
    "1.2 Dodaj kolumnę w której wyliczysz wzrost w stopach (feet)"
   ]
  },
  {
   "cell_type": "code",
   "execution_count": 0,
   "metadata": {
    "application/vnd.databricks.v1+cell": {
     "cellMetadata": {
      "byteLimit": 2048000,
      "rowLimit": 10000
     },
     "inputWidgets": {},
     "nuid": "d45bfc1a-3192-4c5d-9d34-96f9f7897798",
     "showTitle": false,
     "tableResultSettingsMap": {},
     "title": ""
    }
   },
   "outputs": [
    {
     "output_type": "display_data",
     "data": {
      "text/html": [
       "<style scoped>\n",
       "  .table-result-container {\n",
       "    max-height: 300px;\n",
       "    overflow: auto;\n",
       "  }\n",
       "  table, th, td {\n",
       "    border: 1px solid black;\n",
       "    border-collapse: collapse;\n",
       "  }\n",
       "  th, td {\n",
       "    padding: 5px;\n",
       "  }\n",
       "  th {\n",
       "    text-align: left;\n",
       "  }\n",
       "</style><div class='table-result-container'><table class='table-result'><thead style='background-color: white'><tr><th>imdb_name_id</th><th>name</th><th>birth_name</th><th>height</th><th>bio</th><th>birth_details</th><th>date_of_birth</th><th>place_of_birth</th><th>death_details</th><th>date_of_death</th><th>place_of_death</th><th>reason_of_death</th><th>spouses_string</th><th>spouses</th><th>divorces</th><th>spouses_with_children</th><th>children</th><th>notebook_epoch_time_names</th><th>height_in_feet</th></tr></thead><tbody><tr><td>nm0000001</td><td>Fred Astaire</td><td>Frederic Austerlitz Jr.</td><td>177</td><td>Fred Astaire was born in Omaha, Nebraska, to Johanna (Geilus) and Fritz Austerlitz, a brewer. Fred entered show business at age 5. He was successful both in vaudeville and on Broadway in partnership with his sister, Adele Astaire. After Adele retired to marry in 1932, Astaire headed to Hollywood. Signed to RKO, he was loaned to MGM to appear in La danza di Venere (1933) before starting work on RKO's Carioca (1933). In the latter film, he began his highly successful partnership with Ginger Rogers, with whom he danced in 9 RKO pictures. During these years, he was also active in recording and radio. On film, Astaire later appeared opposite a number of partners through various studios. After a temporary retirement in 1945-7, during which he opened Fred Astaire Dance Studios, Astaire returned to film to star in more musicals through 1957. He subsequently performed a number of straight dramatic roles in film and TV.</td><td>May 10, 1899 in Omaha, Nebraska, USA</td><td>1899-05-10</td><td>Omaha, Nebraska, USA</td><td>June 22, 1987 in Los Angeles, California, USA  (pneumonia)</td><td>22.06.1987</td><td>Los Angeles, California, USA  </td><td>pneumonia</td><td>Robyn Smith  (27 June 1980 - 22 June 1987) (his death)Phyllis Livingston Potter  (12 July 1933 - 13 September 1954) (her death) (2 children)</td><td>2</td><td>0</td><td>1</td><td>2</td><td>1742662638</td><td>5.807086614173229</td></tr><tr><td>nm0000002</td><td>Lauren Bacall</td><td>Betty Joan Perske</td><td>174</td><td>Lauren Bacall was born Betty Joan Perske on September 16, 1924, in New York City. She was the daughter of Natalie Weinstein-Bacal, a Romanian Jewish immigrant, and William Perske, who was born in New Jersey, to Polish Jewish parents. Her family was middle-class, with her father working as a salesman and her mother as a secretary. They divorced when she was five and she rarely saw her father after that.As a school girl, she originally wanted to be a dancer, but later switched gears to head into acting. She studied at the American Academy of Dramatic Arts in New York, after attending She was educated at Highland Manor, a private boarding school in Tarrytown, New York (through the generosity of wealthy uncles), and then at Julia Richman High School, which enabled her to get her feet wet in some off-Broadway productions.Out of school, she entered modeling and, because of her beauty, appeared on the cover of Harper's Bazaar, one of the most popular magazines in the US. The wife of famed director Howard Hawks spotted the picture in the publication and arranged with her husband to have Lauren take a screen test. As a result, which was entirely positive, she was given the part of Marie Browning in Acque del Sud (1944), a thriller opposite Humphrey Bogart, when she was just 19 years old. This not only set the tone for a fabulous career but also one of Hollywood's greatest love stories (she married Bogart in 1945). It was also the first of several Bogie-Bacall films.After 1945's L'agente confidenziale (1945), Lauren received second billing in Il grande sonno (1946) with Bogart. The mystery, in the role of Vivian Sternwood Rutledge, was a resounding success. Although she was making one film a year, each production would be eagerly awaited by the public. In 1947, again with her husband, Lauren starred in the thriller La fuga (1947). The film kept movie patrons on the edge of their seats. The following year, she starred with Bogart, Edward G. Robinson, and Lionel Barrymore in L'isola di corallo (1948). The crime drama was even more of a nail biter than her previous film.In 1950, Lauren starred in Le foglie d'oro (1950), a drama set in 1894. It was a film of note because she appeared without her husband - her co-star was Gary Cooper. In 1953, Lauren appeared in her first comedy as Schatze Page in Come sposare un milionario (1953). The film, with co-stars Marilyn Monroe and Betty Grable, was a smash hit all across the theaters of America.After filming La donna del destino (1957), which was released in 1957, Humphrey Bogart died on January 14 from throat cancer. Devastated at being a widow, Lauren returned to the silver screen with Dono d'amore (1958) in 1958 opposite Robert Stack. The production turned out to be a big disappointment. Undaunted, Lauren moved back to New York City and appeared in several Broadway plays to huge critical acclaim. She was enjoying acting before live audiences and the audiences in turn enjoyed her fine performances.Lauren was away from the big screen for five years, but she returned in 1964 to appear in Elettroshock (1964) and Donne v'insegno come si seduce un uomo (1964). The latter film was a comedy starring Henry Fonda and Tony Curtis. In 1966, Lauren starred in Detective's Story (1966) with Paul Newman and Julie Harris, which was one of former's signature films.Alternating her time between films and the stage, Lauren returned in 1974's Assassinio sull'Orient Express (1974). The film, based on Agatha Christie's best-selling book was a huge hit. It also garnered Ingrid Bergman her third Oscar. Actually, the huge star-studded cast helped to ensure its success. Two years later, in 1976, Lauren co-starred with John Wayne in Il pistolero (1976). The film was Wayne's last - he died from cancer in 1979.In 1981, she played an actress being stalked by a crazed admirer in Un'ombra nel buio (1981). The thriller was absolutely fascinating with Lauren in the lead role. After that production, Lauren was away from films again, this time for seven years. In the interim, she again appeared on the stages of Broadway. When she returned, it was for the filming of 1988's Mr. North (1988). After 1990's Misery non deve morire (1990) and several made for television films, Lauren appeared in 1996's Fuga dalla Casa Bianca (1996), a comedy romp with Jack Lemmon and James Garner as two ex-presidents and their escapades.Despite her age and failing health, she made a small-scale comeback in the English-language dub of Hayao Miyazaki's Il castello errante di Howl (2004) (Howl's Moving Castle, based on the young-adult novel by Diana Wynne Jones) as the Witch of the Waste, but acting endeavors for the beloved actress became increasingly rare. Lauren Bacall died on 12 August 2014, five weeks short of her 90th birthday.</td><td>September 16, 1924 in The Bronx, New York City, New York, USA</td><td>16.09.1924</td><td>The Bronx, New York City, New York, USA</td><td>August 12, 2014 in New York City, New York, USA  (stroke)</td><td>12.08.2014</td><td>New York City, New York, USA  </td><td>stroke</td><td>Jason Robards  (4 July 1961 - 10 September 1969) (divorced) (1 child)Humphrey Bogart  (21 May 1945 - 14 January 1957) (his death) (2 children)</td><td>2</td><td>1</td><td>2</td><td>3</td><td>1742662638</td><td>5.708661417322834</td></tr><tr><td>nm0000003</td><td>Brigitte Bardot</td><td>Brigitte Bardot</td><td>166</td><td>Brigitte Bardot was born on September 28, 1934 in Paris, France. Her father had an engineering degree and worked with his father in the family business. Brigitte's mother encouraged her daughter to take up music and dance, and she proved to be very adept at it. By the time she was 15, Brigitte was trying a modeling career, and found herself in the French magazine Elle. Her incredible beauty readily apparent, Brigitte next tried films. In 1952, she appeared on screen for the first time as Javotte Lemoine in Le trou normand (1952). Two more films followed and it was also the same year she married Roger Vadim (the union lasted 3½ years). Capitalizing on her success in French films, Brigitte made her first American production in Atto d'amore (1953) with Kirk Douglas, but she continued to make films in France. Brigitte's explosive sexuality took the United States by storm, and the effect she had on millions of American men who had not seen a woman like her in a long, long time--if ever--was electric. Rise to the phrase sex kitten and fascination of her in the United States consisted of magazines photographs and dubbed over French films--good, bad or indifferent, her films drew audiences--mainly men--into theaters like lemmings. In 1965, she appeared as herself in the American-made Erasmo il lentigginoso (1965) with James Stewart (she only appeared in one scene). Just before she turned 40, Brigitte retired from movies after filming Colinot l'alzasottane (1973). She prefers life outside of stardom. While it enabled her to become internationally famous, it also carried with it annoyances. It was not anything for her to have fans enter her house or wander around the grounds of her home in the hopes of getting a glimpse of her or to take something that belonged to her. Paparazzi constantly hounded her with their cameras. She has been so soft-hearted that some people even have taken advantage of her generosity. After her life in the spotlight, Brigitte went on to become a leading spokesperson for animal rights and started the Foundation Brigitte Bardot dedicated solely to that cause. Her work in that realm is, perhaps, far greater than any film she could have made. Brigitte has been married to Bernard d'Ormale since 1992 and they reside in St. Tropez with their nearly 50 pets.</td><td>September 28, 1934 in Paris, France</td><td>28.09.1934</td><td>Paris, France</td><td>null</td><td>null</td><td>null</td><td>null</td><td>Bernard d'Ormale  (16 August 1992 - present)Gunter Sachs  (14 July 1966 - 3 July 1969) (divorced)Jacques Charrier  (18 June 1959 - 20 November 1962) (divorced) (1 child)Roger Vadim  (20 December 1952 - 6 December 1957) (divorced)</td><td>4</td><td>3</td><td>1</td><td>1</td><td>1742662638</td><td>5.4461942257217855</td></tr><tr><td>nm0000004</td><td>John Belushi</td><td>John Adam Belushi</td><td>170</td><td>John Belushi was born in Chicago, Illinois, USA, on January 24, 1949, to Agnes Demetri (Samaras) and Adam Anastos Belushi, a restaurant owner. His father was an Albanian immigrant, from Qytezë, and his mother was also of Albanian descent. He grew up in Wheaton, where the family moved when he was six. Though a young hellion in grade school, John became the perfect all-American boy during his high school years where he was co-captain of the Wheaton Central High School football team and was elected homecoming king his senior year. He also developed an interest in acting and appeared in the high school variety show. Encouraged by his drama teacher, John decided to put aside his plans to become a football coach to pursue a career in acting.After graduation in 1967, John performed in summer stock in rural Indiana in a variety of roles from Cardinal Wolsey in Anne of a Thousand Days to a comic detective in Ten Little Indians. In the fall of his freshman year at the University of Wisconsin at Whitewater, John changed his image into a bad-boy appearance by growing his hair long and began to have problems with discipline and structure of attending classes.Dropping out of Wisconsin, John spent the next two years at the College of DuPage, a junior college a few miles from his parents' Wheaton home, where his father began persuading him to become a partner in his restaurant, but John still preferred acting. While attending DuPage, John helped found the West Compass Players, an improv comedy troupe patterned after Chicago's famous Second City ensemble.In 1971, John made the leap to Second City itself where he performed in various on-stage comic performances with others, who included Harold Ramis and Joe Flaherty. John loved his life at Second City where he performed six nights a week, perfecting the physical gonzo style of comedy he later made famous.A year later, John and his live-in girlfriend from his high school years, Judith Belushi-Pisano, moved to New York because John had joined the cast of National Lampoon's Lemmings, an off-Broadway rock musical revue that was originally booked for a six-week run but played to full crowds for nearly 10 months.In 1973, John was hired as a writer for the syndicated National Lampoon's Radio Hour which became the National Lampoon Show in 1975. John's big break came that same year when he joined the ground-breaking TV variety series Il Saturday Night Live (1975) which made him a star. The unpredictable, aggressively physical style of humor that he began on Second City flowered on SNL.In 1978, while still working on Il Saturday Night Live (1975), John appeared in the movie Verso il sud (1978) which starred and was directed by Jack Nicholson. It was here that director John Landis noticed John and decided to cast him in his movie National Lampoon's Animal House (1978). John's minor role as the notorious, beer-swilling Bluto made it a box-office smash and the year's top grossing comedy. Despite appearing in only a dozen scenes, John's performance stole the movie, which portrays college fraternity shenanigans at a small college set in the year 1962.In 1979, John along with fellow SNL regular Dan Aykroyd quit the series to pursue movie projects. John and Dan Aykroyd appeared in minor roles in Steven Spielberg's financially unsuccessful 1941 - Allarme a Hollywood (1979) and, the following year, in John Landis' The Blues Brothers - I fratelli Blues (1980). Around this time, John's drug use began escalating. Cocaine, which was ubiquitous in show-business circles in the 1970's, became his drug of choice. After he first experimented with cocaine in the mid 1970s, John almost immediately became addicted to it. His frequent cocaine sniffing binges became a source of friction between him and Judy, whom he married in 1976.John's love for blues and soul music inspired the Blues Brothers. He and Aykroyd first appeared as Joliet Jake and Elwood Blues, a pair of white soul men dressed in black suits, skinny ties, fedora hats and Rayban sunglasses, as a warm-up act before the telecasts of Il Saturday Night Live (1975). Building on the success of their acts and the release of their album A Briefcase Full of Blues, John and Dan Aykroyd starred in the movie, which gave John a chance to act with his favorite musical heroes including Ray Charles, James Brown and Aretha Franklin.Although John's reputation for being an off-screen party animal is legendary, his generous side is less well known. Using some of his money, he bought his father a ranch outside San Diego for him to live. John helped set up some of his Chicago friends with their own businesses and even financially helped his younger brother, Jim Belushi, who followed his older brother's path to both Second City and Il Saturday Night Live (1975).In 1981, John appeared in the movie Chiamami Aquila (1981), playing a hard-nosed Chicago newspaperman who finds romance in Colorado with eagle expert Blair Brown. That same year, John and Dan Aykroyd appeared again in the movie I vicini di casa (1981), which gave them a chance to reverse roles, with John playing a straight-arrow family man whose life is turned upside down when a wild family man (Aykroyd) moves in next door.In January 1982, John began work on the screenplay for another movie to be titled Noble Rot. Also, John had checked into a bungalow at the Chateau Marmont, a popular celebrity hotel in Los Angeles. John's drug use had been steadily increasing for over a year now, which alarmed his wife and friends, but he continued to promise Judy that he would quit someday. On March 5, 1982, John Belushi was found dead in his hotel room at the age of 33. The local coroner gave the cause of death as a lethal injection of cocaine and heroin. Several years later, John's drug dealing/drug user companion during his final weeks, Cathy Smith, was tried and sentenced to three years in prison for supplying John with the drugs. Close friend James Taylor sang That Lonesome Road at a memorial service at Martha's Vineyard cemetery where John was buried.</td><td>January 24, 1949 in Chicago, Illinois, USA</td><td>24.01.1949</td><td>Chicago, Illinois, USA</td><td>March 5, 1982 in Hollywood, Los Angeles, California, USA  (acute cocaine and heroin intoxication)</td><td>05.03.1982</td><td>Hollywood, Los Angeles, California, USA  </td><td>acute cocaine and heroin intoxication</td><td>Judith Belushi-Pisano  (31 December 1976 - 5 March 1982) (his death)</td><td>1</td><td>0</td><td>0</td><td>0</td><td>1742662638</td><td>5.57742782152231</td></tr><tr><td>nm0000005</td><td>Ingmar Bergman</td><td>Ernst Ingmar Bergman</td><td>179</td><td>Ernst Ingmar Bergman was born July 14, 1918, the son of a priest. The film and T.V. series, Con le migliori intenzioni (1992) is biographical and shows the early marriage of his parents. The film 'Söndagsbarn' depicts a bicycle journey with his father. In the miniseries Conversazioni private (1996) is the trilogy closed. Here, as in 'Den Goda Viljan' Pernilla August play his mother. Note that all three movies are not always full true biographical stories. He began his career early with a puppet theatre which he, his sister and their friends played with. But he was the manager. Strictly professional he begun writing in 1941. He had written a play called 'Kaspers död' (A.K.A. 'Kaspers Death') which was produced the same year. It became his entrance into the movie business as Stina Bergman (not a close relative), from the company S.F. (Swedish Filmindustry), had seen the play and thought that there must be some dramatic talent in young Ingmar. His first job was to save other more famous writers' poor scripts. Under one of that script-saving works he remembered that he had written a novel about his last year as a student. He took the novel, did the save-poor-script job first, then wrote a screenplay on his own novel. When he went back to S.F., he delivered two scripts rather than one. The script was Spasimo (1944) and was the fist Bergman screenplay that was put into film (by Alf Sjöberg). It was also in that movie Bergman did his first professional film-director job. Because Alf Sjöberg was busy, Bergman got the order to shoot the last sequence of the film. Ingmar Bergman is the father of Daniel Bergman, director, and Mats Bergman, actor at the Swedish Royal Dramatic Theater. Ingmar Bergman was also C.E.O. of the same theatre between 1963-1966, where he hired almost every professional actor in Sweden. In 1976 he had a famous tax problem. Bergman had trusted other people to advise him on his finances, but it turned out to be very bad advice. Bergman had to leave the country immediately, and so he went to Germany. A few years later he returned to Sweden and made his last theatrical film Fanny & Alexander (1982) (A.K.A. 'Fanny and Alexander'). In later life he retired from movie directing, but still wrote scripts for film and T.V. and directed plays at the Swedish Royal Dramatic Theatre for many years. He died peacefully in his sleep on July 30, 2007.</td><td>July 14, 1918 in Uppsala, Uppsala län, Sweden</td><td>14.07.1918</td><td>Uppsala, Uppsala län, Sweden</td><td>July 30, 2007 in Fårö, Gotlands län, Sweden  (natural causes)</td><td>30.07.2007</td><td>Fårö, Gotlands län, Sweden  </td><td>natural causes</td><td>Ingrid Bergman  (11 November 1971 - 20 May 1995) (her death) (1 child)Käbi Laretei  (1959 - 1969) (divorced) (1 child)Gun Grut  (1951 - 1959) (divorced) (1 child)Ellen Bergman  (22 July 1945 - 1950) (divorced) (4 children)Else Fisher  (25 March 1943 - 1945) (divorced) (1 child)</td><td>5</td><td>4</td><td>5</td><td>8</td><td>1742662638</td><td>5.8727034120734904</td></tr><tr><td>nm0000006</td><td>Ingrid Bergman</td><td>Ingrid Bergman</td><td>178</td><td>Ingrid Bergman was one of the greatest actresses from Hollywood's lamented Golden Era. Her natural and unpretentious beauty and her immense acting talent made her one of the most celebrated figures in the history of American cinema. Bergman is also one of the most Oscar-awarded actresses, tied with Meryl Streep, both second only to Katharine Hepburn.Ingrid Bergman was born on August 29, 1915 in Stockholm, Sweden, to a German mother, Frieda Henrietta (Adler), and a Swedish father, Justus Samuel Bergman, an artist and photographer. Her mother died when she was only two and her father died when she was 12. She went to live with an elderly uncle.The woman who would be one of the top stars in Hollywood in the 1940s had decided to become an actress after finishing her formal schooling. She had had a taste of acting at age 17 when she played an uncredited role of a girl standing in line in the Swedish film Landskamp (1932) in 1932 - not much of a beginning for a girl who would be known as Sweden's illustrious gift to Hollywood. Her parents died when she was just a girl and the uncle she lived with didn't want to stand in the way of Ingrid's dream. The next year she enrolled at the Royal Dramatic Theatre School in Stockholm but decided that stage acting was not for her. It would be three more years before she would have another chance at a film. When she did, it was more than just a bit part. The film in question was Munkbrogreven (1935), where she had a speaking part as Elsa Edlund. After several films that year that established her as a class actress, Ingrid appeared in La sposa scomparsa (1936) as Anita Hoffman. Luckily for her, American producer David O. Selznick saw it and sent a representative from Selznick International Pictures to gain rights to the story and have Ingrid signed to a contract. Once signed, she came to California and starred in United Artists' 1939 remake of her 1936 film, Intermezzo (1939), reprising her original role. The film was a hit and so was Ingrid.Her beauty was unlike anything the movie industry had seen before and her acting was superb. Hollywood was about to find out that they had the most versatile actress the industry had ever seen. Here was a woman who truly cared about the craft she represented. The public fell in love with her. Ingrid was under contract to go back to Sweden to film Solo una notte (1939) in 1939 and Juninatten (1940) in 1940. Back in the US she appeared in three films, all well-received. She made only one film in 1942, but it was the classic Casablanca (1942) opposite Humphrey Bogart.Ingrid was choosing her roles well. In 1943 she was nominated for an Academy Award for her role in Per chi suona la campana (1943), the only film she made that year. The critics and public didn't forget her when she made Angoscia (1944) the following year--her role of Paula Alquist got her the Oscar for Best Actress. In 1945 Ingrid played in Io ti salverò (1945), Saratoga (1945) and Le campane di Santa Maria (1945), for which she received her third Oscar nomination for her role of Sister Benedict. She made no films in 1947, but bounced back with a fourth nomination for Giovanna d'Arco (1948). In 1949 she went to Italy to film Stromboli (Terra di Dio) (1950), directed by Roberto Rossellini. She fell in love with him and left her husband, Dr. Peter Lindstrom, and daughter, Pia Lindström. America's moral guardians in the press and the pulpits were outraged. She was pregnant and decided to remain in Italy, where her son was born. In 1952 Ingrid had twins, Isotta and Isabella Rossellini, who became an outstanding actress in her own right, as did Pia.Ingrid continued to make films in Italy and finally returned to Hollywood in 1956 in the title role in Anastasia (1956), which was filmed in England. For this she won her second Academy Award. She had scarcely missed a beat. Ingrid continued to bounce between Europe and the US making movies, and fine ones at that. A film with Ingrid Bergman was sure to be a quality production. In her final big-screen performance in 1978's Sinfonia d'autunno (1978) she had her final Academy Award nomination. Though she didn't win, many felt it was the most sterling performance of her career. Ingrid retired, but not before she gave an outstanding performance in the mini-series Una donna di nome Golda (1982), a film about Israeli prime minister Golda Meir. For this she won an Emmy Award as Best Actress, but, unfortunately, she did not live to see the fruits of her labor.Ingrid died from cancer on August 29, 1982, her 67th birthday, in London, England.</td><td>August 29, 1915 in Stockholm, Sweden</td><td>29.08.1915</td><td>Stockholm, Sweden</td><td>August 29, 1982 in Chelsea, London, England, UK  (lymphoma complications following a breast cancer operation)</td><td>29.08.1982</td><td>Chelsea, London, England, UK  </td><td>lymphoma complications following a breast cancer operation</td><td>Lars Schmidt  (21 December 1958 - 1978) (divorced)Roberto Rossellini  (24 May 1950 - 7 November 1957) (divorced) (3 children)Dr. Petter Aron Lindström  (10 July 1937 - 9 February 1950) (divorced) (1 child)</td><td>3</td><td>3</td><td>2</td><td>4</td><td>1742662638</td><td>5.83989501312336</td></tr><tr><td>nm0000007</td><td>Humphrey Bogart</td><td>Humphrey DeForest Bogart</td><td>173</td><td>Humphrey DeForest Bogart was born in New York City, New York, to Maud Humphrey, a famed magazine illustrator and suffragette, and Belmont DeForest Bogart, a moderately wealthy surgeon (who was secretly addicted to opium). Bogart was educated at Trinity School, NYC, and was sent to Phillips Academy in Andover, Massachusetts, in preparation for medical studies at Yale. He was expelled from Phillips and joined the U.S. Naval Reserve. From 1920 to 1922, he managed a stage company owned by family friend William A. Brady (the father of actress Alice Brady), performing a variety of tasks at Brady's film studio in New York. He then began regular stage performances. Alexander Woollcott described his acting in a 1922 play as inadequate. In 1930, he gained a contract with Fox, his feature film debut in a ten-minute short, Broadway's Like That (1930), co-starring Ruth Etting and Joan Blondell. Fox released him after two years. After five years of stage and minor film roles, he had his breakthrough role in La foresta pietrificata (1936) from Warner Bros. He won the part over Edward G. Robinson only after the star, Leslie Howard, threatened Warner Bros. that he would quit unless Bogart was given the key role of Duke Mantee, which he had played in the Broadway production with Howard. The film was a major success and led to a long-term contract with Warner Bros. From 1936 to 1940, Bogart appeared in 28 films, usually as a gangster, twice in Westerns and even a horror film. His landmark year was 1941 (often capitalizing on parts George Raft had stupidly rejected) with roles in classics such as Una pallottola per Roy (1941) and as Sam Spade in one of his most fondly remembered films, Il mistero del falco (1941). These were followed by Casablanca (1942), Il grande sonno (1946), and L'isola di corallo (1948). Bogart, despite his erratic education, was incredibly well-read and he favored writers and intellectuals within his small circle of friends. In 1947, he joined wife Lauren Bacall and other actors protesting the House Un-American Activities Committee witch hunts. He also formed his own production company, and the next year made Il tesoro della Sierra Madre (1948). Bogie won the best actor Academy Award for La regina d'Africa (1951) and was nominated for Casablanca (1942) and as Captain Queeg in L'ammutinamento del Caine (1954), a film made when he was already seriously ill. He died in his sleep at his Hollywood home following surgeries and a battle with throat cancer.</td><td>December 25, 1899 in New York City, New York, USA</td><td>1899-12-25</td><td>New York City, New York, USA</td><td>January 14, 1957 in Los Angeles, California, USA  (esophageal cancer)</td><td>14.01.1957</td><td>Los Angeles, California, USA  </td><td>esophageal cancer</td><td>Lauren Bacall  (21 May 1945 - 14 January 1957) (his death) (2 children)Mayo Methot  (21 August 1938 - 10 May 1945) (divorced)Mary Philips  (3 April 1928 - 11 August 1938) (divorced)Helen Menken  (20 May 1926 - 18 November 1927) (divorced)</td><td>4</td><td>3</td><td>1</td><td>2</td><td>1742662638</td><td>5.675853018372703</td></tr><tr><td>nm0000009</td><td>Richard Burton</td><td>Richard Walter Jenkins</td><td>178</td><td>Probably best-remembered for his turbulent personal life with Elizabeth Taylor (whom he married twice), Richard Burton was nonetheless also regarded as an often brilliant British actor of the post-WWII period.Burton was born Richard Walter Jenkins in 1925 into a Welsh (Cymraeg)-speaking family in Pontrhydyfen to Edith Maude (Thomas) and Richard Walter Jenkins, a coal miner. The twelfth of thirteen children, his mother died while he was a toddler and his father later abandoned the family, leaving him to be raised by an elder sister, Cecilia. An avid fan of Shakespeare, poetry and reading, he once said home is where the books are. He received a scholarship to Oxford University to study acting and made his first stage appearance in 1944.His first film appearances were in routine British movies such as The Last Days of Dolwyn (1949), Tempesta a Liverpool (1950) and La quinta offensiva (1951). Then he started to appear in Hollywood movies such as Mia cugina Rachele (1952), La tunica (1953) and Alessandro il grande (1956), added to this he was also spending considerable time in stage productions, both in the UK and USA, often to splendid reviews. The late 1950s was an exciting and inventive time in UK cinema, often referred to as the British New Wave, and Burton was right in the thick of things, and showcased a sensational performance in I giovani arrabbiati (1959). He also appeared with a cavalcade of international stars in the World War II magnum opus Il giorno più lungo (1962), and then onto arguably his most notorious role as that of Marc Antony opposite Elizabeth Taylor in the hugely expensive Cleopatra (1963). This was, of course, the film that kick-started their fiery and passionate romance (plus two marriages), and the two of them appeared in several productions over the next few years including International Hotel (1963), Castelli di sabbia (1965), the dynamic Chi ha paura di Virginia Woolf? (1966) and La bisbetica domata (1967), as well as box office flops like I commedianti (1967). Burton did better when he was off on his own giving higher caliber performances, such as those in Becket e il suo re (1964), the film adaptation of the Tennessee Williams play La notte dell'iguana (1964), the brilliant espionage thriller La spia che venne dal freddo (1965) and alongside Clint Eastwood in the World War II action adventure film Dove osano le aquile (1968).His audience appeal began to decline somewhat by the end of the 1960s as fans turned to younger, more virile male stars, however Burton was superb in Anna dei mille giorni (1969) as King Henry VIII, he put on a reasonable show in the boring Attacco a Rommel (1971), was over the top in the awful Il mascalzone (1971), gave sleepwalking performances in Una faccia di c... (1972) and Barbablù (1972), and was wildly miscast in the ludicrous L'assassinio di Trotsky (1972).By the early 1970s, quality male lead roles were definitely going to other stars, and Burton found himself appearing in some movies of dubious quality, just to pay the bills and support family, including Divorzia lui divorzia lei (1973) (his last on-screen appearance with Taylor), L'uomo del clan (1974), Breve incontro (1974), Jackpot (1974) (which was never completed) and L'esorcista II - L'eretico (1977). However, he won another Oscar nomination for his excellent performance as a concerned psychiatrist in Equus (1977). He appeared with fellow acting icons Richard Harris and Roger Moore in I 4 dell'oca selvaggia (1978) about mercenaries in South Africa. While the film had a modest initial run, over the past thirty-five years it has picked up quite a cult following. His final performances were as the wily inquisitor O'Brien in the most recent film version of George Orwell's dystopian Orwell 1984 (1984), in which he won good reviews, and in the TV mini series Ellis Island (1984). He passed away on August 5, 1984 in Celigny, Switzerland from a cerebral hemorrhage.</td><td>November 10, 1925 in Pontrhydyfen, Wales, UK</td><td>10.11.1925</td><td>Pontrhydyfen, Wales, UK</td><td>August 5, 1984 in Céligny, Geneva, Switzerland  (cerebral hemorrhage)</td><td>05.08.1984</td><td>Céligny, Geneva, Switzerland  </td><td>cerebral hemorrhage</td><td>Sally Burton  (3 July 1983 - 5 August 1984) (his death)Susan Hunt  (21 August 1976 - 27 February 1983) (divorced)Elizabeth Taylor  (10 October 1975 - 29 July 1976) (divorced)Elizabeth Taylor  (15 March 1964 - 26 June 1974) (divorced) (1 child)Sybil Williams  (5 February 1949 - 5 December 1963) (divorced) (2 children)</td><td>5</td><td>4</td><td>2</td><td>3</td><td>1742662638</td><td>5.83989501312336</td></tr><tr><td>nm0000010</td><td>James Cagney</td><td>James Francis Cagney</td><td>165</td><td>One of Hollywood's preeminent male stars of all time, James Cagney was also an accomplished dancer and easily played light comedy. James Francis Cagney was born on the Lower East Side of Manhattan in New York City, to Carolyn (Nelson) and James Francis Cagney, Sr., who was a bartender and amateur boxer. Cagney was of Norwegian (from his maternal grandfather) and Irish descent. Ending three decades on the screen, he retired to his farm in Stanfordville, New York (some 77 miles/124 km. north of his New York City birthplace), after starring in Billy Wilder's Uno, due, tre! (1961). He emerged from retirement to star in the 1981 screen adaptation of E.L. Doctorow's novel Ragtime (Ragtime (1981)), in which he was reunited with his frequent co-star of the 1930s, Pat O'Brien, and which was his last theatrical film and O'Brien's as well). Cagney's final performance came in the title role of the made-for-TV movie Terrible Joe Moran (1984), in which he played opposite Art Carney.</td><td>July 17, 1899 in New York City, New York, USA</td><td>1899-07-17</td><td>New York City, New York, USA</td><td>March 30, 1986 in Stanfordville, New York, USA  (heart attack following illness from diabetes)</td><td>30.03.1986</td><td>Stanfordville, New York, USA  </td><td>heart attack following illness from diabetes</td><td>Frances Cagney  (28 September 1922 - 30 March 1986) (his death) (2 children)</td><td>1</td><td>0</td><td>1</td><td>2</td><td>1742662638</td><td>5.413385826771653</td></tr><tr><td>nm0000011</td><td>Gary Cooper</td><td>Frank James Cooper</td><td>191</td><td>Born to Alice Cooper and Charles Cooper. Gary attended school at Dunstable school England, Helena Montana and Grinnell College, Grinnell, Iowa (then called Iowa College). His first stage experience was during high school and college. Afterwards, he worked as an extra for one year before getting a part in a two-reeler by the independent producer Hans Tiesler . Eileen Sedgwick was his first leading lady. He then appeared in Fiore del deserto (1926) for United Artists before moving to Paramount. While there he appeared in a small part in Ali (1927), Cosetta (1927), and other films.</td><td>May 7, 1901 in Helena, Montana, USA</td><td>07.05.1901</td><td>Helena, Montana, USA</td><td>May 13, 1961 in Beverly Hills, Los Angeles, California, USA  (prostate cancer)</td><td>13.05.1961</td><td>Beverly Hills, Los Angeles, California, USA  </td><td>prostate cancer</td><td>Sandra Shaw  (15 December 1933 - 13 May 1961) (his death) (1 child)</td><td>1</td><td>0</td><td>1</td><td>1</td><td>1742662638</td><td>6.266404199475065</td></tr></tbody></table></div>"
      ]
     },
     "metadata": {
      "application/vnd.databricks.v1+output": {
       "addedWidgets": {},
       "aggData": [],
       "aggError": "",
       "aggOverflow": false,
       "aggSchema": [],
       "aggSeriesLimitReached": false,
       "aggType": "",
       "arguments": {},
       "columnCustomDisplayInfos": {},
       "data": [
        [
         "nm0000001",
         "Fred Astaire",
         "Frederic Austerlitz Jr.",
         177,
         "Fred Astaire was born in Omaha, Nebraska, to Johanna (Geilus) and Fritz Austerlitz, a brewer. Fred entered show business at age 5. He was successful both in vaudeville and on Broadway in partnership with his sister, Adele Astaire. After Adele retired to marry in 1932, Astaire headed to Hollywood. Signed to RKO, he was loaned to MGM to appear in La danza di Venere (1933) before starting work on RKO's Carioca (1933). In the latter film, he began his highly successful partnership with Ginger Rogers, with whom he danced in 9 RKO pictures. During these years, he was also active in recording and radio. On film, Astaire later appeared opposite a number of partners through various studios. After a temporary retirement in 1945-7, during which he opened Fred Astaire Dance Studios, Astaire returned to film to star in more musicals through 1957. He subsequently performed a number of straight dramatic roles in film and TV.",
         "May 10, 1899 in Omaha, Nebraska, USA",
         "1899-05-10",
         "Omaha, Nebraska, USA",
         "June 22, 1987 in Los Angeles, California, USA  (pneumonia)",
         "22.06.1987",
         "Los Angeles, California, USA  ",
         "pneumonia",
         "Robyn Smith  (27 June 1980 - 22 June 1987) (his death)Phyllis Livingston Potter  (12 July 1933 - 13 September 1954) (her death) (2 children)",
         2,
         0,
         1,
         2,
         1742662638,
         5.807086614173229
        ],
        [
         "nm0000002",
         "Lauren Bacall",
         "Betty Joan Perske",
         174,
         "Lauren Bacall was born Betty Joan Perske on September 16, 1924, in New York City. She was the daughter of Natalie Weinstein-Bacal, a Romanian Jewish immigrant, and William Perske, who was born in New Jersey, to Polish Jewish parents. Her family was middle-class, with her father working as a salesman and her mother as a secretary. They divorced when she was five and she rarely saw her father after that.As a school girl, she originally wanted to be a dancer, but later switched gears to head into acting. She studied at the American Academy of Dramatic Arts in New York, after attending She was educated at Highland Manor, a private boarding school in Tarrytown, New York (through the generosity of wealthy uncles), and then at Julia Richman High School, which enabled her to get her feet wet in some off-Broadway productions.Out of school, she entered modeling and, because of her beauty, appeared on the cover of Harper's Bazaar, one of the most popular magazines in the US. The wife of famed director Howard Hawks spotted the picture in the publication and arranged with her husband to have Lauren take a screen test. As a result, which was entirely positive, she was given the part of Marie Browning in Acque del Sud (1944), a thriller opposite Humphrey Bogart, when she was just 19 years old. This not only set the tone for a fabulous career but also one of Hollywood's greatest love stories (she married Bogart in 1945). It was also the first of several Bogie-Bacall films.After 1945's L'agente confidenziale (1945), Lauren received second billing in Il grande sonno (1946) with Bogart. The mystery, in the role of Vivian Sternwood Rutledge, was a resounding success. Although she was making one film a year, each production would be eagerly awaited by the public. In 1947, again with her husband, Lauren starred in the thriller La fuga (1947). The film kept movie patrons on the edge of their seats. The following year, she starred with Bogart, Edward G. Robinson, and Lionel Barrymore in L'isola di corallo (1948). The crime drama was even more of a nail biter than her previous film.In 1950, Lauren starred in Le foglie d'oro (1950), a drama set in 1894. It was a film of note because she appeared without her husband - her co-star was Gary Cooper. In 1953, Lauren appeared in her first comedy as Schatze Page in Come sposare un milionario (1953). The film, with co-stars Marilyn Monroe and Betty Grable, was a smash hit all across the theaters of America.After filming La donna del destino (1957), which was released in 1957, Humphrey Bogart died on January 14 from throat cancer. Devastated at being a widow, Lauren returned to the silver screen with Dono d'amore (1958) in 1958 opposite Robert Stack. The production turned out to be a big disappointment. Undaunted, Lauren moved back to New York City and appeared in several Broadway plays to huge critical acclaim. She was enjoying acting before live audiences and the audiences in turn enjoyed her fine performances.Lauren was away from the big screen for five years, but she returned in 1964 to appear in Elettroshock (1964) and Donne v'insegno come si seduce un uomo (1964). The latter film was a comedy starring Henry Fonda and Tony Curtis. In 1966, Lauren starred in Detective's Story (1966) with Paul Newman and Julie Harris, which was one of former's signature films.Alternating her time between films and the stage, Lauren returned in 1974's Assassinio sull'Orient Express (1974). The film, based on Agatha Christie's best-selling book was a huge hit. It also garnered Ingrid Bergman her third Oscar. Actually, the huge star-studded cast helped to ensure its success. Two years later, in 1976, Lauren co-starred with John Wayne in Il pistolero (1976). The film was Wayne's last - he died from cancer in 1979.In 1981, she played an actress being stalked by a crazed admirer in Un'ombra nel buio (1981). The thriller was absolutely fascinating with Lauren in the lead role. After that production, Lauren was away from films again, this time for seven years. In the interim, she again appeared on the stages of Broadway. When she returned, it was for the filming of 1988's Mr. North (1988). After 1990's Misery non deve morire (1990) and several made for television films, Lauren appeared in 1996's Fuga dalla Casa Bianca (1996), a comedy romp with Jack Lemmon and James Garner as two ex-presidents and their escapades.Despite her age and failing health, she made a small-scale comeback in the English-language dub of Hayao Miyazaki's Il castello errante di Howl (2004) (Howl's Moving Castle, based on the young-adult novel by Diana Wynne Jones) as the Witch of the Waste, but acting endeavors for the beloved actress became increasingly rare. Lauren Bacall died on 12 August 2014, five weeks short of her 90th birthday.",
         "September 16, 1924 in The Bronx, New York City, New York, USA",
         "16.09.1924",
         "The Bronx, New York City, New York, USA",
         "August 12, 2014 in New York City, New York, USA  (stroke)",
         "12.08.2014",
         "New York City, New York, USA  ",
         "stroke",
         "Jason Robards  (4 July 1961 - 10 September 1969) (divorced) (1 child)Humphrey Bogart  (21 May 1945 - 14 January 1957) (his death) (2 children)",
         2,
         1,
         2,
         3,
         1742662638,
         5.708661417322834
        ],
        [
         "nm0000003",
         "Brigitte Bardot",
         "Brigitte Bardot",
         166,
         "Brigitte Bardot was born on September 28, 1934 in Paris, France. Her father had an engineering degree and worked with his father in the family business. Brigitte's mother encouraged her daughter to take up music and dance, and she proved to be very adept at it. By the time she was 15, Brigitte was trying a modeling career, and found herself in the French magazine Elle. Her incredible beauty readily apparent, Brigitte next tried films. In 1952, she appeared on screen for the first time as Javotte Lemoine in Le trou normand (1952). Two more films followed and it was also the same year she married Roger Vadim (the union lasted 3½ years). Capitalizing on her success in French films, Brigitte made her first American production in Atto d'amore (1953) with Kirk Douglas, but she continued to make films in France. Brigitte's explosive sexuality took the United States by storm, and the effect she had on millions of American men who had not seen a woman like her in a long, long time--if ever--was electric. Rise to the phrase sex kitten and fascination of her in the United States consisted of magazines photographs and dubbed over French films--good, bad or indifferent, her films drew audiences--mainly men--into theaters like lemmings. In 1965, she appeared as herself in the American-made Erasmo il lentigginoso (1965) with James Stewart (she only appeared in one scene). Just before she turned 40, Brigitte retired from movies after filming Colinot l'alzasottane (1973). She prefers life outside of stardom. While it enabled her to become internationally famous, it also carried with it annoyances. It was not anything for her to have fans enter her house or wander around the grounds of her home in the hopes of getting a glimpse of her or to take something that belonged to her. Paparazzi constantly hounded her with their cameras. She has been so soft-hearted that some people even have taken advantage of her generosity. After her life in the spotlight, Brigitte went on to become a leading spokesperson for animal rights and started the Foundation Brigitte Bardot dedicated solely to that cause. Her work in that realm is, perhaps, far greater than any film she could have made. Brigitte has been married to Bernard d'Ormale since 1992 and they reside in St. Tropez with their nearly 50 pets.",
         "September 28, 1934 in Paris, France",
         "28.09.1934",
         "Paris, France",
         null,
         null,
         null,
         null,
         "Bernard d'Ormale  (16 August 1992 - present)Gunter Sachs  (14 July 1966 - 3 July 1969) (divorced)Jacques Charrier  (18 June 1959 - 20 November 1962) (divorced) (1 child)Roger Vadim  (20 December 1952 - 6 December 1957) (divorced)",
         4,
         3,
         1,
         1,
         1742662638,
         5.4461942257217855
        ],
        [
         "nm0000004",
         "John Belushi",
         "John Adam Belushi",
         170,
         "John Belushi was born in Chicago, Illinois, USA, on January 24, 1949, to Agnes Demetri (Samaras) and Adam Anastos Belushi, a restaurant owner. His father was an Albanian immigrant, from Qytezë, and his mother was also of Albanian descent. He grew up in Wheaton, where the family moved when he was six. Though a young hellion in grade school, John became the perfect all-American boy during his high school years where he was co-captain of the Wheaton Central High School football team and was elected homecoming king his senior year. He also developed an interest in acting and appeared in the high school variety show. Encouraged by his drama teacher, John decided to put aside his plans to become a football coach to pursue a career in acting.After graduation in 1967, John performed in summer stock in rural Indiana in a variety of roles from Cardinal Wolsey in Anne of a Thousand Days to a comic detective in Ten Little Indians. In the fall of his freshman year at the University of Wisconsin at Whitewater, John changed his image into a bad-boy appearance by growing his hair long and began to have problems with discipline and structure of attending classes.Dropping out of Wisconsin, John spent the next two years at the College of DuPage, a junior college a few miles from his parents' Wheaton home, where his father began persuading him to become a partner in his restaurant, but John still preferred acting. While attending DuPage, John helped found the West Compass Players, an improv comedy troupe patterned after Chicago's famous Second City ensemble.In 1971, John made the leap to Second City itself where he performed in various on-stage comic performances with others, who included Harold Ramis and Joe Flaherty. John loved his life at Second City where he performed six nights a week, perfecting the physical gonzo style of comedy he later made famous.A year later, John and his live-in girlfriend from his high school years, Judith Belushi-Pisano, moved to New York because John had joined the cast of National Lampoon's Lemmings, an off-Broadway rock musical revue that was originally booked for a six-week run but played to full crowds for nearly 10 months.In 1973, John was hired as a writer for the syndicated National Lampoon's Radio Hour which became the National Lampoon Show in 1975. John's big break came that same year when he joined the ground-breaking TV variety series Il Saturday Night Live (1975) which made him a star. The unpredictable, aggressively physical style of humor that he began on Second City flowered on SNL.In 1978, while still working on Il Saturday Night Live (1975), John appeared in the movie Verso il sud (1978) which starred and was directed by Jack Nicholson. It was here that director John Landis noticed John and decided to cast him in his movie National Lampoon's Animal House (1978). John's minor role as the notorious, beer-swilling Bluto made it a box-office smash and the year's top grossing comedy. Despite appearing in only a dozen scenes, John's performance stole the movie, which portrays college fraternity shenanigans at a small college set in the year 1962.In 1979, John along with fellow SNL regular Dan Aykroyd quit the series to pursue movie projects. John and Dan Aykroyd appeared in minor roles in Steven Spielberg's financially unsuccessful 1941 - Allarme a Hollywood (1979) and, the following year, in John Landis' The Blues Brothers - I fratelli Blues (1980). Around this time, John's drug use began escalating. Cocaine, which was ubiquitous in show-business circles in the 1970's, became his drug of choice. After he first experimented with cocaine in the mid 1970s, John almost immediately became addicted to it. His frequent cocaine sniffing binges became a source of friction between him and Judy, whom he married in 1976.John's love for blues and soul music inspired the Blues Brothers. He and Aykroyd first appeared as Joliet Jake and Elwood Blues, a pair of white soul men dressed in black suits, skinny ties, fedora hats and Rayban sunglasses, as a warm-up act before the telecasts of Il Saturday Night Live (1975). Building on the success of their acts and the release of their album A Briefcase Full of Blues, John and Dan Aykroyd starred in the movie, which gave John a chance to act with his favorite musical heroes including Ray Charles, James Brown and Aretha Franklin.Although John's reputation for being an off-screen party animal is legendary, his generous side is less well known. Using some of his money, he bought his father a ranch outside San Diego for him to live. John helped set up some of his Chicago friends with their own businesses and even financially helped his younger brother, Jim Belushi, who followed his older brother's path to both Second City and Il Saturday Night Live (1975).In 1981, John appeared in the movie Chiamami Aquila (1981), playing a hard-nosed Chicago newspaperman who finds romance in Colorado with eagle expert Blair Brown. That same year, John and Dan Aykroyd appeared again in the movie I vicini di casa (1981), which gave them a chance to reverse roles, with John playing a straight-arrow family man whose life is turned upside down when a wild family man (Aykroyd) moves in next door.In January 1982, John began work on the screenplay for another movie to be titled Noble Rot. Also, John had checked into a bungalow at the Chateau Marmont, a popular celebrity hotel in Los Angeles. John's drug use had been steadily increasing for over a year now, which alarmed his wife and friends, but he continued to promise Judy that he would quit someday. On March 5, 1982, John Belushi was found dead in his hotel room at the age of 33. The local coroner gave the cause of death as a lethal injection of cocaine and heroin. Several years later, John's drug dealing/drug user companion during his final weeks, Cathy Smith, was tried and sentenced to three years in prison for supplying John with the drugs. Close friend James Taylor sang That Lonesome Road at a memorial service at Martha's Vineyard cemetery where John was buried.",
         "January 24, 1949 in Chicago, Illinois, USA",
         "24.01.1949",
         "Chicago, Illinois, USA",
         "March 5, 1982 in Hollywood, Los Angeles, California, USA  (acute cocaine and heroin intoxication)",
         "05.03.1982",
         "Hollywood, Los Angeles, California, USA  ",
         "acute cocaine and heroin intoxication",
         "Judith Belushi-Pisano  (31 December 1976 - 5 March 1982) (his death)",
         1,
         0,
         0,
         0,
         1742662638,
         5.57742782152231
        ],
        [
         "nm0000005",
         "Ingmar Bergman",
         "Ernst Ingmar Bergman",
         179,
         "Ernst Ingmar Bergman was born July 14, 1918, the son of a priest. The film and T.V. series, Con le migliori intenzioni (1992) is biographical and shows the early marriage of his parents. The film 'Söndagsbarn' depicts a bicycle journey with his father. In the miniseries Conversazioni private (1996) is the trilogy closed. Here, as in 'Den Goda Viljan' Pernilla August play his mother. Note that all three movies are not always full true biographical stories. He began his career early with a puppet theatre which he, his sister and their friends played with. But he was the manager. Strictly professional he begun writing in 1941. He had written a play called 'Kaspers död' (A.K.A. 'Kaspers Death') which was produced the same year. It became his entrance into the movie business as Stina Bergman (not a close relative), from the company S.F. (Swedish Filmindustry), had seen the play and thought that there must be some dramatic talent in young Ingmar. His first job was to save other more famous writers' poor scripts. Under one of that script-saving works he remembered that he had written a novel about his last year as a student. He took the novel, did the save-poor-script job first, then wrote a screenplay on his own novel. When he went back to S.F., he delivered two scripts rather than one. The script was Spasimo (1944) and was the fist Bergman screenplay that was put into film (by Alf Sjöberg). It was also in that movie Bergman did his first professional film-director job. Because Alf Sjöberg was busy, Bergman got the order to shoot the last sequence of the film. Ingmar Bergman is the father of Daniel Bergman, director, and Mats Bergman, actor at the Swedish Royal Dramatic Theater. Ingmar Bergman was also C.E.O. of the same theatre between 1963-1966, where he hired almost every professional actor in Sweden. In 1976 he had a famous tax problem. Bergman had trusted other people to advise him on his finances, but it turned out to be very bad advice. Bergman had to leave the country immediately, and so he went to Germany. A few years later he returned to Sweden and made his last theatrical film Fanny & Alexander (1982) (A.K.A. 'Fanny and Alexander'). In later life he retired from movie directing, but still wrote scripts for film and T.V. and directed plays at the Swedish Royal Dramatic Theatre for many years. He died peacefully in his sleep on July 30, 2007.",
         "July 14, 1918 in Uppsala, Uppsala län, Sweden",
         "14.07.1918",
         "Uppsala, Uppsala län, Sweden",
         "July 30, 2007 in Fårö, Gotlands län, Sweden  (natural causes)",
         "30.07.2007",
         "Fårö, Gotlands län, Sweden  ",
         "natural causes",
         "Ingrid Bergman  (11 November 1971 - 20 May 1995) (her death) (1 child)Käbi Laretei  (1959 - 1969) (divorced) (1 child)Gun Grut  (1951 - 1959) (divorced) (1 child)Ellen Bergman  (22 July 1945 - 1950) (divorced) (4 children)Else Fisher  (25 March 1943 - 1945) (divorced) (1 child)",
         5,
         4,
         5,
         8,
         1742662638,
         5.8727034120734904
        ],
        [
         "nm0000006",
         "Ingrid Bergman",
         "Ingrid Bergman",
         178,
         "Ingrid Bergman was one of the greatest actresses from Hollywood's lamented Golden Era. Her natural and unpretentious beauty and her immense acting talent made her one of the most celebrated figures in the history of American cinema. Bergman is also one of the most Oscar-awarded actresses, tied with Meryl Streep, both second only to Katharine Hepburn.Ingrid Bergman was born on August 29, 1915 in Stockholm, Sweden, to a German mother, Frieda Henrietta (Adler), and a Swedish father, Justus Samuel Bergman, an artist and photographer. Her mother died when she was only two and her father died when she was 12. She went to live with an elderly uncle.The woman who would be one of the top stars in Hollywood in the 1940s had decided to become an actress after finishing her formal schooling. She had had a taste of acting at age 17 when she played an uncredited role of a girl standing in line in the Swedish film Landskamp (1932) in 1932 - not much of a beginning for a girl who would be known as Sweden's illustrious gift to Hollywood. Her parents died when she was just a girl and the uncle she lived with didn't want to stand in the way of Ingrid's dream. The next year she enrolled at the Royal Dramatic Theatre School in Stockholm but decided that stage acting was not for her. It would be three more years before she would have another chance at a film. When she did, it was more than just a bit part. The film in question was Munkbrogreven (1935), where she had a speaking part as Elsa Edlund. After several films that year that established her as a class actress, Ingrid appeared in La sposa scomparsa (1936) as Anita Hoffman. Luckily for her, American producer David O. Selznick saw it and sent a representative from Selznick International Pictures to gain rights to the story and have Ingrid signed to a contract. Once signed, she came to California and starred in United Artists' 1939 remake of her 1936 film, Intermezzo (1939), reprising her original role. The film was a hit and so was Ingrid.Her beauty was unlike anything the movie industry had seen before and her acting was superb. Hollywood was about to find out that they had the most versatile actress the industry had ever seen. Here was a woman who truly cared about the craft she represented. The public fell in love with her. Ingrid was under contract to go back to Sweden to film Solo una notte (1939) in 1939 and Juninatten (1940) in 1940. Back in the US she appeared in three films, all well-received. She made only one film in 1942, but it was the classic Casablanca (1942) opposite Humphrey Bogart.Ingrid was choosing her roles well. In 1943 she was nominated for an Academy Award for her role in Per chi suona la campana (1943), the only film she made that year. The critics and public didn't forget her when she made Angoscia (1944) the following year--her role of Paula Alquist got her the Oscar for Best Actress. In 1945 Ingrid played in Io ti salverò (1945), Saratoga (1945) and Le campane di Santa Maria (1945), for which she received her third Oscar nomination for her role of Sister Benedict. She made no films in 1947, but bounced back with a fourth nomination for Giovanna d'Arco (1948). In 1949 she went to Italy to film Stromboli (Terra di Dio) (1950), directed by Roberto Rossellini. She fell in love with him and left her husband, Dr. Peter Lindstrom, and daughter, Pia Lindström. America's moral guardians in the press and the pulpits were outraged. She was pregnant and decided to remain in Italy, where her son was born. In 1952 Ingrid had twins, Isotta and Isabella Rossellini, who became an outstanding actress in her own right, as did Pia.Ingrid continued to make films in Italy and finally returned to Hollywood in 1956 in the title role in Anastasia (1956), which was filmed in England. For this she won her second Academy Award. She had scarcely missed a beat. Ingrid continued to bounce between Europe and the US making movies, and fine ones at that. A film with Ingrid Bergman was sure to be a quality production. In her final big-screen performance in 1978's Sinfonia d'autunno (1978) she had her final Academy Award nomination. Though she didn't win, many felt it was the most sterling performance of her career. Ingrid retired, but not before she gave an outstanding performance in the mini-series Una donna di nome Golda (1982), a film about Israeli prime minister Golda Meir. For this she won an Emmy Award as Best Actress, but, unfortunately, she did not live to see the fruits of her labor.Ingrid died from cancer on August 29, 1982, her 67th birthday, in London, England.",
         "August 29, 1915 in Stockholm, Sweden",
         "29.08.1915",
         "Stockholm, Sweden",
         "August 29, 1982 in Chelsea, London, England, UK  (lymphoma complications following a breast cancer operation)",
         "29.08.1982",
         "Chelsea, London, England, UK  ",
         "lymphoma complications following a breast cancer operation",
         "Lars Schmidt  (21 December 1958 - 1978) (divorced)Roberto Rossellini  (24 May 1950 - 7 November 1957) (divorced) (3 children)Dr. Petter Aron Lindström  (10 July 1937 - 9 February 1950) (divorced) (1 child)",
         3,
         3,
         2,
         4,
         1742662638,
         5.83989501312336
        ],
        [
         "nm0000007",
         "Humphrey Bogart",
         "Humphrey DeForest Bogart",
         173,
         "Humphrey DeForest Bogart was born in New York City, New York, to Maud Humphrey, a famed magazine illustrator and suffragette, and Belmont DeForest Bogart, a moderately wealthy surgeon (who was secretly addicted to opium). Bogart was educated at Trinity School, NYC, and was sent to Phillips Academy in Andover, Massachusetts, in preparation for medical studies at Yale. He was expelled from Phillips and joined the U.S. Naval Reserve. From 1920 to 1922, he managed a stage company owned by family friend William A. Brady (the father of actress Alice Brady), performing a variety of tasks at Brady's film studio in New York. He then began regular stage performances. Alexander Woollcott described his acting in a 1922 play as inadequate. In 1930, he gained a contract with Fox, his feature film debut in a ten-minute short, Broadway's Like That (1930), co-starring Ruth Etting and Joan Blondell. Fox released him after two years. After five years of stage and minor film roles, he had his breakthrough role in La foresta pietrificata (1936) from Warner Bros. He won the part over Edward G. Robinson only after the star, Leslie Howard, threatened Warner Bros. that he would quit unless Bogart was given the key role of Duke Mantee, which he had played in the Broadway production with Howard. The film was a major success and led to a long-term contract with Warner Bros. From 1936 to 1940, Bogart appeared in 28 films, usually as a gangster, twice in Westerns and even a horror film. His landmark year was 1941 (often capitalizing on parts George Raft had stupidly rejected) with roles in classics such as Una pallottola per Roy (1941) and as Sam Spade in one of his most fondly remembered films, Il mistero del falco (1941). These were followed by Casablanca (1942), Il grande sonno (1946), and L'isola di corallo (1948). Bogart, despite his erratic education, was incredibly well-read and he favored writers and intellectuals within his small circle of friends. In 1947, he joined wife Lauren Bacall and other actors protesting the House Un-American Activities Committee witch hunts. He also formed his own production company, and the next year made Il tesoro della Sierra Madre (1948). Bogie won the best actor Academy Award for La regina d'Africa (1951) and was nominated for Casablanca (1942) and as Captain Queeg in L'ammutinamento del Caine (1954), a film made when he was already seriously ill. He died in his sleep at his Hollywood home following surgeries and a battle with throat cancer.",
         "December 25, 1899 in New York City, New York, USA",
         "1899-12-25",
         "New York City, New York, USA",
         "January 14, 1957 in Los Angeles, California, USA  (esophageal cancer)",
         "14.01.1957",
         "Los Angeles, California, USA  ",
         "esophageal cancer",
         "Lauren Bacall  (21 May 1945 - 14 January 1957) (his death) (2 children)Mayo Methot  (21 August 1938 - 10 May 1945) (divorced)Mary Philips  (3 April 1928 - 11 August 1938) (divorced)Helen Menken  (20 May 1926 - 18 November 1927) (divorced)",
         4,
         3,
         1,
         2,
         1742662638,
         5.675853018372703
        ],
        [
         "nm0000009",
         "Richard Burton",
         "Richard Walter Jenkins",
         178,
         "Probably best-remembered for his turbulent personal life with Elizabeth Taylor (whom he married twice), Richard Burton was nonetheless also regarded as an often brilliant British actor of the post-WWII period.Burton was born Richard Walter Jenkins in 1925 into a Welsh (Cymraeg)-speaking family in Pontrhydyfen to Edith Maude (Thomas) and Richard Walter Jenkins, a coal miner. The twelfth of thirteen children, his mother died while he was a toddler and his father later abandoned the family, leaving him to be raised by an elder sister, Cecilia. An avid fan of Shakespeare, poetry and reading, he once said home is where the books are. He received a scholarship to Oxford University to study acting and made his first stage appearance in 1944.His first film appearances were in routine British movies such as The Last Days of Dolwyn (1949), Tempesta a Liverpool (1950) and La quinta offensiva (1951). Then he started to appear in Hollywood movies such as Mia cugina Rachele (1952), La tunica (1953) and Alessandro il grande (1956), added to this he was also spending considerable time in stage productions, both in the UK and USA, often to splendid reviews. The late 1950s was an exciting and inventive time in UK cinema, often referred to as the British New Wave, and Burton was right in the thick of things, and showcased a sensational performance in I giovani arrabbiati (1959). He also appeared with a cavalcade of international stars in the World War II magnum opus Il giorno più lungo (1962), and then onto arguably his most notorious role as that of Marc Antony opposite Elizabeth Taylor in the hugely expensive Cleopatra (1963). This was, of course, the film that kick-started their fiery and passionate romance (plus two marriages), and the two of them appeared in several productions over the next few years including International Hotel (1963), Castelli di sabbia (1965), the dynamic Chi ha paura di Virginia Woolf? (1966) and La bisbetica domata (1967), as well as box office flops like I commedianti (1967). Burton did better when he was off on his own giving higher caliber performances, such as those in Becket e il suo re (1964), the film adaptation of the Tennessee Williams play La notte dell'iguana (1964), the brilliant espionage thriller La spia che venne dal freddo (1965) and alongside Clint Eastwood in the World War II action adventure film Dove osano le aquile (1968).His audience appeal began to decline somewhat by the end of the 1960s as fans turned to younger, more virile male stars, however Burton was superb in Anna dei mille giorni (1969) as King Henry VIII, he put on a reasonable show in the boring Attacco a Rommel (1971), was over the top in the awful Il mascalzone (1971), gave sleepwalking performances in Una faccia di c... (1972) and Barbablù (1972), and was wildly miscast in the ludicrous L'assassinio di Trotsky (1972).By the early 1970s, quality male lead roles were definitely going to other stars, and Burton found himself appearing in some movies of dubious quality, just to pay the bills and support family, including Divorzia lui divorzia lei (1973) (his last on-screen appearance with Taylor), L'uomo del clan (1974), Breve incontro (1974), Jackpot (1974) (which was never completed) and L'esorcista II - L'eretico (1977). However, he won another Oscar nomination for his excellent performance as a concerned psychiatrist in Equus (1977). He appeared with fellow acting icons Richard Harris and Roger Moore in I 4 dell'oca selvaggia (1978) about mercenaries in South Africa. While the film had a modest initial run, over the past thirty-five years it has picked up quite a cult following. His final performances were as the wily inquisitor O'Brien in the most recent film version of George Orwell's dystopian Orwell 1984 (1984), in which he won good reviews, and in the TV mini series Ellis Island (1984). He passed away on August 5, 1984 in Celigny, Switzerland from a cerebral hemorrhage.",
         "November 10, 1925 in Pontrhydyfen, Wales, UK",
         "10.11.1925",
         "Pontrhydyfen, Wales, UK",
         "August 5, 1984 in Céligny, Geneva, Switzerland  (cerebral hemorrhage)",
         "05.08.1984",
         "Céligny, Geneva, Switzerland  ",
         "cerebral hemorrhage",
         "Sally Burton  (3 July 1983 - 5 August 1984) (his death)Susan Hunt  (21 August 1976 - 27 February 1983) (divorced)Elizabeth Taylor  (10 October 1975 - 29 July 1976) (divorced)Elizabeth Taylor  (15 March 1964 - 26 June 1974) (divorced) (1 child)Sybil Williams  (5 February 1949 - 5 December 1963) (divorced) (2 children)",
         5,
         4,
         2,
         3,
         1742662638,
         5.83989501312336
        ],
        [
         "nm0000010",
         "James Cagney",
         "James Francis Cagney",
         165,
         "One of Hollywood's preeminent male stars of all time, James Cagney was also an accomplished dancer and easily played light comedy. James Francis Cagney was born on the Lower East Side of Manhattan in New York City, to Carolyn (Nelson) and James Francis Cagney, Sr., who was a bartender and amateur boxer. Cagney was of Norwegian (from his maternal grandfather) and Irish descent. Ending three decades on the screen, he retired to his farm in Stanfordville, New York (some 77 miles/124 km. north of his New York City birthplace), after starring in Billy Wilder's Uno, due, tre! (1961). He emerged from retirement to star in the 1981 screen adaptation of E.L. Doctorow's novel Ragtime (Ragtime (1981)), in which he was reunited with his frequent co-star of the 1930s, Pat O'Brien, and which was his last theatrical film and O'Brien's as well). Cagney's final performance came in the title role of the made-for-TV movie Terrible Joe Moran (1984), in which he played opposite Art Carney.",
         "July 17, 1899 in New York City, New York, USA",
         "1899-07-17",
         "New York City, New York, USA",
         "March 30, 1986 in Stanfordville, New York, USA  (heart attack following illness from diabetes)",
         "30.03.1986",
         "Stanfordville, New York, USA  ",
         "heart attack following illness from diabetes",
         "Frances Cagney  (28 September 1922 - 30 March 1986) (his death) (2 children)",
         1,
         0,
         1,
         2,
         1742662638,
         5.413385826771653
        ],
        [
         "nm0000011",
         "Gary Cooper",
         "Frank James Cooper",
         191,
         "Born to Alice Cooper and Charles Cooper. Gary attended school at Dunstable school England, Helena Montana and Grinnell College, Grinnell, Iowa (then called Iowa College). His first stage experience was during high school and college. Afterwards, he worked as an extra for one year before getting a part in a two-reeler by the independent producer Hans Tiesler . Eileen Sedgwick was his first leading lady. He then appeared in Fiore del deserto (1926) for United Artists before moving to Paramount. While there he appeared in a small part in Ali (1927), Cosetta (1927), and other films.",
         "May 7, 1901 in Helena, Montana, USA",
         "07.05.1901",
         "Helena, Montana, USA",
         "May 13, 1961 in Beverly Hills, Los Angeles, California, USA  (prostate cancer)",
         "13.05.1961",
         "Beverly Hills, Los Angeles, California, USA  ",
         "prostate cancer",
         "Sandra Shaw  (15 December 1933 - 13 May 1961) (his death) (1 child)",
         1,
         0,
         1,
         1,
         1742662638,
         6.266404199475065
        ]
       ],
       "datasetInfos": [],
       "dbfsResultPath": null,
       "isJsonSchema": true,
       "metadata": {},
       "overflow": false,
       "plotOptions": {
        "customPlotOptions": {},
        "displayType": "table",
        "pivotAggregation": null,
        "pivotColumns": null,
        "xColumns": null,
        "yColumns": null
       },
       "removedWidgets": [],
       "schema": [
        {
         "metadata": "{}",
         "name": "imdb_name_id",
         "type": "\"string\""
        },
        {
         "metadata": "{}",
         "name": "name",
         "type": "\"string\""
        },
        {
         "metadata": "{}",
         "name": "birth_name",
         "type": "\"string\""
        },
        {
         "metadata": "{}",
         "name": "height",
         "type": "\"integer\""
        },
        {
         "metadata": "{}",
         "name": "bio",
         "type": "\"string\""
        },
        {
         "metadata": "{}",
         "name": "birth_details",
         "type": "\"string\""
        },
        {
         "metadata": "{}",
         "name": "date_of_birth",
         "type": "\"string\""
        },
        {
         "metadata": "{}",
         "name": "place_of_birth",
         "type": "\"string\""
        },
        {
         "metadata": "{}",
         "name": "death_details",
         "type": "\"string\""
        },
        {
         "metadata": "{}",
         "name": "date_of_death",
         "type": "\"string\""
        },
        {
         "metadata": "{}",
         "name": "place_of_death",
         "type": "\"string\""
        },
        {
         "metadata": "{}",
         "name": "reason_of_death",
         "type": "\"string\""
        },
        {
         "metadata": "{}",
         "name": "spouses_string",
         "type": "\"string\""
        },
        {
         "metadata": "{}",
         "name": "spouses",
         "type": "\"integer\""
        },
        {
         "metadata": "{}",
         "name": "divorces",
         "type": "\"integer\""
        },
        {
         "metadata": "{}",
         "name": "spouses_with_children",
         "type": "\"integer\""
        },
        {
         "metadata": "{}",
         "name": "children",
         "type": "\"integer\""
        },
        {
         "metadata": "{}",
         "name": "notebook_epoch_time_names",
         "type": "\"long\""
        },
        {
         "metadata": "{}",
         "name": "height_in_feet",
         "type": "\"double\""
        }
       ],
       "type": "table"
      }
     },
     "output_type": "display_data"
    },
    {
     "output_type": "stream",
     "name": "stdout",
     "output_type": "stream",
     "text": [
      "== Physical Plan ==\n*(1) Project [imdb_name_id#11128, name#11129, birth_name#11130, height#11131, bio#11132, birth_details#11133, date_of_birth#11134, place_of_birth#11135, death_details#11136, date_of_death#11137, place_of_death#11138, reason_of_death#11139, spouses_string#11140, spouses#11141, divorces#11142, spouses_with_children#11143, children#11144, 1742662638 AS notebook_epoch_time_names#11214L, ((cast(height#11131 as double) / 2.54) / 12.0) AS height_in_feet#11288]\n+- FileScan csv [imdb_name_id#11128,name#11129,birth_name#11130,height#11131,bio#11132,birth_details#11133,date_of_birth#11134,place_of_birth#11135,death_details#11136,date_of_death#11137,place_of_death#11138,reason_of_death#11139,spouses_string#11140,spouses#11141,divorces#11142,spouses_with_children#11143,children#11144] Batched: false, DataFilters: [], Format: CSV, Location: InMemoryFileIndex(1 paths)[dbfs:/FileStore/tables/Files/names.csv], PartitionFilters: [], PushedFilters: [], ReadSchema: struct<imdb_name_id:string,name:string,birth_name:string,height:int,bio:string,birth_details:stri...\n\n\n"
     ]
    }
   ],
   "source": [
    "namesWithFeet = namesWithEpoch.withColumn(\"height_in_feet\", col(\"height\") / 2.54 / 12)\n",
    "display(namesWithFeet.limit(10))\n",
    "namesWithFeet.explain() "
   ]
  },
  {
   "cell_type": "markdown",
   "metadata": {
    "application/vnd.databricks.v1+cell": {
     "cellMetadata": {
      "byteLimit": 2048000,
      "rowLimit": 10000
     },
     "inputWidgets": {},
     "nuid": "68ee6a5a-8b4e-49e9-a698-6fe2454fe84d",
     "showTitle": false,
     "tableResultSettingsMap": {},
     "title": ""
    }
   },
   "source": [
    "1.3 Odpowiedz na pytanie jakie jest najpopularniesze imię?"
   ]
  },
  {
   "cell_type": "code",
   "execution_count": 0,
   "metadata": {
    "application/vnd.databricks.v1+cell": {
     "cellMetadata": {
      "byteLimit": 2048000,
      "rowLimit": 10000
     },
     "inputWidgets": {},
     "nuid": "4e86b8e2-28a8-46f7-9d40-f324bbee61b4",
     "showTitle": false,
     "tableResultSettingsMap": {},
     "title": ""
    }
   },
   "outputs": [
    {
     "output_type": "stream",
     "name": "stdout",
     "output_type": "stream",
     "text": [
      "== Physical Plan ==\nAdaptiveSparkPlan isFinalPlan=false\n+- Sort [count#11384L DESC NULLS LAST], true, 0\n   +- Exchange rangepartitioning(count#11384L DESC NULLS LAST, 200), ENSURE_REQUIREMENTS, [plan_id=3859]\n      +- HashAggregate(keys=[name#11129], functions=[finalmerge_count(merge count#11388L) AS count(1)#11383L])\n         +- Exchange hashpartitioning(name#11129, 200), ENSURE_REQUIREMENTS, [plan_id=3856]\n            +- HashAggregate(keys=[name#11129], functions=[partial_count(1) AS count#11388L])\n               +- FileScan csv [name#11129] Batched: false, DataFilters: [], Format: CSV, Location: InMemoryFileIndex(1 paths)[dbfs:/FileStore/tables/Files/names.csv], PartitionFilters: [], PushedFilters: [], ReadSchema: struct<name:string>\n\n\nNajpopularniejsze imię to: David Campbell, które występuje 4 razy\n"
     ]
    }
   ],
   "source": [
    "df = namesWithFeet.groupBy(\"name\").count().orderBy(desc(\"count\"))\n",
    "\n",
    "df.explain()\n",
    "\n",
    "mostPopularName = df.first()\n",
    "\n",
    "print(f\"Najpopularniejsze imię to: {mostPopularName['name']}, które występuje {mostPopularName['count']} razy\")"
   ]
  },
  {
   "cell_type": "markdown",
   "metadata": {
    "application/vnd.databricks.v1+cell": {
     "cellMetadata": {
      "byteLimit": 2048000,
      "rowLimit": 10000
     },
     "inputWidgets": {},
     "nuid": "a23508f6-8a7c-477d-a8d1-8ef859d57905",
     "showTitle": false,
     "tableResultSettingsMap": {},
     "title": ""
    }
   },
   "source": [
    "1.4 Dodaj kolumnę i policz wiek aktorów "
   ]
  },
  {
   "cell_type": "code",
   "execution_count": 0,
   "metadata": {
    "application/vnd.databricks.v1+cell": {
     "cellMetadata": {
      "byteLimit": 2048000,
      "rowLimit": 10000
     },
     "inputWidgets": {},
     "nuid": "2c4d9354-bfaf-4f26-ac47-e3f95ce204f4",
     "showTitle": false,
     "tableResultSettingsMap": {},
     "title": ""
    }
   },
   "outputs": [
    {
     "output_type": "display_data",
     "data": {
      "text/html": [
       "<style scoped>\n",
       "  .table-result-container {\n",
       "    max-height: 300px;\n",
       "    overflow: auto;\n",
       "  }\n",
       "  table, th, td {\n",
       "    border: 1px solid black;\n",
       "    border-collapse: collapse;\n",
       "  }\n",
       "  th, td {\n",
       "    padding: 5px;\n",
       "  }\n",
       "  th {\n",
       "    text-align: left;\n",
       "  }\n",
       "</style><div class='table-result-container'><table class='table-result'><thead style='background-color: white'><tr><th>imdb_name_id</th><th>name</th><th>birth_name</th><th>height</th><th>bio</th><th>birth_details</th><th>date_of_birth</th><th>place_of_birth</th><th>death_details</th><th>date_of_death</th><th>place_of_death</th><th>reason_of_death</th><th>spouses_string</th><th>spouses</th><th>divorces</th><th>spouses_with_children</th><th>children</th><th>notebook_epoch_time_names</th><th>height_in_feet</th><th>age</th></tr></thead><tbody><tr><td>nm0000001</td><td>Fred Astaire</td><td>Frederic Austerlitz Jr.</td><td>177</td><td>Fred Astaire was born in Omaha, Nebraska, to Johanna (Geilus) and Fritz Austerlitz, a brewer. Fred entered show business at age 5. He was successful both in vaudeville and on Broadway in partnership with his sister, Adele Astaire. After Adele retired to marry in 1932, Astaire headed to Hollywood. Signed to RKO, he was loaned to MGM to appear in La danza di Venere (1933) before starting work on RKO's Carioca (1933). In the latter film, he began his highly successful partnership with Ginger Rogers, with whom he danced in 9 RKO pictures. During these years, he was also active in recording and radio. On film, Astaire later appeared opposite a number of partners through various studios. After a temporary retirement in 1945-7, during which he opened Fred Astaire Dance Studios, Astaire returned to film to star in more musicals through 1957. He subsequently performed a number of straight dramatic roles in film and TV.</td><td>May 10, 1899 in Omaha, Nebraska, USA</td><td>1899-05-10</td><td>Omaha, Nebraska, USA</td><td>June 22, 1987 in Los Angeles, California, USA  (pneumonia)</td><td>22.06.1987</td><td>Los Angeles, California, USA  </td><td>pneumonia</td><td>Robyn Smith  (27 June 1980 - 22 June 1987) (his death)Phyllis Livingston Potter  (12 July 1933 - 13 September 1954) (her death) (2 children)</td><td>2</td><td>0</td><td>1</td><td>2</td><td>1742662641</td><td>5.807086614173229</td><td>125</td></tr><tr><td>nm0000002</td><td>Lauren Bacall</td><td>Betty Joan Perske</td><td>174</td><td>Lauren Bacall was born Betty Joan Perske on September 16, 1924, in New York City. She was the daughter of Natalie Weinstein-Bacal, a Romanian Jewish immigrant, and William Perske, who was born in New Jersey, to Polish Jewish parents. Her family was middle-class, with her father working as a salesman and her mother as a secretary. They divorced when she was five and she rarely saw her father after that.As a school girl, she originally wanted to be a dancer, but later switched gears to head into acting. She studied at the American Academy of Dramatic Arts in New York, after attending She was educated at Highland Manor, a private boarding school in Tarrytown, New York (through the generosity of wealthy uncles), and then at Julia Richman High School, which enabled her to get her feet wet in some off-Broadway productions.Out of school, she entered modeling and, because of her beauty, appeared on the cover of Harper's Bazaar, one of the most popular magazines in the US. The wife of famed director Howard Hawks spotted the picture in the publication and arranged with her husband to have Lauren take a screen test. As a result, which was entirely positive, she was given the part of Marie Browning in Acque del Sud (1944), a thriller opposite Humphrey Bogart, when she was just 19 years old. This not only set the tone for a fabulous career but also one of Hollywood's greatest love stories (she married Bogart in 1945). It was also the first of several Bogie-Bacall films.After 1945's L'agente confidenziale (1945), Lauren received second billing in Il grande sonno (1946) with Bogart. The mystery, in the role of Vivian Sternwood Rutledge, was a resounding success. Although she was making one film a year, each production would be eagerly awaited by the public. In 1947, again with her husband, Lauren starred in the thriller La fuga (1947). The film kept movie patrons on the edge of their seats. The following year, she starred with Bogart, Edward G. Robinson, and Lionel Barrymore in L'isola di corallo (1948). The crime drama was even more of a nail biter than her previous film.In 1950, Lauren starred in Le foglie d'oro (1950), a drama set in 1894. It was a film of note because she appeared without her husband - her co-star was Gary Cooper. In 1953, Lauren appeared in her first comedy as Schatze Page in Come sposare un milionario (1953). The film, with co-stars Marilyn Monroe and Betty Grable, was a smash hit all across the theaters of America.After filming La donna del destino (1957), which was released in 1957, Humphrey Bogart died on January 14 from throat cancer. Devastated at being a widow, Lauren returned to the silver screen with Dono d'amore (1958) in 1958 opposite Robert Stack. The production turned out to be a big disappointment. Undaunted, Lauren moved back to New York City and appeared in several Broadway plays to huge critical acclaim. She was enjoying acting before live audiences and the audiences in turn enjoyed her fine performances.Lauren was away from the big screen for five years, but she returned in 1964 to appear in Elettroshock (1964) and Donne v'insegno come si seduce un uomo (1964). The latter film was a comedy starring Henry Fonda and Tony Curtis. In 1966, Lauren starred in Detective's Story (1966) with Paul Newman and Julie Harris, which was one of former's signature films.Alternating her time between films and the stage, Lauren returned in 1974's Assassinio sull'Orient Express (1974). The film, based on Agatha Christie's best-selling book was a huge hit. It also garnered Ingrid Bergman her third Oscar. Actually, the huge star-studded cast helped to ensure its success. Two years later, in 1976, Lauren co-starred with John Wayne in Il pistolero (1976). The film was Wayne's last - he died from cancer in 1979.In 1981, she played an actress being stalked by a crazed admirer in Un'ombra nel buio (1981). The thriller was absolutely fascinating with Lauren in the lead role. After that production, Lauren was away from films again, this time for seven years. In the interim, she again appeared on the stages of Broadway. When she returned, it was for the filming of 1988's Mr. North (1988). After 1990's Misery non deve morire (1990) and several made for television films, Lauren appeared in 1996's Fuga dalla Casa Bianca (1996), a comedy romp with Jack Lemmon and James Garner as two ex-presidents and their escapades.Despite her age and failing health, she made a small-scale comeback in the English-language dub of Hayao Miyazaki's Il castello errante di Howl (2004) (Howl's Moving Castle, based on the young-adult novel by Diana Wynne Jones) as the Witch of the Waste, but acting endeavors for the beloved actress became increasingly rare. Lauren Bacall died on 12 August 2014, five weeks short of her 90th birthday.</td><td>September 16, 1924 in The Bronx, New York City, New York, USA</td><td>16.09.1924</td><td>The Bronx, New York City, New York, USA</td><td>August 12, 2014 in New York City, New York, USA  (stroke)</td><td>12.08.2014</td><td>New York City, New York, USA  </td><td>stroke</td><td>Jason Robards  (4 July 1961 - 10 September 1969) (divorced) (1 child)Humphrey Bogart  (21 May 1945 - 14 January 1957) (his death) (2 children)</td><td>2</td><td>1</td><td>2</td><td>3</td><td>1742662641</td><td>5.708661417322834</td><td>100</td></tr><tr><td>nm0000003</td><td>Brigitte Bardot</td><td>Brigitte Bardot</td><td>166</td><td>Brigitte Bardot was born on September 28, 1934 in Paris, France. Her father had an engineering degree and worked with his father in the family business. Brigitte's mother encouraged her daughter to take up music and dance, and she proved to be very adept at it. By the time she was 15, Brigitte was trying a modeling career, and found herself in the French magazine Elle. Her incredible beauty readily apparent, Brigitte next tried films. In 1952, she appeared on screen for the first time as Javotte Lemoine in Le trou normand (1952). Two more films followed and it was also the same year she married Roger Vadim (the union lasted 3½ years). Capitalizing on her success in French films, Brigitte made her first American production in Atto d'amore (1953) with Kirk Douglas, but she continued to make films in France. Brigitte's explosive sexuality took the United States by storm, and the effect she had on millions of American men who had not seen a woman like her in a long, long time--if ever--was electric. Rise to the phrase sex kitten and fascination of her in the United States consisted of magazines photographs and dubbed over French films--good, bad or indifferent, her films drew audiences--mainly men--into theaters like lemmings. In 1965, she appeared as herself in the American-made Erasmo il lentigginoso (1965) with James Stewart (she only appeared in one scene). Just before she turned 40, Brigitte retired from movies after filming Colinot l'alzasottane (1973). She prefers life outside of stardom. While it enabled her to become internationally famous, it also carried with it annoyances. It was not anything for her to have fans enter her house or wander around the grounds of her home in the hopes of getting a glimpse of her or to take something that belonged to her. Paparazzi constantly hounded her with their cameras. She has been so soft-hearted that some people even have taken advantage of her generosity. After her life in the spotlight, Brigitte went on to become a leading spokesperson for animal rights and started the Foundation Brigitte Bardot dedicated solely to that cause. Her work in that realm is, perhaps, far greater than any film she could have made. Brigitte has been married to Bernard d'Ormale since 1992 and they reside in St. Tropez with their nearly 50 pets.</td><td>September 28, 1934 in Paris, France</td><td>28.09.1934</td><td>Paris, France</td><td>null</td><td>null</td><td>null</td><td>null</td><td>Bernard d'Ormale  (16 August 1992 - present)Gunter Sachs  (14 July 1966 - 3 July 1969) (divorced)Jacques Charrier  (18 June 1959 - 20 November 1962) (divorced) (1 child)Roger Vadim  (20 December 1952 - 6 December 1957) (divorced)</td><td>4</td><td>3</td><td>1</td><td>1</td><td>1742662641</td><td>5.4461942257217855</td><td>90</td></tr><tr><td>nm0000004</td><td>John Belushi</td><td>John Adam Belushi</td><td>170</td><td>John Belushi was born in Chicago, Illinois, USA, on January 24, 1949, to Agnes Demetri (Samaras) and Adam Anastos Belushi, a restaurant owner. His father was an Albanian immigrant, from Qytezë, and his mother was also of Albanian descent. He grew up in Wheaton, where the family moved when he was six. Though a young hellion in grade school, John became the perfect all-American boy during his high school years where he was co-captain of the Wheaton Central High School football team and was elected homecoming king his senior year. He also developed an interest in acting and appeared in the high school variety show. Encouraged by his drama teacher, John decided to put aside his plans to become a football coach to pursue a career in acting.After graduation in 1967, John performed in summer stock in rural Indiana in a variety of roles from Cardinal Wolsey in Anne of a Thousand Days to a comic detective in Ten Little Indians. In the fall of his freshman year at the University of Wisconsin at Whitewater, John changed his image into a bad-boy appearance by growing his hair long and began to have problems with discipline and structure of attending classes.Dropping out of Wisconsin, John spent the next two years at the College of DuPage, a junior college a few miles from his parents' Wheaton home, where his father began persuading him to become a partner in his restaurant, but John still preferred acting. While attending DuPage, John helped found the West Compass Players, an improv comedy troupe patterned after Chicago's famous Second City ensemble.In 1971, John made the leap to Second City itself where he performed in various on-stage comic performances with others, who included Harold Ramis and Joe Flaherty. John loved his life at Second City where he performed six nights a week, perfecting the physical gonzo style of comedy he later made famous.A year later, John and his live-in girlfriend from his high school years, Judith Belushi-Pisano, moved to New York because John had joined the cast of National Lampoon's Lemmings, an off-Broadway rock musical revue that was originally booked for a six-week run but played to full crowds for nearly 10 months.In 1973, John was hired as a writer for the syndicated National Lampoon's Radio Hour which became the National Lampoon Show in 1975. John's big break came that same year when he joined the ground-breaking TV variety series Il Saturday Night Live (1975) which made him a star. The unpredictable, aggressively physical style of humor that he began on Second City flowered on SNL.In 1978, while still working on Il Saturday Night Live (1975), John appeared in the movie Verso il sud (1978) which starred and was directed by Jack Nicholson. It was here that director John Landis noticed John and decided to cast him in his movie National Lampoon's Animal House (1978). John's minor role as the notorious, beer-swilling Bluto made it a box-office smash and the year's top grossing comedy. Despite appearing in only a dozen scenes, John's performance stole the movie, which portrays college fraternity shenanigans at a small college set in the year 1962.In 1979, John along with fellow SNL regular Dan Aykroyd quit the series to pursue movie projects. John and Dan Aykroyd appeared in minor roles in Steven Spielberg's financially unsuccessful 1941 - Allarme a Hollywood (1979) and, the following year, in John Landis' The Blues Brothers - I fratelli Blues (1980). Around this time, John's drug use began escalating. Cocaine, which was ubiquitous in show-business circles in the 1970's, became his drug of choice. After he first experimented with cocaine in the mid 1970s, John almost immediately became addicted to it. His frequent cocaine sniffing binges became a source of friction between him and Judy, whom he married in 1976.John's love for blues and soul music inspired the Blues Brothers. He and Aykroyd first appeared as Joliet Jake and Elwood Blues, a pair of white soul men dressed in black suits, skinny ties, fedora hats and Rayban sunglasses, as a warm-up act before the telecasts of Il Saturday Night Live (1975). Building on the success of their acts and the release of their album A Briefcase Full of Blues, John and Dan Aykroyd starred in the movie, which gave John a chance to act with his favorite musical heroes including Ray Charles, James Brown and Aretha Franklin.Although John's reputation for being an off-screen party animal is legendary, his generous side is less well known. Using some of his money, he bought his father a ranch outside San Diego for him to live. John helped set up some of his Chicago friends with their own businesses and even financially helped his younger brother, Jim Belushi, who followed his older brother's path to both Second City and Il Saturday Night Live (1975).In 1981, John appeared in the movie Chiamami Aquila (1981), playing a hard-nosed Chicago newspaperman who finds romance in Colorado with eagle expert Blair Brown. That same year, John and Dan Aykroyd appeared again in the movie I vicini di casa (1981), which gave them a chance to reverse roles, with John playing a straight-arrow family man whose life is turned upside down when a wild family man (Aykroyd) moves in next door.In January 1982, John began work on the screenplay for another movie to be titled Noble Rot. Also, John had checked into a bungalow at the Chateau Marmont, a popular celebrity hotel in Los Angeles. John's drug use had been steadily increasing for over a year now, which alarmed his wife and friends, but he continued to promise Judy that he would quit someday. On March 5, 1982, John Belushi was found dead in his hotel room at the age of 33. The local coroner gave the cause of death as a lethal injection of cocaine and heroin. Several years later, John's drug dealing/drug user companion during his final weeks, Cathy Smith, was tried and sentenced to three years in prison for supplying John with the drugs. Close friend James Taylor sang That Lonesome Road at a memorial service at Martha's Vineyard cemetery where John was buried.</td><td>January 24, 1949 in Chicago, Illinois, USA</td><td>24.01.1949</td><td>Chicago, Illinois, USA</td><td>March 5, 1982 in Hollywood, Los Angeles, California, USA  (acute cocaine and heroin intoxication)</td><td>05.03.1982</td><td>Hollywood, Los Angeles, California, USA  </td><td>acute cocaine and heroin intoxication</td><td>Judith Belushi-Pisano  (31 December 1976 - 5 March 1982) (his death)</td><td>1</td><td>0</td><td>0</td><td>0</td><td>1742662641</td><td>5.57742782152231</td><td>76</td></tr><tr><td>nm0000005</td><td>Ingmar Bergman</td><td>Ernst Ingmar Bergman</td><td>179</td><td>Ernst Ingmar Bergman was born July 14, 1918, the son of a priest. The film and T.V. series, Con le migliori intenzioni (1992) is biographical and shows the early marriage of his parents. The film 'Söndagsbarn' depicts a bicycle journey with his father. In the miniseries Conversazioni private (1996) is the trilogy closed. Here, as in 'Den Goda Viljan' Pernilla August play his mother. Note that all three movies are not always full true biographical stories. He began his career early with a puppet theatre which he, his sister and their friends played with. But he was the manager. Strictly professional he begun writing in 1941. He had written a play called 'Kaspers död' (A.K.A. 'Kaspers Death') which was produced the same year. It became his entrance into the movie business as Stina Bergman (not a close relative), from the company S.F. (Swedish Filmindustry), had seen the play and thought that there must be some dramatic talent in young Ingmar. His first job was to save other more famous writers' poor scripts. Under one of that script-saving works he remembered that he had written a novel about his last year as a student. He took the novel, did the save-poor-script job first, then wrote a screenplay on his own novel. When he went back to S.F., he delivered two scripts rather than one. The script was Spasimo (1944) and was the fist Bergman screenplay that was put into film (by Alf Sjöberg). It was also in that movie Bergman did his first professional film-director job. Because Alf Sjöberg was busy, Bergman got the order to shoot the last sequence of the film. Ingmar Bergman is the father of Daniel Bergman, director, and Mats Bergman, actor at the Swedish Royal Dramatic Theater. Ingmar Bergman was also C.E.O. of the same theatre between 1963-1966, where he hired almost every professional actor in Sweden. In 1976 he had a famous tax problem. Bergman had trusted other people to advise him on his finances, but it turned out to be very bad advice. Bergman had to leave the country immediately, and so he went to Germany. A few years later he returned to Sweden and made his last theatrical film Fanny & Alexander (1982) (A.K.A. 'Fanny and Alexander'). In later life he retired from movie directing, but still wrote scripts for film and T.V. and directed plays at the Swedish Royal Dramatic Theatre for many years. He died peacefully in his sleep on July 30, 2007.</td><td>July 14, 1918 in Uppsala, Uppsala län, Sweden</td><td>14.07.1918</td><td>Uppsala, Uppsala län, Sweden</td><td>July 30, 2007 in Fårö, Gotlands län, Sweden  (natural causes)</td><td>30.07.2007</td><td>Fårö, Gotlands län, Sweden  </td><td>natural causes</td><td>Ingrid Bergman  (11 November 1971 - 20 May 1995) (her death) (1 child)Käbi Laretei  (1959 - 1969) (divorced) (1 child)Gun Grut  (1951 - 1959) (divorced) (1 child)Ellen Bergman  (22 July 1945 - 1950) (divorced) (4 children)Else Fisher  (25 March 1943 - 1945) (divorced) (1 child)</td><td>5</td><td>4</td><td>5</td><td>8</td><td>1742662641</td><td>5.8727034120734904</td><td>106</td></tr><tr><td>nm0000006</td><td>Ingrid Bergman</td><td>Ingrid Bergman</td><td>178</td><td>Ingrid Bergman was one of the greatest actresses from Hollywood's lamented Golden Era. Her natural and unpretentious beauty and her immense acting talent made her one of the most celebrated figures in the history of American cinema. Bergman is also one of the most Oscar-awarded actresses, tied with Meryl Streep, both second only to Katharine Hepburn.Ingrid Bergman was born on August 29, 1915 in Stockholm, Sweden, to a German mother, Frieda Henrietta (Adler), and a Swedish father, Justus Samuel Bergman, an artist and photographer. Her mother died when she was only two and her father died when she was 12. She went to live with an elderly uncle.The woman who would be one of the top stars in Hollywood in the 1940s had decided to become an actress after finishing her formal schooling. She had had a taste of acting at age 17 when she played an uncredited role of a girl standing in line in the Swedish film Landskamp (1932) in 1932 - not much of a beginning for a girl who would be known as Sweden's illustrious gift to Hollywood. Her parents died when she was just a girl and the uncle she lived with didn't want to stand in the way of Ingrid's dream. The next year she enrolled at the Royal Dramatic Theatre School in Stockholm but decided that stage acting was not for her. It would be three more years before she would have another chance at a film. When she did, it was more than just a bit part. The film in question was Munkbrogreven (1935), where she had a speaking part as Elsa Edlund. After several films that year that established her as a class actress, Ingrid appeared in La sposa scomparsa (1936) as Anita Hoffman. Luckily for her, American producer David O. Selznick saw it and sent a representative from Selznick International Pictures to gain rights to the story and have Ingrid signed to a contract. Once signed, she came to California and starred in United Artists' 1939 remake of her 1936 film, Intermezzo (1939), reprising her original role. The film was a hit and so was Ingrid.Her beauty was unlike anything the movie industry had seen before and her acting was superb. Hollywood was about to find out that they had the most versatile actress the industry had ever seen. Here was a woman who truly cared about the craft she represented. The public fell in love with her. Ingrid was under contract to go back to Sweden to film Solo una notte (1939) in 1939 and Juninatten (1940) in 1940. Back in the US she appeared in three films, all well-received. She made only one film in 1942, but it was the classic Casablanca (1942) opposite Humphrey Bogart.Ingrid was choosing her roles well. In 1943 she was nominated for an Academy Award for her role in Per chi suona la campana (1943), the only film she made that year. The critics and public didn't forget her when she made Angoscia (1944) the following year--her role of Paula Alquist got her the Oscar for Best Actress. In 1945 Ingrid played in Io ti salverò (1945), Saratoga (1945) and Le campane di Santa Maria (1945), for which she received her third Oscar nomination for her role of Sister Benedict. She made no films in 1947, but bounced back with a fourth nomination for Giovanna d'Arco (1948). In 1949 she went to Italy to film Stromboli (Terra di Dio) (1950), directed by Roberto Rossellini. She fell in love with him and left her husband, Dr. Peter Lindstrom, and daughter, Pia Lindström. America's moral guardians in the press and the pulpits were outraged. She was pregnant and decided to remain in Italy, where her son was born. In 1952 Ingrid had twins, Isotta and Isabella Rossellini, who became an outstanding actress in her own right, as did Pia.Ingrid continued to make films in Italy and finally returned to Hollywood in 1956 in the title role in Anastasia (1956), which was filmed in England. For this she won her second Academy Award. She had scarcely missed a beat. Ingrid continued to bounce between Europe and the US making movies, and fine ones at that. A film with Ingrid Bergman was sure to be a quality production. In her final big-screen performance in 1978's Sinfonia d'autunno (1978) she had her final Academy Award nomination. Though she didn't win, many felt it was the most sterling performance of her career. Ingrid retired, but not before she gave an outstanding performance in the mini-series Una donna di nome Golda (1982), a film about Israeli prime minister Golda Meir. For this she won an Emmy Award as Best Actress, but, unfortunately, she did not live to see the fruits of her labor.Ingrid died from cancer on August 29, 1982, her 67th birthday, in London, England.</td><td>August 29, 1915 in Stockholm, Sweden</td><td>29.08.1915</td><td>Stockholm, Sweden</td><td>August 29, 1982 in Chelsea, London, England, UK  (lymphoma complications following a breast cancer operation)</td><td>29.08.1982</td><td>Chelsea, London, England, UK  </td><td>lymphoma complications following a breast cancer operation</td><td>Lars Schmidt  (21 December 1958 - 1978) (divorced)Roberto Rossellini  (24 May 1950 - 7 November 1957) (divorced) (3 children)Dr. Petter Aron Lindström  (10 July 1937 - 9 February 1950) (divorced) (1 child)</td><td>3</td><td>3</td><td>2</td><td>4</td><td>1742662641</td><td>5.83989501312336</td><td>109</td></tr><tr><td>nm0000007</td><td>Humphrey Bogart</td><td>Humphrey DeForest Bogart</td><td>173</td><td>Humphrey DeForest Bogart was born in New York City, New York, to Maud Humphrey, a famed magazine illustrator and suffragette, and Belmont DeForest Bogart, a moderately wealthy surgeon (who was secretly addicted to opium). Bogart was educated at Trinity School, NYC, and was sent to Phillips Academy in Andover, Massachusetts, in preparation for medical studies at Yale. He was expelled from Phillips and joined the U.S. Naval Reserve. From 1920 to 1922, he managed a stage company owned by family friend William A. Brady (the father of actress Alice Brady), performing a variety of tasks at Brady's film studio in New York. He then began regular stage performances. Alexander Woollcott described his acting in a 1922 play as inadequate. In 1930, he gained a contract with Fox, his feature film debut in a ten-minute short, Broadway's Like That (1930), co-starring Ruth Etting and Joan Blondell. Fox released him after two years. After five years of stage and minor film roles, he had his breakthrough role in La foresta pietrificata (1936) from Warner Bros. He won the part over Edward G. Robinson only after the star, Leslie Howard, threatened Warner Bros. that he would quit unless Bogart was given the key role of Duke Mantee, which he had played in the Broadway production with Howard. The film was a major success and led to a long-term contract with Warner Bros. From 1936 to 1940, Bogart appeared in 28 films, usually as a gangster, twice in Westerns and even a horror film. His landmark year was 1941 (often capitalizing on parts George Raft had stupidly rejected) with roles in classics such as Una pallottola per Roy (1941) and as Sam Spade in one of his most fondly remembered films, Il mistero del falco (1941). These were followed by Casablanca (1942), Il grande sonno (1946), and L'isola di corallo (1948). Bogart, despite his erratic education, was incredibly well-read and he favored writers and intellectuals within his small circle of friends. In 1947, he joined wife Lauren Bacall and other actors protesting the House Un-American Activities Committee witch hunts. He also formed his own production company, and the next year made Il tesoro della Sierra Madre (1948). Bogie won the best actor Academy Award for La regina d'Africa (1951) and was nominated for Casablanca (1942) and as Captain Queeg in L'ammutinamento del Caine (1954), a film made when he was already seriously ill. He died in his sleep at his Hollywood home following surgeries and a battle with throat cancer.</td><td>December 25, 1899 in New York City, New York, USA</td><td>1899-12-25</td><td>New York City, New York, USA</td><td>January 14, 1957 in Los Angeles, California, USA  (esophageal cancer)</td><td>14.01.1957</td><td>Los Angeles, California, USA  </td><td>esophageal cancer</td><td>Lauren Bacall  (21 May 1945 - 14 January 1957) (his death) (2 children)Mayo Methot  (21 August 1938 - 10 May 1945) (divorced)Mary Philips  (3 April 1928 - 11 August 1938) (divorced)Helen Menken  (20 May 1926 - 18 November 1927) (divorced)</td><td>4</td><td>3</td><td>1</td><td>2</td><td>1742662641</td><td>5.675853018372703</td><td>125</td></tr><tr><td>nm0000009</td><td>Richard Burton</td><td>Richard Walter Jenkins</td><td>178</td><td>Probably best-remembered for his turbulent personal life with Elizabeth Taylor (whom he married twice), Richard Burton was nonetheless also regarded as an often brilliant British actor of the post-WWII period.Burton was born Richard Walter Jenkins in 1925 into a Welsh (Cymraeg)-speaking family in Pontrhydyfen to Edith Maude (Thomas) and Richard Walter Jenkins, a coal miner. The twelfth of thirteen children, his mother died while he was a toddler and his father later abandoned the family, leaving him to be raised by an elder sister, Cecilia. An avid fan of Shakespeare, poetry and reading, he once said home is where the books are. He received a scholarship to Oxford University to study acting and made his first stage appearance in 1944.His first film appearances were in routine British movies such as The Last Days of Dolwyn (1949), Tempesta a Liverpool (1950) and La quinta offensiva (1951). Then he started to appear in Hollywood movies such as Mia cugina Rachele (1952), La tunica (1953) and Alessandro il grande (1956), added to this he was also spending considerable time in stage productions, both in the UK and USA, often to splendid reviews. The late 1950s was an exciting and inventive time in UK cinema, often referred to as the British New Wave, and Burton was right in the thick of things, and showcased a sensational performance in I giovani arrabbiati (1959). He also appeared with a cavalcade of international stars in the World War II magnum opus Il giorno più lungo (1962), and then onto arguably his most notorious role as that of Marc Antony opposite Elizabeth Taylor in the hugely expensive Cleopatra (1963). This was, of course, the film that kick-started their fiery and passionate romance (plus two marriages), and the two of them appeared in several productions over the next few years including International Hotel (1963), Castelli di sabbia (1965), the dynamic Chi ha paura di Virginia Woolf? (1966) and La bisbetica domata (1967), as well as box office flops like I commedianti (1967). Burton did better when he was off on his own giving higher caliber performances, such as those in Becket e il suo re (1964), the film adaptation of the Tennessee Williams play La notte dell'iguana (1964), the brilliant espionage thriller La spia che venne dal freddo (1965) and alongside Clint Eastwood in the World War II action adventure film Dove osano le aquile (1968).His audience appeal began to decline somewhat by the end of the 1960s as fans turned to younger, more virile male stars, however Burton was superb in Anna dei mille giorni (1969) as King Henry VIII, he put on a reasonable show in the boring Attacco a Rommel (1971), was over the top in the awful Il mascalzone (1971), gave sleepwalking performances in Una faccia di c... (1972) and Barbablù (1972), and was wildly miscast in the ludicrous L'assassinio di Trotsky (1972).By the early 1970s, quality male lead roles were definitely going to other stars, and Burton found himself appearing in some movies of dubious quality, just to pay the bills and support family, including Divorzia lui divorzia lei (1973) (his last on-screen appearance with Taylor), L'uomo del clan (1974), Breve incontro (1974), Jackpot (1974) (which was never completed) and L'esorcista II - L'eretico (1977). However, he won another Oscar nomination for his excellent performance as a concerned psychiatrist in Equus (1977). He appeared with fellow acting icons Richard Harris and Roger Moore in I 4 dell'oca selvaggia (1978) about mercenaries in South Africa. While the film had a modest initial run, over the past thirty-five years it has picked up quite a cult following. His final performances were as the wily inquisitor O'Brien in the most recent film version of George Orwell's dystopian Orwell 1984 (1984), in which he won good reviews, and in the TV mini series Ellis Island (1984). He passed away on August 5, 1984 in Celigny, Switzerland from a cerebral hemorrhage.</td><td>November 10, 1925 in Pontrhydyfen, Wales, UK</td><td>10.11.1925</td><td>Pontrhydyfen, Wales, UK</td><td>August 5, 1984 in Céligny, Geneva, Switzerland  (cerebral hemorrhage)</td><td>05.08.1984</td><td>Céligny, Geneva, Switzerland  </td><td>cerebral hemorrhage</td><td>Sally Burton  (3 July 1983 - 5 August 1984) (his death)Susan Hunt  (21 August 1976 - 27 February 1983) (divorced)Elizabeth Taylor  (10 October 1975 - 29 July 1976) (divorced)Elizabeth Taylor  (15 March 1964 - 26 June 1974) (divorced) (1 child)Sybil Williams  (5 February 1949 - 5 December 1963) (divorced) (2 children)</td><td>5</td><td>4</td><td>2</td><td>3</td><td>1742662641</td><td>5.83989501312336</td><td>99</td></tr><tr><td>nm0000010</td><td>James Cagney</td><td>James Francis Cagney</td><td>165</td><td>One of Hollywood's preeminent male stars of all time, James Cagney was also an accomplished dancer and easily played light comedy. James Francis Cagney was born on the Lower East Side of Manhattan in New York City, to Carolyn (Nelson) and James Francis Cagney, Sr., who was a bartender and amateur boxer. Cagney was of Norwegian (from his maternal grandfather) and Irish descent. Ending three decades on the screen, he retired to his farm in Stanfordville, New York (some 77 miles/124 km. north of his New York City birthplace), after starring in Billy Wilder's Uno, due, tre! (1961). He emerged from retirement to star in the 1981 screen adaptation of E.L. Doctorow's novel Ragtime (Ragtime (1981)), in which he was reunited with his frequent co-star of the 1930s, Pat O'Brien, and which was his last theatrical film and O'Brien's as well). Cagney's final performance came in the title role of the made-for-TV movie Terrible Joe Moran (1984), in which he played opposite Art Carney.</td><td>July 17, 1899 in New York City, New York, USA</td><td>1899-07-17</td><td>New York City, New York, USA</td><td>March 30, 1986 in Stanfordville, New York, USA  (heart attack following illness from diabetes)</td><td>30.03.1986</td><td>Stanfordville, New York, USA  </td><td>heart attack following illness from diabetes</td><td>Frances Cagney  (28 September 1922 - 30 March 1986) (his death) (2 children)</td><td>1</td><td>0</td><td>1</td><td>2</td><td>1742662641</td><td>5.413385826771653</td><td>125</td></tr><tr><td>nm0000011</td><td>Gary Cooper</td><td>Frank James Cooper</td><td>191</td><td>Born to Alice Cooper and Charles Cooper. Gary attended school at Dunstable school England, Helena Montana and Grinnell College, Grinnell, Iowa (then called Iowa College). His first stage experience was during high school and college. Afterwards, he worked as an extra for one year before getting a part in a two-reeler by the independent producer Hans Tiesler . Eileen Sedgwick was his first leading lady. He then appeared in Fiore del deserto (1926) for United Artists before moving to Paramount. While there he appeared in a small part in Ali (1927), Cosetta (1927), and other films.</td><td>May 7, 1901 in Helena, Montana, USA</td><td>07.05.1901</td><td>Helena, Montana, USA</td><td>May 13, 1961 in Beverly Hills, Los Angeles, California, USA  (prostate cancer)</td><td>13.05.1961</td><td>Beverly Hills, Los Angeles, California, USA  </td><td>prostate cancer</td><td>Sandra Shaw  (15 December 1933 - 13 May 1961) (his death) (1 child)</td><td>1</td><td>0</td><td>1</td><td>1</td><td>1742662641</td><td>6.266404199475065</td><td>123</td></tr></tbody></table></div>"
      ]
     },
     "metadata": {
      "application/vnd.databricks.v1+output": {
       "addedWidgets": {},
       "aggData": [],
       "aggError": "",
       "aggOverflow": false,
       "aggSchema": [],
       "aggSeriesLimitReached": false,
       "aggType": "",
       "arguments": {},
       "columnCustomDisplayInfos": {},
       "data": [
        [
         "nm0000001",
         "Fred Astaire",
         "Frederic Austerlitz Jr.",
         177,
         "Fred Astaire was born in Omaha, Nebraska, to Johanna (Geilus) and Fritz Austerlitz, a brewer. Fred entered show business at age 5. He was successful both in vaudeville and on Broadway in partnership with his sister, Adele Astaire. After Adele retired to marry in 1932, Astaire headed to Hollywood. Signed to RKO, he was loaned to MGM to appear in La danza di Venere (1933) before starting work on RKO's Carioca (1933). In the latter film, he began his highly successful partnership with Ginger Rogers, with whom he danced in 9 RKO pictures. During these years, he was also active in recording and radio. On film, Astaire later appeared opposite a number of partners through various studios. After a temporary retirement in 1945-7, during which he opened Fred Astaire Dance Studios, Astaire returned to film to star in more musicals through 1957. He subsequently performed a number of straight dramatic roles in film and TV.",
         "May 10, 1899 in Omaha, Nebraska, USA",
         "1899-05-10",
         "Omaha, Nebraska, USA",
         "June 22, 1987 in Los Angeles, California, USA  (pneumonia)",
         "22.06.1987",
         "Los Angeles, California, USA  ",
         "pneumonia",
         "Robyn Smith  (27 June 1980 - 22 June 1987) (his death)Phyllis Livingston Potter  (12 July 1933 - 13 September 1954) (her death) (2 children)",
         2,
         0,
         1,
         2,
         1742662641,
         5.807086614173229,
         125
        ],
        [
         "nm0000002",
         "Lauren Bacall",
         "Betty Joan Perske",
         174,
         "Lauren Bacall was born Betty Joan Perske on September 16, 1924, in New York City. She was the daughter of Natalie Weinstein-Bacal, a Romanian Jewish immigrant, and William Perske, who was born in New Jersey, to Polish Jewish parents. Her family was middle-class, with her father working as a salesman and her mother as a secretary. They divorced when she was five and she rarely saw her father after that.As a school girl, she originally wanted to be a dancer, but later switched gears to head into acting. She studied at the American Academy of Dramatic Arts in New York, after attending She was educated at Highland Manor, a private boarding school in Tarrytown, New York (through the generosity of wealthy uncles), and then at Julia Richman High School, which enabled her to get her feet wet in some off-Broadway productions.Out of school, she entered modeling and, because of her beauty, appeared on the cover of Harper's Bazaar, one of the most popular magazines in the US. The wife of famed director Howard Hawks spotted the picture in the publication and arranged with her husband to have Lauren take a screen test. As a result, which was entirely positive, she was given the part of Marie Browning in Acque del Sud (1944), a thriller opposite Humphrey Bogart, when she was just 19 years old. This not only set the tone for a fabulous career but also one of Hollywood's greatest love stories (she married Bogart in 1945). It was also the first of several Bogie-Bacall films.After 1945's L'agente confidenziale (1945), Lauren received second billing in Il grande sonno (1946) with Bogart. The mystery, in the role of Vivian Sternwood Rutledge, was a resounding success. Although she was making one film a year, each production would be eagerly awaited by the public. In 1947, again with her husband, Lauren starred in the thriller La fuga (1947). The film kept movie patrons on the edge of their seats. The following year, she starred with Bogart, Edward G. Robinson, and Lionel Barrymore in L'isola di corallo (1948). The crime drama was even more of a nail biter than her previous film.In 1950, Lauren starred in Le foglie d'oro (1950), a drama set in 1894. It was a film of note because she appeared without her husband - her co-star was Gary Cooper. In 1953, Lauren appeared in her first comedy as Schatze Page in Come sposare un milionario (1953). The film, with co-stars Marilyn Monroe and Betty Grable, was a smash hit all across the theaters of America.After filming La donna del destino (1957), which was released in 1957, Humphrey Bogart died on January 14 from throat cancer. Devastated at being a widow, Lauren returned to the silver screen with Dono d'amore (1958) in 1958 opposite Robert Stack. The production turned out to be a big disappointment. Undaunted, Lauren moved back to New York City and appeared in several Broadway plays to huge critical acclaim. She was enjoying acting before live audiences and the audiences in turn enjoyed her fine performances.Lauren was away from the big screen for five years, but she returned in 1964 to appear in Elettroshock (1964) and Donne v'insegno come si seduce un uomo (1964). The latter film was a comedy starring Henry Fonda and Tony Curtis. In 1966, Lauren starred in Detective's Story (1966) with Paul Newman and Julie Harris, which was one of former's signature films.Alternating her time between films and the stage, Lauren returned in 1974's Assassinio sull'Orient Express (1974). The film, based on Agatha Christie's best-selling book was a huge hit. It also garnered Ingrid Bergman her third Oscar. Actually, the huge star-studded cast helped to ensure its success. Two years later, in 1976, Lauren co-starred with John Wayne in Il pistolero (1976). The film was Wayne's last - he died from cancer in 1979.In 1981, she played an actress being stalked by a crazed admirer in Un'ombra nel buio (1981). The thriller was absolutely fascinating with Lauren in the lead role. After that production, Lauren was away from films again, this time for seven years. In the interim, she again appeared on the stages of Broadway. When she returned, it was for the filming of 1988's Mr. North (1988). After 1990's Misery non deve morire (1990) and several made for television films, Lauren appeared in 1996's Fuga dalla Casa Bianca (1996), a comedy romp with Jack Lemmon and James Garner as two ex-presidents and their escapades.Despite her age and failing health, she made a small-scale comeback in the English-language dub of Hayao Miyazaki's Il castello errante di Howl (2004) (Howl's Moving Castle, based on the young-adult novel by Diana Wynne Jones) as the Witch of the Waste, but acting endeavors for the beloved actress became increasingly rare. Lauren Bacall died on 12 August 2014, five weeks short of her 90th birthday.",
         "September 16, 1924 in The Bronx, New York City, New York, USA",
         "16.09.1924",
         "The Bronx, New York City, New York, USA",
         "August 12, 2014 in New York City, New York, USA  (stroke)",
         "12.08.2014",
         "New York City, New York, USA  ",
         "stroke",
         "Jason Robards  (4 July 1961 - 10 September 1969) (divorced) (1 child)Humphrey Bogart  (21 May 1945 - 14 January 1957) (his death) (2 children)",
         2,
         1,
         2,
         3,
         1742662641,
         5.708661417322834,
         100
        ],
        [
         "nm0000003",
         "Brigitte Bardot",
         "Brigitte Bardot",
         166,
         "Brigitte Bardot was born on September 28, 1934 in Paris, France. Her father had an engineering degree and worked with his father in the family business. Brigitte's mother encouraged her daughter to take up music and dance, and she proved to be very adept at it. By the time she was 15, Brigitte was trying a modeling career, and found herself in the French magazine Elle. Her incredible beauty readily apparent, Brigitte next tried films. In 1952, she appeared on screen for the first time as Javotte Lemoine in Le trou normand (1952). Two more films followed and it was also the same year she married Roger Vadim (the union lasted 3½ years). Capitalizing on her success in French films, Brigitte made her first American production in Atto d'amore (1953) with Kirk Douglas, but she continued to make films in France. Brigitte's explosive sexuality took the United States by storm, and the effect she had on millions of American men who had not seen a woman like her in a long, long time--if ever--was electric. Rise to the phrase sex kitten and fascination of her in the United States consisted of magazines photographs and dubbed over French films--good, bad or indifferent, her films drew audiences--mainly men--into theaters like lemmings. In 1965, she appeared as herself in the American-made Erasmo il lentigginoso (1965) with James Stewart (she only appeared in one scene). Just before she turned 40, Brigitte retired from movies after filming Colinot l'alzasottane (1973). She prefers life outside of stardom. While it enabled her to become internationally famous, it also carried with it annoyances. It was not anything for her to have fans enter her house or wander around the grounds of her home in the hopes of getting a glimpse of her or to take something that belonged to her. Paparazzi constantly hounded her with their cameras. She has been so soft-hearted that some people even have taken advantage of her generosity. After her life in the spotlight, Brigitte went on to become a leading spokesperson for animal rights and started the Foundation Brigitte Bardot dedicated solely to that cause. Her work in that realm is, perhaps, far greater than any film she could have made. Brigitte has been married to Bernard d'Ormale since 1992 and they reside in St. Tropez with their nearly 50 pets.",
         "September 28, 1934 in Paris, France",
         "28.09.1934",
         "Paris, France",
         null,
         null,
         null,
         null,
         "Bernard d'Ormale  (16 August 1992 - present)Gunter Sachs  (14 July 1966 - 3 July 1969) (divorced)Jacques Charrier  (18 June 1959 - 20 November 1962) (divorced) (1 child)Roger Vadim  (20 December 1952 - 6 December 1957) (divorced)",
         4,
         3,
         1,
         1,
         1742662641,
         5.4461942257217855,
         90
        ],
        [
         "nm0000004",
         "John Belushi",
         "John Adam Belushi",
         170,
         "John Belushi was born in Chicago, Illinois, USA, on January 24, 1949, to Agnes Demetri (Samaras) and Adam Anastos Belushi, a restaurant owner. His father was an Albanian immigrant, from Qytezë, and his mother was also of Albanian descent. He grew up in Wheaton, where the family moved when he was six. Though a young hellion in grade school, John became the perfect all-American boy during his high school years where he was co-captain of the Wheaton Central High School football team and was elected homecoming king his senior year. He also developed an interest in acting and appeared in the high school variety show. Encouraged by his drama teacher, John decided to put aside his plans to become a football coach to pursue a career in acting.After graduation in 1967, John performed in summer stock in rural Indiana in a variety of roles from Cardinal Wolsey in Anne of a Thousand Days to a comic detective in Ten Little Indians. In the fall of his freshman year at the University of Wisconsin at Whitewater, John changed his image into a bad-boy appearance by growing his hair long and began to have problems with discipline and structure of attending classes.Dropping out of Wisconsin, John spent the next two years at the College of DuPage, a junior college a few miles from his parents' Wheaton home, where his father began persuading him to become a partner in his restaurant, but John still preferred acting. While attending DuPage, John helped found the West Compass Players, an improv comedy troupe patterned after Chicago's famous Second City ensemble.In 1971, John made the leap to Second City itself where he performed in various on-stage comic performances with others, who included Harold Ramis and Joe Flaherty. John loved his life at Second City where he performed six nights a week, perfecting the physical gonzo style of comedy he later made famous.A year later, John and his live-in girlfriend from his high school years, Judith Belushi-Pisano, moved to New York because John had joined the cast of National Lampoon's Lemmings, an off-Broadway rock musical revue that was originally booked for a six-week run but played to full crowds for nearly 10 months.In 1973, John was hired as a writer for the syndicated National Lampoon's Radio Hour which became the National Lampoon Show in 1975. John's big break came that same year when he joined the ground-breaking TV variety series Il Saturday Night Live (1975) which made him a star. The unpredictable, aggressively physical style of humor that he began on Second City flowered on SNL.In 1978, while still working on Il Saturday Night Live (1975), John appeared in the movie Verso il sud (1978) which starred and was directed by Jack Nicholson. It was here that director John Landis noticed John and decided to cast him in his movie National Lampoon's Animal House (1978). John's minor role as the notorious, beer-swilling Bluto made it a box-office smash and the year's top grossing comedy. Despite appearing in only a dozen scenes, John's performance stole the movie, which portrays college fraternity shenanigans at a small college set in the year 1962.In 1979, John along with fellow SNL regular Dan Aykroyd quit the series to pursue movie projects. John and Dan Aykroyd appeared in minor roles in Steven Spielberg's financially unsuccessful 1941 - Allarme a Hollywood (1979) and, the following year, in John Landis' The Blues Brothers - I fratelli Blues (1980). Around this time, John's drug use began escalating. Cocaine, which was ubiquitous in show-business circles in the 1970's, became his drug of choice. After he first experimented with cocaine in the mid 1970s, John almost immediately became addicted to it. His frequent cocaine sniffing binges became a source of friction between him and Judy, whom he married in 1976.John's love for blues and soul music inspired the Blues Brothers. He and Aykroyd first appeared as Joliet Jake and Elwood Blues, a pair of white soul men dressed in black suits, skinny ties, fedora hats and Rayban sunglasses, as a warm-up act before the telecasts of Il Saturday Night Live (1975). Building on the success of their acts and the release of their album A Briefcase Full of Blues, John and Dan Aykroyd starred in the movie, which gave John a chance to act with his favorite musical heroes including Ray Charles, James Brown and Aretha Franklin.Although John's reputation for being an off-screen party animal is legendary, his generous side is less well known. Using some of his money, he bought his father a ranch outside San Diego for him to live. John helped set up some of his Chicago friends with their own businesses and even financially helped his younger brother, Jim Belushi, who followed his older brother's path to both Second City and Il Saturday Night Live (1975).In 1981, John appeared in the movie Chiamami Aquila (1981), playing a hard-nosed Chicago newspaperman who finds romance in Colorado with eagle expert Blair Brown. That same year, John and Dan Aykroyd appeared again in the movie I vicini di casa (1981), which gave them a chance to reverse roles, with John playing a straight-arrow family man whose life is turned upside down when a wild family man (Aykroyd) moves in next door.In January 1982, John began work on the screenplay for another movie to be titled Noble Rot. Also, John had checked into a bungalow at the Chateau Marmont, a popular celebrity hotel in Los Angeles. John's drug use had been steadily increasing for over a year now, which alarmed his wife and friends, but he continued to promise Judy that he would quit someday. On March 5, 1982, John Belushi was found dead in his hotel room at the age of 33. The local coroner gave the cause of death as a lethal injection of cocaine and heroin. Several years later, John's drug dealing/drug user companion during his final weeks, Cathy Smith, was tried and sentenced to three years in prison for supplying John with the drugs. Close friend James Taylor sang That Lonesome Road at a memorial service at Martha's Vineyard cemetery where John was buried.",
         "January 24, 1949 in Chicago, Illinois, USA",
         "24.01.1949",
         "Chicago, Illinois, USA",
         "March 5, 1982 in Hollywood, Los Angeles, California, USA  (acute cocaine and heroin intoxication)",
         "05.03.1982",
         "Hollywood, Los Angeles, California, USA  ",
         "acute cocaine and heroin intoxication",
         "Judith Belushi-Pisano  (31 December 1976 - 5 March 1982) (his death)",
         1,
         0,
         0,
         0,
         1742662641,
         5.57742782152231,
         76
        ],
        [
         "nm0000005",
         "Ingmar Bergman",
         "Ernst Ingmar Bergman",
         179,
         "Ernst Ingmar Bergman was born July 14, 1918, the son of a priest. The film and T.V. series, Con le migliori intenzioni (1992) is biographical and shows the early marriage of his parents. The film 'Söndagsbarn' depicts a bicycle journey with his father. In the miniseries Conversazioni private (1996) is the trilogy closed. Here, as in 'Den Goda Viljan' Pernilla August play his mother. Note that all three movies are not always full true biographical stories. He began his career early with a puppet theatre which he, his sister and their friends played with. But he was the manager. Strictly professional he begun writing in 1941. He had written a play called 'Kaspers död' (A.K.A. 'Kaspers Death') which was produced the same year. It became his entrance into the movie business as Stina Bergman (not a close relative), from the company S.F. (Swedish Filmindustry), had seen the play and thought that there must be some dramatic talent in young Ingmar. His first job was to save other more famous writers' poor scripts. Under one of that script-saving works he remembered that he had written a novel about his last year as a student. He took the novel, did the save-poor-script job first, then wrote a screenplay on his own novel. When he went back to S.F., he delivered two scripts rather than one. The script was Spasimo (1944) and was the fist Bergman screenplay that was put into film (by Alf Sjöberg). It was also in that movie Bergman did his first professional film-director job. Because Alf Sjöberg was busy, Bergman got the order to shoot the last sequence of the film. Ingmar Bergman is the father of Daniel Bergman, director, and Mats Bergman, actor at the Swedish Royal Dramatic Theater. Ingmar Bergman was also C.E.O. of the same theatre between 1963-1966, where he hired almost every professional actor in Sweden. In 1976 he had a famous tax problem. Bergman had trusted other people to advise him on his finances, but it turned out to be very bad advice. Bergman had to leave the country immediately, and so he went to Germany. A few years later he returned to Sweden and made his last theatrical film Fanny & Alexander (1982) (A.K.A. 'Fanny and Alexander'). In later life he retired from movie directing, but still wrote scripts for film and T.V. and directed plays at the Swedish Royal Dramatic Theatre for many years. He died peacefully in his sleep on July 30, 2007.",
         "July 14, 1918 in Uppsala, Uppsala län, Sweden",
         "14.07.1918",
         "Uppsala, Uppsala län, Sweden",
         "July 30, 2007 in Fårö, Gotlands län, Sweden  (natural causes)",
         "30.07.2007",
         "Fårö, Gotlands län, Sweden  ",
         "natural causes",
         "Ingrid Bergman  (11 November 1971 - 20 May 1995) (her death) (1 child)Käbi Laretei  (1959 - 1969) (divorced) (1 child)Gun Grut  (1951 - 1959) (divorced) (1 child)Ellen Bergman  (22 July 1945 - 1950) (divorced) (4 children)Else Fisher  (25 March 1943 - 1945) (divorced) (1 child)",
         5,
         4,
         5,
         8,
         1742662641,
         5.8727034120734904,
         106
        ],
        [
         "nm0000006",
         "Ingrid Bergman",
         "Ingrid Bergman",
         178,
         "Ingrid Bergman was one of the greatest actresses from Hollywood's lamented Golden Era. Her natural and unpretentious beauty and her immense acting talent made her one of the most celebrated figures in the history of American cinema. Bergman is also one of the most Oscar-awarded actresses, tied with Meryl Streep, both second only to Katharine Hepburn.Ingrid Bergman was born on August 29, 1915 in Stockholm, Sweden, to a German mother, Frieda Henrietta (Adler), and a Swedish father, Justus Samuel Bergman, an artist and photographer. Her mother died when she was only two and her father died when she was 12. She went to live with an elderly uncle.The woman who would be one of the top stars in Hollywood in the 1940s had decided to become an actress after finishing her formal schooling. She had had a taste of acting at age 17 when she played an uncredited role of a girl standing in line in the Swedish film Landskamp (1932) in 1932 - not much of a beginning for a girl who would be known as Sweden's illustrious gift to Hollywood. Her parents died when she was just a girl and the uncle she lived with didn't want to stand in the way of Ingrid's dream. The next year she enrolled at the Royal Dramatic Theatre School in Stockholm but decided that stage acting was not for her. It would be three more years before she would have another chance at a film. When she did, it was more than just a bit part. The film in question was Munkbrogreven (1935), where she had a speaking part as Elsa Edlund. After several films that year that established her as a class actress, Ingrid appeared in La sposa scomparsa (1936) as Anita Hoffman. Luckily for her, American producer David O. Selznick saw it and sent a representative from Selznick International Pictures to gain rights to the story and have Ingrid signed to a contract. Once signed, she came to California and starred in United Artists' 1939 remake of her 1936 film, Intermezzo (1939), reprising her original role. The film was a hit and so was Ingrid.Her beauty was unlike anything the movie industry had seen before and her acting was superb. Hollywood was about to find out that they had the most versatile actress the industry had ever seen. Here was a woman who truly cared about the craft she represented. The public fell in love with her. Ingrid was under contract to go back to Sweden to film Solo una notte (1939) in 1939 and Juninatten (1940) in 1940. Back in the US she appeared in three films, all well-received. She made only one film in 1942, but it was the classic Casablanca (1942) opposite Humphrey Bogart.Ingrid was choosing her roles well. In 1943 she was nominated for an Academy Award for her role in Per chi suona la campana (1943), the only film she made that year. The critics and public didn't forget her when she made Angoscia (1944) the following year--her role of Paula Alquist got her the Oscar for Best Actress. In 1945 Ingrid played in Io ti salverò (1945), Saratoga (1945) and Le campane di Santa Maria (1945), for which she received her third Oscar nomination for her role of Sister Benedict. She made no films in 1947, but bounced back with a fourth nomination for Giovanna d'Arco (1948). In 1949 she went to Italy to film Stromboli (Terra di Dio) (1950), directed by Roberto Rossellini. She fell in love with him and left her husband, Dr. Peter Lindstrom, and daughter, Pia Lindström. America's moral guardians in the press and the pulpits were outraged. She was pregnant and decided to remain in Italy, where her son was born. In 1952 Ingrid had twins, Isotta and Isabella Rossellini, who became an outstanding actress in her own right, as did Pia.Ingrid continued to make films in Italy and finally returned to Hollywood in 1956 in the title role in Anastasia (1956), which was filmed in England. For this she won her second Academy Award. She had scarcely missed a beat. Ingrid continued to bounce between Europe and the US making movies, and fine ones at that. A film with Ingrid Bergman was sure to be a quality production. In her final big-screen performance in 1978's Sinfonia d'autunno (1978) she had her final Academy Award nomination. Though she didn't win, many felt it was the most sterling performance of her career. Ingrid retired, but not before she gave an outstanding performance in the mini-series Una donna di nome Golda (1982), a film about Israeli prime minister Golda Meir. For this she won an Emmy Award as Best Actress, but, unfortunately, she did not live to see the fruits of her labor.Ingrid died from cancer on August 29, 1982, her 67th birthday, in London, England.",
         "August 29, 1915 in Stockholm, Sweden",
         "29.08.1915",
         "Stockholm, Sweden",
         "August 29, 1982 in Chelsea, London, England, UK  (lymphoma complications following a breast cancer operation)",
         "29.08.1982",
         "Chelsea, London, England, UK  ",
         "lymphoma complications following a breast cancer operation",
         "Lars Schmidt  (21 December 1958 - 1978) (divorced)Roberto Rossellini  (24 May 1950 - 7 November 1957) (divorced) (3 children)Dr. Petter Aron Lindström  (10 July 1937 - 9 February 1950) (divorced) (1 child)",
         3,
         3,
         2,
         4,
         1742662641,
         5.83989501312336,
         109
        ],
        [
         "nm0000007",
         "Humphrey Bogart",
         "Humphrey DeForest Bogart",
         173,
         "Humphrey DeForest Bogart was born in New York City, New York, to Maud Humphrey, a famed magazine illustrator and suffragette, and Belmont DeForest Bogart, a moderately wealthy surgeon (who was secretly addicted to opium). Bogart was educated at Trinity School, NYC, and was sent to Phillips Academy in Andover, Massachusetts, in preparation for medical studies at Yale. He was expelled from Phillips and joined the U.S. Naval Reserve. From 1920 to 1922, he managed a stage company owned by family friend William A. Brady (the father of actress Alice Brady), performing a variety of tasks at Brady's film studio in New York. He then began regular stage performances. Alexander Woollcott described his acting in a 1922 play as inadequate. In 1930, he gained a contract with Fox, his feature film debut in a ten-minute short, Broadway's Like That (1930), co-starring Ruth Etting and Joan Blondell. Fox released him after two years. After five years of stage and minor film roles, he had his breakthrough role in La foresta pietrificata (1936) from Warner Bros. He won the part over Edward G. Robinson only after the star, Leslie Howard, threatened Warner Bros. that he would quit unless Bogart was given the key role of Duke Mantee, which he had played in the Broadway production with Howard. The film was a major success and led to a long-term contract with Warner Bros. From 1936 to 1940, Bogart appeared in 28 films, usually as a gangster, twice in Westerns and even a horror film. His landmark year was 1941 (often capitalizing on parts George Raft had stupidly rejected) with roles in classics such as Una pallottola per Roy (1941) and as Sam Spade in one of his most fondly remembered films, Il mistero del falco (1941). These were followed by Casablanca (1942), Il grande sonno (1946), and L'isola di corallo (1948). Bogart, despite his erratic education, was incredibly well-read and he favored writers and intellectuals within his small circle of friends. In 1947, he joined wife Lauren Bacall and other actors protesting the House Un-American Activities Committee witch hunts. He also formed his own production company, and the next year made Il tesoro della Sierra Madre (1948). Bogie won the best actor Academy Award for La regina d'Africa (1951) and was nominated for Casablanca (1942) and as Captain Queeg in L'ammutinamento del Caine (1954), a film made when he was already seriously ill. He died in his sleep at his Hollywood home following surgeries and a battle with throat cancer.",
         "December 25, 1899 in New York City, New York, USA",
         "1899-12-25",
         "New York City, New York, USA",
         "January 14, 1957 in Los Angeles, California, USA  (esophageal cancer)",
         "14.01.1957",
         "Los Angeles, California, USA  ",
         "esophageal cancer",
         "Lauren Bacall  (21 May 1945 - 14 January 1957) (his death) (2 children)Mayo Methot  (21 August 1938 - 10 May 1945) (divorced)Mary Philips  (3 April 1928 - 11 August 1938) (divorced)Helen Menken  (20 May 1926 - 18 November 1927) (divorced)",
         4,
         3,
         1,
         2,
         1742662641,
         5.675853018372703,
         125
        ],
        [
         "nm0000009",
         "Richard Burton",
         "Richard Walter Jenkins",
         178,
         "Probably best-remembered for his turbulent personal life with Elizabeth Taylor (whom he married twice), Richard Burton was nonetheless also regarded as an often brilliant British actor of the post-WWII period.Burton was born Richard Walter Jenkins in 1925 into a Welsh (Cymraeg)-speaking family in Pontrhydyfen to Edith Maude (Thomas) and Richard Walter Jenkins, a coal miner. The twelfth of thirteen children, his mother died while he was a toddler and his father later abandoned the family, leaving him to be raised by an elder sister, Cecilia. An avid fan of Shakespeare, poetry and reading, he once said home is where the books are. He received a scholarship to Oxford University to study acting and made his first stage appearance in 1944.His first film appearances were in routine British movies such as The Last Days of Dolwyn (1949), Tempesta a Liverpool (1950) and La quinta offensiva (1951). Then he started to appear in Hollywood movies such as Mia cugina Rachele (1952), La tunica (1953) and Alessandro il grande (1956), added to this he was also spending considerable time in stage productions, both in the UK and USA, often to splendid reviews. The late 1950s was an exciting and inventive time in UK cinema, often referred to as the British New Wave, and Burton was right in the thick of things, and showcased a sensational performance in I giovani arrabbiati (1959). He also appeared with a cavalcade of international stars in the World War II magnum opus Il giorno più lungo (1962), and then onto arguably his most notorious role as that of Marc Antony opposite Elizabeth Taylor in the hugely expensive Cleopatra (1963). This was, of course, the film that kick-started their fiery and passionate romance (plus two marriages), and the two of them appeared in several productions over the next few years including International Hotel (1963), Castelli di sabbia (1965), the dynamic Chi ha paura di Virginia Woolf? (1966) and La bisbetica domata (1967), as well as box office flops like I commedianti (1967). Burton did better when he was off on his own giving higher caliber performances, such as those in Becket e il suo re (1964), the film adaptation of the Tennessee Williams play La notte dell'iguana (1964), the brilliant espionage thriller La spia che venne dal freddo (1965) and alongside Clint Eastwood in the World War II action adventure film Dove osano le aquile (1968).His audience appeal began to decline somewhat by the end of the 1960s as fans turned to younger, more virile male stars, however Burton was superb in Anna dei mille giorni (1969) as King Henry VIII, he put on a reasonable show in the boring Attacco a Rommel (1971), was over the top in the awful Il mascalzone (1971), gave sleepwalking performances in Una faccia di c... (1972) and Barbablù (1972), and was wildly miscast in the ludicrous L'assassinio di Trotsky (1972).By the early 1970s, quality male lead roles were definitely going to other stars, and Burton found himself appearing in some movies of dubious quality, just to pay the bills and support family, including Divorzia lui divorzia lei (1973) (his last on-screen appearance with Taylor), L'uomo del clan (1974), Breve incontro (1974), Jackpot (1974) (which was never completed) and L'esorcista II - L'eretico (1977). However, he won another Oscar nomination for his excellent performance as a concerned psychiatrist in Equus (1977). He appeared with fellow acting icons Richard Harris and Roger Moore in I 4 dell'oca selvaggia (1978) about mercenaries in South Africa. While the film had a modest initial run, over the past thirty-five years it has picked up quite a cult following. His final performances were as the wily inquisitor O'Brien in the most recent film version of George Orwell's dystopian Orwell 1984 (1984), in which he won good reviews, and in the TV mini series Ellis Island (1984). He passed away on August 5, 1984 in Celigny, Switzerland from a cerebral hemorrhage.",
         "November 10, 1925 in Pontrhydyfen, Wales, UK",
         "10.11.1925",
         "Pontrhydyfen, Wales, UK",
         "August 5, 1984 in Céligny, Geneva, Switzerland  (cerebral hemorrhage)",
         "05.08.1984",
         "Céligny, Geneva, Switzerland  ",
         "cerebral hemorrhage",
         "Sally Burton  (3 July 1983 - 5 August 1984) (his death)Susan Hunt  (21 August 1976 - 27 February 1983) (divorced)Elizabeth Taylor  (10 October 1975 - 29 July 1976) (divorced)Elizabeth Taylor  (15 March 1964 - 26 June 1974) (divorced) (1 child)Sybil Williams  (5 February 1949 - 5 December 1963) (divorced) (2 children)",
         5,
         4,
         2,
         3,
         1742662641,
         5.83989501312336,
         99
        ],
        [
         "nm0000010",
         "James Cagney",
         "James Francis Cagney",
         165,
         "One of Hollywood's preeminent male stars of all time, James Cagney was also an accomplished dancer and easily played light comedy. James Francis Cagney was born on the Lower East Side of Manhattan in New York City, to Carolyn (Nelson) and James Francis Cagney, Sr., who was a bartender and amateur boxer. Cagney was of Norwegian (from his maternal grandfather) and Irish descent. Ending three decades on the screen, he retired to his farm in Stanfordville, New York (some 77 miles/124 km. north of his New York City birthplace), after starring in Billy Wilder's Uno, due, tre! (1961). He emerged from retirement to star in the 1981 screen adaptation of E.L. Doctorow's novel Ragtime (Ragtime (1981)), in which he was reunited with his frequent co-star of the 1930s, Pat O'Brien, and which was his last theatrical film and O'Brien's as well). Cagney's final performance came in the title role of the made-for-TV movie Terrible Joe Moran (1984), in which he played opposite Art Carney.",
         "July 17, 1899 in New York City, New York, USA",
         "1899-07-17",
         "New York City, New York, USA",
         "March 30, 1986 in Stanfordville, New York, USA  (heart attack following illness from diabetes)",
         "30.03.1986",
         "Stanfordville, New York, USA  ",
         "heart attack following illness from diabetes",
         "Frances Cagney  (28 September 1922 - 30 March 1986) (his death) (2 children)",
         1,
         0,
         1,
         2,
         1742662641,
         5.413385826771653,
         125
        ],
        [
         "nm0000011",
         "Gary Cooper",
         "Frank James Cooper",
         191,
         "Born to Alice Cooper and Charles Cooper. Gary attended school at Dunstable school England, Helena Montana and Grinnell College, Grinnell, Iowa (then called Iowa College). His first stage experience was during high school and college. Afterwards, he worked as an extra for one year before getting a part in a two-reeler by the independent producer Hans Tiesler . Eileen Sedgwick was his first leading lady. He then appeared in Fiore del deserto (1926) for United Artists before moving to Paramount. While there he appeared in a small part in Ali (1927), Cosetta (1927), and other films.",
         "May 7, 1901 in Helena, Montana, USA",
         "07.05.1901",
         "Helena, Montana, USA",
         "May 13, 1961 in Beverly Hills, Los Angeles, California, USA  (prostate cancer)",
         "13.05.1961",
         "Beverly Hills, Los Angeles, California, USA  ",
         "prostate cancer",
         "Sandra Shaw  (15 December 1933 - 13 May 1961) (his death) (1 child)",
         1,
         0,
         1,
         1,
         1742662641,
         6.266404199475065,
         123
        ]
       ],
       "datasetInfos": [],
       "dbfsResultPath": null,
       "isJsonSchema": true,
       "metadata": {},
       "overflow": false,
       "plotOptions": {
        "customPlotOptions": {},
        "displayType": "table",
        "pivotAggregation": null,
        "pivotColumns": null,
        "xColumns": null,
        "yColumns": null
       },
       "removedWidgets": [],
       "schema": [
        {
         "metadata": "{}",
         "name": "imdb_name_id",
         "type": "\"string\""
        },
        {
         "metadata": "{}",
         "name": "name",
         "type": "\"string\""
        },
        {
         "metadata": "{}",
         "name": "birth_name",
         "type": "\"string\""
        },
        {
         "metadata": "{}",
         "name": "height",
         "type": "\"integer\""
        },
        {
         "metadata": "{}",
         "name": "bio",
         "type": "\"string\""
        },
        {
         "metadata": "{}",
         "name": "birth_details",
         "type": "\"string\""
        },
        {
         "metadata": "{}",
         "name": "date_of_birth",
         "type": "\"string\""
        },
        {
         "metadata": "{}",
         "name": "place_of_birth",
         "type": "\"string\""
        },
        {
         "metadata": "{}",
         "name": "death_details",
         "type": "\"string\""
        },
        {
         "metadata": "{}",
         "name": "date_of_death",
         "type": "\"string\""
        },
        {
         "metadata": "{}",
         "name": "place_of_death",
         "type": "\"string\""
        },
        {
         "metadata": "{}",
         "name": "reason_of_death",
         "type": "\"string\""
        },
        {
         "metadata": "{}",
         "name": "spouses_string",
         "type": "\"string\""
        },
        {
         "metadata": "{}",
         "name": "spouses",
         "type": "\"integer\""
        },
        {
         "metadata": "{}",
         "name": "divorces",
         "type": "\"integer\""
        },
        {
         "metadata": "{}",
         "name": "spouses_with_children",
         "type": "\"integer\""
        },
        {
         "metadata": "{}",
         "name": "children",
         "type": "\"integer\""
        },
        {
         "metadata": "{}",
         "name": "notebook_epoch_time_names",
         "type": "\"long\""
        },
        {
         "metadata": "{}",
         "name": "height_in_feet",
         "type": "\"double\""
        },
        {
         "metadata": "{}",
         "name": "age",
         "type": "\"long\""
        }
       ],
       "type": "table"
      }
     },
     "output_type": "display_data"
    },
    {
     "output_type": "stream",
     "name": "stdout",
     "output_type": "stream",
     "text": [
      "== Physical Plan ==\n*(1) Project [imdb_name_id#11128, name#11129, birth_name#11130, height#11131, bio#11132, birth_details#11133, date_of_birth#11134, place_of_birth#11135, death_details#11136, date_of_death#11137, place_of_death#11138, reason_of_death#11139, spouses_string#11140, spouses#11141, divorces#11142, spouses_with_children#11143, children#11144, 1742662641 AS notebook_epoch_time_names#11214L, ((cast(height#11131 as double) / 2.54) / 12.0) AS height_in_feet#11288, FLOOR((cast(datediff(2025-03-22, cast(gettimestamp(regexp_replace(date_of_birth#11134, (\\d{2}).(\\d{2}).(\\d{4}), $3-$2-$1, 1), yyyy-MM-dd, TimestampType, Some(Etc/UTC), false) as date)) as double) / 365.25)) AS age#11398L]\n+- FileScan csv [imdb_name_id#11128,name#11129,birth_name#11130,height#11131,bio#11132,birth_details#11133,date_of_birth#11134,place_of_birth#11135,death_details#11136,date_of_death#11137,place_of_death#11138,reason_of_death#11139,spouses_string#11140,spouses#11141,divorces#11142,spouses_with_children#11143,children#11144] Batched: false, DataFilters: [], Format: CSV, Location: InMemoryFileIndex(1 paths)[dbfs:/FileStore/tables/Files/names.csv], PartitionFilters: [], PushedFilters: [], ReadSchema: struct<imdb_name_id:string,name:string,birth_name:string,height:int,bio:string,birth_details:stri...\n\n\n"
     ]
    }
   ],
   "source": [
    "namesWithAge = namesWithFeet.withColumn(\"age\",\n",
    "  floor(\n",
    "    datediff(\n",
    "      current_date(),\n",
    "      to_date(\n",
    "        regexp_replace(col(\"date_of_birth\"), \"(\\\\d{2}).(\\\\d{2}).(\\\\d{4})\", \"$3-$2-$1\"),\n",
    "        \"yyyy-MM-dd\"\n",
    "      )\n",
    "    ) / 365.25\n",
    "  )\n",
    ")\n",
    "\n",
    "display(namesWithAge.limit(10))\n",
    "namesWithAge.explain()"
   ]
  },
  {
   "cell_type": "markdown",
   "metadata": {
    "application/vnd.databricks.v1+cell": {
     "cellMetadata": {
      "byteLimit": 2048000,
      "rowLimit": 10000
     },
     "inputWidgets": {},
     "nuid": "faceda3b-f4ef-44fc-bdd7-d7dab1c71e80",
     "showTitle": false,
     "tableResultSettingsMap": {},
     "title": ""
    }
   },
   "source": [
    "1.5 Usuń kolumny (bio, death_details)"
   ]
  },
  {
   "cell_type": "code",
   "execution_count": 0,
   "metadata": {
    "application/vnd.databricks.v1+cell": {
     "cellMetadata": {
      "byteLimit": 2048000,
      "rowLimit": 10000
     },
     "inputWidgets": {},
     "nuid": "479b7038-4552-48fe-add1-90ed6cd4d135",
     "showTitle": false,
     "tableResultSettingsMap": {},
     "title": ""
    }
   },
   "outputs": [
    {
     "output_type": "display_data",
     "data": {
      "text/html": [
       "<style scoped>\n",
       "  .table-result-container {\n",
       "    max-height: 300px;\n",
       "    overflow: auto;\n",
       "  }\n",
       "  table, th, td {\n",
       "    border: 1px solid black;\n",
       "    border-collapse: collapse;\n",
       "  }\n",
       "  th, td {\n",
       "    padding: 5px;\n",
       "  }\n",
       "  th {\n",
       "    text-align: left;\n",
       "  }\n",
       "</style><div class='table-result-container'><table class='table-result'><thead style='background-color: white'><tr><th>imdb_name_id</th><th>name</th><th>birth_name</th><th>height</th><th>birth_details</th><th>date_of_birth</th><th>place_of_birth</th><th>date_of_death</th><th>place_of_death</th><th>reason_of_death</th><th>spouses_string</th><th>spouses</th><th>divorces</th><th>spouses_with_children</th><th>children</th><th>notebook_epoch_time_names</th><th>height_in_feet</th><th>age</th></tr></thead><tbody><tr><td>nm0000001</td><td>Fred Astaire</td><td>Frederic Austerlitz Jr.</td><td>177</td><td>May 10, 1899 in Omaha, Nebraska, USA</td><td>1899-05-10</td><td>Omaha, Nebraska, USA</td><td>22.06.1987</td><td>Los Angeles, California, USA  </td><td>pneumonia</td><td>Robyn Smith  (27 June 1980 - 22 June 1987) (his death)Phyllis Livingston Potter  (12 July 1933 - 13 September 1954) (her death) (2 children)</td><td>2</td><td>0</td><td>1</td><td>2</td><td>1742662641</td><td>5.807086614173229</td><td>125</td></tr><tr><td>nm0000002</td><td>Lauren Bacall</td><td>Betty Joan Perske</td><td>174</td><td>September 16, 1924 in The Bronx, New York City, New York, USA</td><td>16.09.1924</td><td>The Bronx, New York City, New York, USA</td><td>12.08.2014</td><td>New York City, New York, USA  </td><td>stroke</td><td>Jason Robards  (4 July 1961 - 10 September 1969) (divorced) (1 child)Humphrey Bogart  (21 May 1945 - 14 January 1957) (his death) (2 children)</td><td>2</td><td>1</td><td>2</td><td>3</td><td>1742662641</td><td>5.708661417322834</td><td>100</td></tr><tr><td>nm0000003</td><td>Brigitte Bardot</td><td>Brigitte Bardot</td><td>166</td><td>September 28, 1934 in Paris, France</td><td>28.09.1934</td><td>Paris, France</td><td>null</td><td>null</td><td>null</td><td>Bernard d'Ormale  (16 August 1992 - present)Gunter Sachs  (14 July 1966 - 3 July 1969) (divorced)Jacques Charrier  (18 June 1959 - 20 November 1962) (divorced) (1 child)Roger Vadim  (20 December 1952 - 6 December 1957) (divorced)</td><td>4</td><td>3</td><td>1</td><td>1</td><td>1742662641</td><td>5.4461942257217855</td><td>90</td></tr><tr><td>nm0000004</td><td>John Belushi</td><td>John Adam Belushi</td><td>170</td><td>January 24, 1949 in Chicago, Illinois, USA</td><td>24.01.1949</td><td>Chicago, Illinois, USA</td><td>05.03.1982</td><td>Hollywood, Los Angeles, California, USA  </td><td>acute cocaine and heroin intoxication</td><td>Judith Belushi-Pisano  (31 December 1976 - 5 March 1982) (his death)</td><td>1</td><td>0</td><td>0</td><td>0</td><td>1742662641</td><td>5.57742782152231</td><td>76</td></tr><tr><td>nm0000005</td><td>Ingmar Bergman</td><td>Ernst Ingmar Bergman</td><td>179</td><td>July 14, 1918 in Uppsala, Uppsala län, Sweden</td><td>14.07.1918</td><td>Uppsala, Uppsala län, Sweden</td><td>30.07.2007</td><td>Fårö, Gotlands län, Sweden  </td><td>natural causes</td><td>Ingrid Bergman  (11 November 1971 - 20 May 1995) (her death) (1 child)Käbi Laretei  (1959 - 1969) (divorced) (1 child)Gun Grut  (1951 - 1959) (divorced) (1 child)Ellen Bergman  (22 July 1945 - 1950) (divorced) (4 children)Else Fisher  (25 March 1943 - 1945) (divorced) (1 child)</td><td>5</td><td>4</td><td>5</td><td>8</td><td>1742662641</td><td>5.8727034120734904</td><td>106</td></tr><tr><td>nm0000006</td><td>Ingrid Bergman</td><td>Ingrid Bergman</td><td>178</td><td>August 29, 1915 in Stockholm, Sweden</td><td>29.08.1915</td><td>Stockholm, Sweden</td><td>29.08.1982</td><td>Chelsea, London, England, UK  </td><td>lymphoma complications following a breast cancer operation</td><td>Lars Schmidt  (21 December 1958 - 1978) (divorced)Roberto Rossellini  (24 May 1950 - 7 November 1957) (divorced) (3 children)Dr. Petter Aron Lindström  (10 July 1937 - 9 February 1950) (divorced) (1 child)</td><td>3</td><td>3</td><td>2</td><td>4</td><td>1742662641</td><td>5.83989501312336</td><td>109</td></tr><tr><td>nm0000007</td><td>Humphrey Bogart</td><td>Humphrey DeForest Bogart</td><td>173</td><td>December 25, 1899 in New York City, New York, USA</td><td>1899-12-25</td><td>New York City, New York, USA</td><td>14.01.1957</td><td>Los Angeles, California, USA  </td><td>esophageal cancer</td><td>Lauren Bacall  (21 May 1945 - 14 January 1957) (his death) (2 children)Mayo Methot  (21 August 1938 - 10 May 1945) (divorced)Mary Philips  (3 April 1928 - 11 August 1938) (divorced)Helen Menken  (20 May 1926 - 18 November 1927) (divorced)</td><td>4</td><td>3</td><td>1</td><td>2</td><td>1742662641</td><td>5.675853018372703</td><td>125</td></tr><tr><td>nm0000009</td><td>Richard Burton</td><td>Richard Walter Jenkins</td><td>178</td><td>November 10, 1925 in Pontrhydyfen, Wales, UK</td><td>10.11.1925</td><td>Pontrhydyfen, Wales, UK</td><td>05.08.1984</td><td>Céligny, Geneva, Switzerland  </td><td>cerebral hemorrhage</td><td>Sally Burton  (3 July 1983 - 5 August 1984) (his death)Susan Hunt  (21 August 1976 - 27 February 1983) (divorced)Elizabeth Taylor  (10 October 1975 - 29 July 1976) (divorced)Elizabeth Taylor  (15 March 1964 - 26 June 1974) (divorced) (1 child)Sybil Williams  (5 February 1949 - 5 December 1963) (divorced) (2 children)</td><td>5</td><td>4</td><td>2</td><td>3</td><td>1742662641</td><td>5.83989501312336</td><td>99</td></tr><tr><td>nm0000010</td><td>James Cagney</td><td>James Francis Cagney</td><td>165</td><td>July 17, 1899 in New York City, New York, USA</td><td>1899-07-17</td><td>New York City, New York, USA</td><td>30.03.1986</td><td>Stanfordville, New York, USA  </td><td>heart attack following illness from diabetes</td><td>Frances Cagney  (28 September 1922 - 30 March 1986) (his death) (2 children)</td><td>1</td><td>0</td><td>1</td><td>2</td><td>1742662641</td><td>5.413385826771653</td><td>125</td></tr><tr><td>nm0000011</td><td>Gary Cooper</td><td>Frank James Cooper</td><td>191</td><td>May 7, 1901 in Helena, Montana, USA</td><td>07.05.1901</td><td>Helena, Montana, USA</td><td>13.05.1961</td><td>Beverly Hills, Los Angeles, California, USA  </td><td>prostate cancer</td><td>Sandra Shaw  (15 December 1933 - 13 May 1961) (his death) (1 child)</td><td>1</td><td>0</td><td>1</td><td>1</td><td>1742662641</td><td>6.266404199475065</td><td>123</td></tr></tbody></table></div>"
      ]
     },
     "metadata": {
      "application/vnd.databricks.v1+output": {
       "addedWidgets": {},
       "aggData": [],
       "aggError": "",
       "aggOverflow": false,
       "aggSchema": [],
       "aggSeriesLimitReached": false,
       "aggType": "",
       "arguments": {},
       "columnCustomDisplayInfos": {},
       "data": [
        [
         "nm0000001",
         "Fred Astaire",
         "Frederic Austerlitz Jr.",
         177,
         "May 10, 1899 in Omaha, Nebraska, USA",
         "1899-05-10",
         "Omaha, Nebraska, USA",
         "22.06.1987",
         "Los Angeles, California, USA  ",
         "pneumonia",
         "Robyn Smith  (27 June 1980 - 22 June 1987) (his death)Phyllis Livingston Potter  (12 July 1933 - 13 September 1954) (her death) (2 children)",
         2,
         0,
         1,
         2,
         1742662641,
         5.807086614173229,
         125
        ],
        [
         "nm0000002",
         "Lauren Bacall",
         "Betty Joan Perske",
         174,
         "September 16, 1924 in The Bronx, New York City, New York, USA",
         "16.09.1924",
         "The Bronx, New York City, New York, USA",
         "12.08.2014",
         "New York City, New York, USA  ",
         "stroke",
         "Jason Robards  (4 July 1961 - 10 September 1969) (divorced) (1 child)Humphrey Bogart  (21 May 1945 - 14 January 1957) (his death) (2 children)",
         2,
         1,
         2,
         3,
         1742662641,
         5.708661417322834,
         100
        ],
        [
         "nm0000003",
         "Brigitte Bardot",
         "Brigitte Bardot",
         166,
         "September 28, 1934 in Paris, France",
         "28.09.1934",
         "Paris, France",
         null,
         null,
         null,
         "Bernard d'Ormale  (16 August 1992 - present)Gunter Sachs  (14 July 1966 - 3 July 1969) (divorced)Jacques Charrier  (18 June 1959 - 20 November 1962) (divorced) (1 child)Roger Vadim  (20 December 1952 - 6 December 1957) (divorced)",
         4,
         3,
         1,
         1,
         1742662641,
         5.4461942257217855,
         90
        ],
        [
         "nm0000004",
         "John Belushi",
         "John Adam Belushi",
         170,
         "January 24, 1949 in Chicago, Illinois, USA",
         "24.01.1949",
         "Chicago, Illinois, USA",
         "05.03.1982",
         "Hollywood, Los Angeles, California, USA  ",
         "acute cocaine and heroin intoxication",
         "Judith Belushi-Pisano  (31 December 1976 - 5 March 1982) (his death)",
         1,
         0,
         0,
         0,
         1742662641,
         5.57742782152231,
         76
        ],
        [
         "nm0000005",
         "Ingmar Bergman",
         "Ernst Ingmar Bergman",
         179,
         "July 14, 1918 in Uppsala, Uppsala län, Sweden",
         "14.07.1918",
         "Uppsala, Uppsala län, Sweden",
         "30.07.2007",
         "Fårö, Gotlands län, Sweden  ",
         "natural causes",
         "Ingrid Bergman  (11 November 1971 - 20 May 1995) (her death) (1 child)Käbi Laretei  (1959 - 1969) (divorced) (1 child)Gun Grut  (1951 - 1959) (divorced) (1 child)Ellen Bergman  (22 July 1945 - 1950) (divorced) (4 children)Else Fisher  (25 March 1943 - 1945) (divorced) (1 child)",
         5,
         4,
         5,
         8,
         1742662641,
         5.8727034120734904,
         106
        ],
        [
         "nm0000006",
         "Ingrid Bergman",
         "Ingrid Bergman",
         178,
         "August 29, 1915 in Stockholm, Sweden",
         "29.08.1915",
         "Stockholm, Sweden",
         "29.08.1982",
         "Chelsea, London, England, UK  ",
         "lymphoma complications following a breast cancer operation",
         "Lars Schmidt  (21 December 1958 - 1978) (divorced)Roberto Rossellini  (24 May 1950 - 7 November 1957) (divorced) (3 children)Dr. Petter Aron Lindström  (10 July 1937 - 9 February 1950) (divorced) (1 child)",
         3,
         3,
         2,
         4,
         1742662641,
         5.83989501312336,
         109
        ],
        [
         "nm0000007",
         "Humphrey Bogart",
         "Humphrey DeForest Bogart",
         173,
         "December 25, 1899 in New York City, New York, USA",
         "1899-12-25",
         "New York City, New York, USA",
         "14.01.1957",
         "Los Angeles, California, USA  ",
         "esophageal cancer",
         "Lauren Bacall  (21 May 1945 - 14 January 1957) (his death) (2 children)Mayo Methot  (21 August 1938 - 10 May 1945) (divorced)Mary Philips  (3 April 1928 - 11 August 1938) (divorced)Helen Menken  (20 May 1926 - 18 November 1927) (divorced)",
         4,
         3,
         1,
         2,
         1742662641,
         5.675853018372703,
         125
        ],
        [
         "nm0000009",
         "Richard Burton",
         "Richard Walter Jenkins",
         178,
         "November 10, 1925 in Pontrhydyfen, Wales, UK",
         "10.11.1925",
         "Pontrhydyfen, Wales, UK",
         "05.08.1984",
         "Céligny, Geneva, Switzerland  ",
         "cerebral hemorrhage",
         "Sally Burton  (3 July 1983 - 5 August 1984) (his death)Susan Hunt  (21 August 1976 - 27 February 1983) (divorced)Elizabeth Taylor  (10 October 1975 - 29 July 1976) (divorced)Elizabeth Taylor  (15 March 1964 - 26 June 1974) (divorced) (1 child)Sybil Williams  (5 February 1949 - 5 December 1963) (divorced) (2 children)",
         5,
         4,
         2,
         3,
         1742662641,
         5.83989501312336,
         99
        ],
        [
         "nm0000010",
         "James Cagney",
         "James Francis Cagney",
         165,
         "July 17, 1899 in New York City, New York, USA",
         "1899-07-17",
         "New York City, New York, USA",
         "30.03.1986",
         "Stanfordville, New York, USA  ",
         "heart attack following illness from diabetes",
         "Frances Cagney  (28 September 1922 - 30 March 1986) (his death) (2 children)",
         1,
         0,
         1,
         2,
         1742662641,
         5.413385826771653,
         125
        ],
        [
         "nm0000011",
         "Gary Cooper",
         "Frank James Cooper",
         191,
         "May 7, 1901 in Helena, Montana, USA",
         "07.05.1901",
         "Helena, Montana, USA",
         "13.05.1961",
         "Beverly Hills, Los Angeles, California, USA  ",
         "prostate cancer",
         "Sandra Shaw  (15 December 1933 - 13 May 1961) (his death) (1 child)",
         1,
         0,
         1,
         1,
         1742662641,
         6.266404199475065,
         123
        ]
       ],
       "datasetInfos": [],
       "dbfsResultPath": null,
       "isJsonSchema": true,
       "metadata": {},
       "overflow": false,
       "plotOptions": {
        "customPlotOptions": {},
        "displayType": "table",
        "pivotAggregation": null,
        "pivotColumns": null,
        "xColumns": null,
        "yColumns": null
       },
       "removedWidgets": [],
       "schema": [
        {
         "metadata": "{}",
         "name": "imdb_name_id",
         "type": "\"string\""
        },
        {
         "metadata": "{}",
         "name": "name",
         "type": "\"string\""
        },
        {
         "metadata": "{}",
         "name": "birth_name",
         "type": "\"string\""
        },
        {
         "metadata": "{}",
         "name": "height",
         "type": "\"integer\""
        },
        {
         "metadata": "{}",
         "name": "birth_details",
         "type": "\"string\""
        },
        {
         "metadata": "{}",
         "name": "date_of_birth",
         "type": "\"string\""
        },
        {
         "metadata": "{}",
         "name": "place_of_birth",
         "type": "\"string\""
        },
        {
         "metadata": "{}",
         "name": "date_of_death",
         "type": "\"string\""
        },
        {
         "metadata": "{}",
         "name": "place_of_death",
         "type": "\"string\""
        },
        {
         "metadata": "{}",
         "name": "reason_of_death",
         "type": "\"string\""
        },
        {
         "metadata": "{}",
         "name": "spouses_string",
         "type": "\"string\""
        },
        {
         "metadata": "{}",
         "name": "spouses",
         "type": "\"integer\""
        },
        {
         "metadata": "{}",
         "name": "divorces",
         "type": "\"integer\""
        },
        {
         "metadata": "{}",
         "name": "spouses_with_children",
         "type": "\"integer\""
        },
        {
         "metadata": "{}",
         "name": "children",
         "type": "\"integer\""
        },
        {
         "metadata": "{}",
         "name": "notebook_epoch_time_names",
         "type": "\"long\""
        },
        {
         "metadata": "{}",
         "name": "height_in_feet",
         "type": "\"double\""
        },
        {
         "metadata": "{}",
         "name": "age",
         "type": "\"long\""
        }
       ],
       "type": "table"
      }
     },
     "output_type": "display_data"
    },
    {
     "output_type": "stream",
     "name": "stdout",
     "output_type": "stream",
     "text": [
      "== Physical Plan ==\n*(1) Project [imdb_name_id#11128, name#11129, birth_name#11130, height#11131, birth_details#11133, date_of_birth#11134, place_of_birth#11135, date_of_death#11137, place_of_death#11138, reason_of_death#11139, spouses_string#11140, spouses#11141, divorces#11142, spouses_with_children#11143, children#11144, 1742662642 AS notebook_epoch_time_names#11214L, ((cast(height#11131 as double) / 2.54) / 12.0) AS height_in_feet#11288, FLOOR((cast(datediff(2025-03-22, cast(gettimestamp(regexp_replace(date_of_birth#11134, (\\d{2}).(\\d{2}).(\\d{4}), $3-$2-$1, 1), yyyy-MM-dd, TimestampType, Some(Etc/UTC), false) as date)) as double) / 365.25)) AS age#11398L]\n+- FileScan csv [imdb_name_id#11128,name#11129,birth_name#11130,height#11131,birth_details#11133,date_of_birth#11134,place_of_birth#11135,date_of_death#11137,place_of_death#11138,reason_of_death#11139,spouses_string#11140,spouses#11141,divorces#11142,spouses_with_children#11143,children#11144] Batched: false, DataFilters: [], Format: CSV, Location: InMemoryFileIndex(1 paths)[dbfs:/FileStore/tables/Files/names.csv], PartitionFilters: [], PushedFilters: [], ReadSchema: struct<imdb_name_id:string,name:string,birth_name:string,height:int,birth_details:string,date_of_...\n\n\n"
     ]
    }
   ],
   "source": [
    "namesWithoutBioAndDeathDetails = namesWithAge.drop(\"bio\", \"death_details\")\n",
    "display(namesWithoutBioAndDeathDetails.limit(10))\n",
    "namesWithoutBioAndDeathDetails.explain()"
   ]
  },
  {
   "cell_type": "markdown",
   "metadata": {
    "application/vnd.databricks.v1+cell": {
     "cellMetadata": {
      "byteLimit": 2048000,
      "rowLimit": 10000
     },
     "inputWidgets": {},
     "nuid": "b4a1fc59-bdcc-4aea-829c-0edb7f20c520",
     "showTitle": false,
     "tableResultSettingsMap": {},
     "title": ""
    }
   },
   "source": [
    "1.6 Zmień nazwy kolumn - dodaj kapitalizaję i usuń _"
   ]
  },
  {
   "cell_type": "code",
   "execution_count": 0,
   "metadata": {
    "application/vnd.databricks.v1+cell": {
     "cellMetadata": {
      "byteLimit": 2048000,
      "rowLimit": 10000
     },
     "inputWidgets": {},
     "nuid": "0d868077-167c-42f8-bfc6-b4229ec3e22d",
     "showTitle": false,
     "tableResultSettingsMap": {},
     "title": ""
    }
   },
   "outputs": [
    {
     "output_type": "display_data",
     "data": {
      "text/html": [
       "<style scoped>\n",
       "  .table-result-container {\n",
       "    max-height: 300px;\n",
       "    overflow: auto;\n",
       "  }\n",
       "  table, th, td {\n",
       "    border: 1px solid black;\n",
       "    border-collapse: collapse;\n",
       "  }\n",
       "  th, td {\n",
       "    padding: 5px;\n",
       "  }\n",
       "  th {\n",
       "    text-align: left;\n",
       "  }\n",
       "</style><div class='table-result-container'><table class='table-result'><thead style='background-color: white'><tr><th>ImdbNameId</th><th>Name</th><th>BirthName</th><th>Height</th><th>BirthDetails</th><th>DateOfBirth</th><th>PlaceOfBirth</th><th>DateOfDeath</th><th>PlaceOfDeath</th><th>ReasonOfDeath</th><th>SpousesString</th><th>Spouses</th><th>Divorces</th><th>SpousesWithChildren</th><th>Children</th><th>NotebookEpochTimeNames</th><th>HeightInFeet</th><th>Age</th></tr></thead><tbody><tr><td>nm0000001</td><td>Fred Astaire</td><td>Frederic Austerlitz Jr.</td><td>177</td><td>May 10, 1899 in Omaha, Nebraska, USA</td><td>1899-05-10</td><td>Omaha, Nebraska, USA</td><td>22.06.1987</td><td>Los Angeles, California, USA  </td><td>pneumonia</td><td>Robyn Smith  (27 June 1980 - 22 June 1987) (his death)Phyllis Livingston Potter  (12 July 1933 - 13 September 1954) (her death) (2 children)</td><td>2</td><td>0</td><td>1</td><td>2</td><td>1742662642</td><td>5.807086614173229</td><td>125</td></tr><tr><td>nm0000002</td><td>Lauren Bacall</td><td>Betty Joan Perske</td><td>174</td><td>September 16, 1924 in The Bronx, New York City, New York, USA</td><td>16.09.1924</td><td>The Bronx, New York City, New York, USA</td><td>12.08.2014</td><td>New York City, New York, USA  </td><td>stroke</td><td>Jason Robards  (4 July 1961 - 10 September 1969) (divorced) (1 child)Humphrey Bogart  (21 May 1945 - 14 January 1957) (his death) (2 children)</td><td>2</td><td>1</td><td>2</td><td>3</td><td>1742662642</td><td>5.708661417322834</td><td>100</td></tr><tr><td>nm0000003</td><td>Brigitte Bardot</td><td>Brigitte Bardot</td><td>166</td><td>September 28, 1934 in Paris, France</td><td>28.09.1934</td><td>Paris, France</td><td>null</td><td>null</td><td>null</td><td>Bernard d'Ormale  (16 August 1992 - present)Gunter Sachs  (14 July 1966 - 3 July 1969) (divorced)Jacques Charrier  (18 June 1959 - 20 November 1962) (divorced) (1 child)Roger Vadim  (20 December 1952 - 6 December 1957) (divorced)</td><td>4</td><td>3</td><td>1</td><td>1</td><td>1742662642</td><td>5.4461942257217855</td><td>90</td></tr><tr><td>nm0000004</td><td>John Belushi</td><td>John Adam Belushi</td><td>170</td><td>January 24, 1949 in Chicago, Illinois, USA</td><td>24.01.1949</td><td>Chicago, Illinois, USA</td><td>05.03.1982</td><td>Hollywood, Los Angeles, California, USA  </td><td>acute cocaine and heroin intoxication</td><td>Judith Belushi-Pisano  (31 December 1976 - 5 March 1982) (his death)</td><td>1</td><td>0</td><td>0</td><td>0</td><td>1742662642</td><td>5.57742782152231</td><td>76</td></tr><tr><td>nm0000005</td><td>Ingmar Bergman</td><td>Ernst Ingmar Bergman</td><td>179</td><td>July 14, 1918 in Uppsala, Uppsala län, Sweden</td><td>14.07.1918</td><td>Uppsala, Uppsala län, Sweden</td><td>30.07.2007</td><td>Fårö, Gotlands län, Sweden  </td><td>natural causes</td><td>Ingrid Bergman  (11 November 1971 - 20 May 1995) (her death) (1 child)Käbi Laretei  (1959 - 1969) (divorced) (1 child)Gun Grut  (1951 - 1959) (divorced) (1 child)Ellen Bergman  (22 July 1945 - 1950) (divorced) (4 children)Else Fisher  (25 March 1943 - 1945) (divorced) (1 child)</td><td>5</td><td>4</td><td>5</td><td>8</td><td>1742662642</td><td>5.8727034120734904</td><td>106</td></tr><tr><td>nm0000006</td><td>Ingrid Bergman</td><td>Ingrid Bergman</td><td>178</td><td>August 29, 1915 in Stockholm, Sweden</td><td>29.08.1915</td><td>Stockholm, Sweden</td><td>29.08.1982</td><td>Chelsea, London, England, UK  </td><td>lymphoma complications following a breast cancer operation</td><td>Lars Schmidt  (21 December 1958 - 1978) (divorced)Roberto Rossellini  (24 May 1950 - 7 November 1957) (divorced) (3 children)Dr. Petter Aron Lindström  (10 July 1937 - 9 February 1950) (divorced) (1 child)</td><td>3</td><td>3</td><td>2</td><td>4</td><td>1742662642</td><td>5.83989501312336</td><td>109</td></tr><tr><td>nm0000007</td><td>Humphrey Bogart</td><td>Humphrey DeForest Bogart</td><td>173</td><td>December 25, 1899 in New York City, New York, USA</td><td>1899-12-25</td><td>New York City, New York, USA</td><td>14.01.1957</td><td>Los Angeles, California, USA  </td><td>esophageal cancer</td><td>Lauren Bacall  (21 May 1945 - 14 January 1957) (his death) (2 children)Mayo Methot  (21 August 1938 - 10 May 1945) (divorced)Mary Philips  (3 April 1928 - 11 August 1938) (divorced)Helen Menken  (20 May 1926 - 18 November 1927) (divorced)</td><td>4</td><td>3</td><td>1</td><td>2</td><td>1742662642</td><td>5.675853018372703</td><td>125</td></tr><tr><td>nm0000009</td><td>Richard Burton</td><td>Richard Walter Jenkins</td><td>178</td><td>November 10, 1925 in Pontrhydyfen, Wales, UK</td><td>10.11.1925</td><td>Pontrhydyfen, Wales, UK</td><td>05.08.1984</td><td>Céligny, Geneva, Switzerland  </td><td>cerebral hemorrhage</td><td>Sally Burton  (3 July 1983 - 5 August 1984) (his death)Susan Hunt  (21 August 1976 - 27 February 1983) (divorced)Elizabeth Taylor  (10 October 1975 - 29 July 1976) (divorced)Elizabeth Taylor  (15 March 1964 - 26 June 1974) (divorced) (1 child)Sybil Williams  (5 February 1949 - 5 December 1963) (divorced) (2 children)</td><td>5</td><td>4</td><td>2</td><td>3</td><td>1742662642</td><td>5.83989501312336</td><td>99</td></tr><tr><td>nm0000010</td><td>James Cagney</td><td>James Francis Cagney</td><td>165</td><td>July 17, 1899 in New York City, New York, USA</td><td>1899-07-17</td><td>New York City, New York, USA</td><td>30.03.1986</td><td>Stanfordville, New York, USA  </td><td>heart attack following illness from diabetes</td><td>Frances Cagney  (28 September 1922 - 30 March 1986) (his death) (2 children)</td><td>1</td><td>0</td><td>1</td><td>2</td><td>1742662642</td><td>5.413385826771653</td><td>125</td></tr><tr><td>nm0000011</td><td>Gary Cooper</td><td>Frank James Cooper</td><td>191</td><td>May 7, 1901 in Helena, Montana, USA</td><td>07.05.1901</td><td>Helena, Montana, USA</td><td>13.05.1961</td><td>Beverly Hills, Los Angeles, California, USA  </td><td>prostate cancer</td><td>Sandra Shaw  (15 December 1933 - 13 May 1961) (his death) (1 child)</td><td>1</td><td>0</td><td>1</td><td>1</td><td>1742662642</td><td>6.266404199475065</td><td>123</td></tr></tbody></table></div>"
      ]
     },
     "metadata": {
      "application/vnd.databricks.v1+output": {
       "addedWidgets": {},
       "aggData": [],
       "aggError": "",
       "aggOverflow": false,
       "aggSchema": [],
       "aggSeriesLimitReached": false,
       "aggType": "",
       "arguments": {},
       "columnCustomDisplayInfos": {},
       "data": [
        [
         "nm0000001",
         "Fred Astaire",
         "Frederic Austerlitz Jr.",
         177,
         "May 10, 1899 in Omaha, Nebraska, USA",
         "1899-05-10",
         "Omaha, Nebraska, USA",
         "22.06.1987",
         "Los Angeles, California, USA  ",
         "pneumonia",
         "Robyn Smith  (27 June 1980 - 22 June 1987) (his death)Phyllis Livingston Potter  (12 July 1933 - 13 September 1954) (her death) (2 children)",
         2,
         0,
         1,
         2,
         1742662642,
         5.807086614173229,
         125
        ],
        [
         "nm0000002",
         "Lauren Bacall",
         "Betty Joan Perske",
         174,
         "September 16, 1924 in The Bronx, New York City, New York, USA",
         "16.09.1924",
         "The Bronx, New York City, New York, USA",
         "12.08.2014",
         "New York City, New York, USA  ",
         "stroke",
         "Jason Robards  (4 July 1961 - 10 September 1969) (divorced) (1 child)Humphrey Bogart  (21 May 1945 - 14 January 1957) (his death) (2 children)",
         2,
         1,
         2,
         3,
         1742662642,
         5.708661417322834,
         100
        ],
        [
         "nm0000003",
         "Brigitte Bardot",
         "Brigitte Bardot",
         166,
         "September 28, 1934 in Paris, France",
         "28.09.1934",
         "Paris, France",
         null,
         null,
         null,
         "Bernard d'Ormale  (16 August 1992 - present)Gunter Sachs  (14 July 1966 - 3 July 1969) (divorced)Jacques Charrier  (18 June 1959 - 20 November 1962) (divorced) (1 child)Roger Vadim  (20 December 1952 - 6 December 1957) (divorced)",
         4,
         3,
         1,
         1,
         1742662642,
         5.4461942257217855,
         90
        ],
        [
         "nm0000004",
         "John Belushi",
         "John Adam Belushi",
         170,
         "January 24, 1949 in Chicago, Illinois, USA",
         "24.01.1949",
         "Chicago, Illinois, USA",
         "05.03.1982",
         "Hollywood, Los Angeles, California, USA  ",
         "acute cocaine and heroin intoxication",
         "Judith Belushi-Pisano  (31 December 1976 - 5 March 1982) (his death)",
         1,
         0,
         0,
         0,
         1742662642,
         5.57742782152231,
         76
        ],
        [
         "nm0000005",
         "Ingmar Bergman",
         "Ernst Ingmar Bergman",
         179,
         "July 14, 1918 in Uppsala, Uppsala län, Sweden",
         "14.07.1918",
         "Uppsala, Uppsala län, Sweden",
         "30.07.2007",
         "Fårö, Gotlands län, Sweden  ",
         "natural causes",
         "Ingrid Bergman  (11 November 1971 - 20 May 1995) (her death) (1 child)Käbi Laretei  (1959 - 1969) (divorced) (1 child)Gun Grut  (1951 - 1959) (divorced) (1 child)Ellen Bergman  (22 July 1945 - 1950) (divorced) (4 children)Else Fisher  (25 March 1943 - 1945) (divorced) (1 child)",
         5,
         4,
         5,
         8,
         1742662642,
         5.8727034120734904,
         106
        ],
        [
         "nm0000006",
         "Ingrid Bergman",
         "Ingrid Bergman",
         178,
         "August 29, 1915 in Stockholm, Sweden",
         "29.08.1915",
         "Stockholm, Sweden",
         "29.08.1982",
         "Chelsea, London, England, UK  ",
         "lymphoma complications following a breast cancer operation",
         "Lars Schmidt  (21 December 1958 - 1978) (divorced)Roberto Rossellini  (24 May 1950 - 7 November 1957) (divorced) (3 children)Dr. Petter Aron Lindström  (10 July 1937 - 9 February 1950) (divorced) (1 child)",
         3,
         3,
         2,
         4,
         1742662642,
         5.83989501312336,
         109
        ],
        [
         "nm0000007",
         "Humphrey Bogart",
         "Humphrey DeForest Bogart",
         173,
         "December 25, 1899 in New York City, New York, USA",
         "1899-12-25",
         "New York City, New York, USA",
         "14.01.1957",
         "Los Angeles, California, USA  ",
         "esophageal cancer",
         "Lauren Bacall  (21 May 1945 - 14 January 1957) (his death) (2 children)Mayo Methot  (21 August 1938 - 10 May 1945) (divorced)Mary Philips  (3 April 1928 - 11 August 1938) (divorced)Helen Menken  (20 May 1926 - 18 November 1927) (divorced)",
         4,
         3,
         1,
         2,
         1742662642,
         5.675853018372703,
         125
        ],
        [
         "nm0000009",
         "Richard Burton",
         "Richard Walter Jenkins",
         178,
         "November 10, 1925 in Pontrhydyfen, Wales, UK",
         "10.11.1925",
         "Pontrhydyfen, Wales, UK",
         "05.08.1984",
         "Céligny, Geneva, Switzerland  ",
         "cerebral hemorrhage",
         "Sally Burton  (3 July 1983 - 5 August 1984) (his death)Susan Hunt  (21 August 1976 - 27 February 1983) (divorced)Elizabeth Taylor  (10 October 1975 - 29 July 1976) (divorced)Elizabeth Taylor  (15 March 1964 - 26 June 1974) (divorced) (1 child)Sybil Williams  (5 February 1949 - 5 December 1963) (divorced) (2 children)",
         5,
         4,
         2,
         3,
         1742662642,
         5.83989501312336,
         99
        ],
        [
         "nm0000010",
         "James Cagney",
         "James Francis Cagney",
         165,
         "July 17, 1899 in New York City, New York, USA",
         "1899-07-17",
         "New York City, New York, USA",
         "30.03.1986",
         "Stanfordville, New York, USA  ",
         "heart attack following illness from diabetes",
         "Frances Cagney  (28 September 1922 - 30 March 1986) (his death) (2 children)",
         1,
         0,
         1,
         2,
         1742662642,
         5.413385826771653,
         125
        ],
        [
         "nm0000011",
         "Gary Cooper",
         "Frank James Cooper",
         191,
         "May 7, 1901 in Helena, Montana, USA",
         "07.05.1901",
         "Helena, Montana, USA",
         "13.05.1961",
         "Beverly Hills, Los Angeles, California, USA  ",
         "prostate cancer",
         "Sandra Shaw  (15 December 1933 - 13 May 1961) (his death) (1 child)",
         1,
         0,
         1,
         1,
         1742662642,
         6.266404199475065,
         123
        ]
       ],
       "datasetInfos": [],
       "dbfsResultPath": null,
       "isJsonSchema": true,
       "metadata": {},
       "overflow": false,
       "plotOptions": {
        "customPlotOptions": {},
        "displayType": "table",
        "pivotAggregation": null,
        "pivotColumns": null,
        "xColumns": null,
        "yColumns": null
       },
       "removedWidgets": [],
       "schema": [
        {
         "metadata": "{}",
         "name": "ImdbNameId",
         "type": "\"string\""
        },
        {
         "metadata": "{}",
         "name": "Name",
         "type": "\"string\""
        },
        {
         "metadata": "{}",
         "name": "BirthName",
         "type": "\"string\""
        },
        {
         "metadata": "{}",
         "name": "Height",
         "type": "\"integer\""
        },
        {
         "metadata": "{}",
         "name": "BirthDetails",
         "type": "\"string\""
        },
        {
         "metadata": "{}",
         "name": "DateOfBirth",
         "type": "\"string\""
        },
        {
         "metadata": "{}",
         "name": "PlaceOfBirth",
         "type": "\"string\""
        },
        {
         "metadata": "{}",
         "name": "DateOfDeath",
         "type": "\"string\""
        },
        {
         "metadata": "{}",
         "name": "PlaceOfDeath",
         "type": "\"string\""
        },
        {
         "metadata": "{}",
         "name": "ReasonOfDeath",
         "type": "\"string\""
        },
        {
         "metadata": "{}",
         "name": "SpousesString",
         "type": "\"string\""
        },
        {
         "metadata": "{}",
         "name": "Spouses",
         "type": "\"integer\""
        },
        {
         "metadata": "{}",
         "name": "Divorces",
         "type": "\"integer\""
        },
        {
         "metadata": "{}",
         "name": "SpousesWithChildren",
         "type": "\"integer\""
        },
        {
         "metadata": "{}",
         "name": "Children",
         "type": "\"integer\""
        },
        {
         "metadata": "{}",
         "name": "NotebookEpochTimeNames",
         "type": "\"long\""
        },
        {
         "metadata": "{}",
         "name": "HeightInFeet",
         "type": "\"double\""
        },
        {
         "metadata": "{}",
         "name": "Age",
         "type": "\"long\""
        }
       ],
       "type": "table"
      }
     },
     "output_type": "display_data"
    },
    {
     "output_type": "stream",
     "name": "stdout",
     "output_type": "stream",
     "text": [
      "== Physical Plan ==\n*(1) Project [imdb_name_id#11128 AS ImdbNameId#11547, name#11129 AS Name#11566, birth_name#11130 AS BirthName#11585, height#11131 AS Height#11604, birth_details#11133 AS BirthDetails#11623, date_of_birth#11134 AS DateOfBirth#11642, place_of_birth#11135 AS PlaceOfBirth#11661, date_of_death#11137 AS DateOfDeath#11680, place_of_death#11138 AS PlaceOfDeath#11699, reason_of_death#11139 AS ReasonOfDeath#11718, spouses_string#11140 AS SpousesString#11737, spouses#11141 AS Spouses#11756, divorces#11142 AS Divorces#11775, spouses_with_children#11143 AS SpousesWithChildren#11794, children#11144 AS Children#11813, 1742662642 AS NotebookEpochTimeNames#11832L, ((cast(height#11131 as double) / 2.54) / 12.0) AS HeightInFeet#11851, FLOOR((cast(datediff(2025-03-22, cast(gettimestamp(regexp_replace(date_of_birth#11134, (\\d{2}).(\\d{2}).(\\d{4}), $3-$2-$1, 1), yyyy-MM-dd, TimestampType, Some(Etc/UTC), false) as date)) as double) / 365.25)) AS Age#11870L]\n+- FileScan csv [imdb_name_id#11128,name#11129,birth_name#11130,height#11131,birth_details#11133,date_of_birth#11134,place_of_birth#11135,date_of_death#11137,place_of_death#11138,reason_of_death#11139,spouses_string#11140,spouses#11141,divorces#11142,spouses_with_children#11143,children#11144] Batched: false, DataFilters: [], Format: CSV, Location: InMemoryFileIndex(1 paths)[dbfs:/FileStore/tables/Files/names.csv], PartitionFilters: [], PushedFilters: [], ReadSchema: struct<imdb_name_id:string,name:string,birth_name:string,height:int,birth_details:string,date_of_...\n\n\n"
     ]
    }
   ],
   "source": [
    "cleanedNamesDf = namesWithoutBioAndDeathDetails\n",
    "\n",
    "for colName in cleanedNamesDf.columns:\n",
    "    newColName = colName.replace(\"_\", \" \").title().replace(\" \", \"\")\n",
    "    cleanedNamesDf = cleanedNamesDf.withColumnRenamed(colName, newColName)\n",
    "\n",
    "display(cleanedNamesDf.limit(10))\n",
    "cleanedNamesDf.explain()"
   ]
  },
  {
   "cell_type": "markdown",
   "metadata": {
    "application/vnd.databricks.v1+cell": {
     "cellMetadata": {
      "byteLimit": 2048000,
      "rowLimit": 10000
     },
     "inputWidgets": {},
     "nuid": "b23d2ef9-6c07-4e01-bd5a-72517bd0d684",
     "showTitle": false,
     "tableResultSettingsMap": {},
     "title": ""
    }
   },
   "source": [
    "1.7 Posortuj dataframe po imieniu rosnąco"
   ]
  },
  {
   "cell_type": "code",
   "execution_count": 0,
   "metadata": {
    "application/vnd.databricks.v1+cell": {
     "cellMetadata": {
      "byteLimit": 2048000,
      "rowLimit": 10000
     },
     "inputWidgets": {},
     "nuid": "c39547d5-ed60-48b1-a11e-936e3a3ed009",
     "showTitle": false,
     "tableResultSettingsMap": {},
     "title": ""
    }
   },
   "outputs": [
    {
     "output_type": "display_data",
     "data": {
      "text/html": [
       "<style scoped>\n",
       "  .table-result-container {\n",
       "    max-height: 300px;\n",
       "    overflow: auto;\n",
       "  }\n",
       "  table, th, td {\n",
       "    border: 1px solid black;\n",
       "    border-collapse: collapse;\n",
       "  }\n",
       "  th, td {\n",
       "    padding: 5px;\n",
       "  }\n",
       "  th {\n",
       "    text-align: left;\n",
       "  }\n",
       "</style><div class='table-result-container'><table class='table-result'><thead style='background-color: white'><tr><th>ImdbNameId</th><th>Name</th><th>BirthName</th><th>Height</th><th>BirthDetails</th><th>DateOfBirth</th><th>PlaceOfBirth</th><th>DateOfDeath</th><th>PlaceOfDeath</th><th>ReasonOfDeath</th><th>SpousesString</th><th>Spouses</th><th>Divorces</th><th>SpousesWithChildren</th><th>Children</th><th>NotebookEpochTimeNames</th><th>HeightInFeet</th><th>Age</th></tr></thead><tbody><tr><td>nm1001478</td><td>'Big' LeRoy Mobley</td><td>LeRoy King Mobley III</td><td>193</td><td>April 1, 1973 in Atlantic City, New Jersey, USA</td><td>01.04.1973</td><td>Atlantic City, New Jersey, USA</td><td>null</td><td>null</td><td>null</td><td>null</td><td>0</td><td>0</td><td>0</td><td>0</td><td>1742662642</td><td>6.332020997375328</td><td>51</td></tr><tr><td>nm0521811</td><td>'Ducky' Louie</td><td>Lawrence Louie</td><td>null</td><td>July 22, 1931 in Berkeley, California, USA</td><td>22.07.1931</td><td>Berkeley, California, USA</td><td>null</td><td>null</td><td>null</td><td>null</td><td>0</td><td>0</td><td>0</td><td>0</td><td>1742662642</td><td>null</td><td>93</td></tr><tr><td>nm0722372</td><td>'Little Billy' Rhodes</td><td>William H. Rhodes</td><td>null</td><td>February 1, 1895 in Illinois, USA</td><td>1895-02-01</td><td>Illinois, USA</td><td>24.07.1967</td><td>Hollywood, California, USA  </td><td>stroke</td><td>null</td><td>0</td><td>0</td><td>0</td><td>0</td><td>1742662642</td><td>null</td><td>130</td></tr><tr><td>nm0946148</td><td>'Weird Al' Yankovic</td><td>Alfred Matthew Yankovic</td><td>183</td><td>October 23, 1959 in Downey, California, USA</td><td>23.10.1959</td><td>Downey, California, USA</td><td>null</td><td>null</td><td>null</td><td>Suzanne Krajewski  (10 February 2001 - present) (1 child)</td><td>1</td><td>0</td><td>1</td><td>1</td><td>1742662642</td><td>6.003937007874016</td><td>65</td></tr><tr><td>nm1265067</td><td>50 Cent</td><td>Curtis James Jackson III</td><td>183</td><td>July 6, 1975 in Queens, New York City, New York, USA</td><td>06.07.1975</td><td>Queens, New York City, New York, USA</td><td>null</td><td>null</td><td>null</td><td>null</td><td>0</td><td>0</td><td>0</td><td>0</td><td>1742662642</td><td>6.003937007874016</td><td>49</td></tr><tr><td>nm0553436</td><td>A Martinez</td><td>Adolph Larrue Martinez III</td><td>175</td><td>September 27, 1948 in Glendale, California, USA</td><td>27.09.1948</td><td>Glendale, California, USA</td><td>null</td><td>null</td><td>null</td><td>Leslie Bryans  (17 July 1982 - present) (3 children)Mare Winningham  (1981 - 29 January 1982) (divorced)</td><td>2</td><td>1</td><td>1</td><td>3</td><td>1742662642</td><td>5.741469816272965</td><td>76</td></tr><tr><td>nm1100197</td><td>A. Baldwin Sloane</td><td>A. Baldwin Sloane</td><td>null</td><td>August 28, 1872 in Baltimore, Maryland, USA</td><td>1872-08-28</td><td>Baltimore, Maryland, USA</td><td>21.02.1925</td><td>Red Bank, New Jersey, USA</td><td>null</td><td>null</td><td>0</td><td>0</td><td>0</td><td>0</td><td>1742662642</td><td>null</td><td>152</td></tr><tr><td>nm0080406</td><td>A. Bhimsingh</td><td>A. Bhimsingh</td><td>null</td><td>July 15, 1924 in Tirupati, Andhra Pradesh, India</td><td>15.07.1924</td><td>Tirupati, Andhra Pradesh, India</td><td>16.01.1978</td><td>Madras, Tamil Nadu, India</td><td>null</td><td>Sukumari  (? - 16 January 1978) (his death) (1 child)</td><td>1</td><td>0</td><td>1</td><td>1</td><td>1742662642</td><td>null</td><td>100</td></tr><tr><td>nm0770661</td><td>A. Hans Scheirl</td><td>Angela Hans Schierl</td><td>null</td><td>1956 in Salzburg, Austria</td><td>1956 in Salzburg, Austria</td><td>Salzburg, Austria</td><td>null</td><td>null</td><td>null</td><td>null</td><td>0</td><td>0</td><td>0</td><td>0</td><td>1742662642</td><td>null</td><td>null</td></tr><tr><td>nm0072200</td><td>A. Jonathan Benny</td><td>A. Jonathan Benny</td><td>null</td><td>November 4, 1970</td><td>04.11.1970</td><td>null</td><td>null</td><td>null</td><td>null</td><td>null</td><td>0</td><td>0</td><td>0</td><td>0</td><td>1742662642</td><td>null</td><td>54</td></tr></tbody></table></div>"
      ]
     },
     "metadata": {
      "application/vnd.databricks.v1+output": {
       "addedWidgets": {},
       "aggData": [],
       "aggError": "",
       "aggOverflow": false,
       "aggSchema": [],
       "aggSeriesLimitReached": false,
       "aggType": "",
       "arguments": {},
       "columnCustomDisplayInfos": {},
       "data": [
        [
         "nm1001478",
         "'Big' LeRoy Mobley",
         "LeRoy King Mobley III",
         193,
         "April 1, 1973 in Atlantic City, New Jersey, USA",
         "01.04.1973",
         "Atlantic City, New Jersey, USA",
         null,
         null,
         null,
         null,
         0,
         0,
         0,
         0,
         1742662642,
         6.332020997375328,
         51
        ],
        [
         "nm0521811",
         "'Ducky' Louie",
         "Lawrence Louie",
         null,
         "July 22, 1931 in Berkeley, California, USA",
         "22.07.1931",
         "Berkeley, California, USA",
         null,
         null,
         null,
         null,
         0,
         0,
         0,
         0,
         1742662642,
         null,
         93
        ],
        [
         "nm0722372",
         "'Little Billy' Rhodes",
         "William H. Rhodes",
         null,
         "February 1, 1895 in Illinois, USA",
         "1895-02-01",
         "Illinois, USA",
         "24.07.1967",
         "Hollywood, California, USA  ",
         "stroke",
         null,
         0,
         0,
         0,
         0,
         1742662642,
         null,
         130
        ],
        [
         "nm0946148",
         "'Weird Al' Yankovic",
         "Alfred Matthew Yankovic",
         183,
         "October 23, 1959 in Downey, California, USA",
         "23.10.1959",
         "Downey, California, USA",
         null,
         null,
         null,
         "Suzanne Krajewski  (10 February 2001 - present) (1 child)",
         1,
         0,
         1,
         1,
         1742662642,
         6.003937007874016,
         65
        ],
        [
         "nm1265067",
         "50 Cent",
         "Curtis James Jackson III",
         183,
         "July 6, 1975 in Queens, New York City, New York, USA",
         "06.07.1975",
         "Queens, New York City, New York, USA",
         null,
         null,
         null,
         null,
         0,
         0,
         0,
         0,
         1742662642,
         6.003937007874016,
         49
        ],
        [
         "nm0553436",
         "A Martinez",
         "Adolph Larrue Martinez III",
         175,
         "September 27, 1948 in Glendale, California, USA",
         "27.09.1948",
         "Glendale, California, USA",
         null,
         null,
         null,
         "Leslie Bryans  (17 July 1982 - present) (3 children)Mare Winningham  (1981 - 29 January 1982) (divorced)",
         2,
         1,
         1,
         3,
         1742662642,
         5.741469816272965,
         76
        ],
        [
         "nm1100197",
         "A. Baldwin Sloane",
         "A. Baldwin Sloane",
         null,
         "August 28, 1872 in Baltimore, Maryland, USA",
         "1872-08-28",
         "Baltimore, Maryland, USA",
         "21.02.1925",
         "Red Bank, New Jersey, USA",
         null,
         null,
         0,
         0,
         0,
         0,
         1742662642,
         null,
         152
        ],
        [
         "nm0080406",
         "A. Bhimsingh",
         "A. Bhimsingh",
         null,
         "July 15, 1924 in Tirupati, Andhra Pradesh, India",
         "15.07.1924",
         "Tirupati, Andhra Pradesh, India",
         "16.01.1978",
         "Madras, Tamil Nadu, India",
         null,
         "Sukumari  (? - 16 January 1978) (his death) (1 child)",
         1,
         0,
         1,
         1,
         1742662642,
         null,
         100
        ],
        [
         "nm0770661",
         "A. Hans Scheirl",
         "Angela Hans Schierl",
         null,
         "1956 in Salzburg, Austria",
         "1956 in Salzburg, Austria",
         "Salzburg, Austria",
         null,
         null,
         null,
         null,
         0,
         0,
         0,
         0,
         1742662642,
         null,
         null
        ],
        [
         "nm0072200",
         "A. Jonathan Benny",
         "A. Jonathan Benny",
         null,
         "November 4, 1970",
         "04.11.1970",
         null,
         null,
         null,
         null,
         null,
         0,
         0,
         0,
         0,
         1742662642,
         null,
         54
        ]
       ],
       "datasetInfos": [],
       "dbfsResultPath": null,
       "isJsonSchema": true,
       "metadata": {},
       "overflow": false,
       "plotOptions": {
        "customPlotOptions": {},
        "displayType": "table",
        "pivotAggregation": null,
        "pivotColumns": null,
        "xColumns": null,
        "yColumns": null
       },
       "removedWidgets": [],
       "schema": [
        {
         "metadata": "{}",
         "name": "ImdbNameId",
         "type": "\"string\""
        },
        {
         "metadata": "{}",
         "name": "Name",
         "type": "\"string\""
        },
        {
         "metadata": "{}",
         "name": "BirthName",
         "type": "\"string\""
        },
        {
         "metadata": "{}",
         "name": "Height",
         "type": "\"integer\""
        },
        {
         "metadata": "{}",
         "name": "BirthDetails",
         "type": "\"string\""
        },
        {
         "metadata": "{}",
         "name": "DateOfBirth",
         "type": "\"string\""
        },
        {
         "metadata": "{}",
         "name": "PlaceOfBirth",
         "type": "\"string\""
        },
        {
         "metadata": "{}",
         "name": "DateOfDeath",
         "type": "\"string\""
        },
        {
         "metadata": "{}",
         "name": "PlaceOfDeath",
         "type": "\"string\""
        },
        {
         "metadata": "{}",
         "name": "ReasonOfDeath",
         "type": "\"string\""
        },
        {
         "metadata": "{}",
         "name": "SpousesString",
         "type": "\"string\""
        },
        {
         "metadata": "{}",
         "name": "Spouses",
         "type": "\"integer\""
        },
        {
         "metadata": "{}",
         "name": "Divorces",
         "type": "\"integer\""
        },
        {
         "metadata": "{}",
         "name": "SpousesWithChildren",
         "type": "\"integer\""
        },
        {
         "metadata": "{}",
         "name": "Children",
         "type": "\"integer\""
        },
        {
         "metadata": "{}",
         "name": "NotebookEpochTimeNames",
         "type": "\"long\""
        },
        {
         "metadata": "{}",
         "name": "HeightInFeet",
         "type": "\"double\""
        },
        {
         "metadata": "{}",
         "name": "Age",
         "type": "\"long\""
        }
       ],
       "type": "table"
      }
     },
     "output_type": "display_data"
    },
    {
     "output_type": "stream",
     "name": "stdout",
     "output_type": "stream",
     "text": [
      "== Physical Plan ==\nAdaptiveSparkPlan isFinalPlan=false\n+- Sort [name#11566 ASC NULLS FIRST], true, 0\n   +- Exchange rangepartitioning(name#11566 ASC NULLS FIRST, 200), ENSURE_REQUIREMENTS, [plan_id=4129]\n      +- Project [imdb_name_id#11128 AS ImdbNameId#11547, name#11129 AS Name#11566, birth_name#11130 AS BirthName#11585, height#11131 AS Height#11604, birth_details#11133 AS BirthDetails#11623, date_of_birth#11134 AS DateOfBirth#11642, place_of_birth#11135 AS PlaceOfBirth#11661, date_of_death#11137 AS DateOfDeath#11680, place_of_death#11138 AS PlaceOfDeath#11699, reason_of_death#11139 AS ReasonOfDeath#11718, spouses_string#11140 AS SpousesString#11737, spouses#11141 AS Spouses#11756, divorces#11142 AS Divorces#11775, spouses_with_children#11143 AS SpousesWithChildren#11794, children#11144 AS Children#11813, 1742662645 AS NotebookEpochTimeNames#11832L, ((cast(height#11131 as double) / 2.54) / 12.0) AS HeightInFeet#11851, FLOOR((cast(datediff(2025-03-22, cast(gettimestamp(regexp_replace(date_of_birth#11134, (\\d{2}).(\\d{2}).(\\d{4}), $3-$2-$1, 1), yyyy-MM-dd, TimestampType, Some(Etc/UTC), false) as date)) as double) / 365.25)) AS Age#11870L]\n         +- FileScan csv [imdb_name_id#11128,name#11129,birth_name#11130,height#11131,birth_details#11133,date_of_birth#11134,place_of_birth#11135,date_of_death#11137,place_of_death#11138,reason_of_death#11139,spouses_string#11140,spouses#11141,divorces#11142,spouses_with_children#11143,children#11144] Batched: false, DataFilters: [], Format: CSV, Location: InMemoryFileIndex(1 paths)[dbfs:/FileStore/tables/Files/names.csv], PartitionFilters: [], PushedFilters: [], ReadSchema: struct<imdb_name_id:string,name:string,birth_name:string,height:int,birth_details:string,date_of_...\n\n\n"
     ]
    }
   ],
   "source": [
    "sortedNamesDf = cleanedNamesDf.orderBy(\"name\")\n",
    "display(sortedNamesDf.limit(10))\n",
    "sortedNamesDf.explain()"
   ]
  },
  {
   "cell_type": "markdown",
   "metadata": {
    "application/vnd.databricks.v1+cell": {
     "cellMetadata": {
      "byteLimit": 2048000,
      "rowLimit": 10000
     },
     "inputWidgets": {},
     "nuid": "f86d9d14-5103-4d4a-8df2-cec361db347d",
     "showTitle": false,
     "tableResultSettingsMap": {},
     "title": ""
    }
   },
   "source": [
    "2. Movies.csv\n",
    "* Dodaj kolumnę z wartością czasu wykonania notatnika w formacie epoch\n",
    "* Dodaj kolumnę która wylicza ile lat upłynęło od publikacji filmu\n",
    "* Dodaj kolumnę która pokaże budżet filmu jako wartość numeryczną, (trzeba usunac znaki walut)\n",
    "* Usuń wiersze z dataframe gdzie wartości są null"
   ]
  },
  {
   "cell_type": "code",
   "execution_count": 0,
   "metadata": {
    "application/vnd.databricks.v1+cell": {
     "cellMetadata": {
      "byteLimit": 2048000,
      "rowLimit": 10000
     },
     "inputWidgets": {},
     "nuid": "dc238ac0-9f22-4685-b2d2-1a074e813334",
     "showTitle": false,
     "tableResultSettingsMap": {},
     "title": ""
    }
   },
   "outputs": [
    {
     "output_type": "display_data",
     "data": {
      "text/html": [
       "<style scoped>\n",
       "  .table-result-container {\n",
       "    max-height: 300px;\n",
       "    overflow: auto;\n",
       "  }\n",
       "  table, th, td {\n",
       "    border: 1px solid black;\n",
       "    border-collapse: collapse;\n",
       "  }\n",
       "  th, td {\n",
       "    padding: 5px;\n",
       "  }\n",
       "  th {\n",
       "    text-align: left;\n",
       "  }\n",
       "</style><div class='table-result-container'><table class='table-result'><thead style='background-color: white'><tr><th>imdb_title_id</th><th>title</th><th>original_title</th><th>year</th><th>date_published</th><th>genre</th><th>duration</th><th>country</th><th>language</th><th>director</th><th>writer</th><th>production_company</th><th>actors</th><th>description</th><th>avg_vote</th><th>votes</th><th>budget</th><th>usa_gross_income</th><th>worlwide_gross_income</th><th>metascore</th><th>reviews_from_users</th><th>reviews_from_critics</th></tr></thead><tbody><tr><td>tt0000009</td><td>Miss Jerry</td><td>Miss Jerry</td><td>1894</td><td>1894-10-09</td><td>Romance</td><td>45</td><td>USA</td><td>None</td><td>Alexander Black</td><td>Alexander Black</td><td>Alexander Black Photoplays</td><td>Blanche Bayliss, William Courtenay, Chauncey Depew</td><td>The adventures of a female reporter in the 1890s.</td><td>05.wrz</td><td>154</td><td>null</td><td>null</td><td>null</td><td>null</td><td>1.0</td><td>2.0</td></tr><tr><td>tt0000574</td><td>The Story of the Kelly Gang</td><td>The Story of the Kelly Gang</td><td>1906</td><td>26.12.1906</td><td>Biography, Crime, Drama</td><td>70</td><td>Australia</td><td>None</td><td>Charles Tait</td><td>Charles Tait</td><td>J. and N. Tait</td><td>Elizabeth Tait, John Tait, Norman Campbell, Bella Cola, Will Coyne, Sam Crewes, Jack Ennis, John Forde, Vera Linden, Mr. Marshall, Mr. McKenzie, Frank Mills, Ollie Wilson</td><td>True story of notorious Australian outlaw Ned Kelly (1855-80).</td><td>06.sty</td><td>589</td><td>$ 2250</td><td>null</td><td>null</td><td>null</td><td>7.0</td><td>7.0</td></tr><tr><td>tt0001892</td><td>Den sorte drøm</td><td>Den sorte drøm</td><td>1911</td><td>19.08.1911</td><td>Drama</td><td>53</td><td>Germany, Denmark</td><td>null</td><td>Urban Gad</td><td>Urban Gad, Gebhard Schätzler-Perasini</td><td>Fotorama</td><td>Asta Nielsen, Valdemar Psilander, Gunnar Helsengreen, Emil Albes, Hugo Flink, Mary Hagen</td><td>Two men of high rank are both wooing the beautiful and famous equestrian acrobat Stella. While Stella ignores the jeweler Hirsch, she accepts Count von Waldberg's offer to follow her home, ...</td><td>05.sie</td><td>188</td><td>null</td><td>null</td><td>null</td><td>null</td><td>5.0</td><td>2.0</td></tr><tr><td>tt0002101</td><td>Cleopatra</td><td>Cleopatra</td><td>1912</td><td>13.11.1912</td><td>Drama, History</td><td>100</td><td>USA</td><td>English</td><td>Charles L. Gaskill</td><td>Victorien Sardou</td><td>Helen Gardner Picture Players</td><td>Helen Gardner, Pearl Sindelar, Miss Fielding, Miss Robson, Helene Costello, Charles Sindelar, Mr. Howard, James R. Waite, Mr. Osborne, Harry Knowles, Mr. Paul, Mr. Brady, Mr. Corker</td><td>The fabled queen of Egypt's affair with Roman general Marc Antony is ultimately disastrous for both of them.</td><td>05.lut</td><td>446</td><td>$ 45000</td><td>null</td><td>null</td><td>null</td><td>25.0</td><td>3.0</td></tr><tr><td>tt0002130</td><td>L'Inferno</td><td>L'Inferno</td><td>1911</td><td>06.03.1911</td><td>Adventure, Drama, Fantasy</td><td>68</td><td>Italy</td><td>Italian</td><td>Francesco Bertolini, Adolfo Padovan</td><td>Dante Alighieri</td><td>Milano Film</td><td>Salvatore Papa, Arturo Pirovano, Giuseppe de Liguoro, Pier Delle Vigne, Augusto Milla, Attilio Motta, Emilise Beretta</td><td>Loosely adapted from Dante's Divine Comedy and inspired by the illustrations of Gustav Doré the original silent film has been restored and has a new score by Tangerine Dream.</td><td>7.0</td><td>2237</td><td>null</td><td>null</td><td>null</td><td>null</td><td>31.0</td><td>14.0</td></tr><tr><td>tt0002199</td><td>From the Manger to the Cross or, Jesus of Nazareth</td><td>From the Manger to the Cross or, Jesus of Nazareth</td><td>1912</td><td>1913</td><td>Biography, Drama</td><td>60</td><td>USA</td><td>English</td><td>Sidney Olcott</td><td>Gene Gauntier</td><td>Kalem Company</td><td>R. Henderson Bland, Percy Dyer, Gene Gauntier, Alice Hollister, Samuel Morgan, James D. Ainsley, Robert G. Vignola, George Kellog, J.P. McGowan</td><td>An account of the life of Jesus Christ, based on the books of the New Testament: After Jesus' birth is foretold to his parents, he is born in Bethlehem, and is visited by shepherds and wise...</td><td>05.lip</td><td>484</td><td>null</td><td>null</td><td>null</td><td>null</td><td>13.0</td><td>5.0</td></tr><tr><td>tt0002423</td><td>Madame DuBarry</td><td>Madame DuBarry</td><td>1919</td><td>26.11.1919</td><td>Biography, Drama, Romance</td><td>85</td><td>Germany</td><td>German</td><td>Ernst Lubitsch</td><td>Norbert Falk, Hanns Kräly</td><td>Projektions-AG Union (PAGU)</td><td>Pola Negri, Emil Jannings, Harry Liedtke, Eduard von Winterstein, Reinhold Schünzel, Else Berna, Fred Immler, Gustav Czimeg, Karl Platen, Bernhard Goetzke, Magnus Stifter, Paul Biensfeldt, Willy Kaiser-Heyl, Alexander Ekert, Robert Sortsch-Pla</td><td>The story of Madame DuBarry, the mistress of Louis XV of France, and her loves in the time of the French revolution.</td><td>06.sie</td><td>753</td><td>null</td><td>null</td><td>null</td><td>null</td><td>12.0</td><td>9.0</td></tr><tr><td>tt0002445</td><td>Quo Vadis?</td><td>Quo Vadis?</td><td>1913</td><td>01.03.1913</td><td>Drama, History</td><td>120</td><td>Italy</td><td>Italian</td><td>Enrico Guazzoni</td><td>Henryk Sienkiewicz, Enrico Guazzoni</td><td>Società Italiana Cines</td><td>Amleto Novelli, Gustavo Serena, Carlo Cattaneo, Amelia Cattaneo, Lea Giunchi, Bruto Castellani, Augusto Mastripietri, Cesare Moltini, Olga Brandini, Ignazio Lupi, Giovanni Gizzi, Lia Orlandini, Matilde Guillaume, Ida Carloni Talli, Giuseppe Gambardella</td><td>An epic Italian film Quo Vadis influenced many of the later movies.</td><td>06.lut</td><td>273</td><td>ITL 45000</td><td>null</td><td>null</td><td>null</td><td>7.0</td><td>5.0</td></tr><tr><td>tt0002452</td><td>Independenta Romaniei</td><td>Independenta Romaniei</td><td>1912</td><td>01.09.1912</td><td>History, War</td><td>120</td><td>Romania</td><td>null</td><td>Aristide Demetriade, Grigore Brezeanu</td><td>Aristide Demetriade, Petre Liciu</td><td>Societatea Filmului de Arta Leon Popescu</td><td>Aristide Demetriade, Constanta Demetriade, Constantin Nottara, Pepi Machauer, Aurel Athanasescu, Jeny Metaxa-Doro, Nicolae Soreanu, Vasile Toneanu, Aristita Romanescu, Elvire Popesco, M. Vîrgolici, C. Nedelcovici, Mihail Tancovici-Cosmin, Ion Dumitrescu, Gheorghe Meliseanu</td><td>The movie depicts the Romanian War of Independence (1877-1878).</td><td>06.lip</td><td>198</td><td>ROL 400000</td><td>null</td><td>null</td><td>null</td><td>4.0</td><td>1.0</td></tr><tr><td>tt0002461</td><td>Richard III</td><td>Richard III</td><td>1912</td><td>15.10.1912</td><td>Drama</td><td>55</td><td>France, USA</td><td>English</td><td>André Calmettes, James Keane</td><td>James Keane, William Shakespeare</td><td>Le Film d'Art</td><td>Robert Gemp, Frederick Warde, Albert Gardner, James Keane, George Moss, Howard Stuart, Virginia Rankin, Violet Stuart, Carey Lee, Carlotta De Felice</td><td>Richard of Gloucester uses manipulation and murder to gain the English throne.</td><td>05.maj</td><td>225</td><td>$ 30000</td><td>null</td><td>null</td><td>null</td><td>8.0</td><td>1.0</td></tr></tbody></table></div>"
      ]
     },
     "metadata": {
      "application/vnd.databricks.v1+output": {
       "addedWidgets": {},
       "aggData": [],
       "aggError": "",
       "aggOverflow": false,
       "aggSchema": [],
       "aggSeriesLimitReached": false,
       "aggType": "",
       "arguments": {},
       "columnCustomDisplayInfos": {},
       "data": [
        [
         "tt0000009",
         "Miss Jerry",
         "Miss Jerry",
         "1894",
         "1894-10-09",
         "Romance",
         45,
         "USA",
         "None",
         "Alexander Black",
         "Alexander Black",
         "Alexander Black Photoplays",
         "Blanche Bayliss, William Courtenay, Chauncey Depew",
         "The adventures of a female reporter in the 1890s.",
         "05.wrz",
         154,
         null,
         null,
         null,
         null,
         1.0,
         2.0
        ],
        [
         "tt0000574",
         "The Story of the Kelly Gang",
         "The Story of the Kelly Gang",
         "1906",
         "26.12.1906",
         "Biography, Crime, Drama",
         70,
         "Australia",
         "None",
         "Charles Tait",
         "Charles Tait",
         "J. and N. Tait",
         "Elizabeth Tait, John Tait, Norman Campbell, Bella Cola, Will Coyne, Sam Crewes, Jack Ennis, John Forde, Vera Linden, Mr. Marshall, Mr. McKenzie, Frank Mills, Ollie Wilson",
         "True story of notorious Australian outlaw Ned Kelly (1855-80).",
         "06.sty",
         589,
         "$ 2250",
         null,
         null,
         null,
         7.0,
         7.0
        ],
        [
         "tt0001892",
         "Den sorte drøm",
         "Den sorte drøm",
         "1911",
         "19.08.1911",
         "Drama",
         53,
         "Germany, Denmark",
         null,
         "Urban Gad",
         "Urban Gad, Gebhard Schätzler-Perasini",
         "Fotorama",
         "Asta Nielsen, Valdemar Psilander, Gunnar Helsengreen, Emil Albes, Hugo Flink, Mary Hagen",
         "Two men of high rank are both wooing the beautiful and famous equestrian acrobat Stella. While Stella ignores the jeweler Hirsch, she accepts Count von Waldberg's offer to follow her home, ...",
         "05.sie",
         188,
         null,
         null,
         null,
         null,
         5.0,
         2.0
        ],
        [
         "tt0002101",
         "Cleopatra",
         "Cleopatra",
         "1912",
         "13.11.1912",
         "Drama, History",
         100,
         "USA",
         "English",
         "Charles L. Gaskill",
         "Victorien Sardou",
         "Helen Gardner Picture Players",
         "Helen Gardner, Pearl Sindelar, Miss Fielding, Miss Robson, Helene Costello, Charles Sindelar, Mr. Howard, James R. Waite, Mr. Osborne, Harry Knowles, Mr. Paul, Mr. Brady, Mr. Corker",
         "The fabled queen of Egypt's affair with Roman general Marc Antony is ultimately disastrous for both of them.",
         "05.lut",
         446,
         "$ 45000",
         null,
         null,
         null,
         25.0,
         3.0
        ],
        [
         "tt0002130",
         "L'Inferno",
         "L'Inferno",
         "1911",
         "06.03.1911",
         "Adventure, Drama, Fantasy",
         68,
         "Italy",
         "Italian",
         "Francesco Bertolini, Adolfo Padovan",
         "Dante Alighieri",
         "Milano Film",
         "Salvatore Papa, Arturo Pirovano, Giuseppe de Liguoro, Pier Delle Vigne, Augusto Milla, Attilio Motta, Emilise Beretta",
         "Loosely adapted from Dante's Divine Comedy and inspired by the illustrations of Gustav Doré the original silent film has been restored and has a new score by Tangerine Dream.",
         "7.0",
         2237,
         null,
         null,
         null,
         null,
         31.0,
         14.0
        ],
        [
         "tt0002199",
         "From the Manger to the Cross or, Jesus of Nazareth",
         "From the Manger to the Cross or, Jesus of Nazareth",
         "1912",
         "1913",
         "Biography, Drama",
         60,
         "USA",
         "English",
         "Sidney Olcott",
         "Gene Gauntier",
         "Kalem Company",
         "R. Henderson Bland, Percy Dyer, Gene Gauntier, Alice Hollister, Samuel Morgan, James D. Ainsley, Robert G. Vignola, George Kellog, J.P. McGowan",
         "An account of the life of Jesus Christ, based on the books of the New Testament: After Jesus' birth is foretold to his parents, he is born in Bethlehem, and is visited by shepherds and wise...",
         "05.lip",
         484,
         null,
         null,
         null,
         null,
         13.0,
         5.0
        ],
        [
         "tt0002423",
         "Madame DuBarry",
         "Madame DuBarry",
         "1919",
         "26.11.1919",
         "Biography, Drama, Romance",
         85,
         "Germany",
         "German",
         "Ernst Lubitsch",
         "Norbert Falk, Hanns Kräly",
         "Projektions-AG Union (PAGU)",
         "Pola Negri, Emil Jannings, Harry Liedtke, Eduard von Winterstein, Reinhold Schünzel, Else Berna, Fred Immler, Gustav Czimeg, Karl Platen, Bernhard Goetzke, Magnus Stifter, Paul Biensfeldt, Willy Kaiser-Heyl, Alexander Ekert, Robert Sortsch-Pla",
         "The story of Madame DuBarry, the mistress of Louis XV of France, and her loves in the time of the French revolution.",
         "06.sie",
         753,
         null,
         null,
         null,
         null,
         12.0,
         9.0
        ],
        [
         "tt0002445",
         "Quo Vadis?",
         "Quo Vadis?",
         "1913",
         "01.03.1913",
         "Drama, History",
         120,
         "Italy",
         "Italian",
         "Enrico Guazzoni",
         "Henryk Sienkiewicz, Enrico Guazzoni",
         "Società Italiana Cines",
         "Amleto Novelli, Gustavo Serena, Carlo Cattaneo, Amelia Cattaneo, Lea Giunchi, Bruto Castellani, Augusto Mastripietri, Cesare Moltini, Olga Brandini, Ignazio Lupi, Giovanni Gizzi, Lia Orlandini, Matilde Guillaume, Ida Carloni Talli, Giuseppe Gambardella",
         "An epic Italian film Quo Vadis influenced many of the later movies.",
         "06.lut",
         273,
         "ITL 45000",
         null,
         null,
         null,
         7.0,
         5.0
        ],
        [
         "tt0002452",
         "Independenta Romaniei",
         "Independenta Romaniei",
         "1912",
         "01.09.1912",
         "History, War",
         120,
         "Romania",
         null,
         "Aristide Demetriade, Grigore Brezeanu",
         "Aristide Demetriade, Petre Liciu",
         "Societatea Filmului de Arta Leon Popescu",
         "Aristide Demetriade, Constanta Demetriade, Constantin Nottara, Pepi Machauer, Aurel Athanasescu, Jeny Metaxa-Doro, Nicolae Soreanu, Vasile Toneanu, Aristita Romanescu, Elvire Popesco, M. Vîrgolici, C. Nedelcovici, Mihail Tancovici-Cosmin, Ion Dumitrescu, Gheorghe Meliseanu",
         "The movie depicts the Romanian War of Independence (1877-1878).",
         "06.lip",
         198,
         "ROL 400000",
         null,
         null,
         null,
         4.0,
         1.0
        ],
        [
         "tt0002461",
         "Richard III",
         "Richard III",
         "1912",
         "15.10.1912",
         "Drama",
         55,
         "France, USA",
         "English",
         "André Calmettes, James Keane",
         "James Keane, William Shakespeare",
         "Le Film d'Art",
         "Robert Gemp, Frederick Warde, Albert Gardner, James Keane, George Moss, Howard Stuart, Virginia Rankin, Violet Stuart, Carey Lee, Carlotta De Felice",
         "Richard of Gloucester uses manipulation and murder to gain the English throne.",
         "05.maj",
         225,
         "$ 30000",
         null,
         null,
         null,
         8.0,
         1.0
        ]
       ],
       "datasetInfos": [],
       "dbfsResultPath": null,
       "isJsonSchema": true,
       "metadata": {},
       "overflow": false,
       "plotOptions": {
        "customPlotOptions": {},
        "displayType": "table",
        "pivotAggregation": null,
        "pivotColumns": null,
        "xColumns": null,
        "yColumns": null
       },
       "removedWidgets": [],
       "schema": [
        {
         "metadata": "{}",
         "name": "imdb_title_id",
         "type": "\"string\""
        },
        {
         "metadata": "{}",
         "name": "title",
         "type": "\"string\""
        },
        {
         "metadata": "{}",
         "name": "original_title",
         "type": "\"string\""
        },
        {
         "metadata": "{}",
         "name": "year",
         "type": "\"string\""
        },
        {
         "metadata": "{}",
         "name": "date_published",
         "type": "\"string\""
        },
        {
         "metadata": "{}",
         "name": "genre",
         "type": "\"string\""
        },
        {
         "metadata": "{}",
         "name": "duration",
         "type": "\"integer\""
        },
        {
         "metadata": "{}",
         "name": "country",
         "type": "\"string\""
        },
        {
         "metadata": "{}",
         "name": "language",
         "type": "\"string\""
        },
        {
         "metadata": "{}",
         "name": "director",
         "type": "\"string\""
        },
        {
         "metadata": "{}",
         "name": "writer",
         "type": "\"string\""
        },
        {
         "metadata": "{}",
         "name": "production_company",
         "type": "\"string\""
        },
        {
         "metadata": "{}",
         "name": "actors",
         "type": "\"string\""
        },
        {
         "metadata": "{}",
         "name": "description",
         "type": "\"string\""
        },
        {
         "metadata": "{}",
         "name": "avg_vote",
         "type": "\"string\""
        },
        {
         "metadata": "{}",
         "name": "votes",
         "type": "\"integer\""
        },
        {
         "metadata": "{}",
         "name": "budget",
         "type": "\"string\""
        },
        {
         "metadata": "{}",
         "name": "usa_gross_income",
         "type": "\"string\""
        },
        {
         "metadata": "{}",
         "name": "worlwide_gross_income",
         "type": "\"string\""
        },
        {
         "metadata": "{}",
         "name": "metascore",
         "type": "\"double\""
        },
        {
         "metadata": "{}",
         "name": "reviews_from_users",
         "type": "\"double\""
        },
        {
         "metadata": "{}",
         "name": "reviews_from_critics",
         "type": "\"double\""
        }
       ],
       "type": "table"
      }
     },
     "output_type": "display_data"
    }
   ],
   "source": [
    "filePath = \"dbfs:/FileStore/tables/Files/movies.csv\"\n",
    "namesDF = spark.read.format(\"csv\") \\\n",
    "            .option(\"header\", \"true\") \\\n",
    "            .option(\"inferSchema\", \"true\") \\\n",
    "            .load(filePath)\n",
    "\n",
    "display(namesDF.limit(10))\n"
   ]
  },
  {
   "cell_type": "markdown",
   "metadata": {
    "application/vnd.databricks.v1+cell": {
     "cellMetadata": {
      "byteLimit": 2048000,
      "rowLimit": 10000
     },
     "inputWidgets": {},
     "nuid": "e507e246-b7b1-4de5-a744-edf9cda15d89",
     "showTitle": false,
     "tableResultSettingsMap": {},
     "title": ""
    }
   },
   "source": [
    "2.1 Dodaj kolumnę z wartością czasu wykonania notatnika w formacie epoch"
   ]
  },
  {
   "cell_type": "code",
   "execution_count": 0,
   "metadata": {
    "application/vnd.databricks.v1+cell": {
     "cellMetadata": {
      "byteLimit": 2048000,
      "rowLimit": 10000
     },
     "inputWidgets": {},
     "nuid": "f1bc0452-277a-4d37-a311-bf701f6dad11",
     "showTitle": false,
     "tableResultSettingsMap": {},
     "title": ""
    }
   },
   "outputs": [
    {
     "output_type": "display_data",
     "data": {
      "text/html": [
       "<style scoped>\n",
       "  .table-result-container {\n",
       "    max-height: 300px;\n",
       "    overflow: auto;\n",
       "  }\n",
       "  table, th, td {\n",
       "    border: 1px solid black;\n",
       "    border-collapse: collapse;\n",
       "  }\n",
       "  th, td {\n",
       "    padding: 5px;\n",
       "  }\n",
       "  th {\n",
       "    text-align: left;\n",
       "  }\n",
       "</style><div class='table-result-container'><table class='table-result'><thead style='background-color: white'><tr><th>imdb_title_id</th><th>title</th><th>original_title</th><th>year</th><th>date_published</th><th>genre</th><th>duration</th><th>country</th><th>language</th><th>director</th><th>writer</th><th>production_company</th><th>actors</th><th>description</th><th>avg_vote</th><th>votes</th><th>budget</th><th>usa_gross_income</th><th>worlwide_gross_income</th><th>metascore</th><th>reviews_from_users</th><th>reviews_from_critics</th><th>notebook_epoch_time_movies</th></tr></thead><tbody><tr><td>tt0000009</td><td>Miss Jerry</td><td>Miss Jerry</td><td>1894</td><td>1894-10-09</td><td>Romance</td><td>45</td><td>USA</td><td>None</td><td>Alexander Black</td><td>Alexander Black</td><td>Alexander Black Photoplays</td><td>Blanche Bayliss, William Courtenay, Chauncey Depew</td><td>The adventures of a female reporter in the 1890s.</td><td>05.wrz</td><td>154</td><td>null</td><td>null</td><td>null</td><td>null</td><td>1.0</td><td>2.0</td><td>1742662648</td></tr><tr><td>tt0000574</td><td>The Story of the Kelly Gang</td><td>The Story of the Kelly Gang</td><td>1906</td><td>26.12.1906</td><td>Biography, Crime, Drama</td><td>70</td><td>Australia</td><td>None</td><td>Charles Tait</td><td>Charles Tait</td><td>J. and N. Tait</td><td>Elizabeth Tait, John Tait, Norman Campbell, Bella Cola, Will Coyne, Sam Crewes, Jack Ennis, John Forde, Vera Linden, Mr. Marshall, Mr. McKenzie, Frank Mills, Ollie Wilson</td><td>True story of notorious Australian outlaw Ned Kelly (1855-80).</td><td>06.sty</td><td>589</td><td>$ 2250</td><td>null</td><td>null</td><td>null</td><td>7.0</td><td>7.0</td><td>1742662648</td></tr><tr><td>tt0001892</td><td>Den sorte drøm</td><td>Den sorte drøm</td><td>1911</td><td>19.08.1911</td><td>Drama</td><td>53</td><td>Germany, Denmark</td><td>null</td><td>Urban Gad</td><td>Urban Gad, Gebhard Schätzler-Perasini</td><td>Fotorama</td><td>Asta Nielsen, Valdemar Psilander, Gunnar Helsengreen, Emil Albes, Hugo Flink, Mary Hagen</td><td>Two men of high rank are both wooing the beautiful and famous equestrian acrobat Stella. While Stella ignores the jeweler Hirsch, she accepts Count von Waldberg's offer to follow her home, ...</td><td>05.sie</td><td>188</td><td>null</td><td>null</td><td>null</td><td>null</td><td>5.0</td><td>2.0</td><td>1742662648</td></tr><tr><td>tt0002101</td><td>Cleopatra</td><td>Cleopatra</td><td>1912</td><td>13.11.1912</td><td>Drama, History</td><td>100</td><td>USA</td><td>English</td><td>Charles L. Gaskill</td><td>Victorien Sardou</td><td>Helen Gardner Picture Players</td><td>Helen Gardner, Pearl Sindelar, Miss Fielding, Miss Robson, Helene Costello, Charles Sindelar, Mr. Howard, James R. Waite, Mr. Osborne, Harry Knowles, Mr. Paul, Mr. Brady, Mr. Corker</td><td>The fabled queen of Egypt's affair with Roman general Marc Antony is ultimately disastrous for both of them.</td><td>05.lut</td><td>446</td><td>$ 45000</td><td>null</td><td>null</td><td>null</td><td>25.0</td><td>3.0</td><td>1742662648</td></tr><tr><td>tt0002130</td><td>L'Inferno</td><td>L'Inferno</td><td>1911</td><td>06.03.1911</td><td>Adventure, Drama, Fantasy</td><td>68</td><td>Italy</td><td>Italian</td><td>Francesco Bertolini, Adolfo Padovan</td><td>Dante Alighieri</td><td>Milano Film</td><td>Salvatore Papa, Arturo Pirovano, Giuseppe de Liguoro, Pier Delle Vigne, Augusto Milla, Attilio Motta, Emilise Beretta</td><td>Loosely adapted from Dante's Divine Comedy and inspired by the illustrations of Gustav Doré the original silent film has been restored and has a new score by Tangerine Dream.</td><td>7.0</td><td>2237</td><td>null</td><td>null</td><td>null</td><td>null</td><td>31.0</td><td>14.0</td><td>1742662648</td></tr><tr><td>tt0002199</td><td>From the Manger to the Cross or, Jesus of Nazareth</td><td>From the Manger to the Cross or, Jesus of Nazareth</td><td>1912</td><td>1913</td><td>Biography, Drama</td><td>60</td><td>USA</td><td>English</td><td>Sidney Olcott</td><td>Gene Gauntier</td><td>Kalem Company</td><td>R. Henderson Bland, Percy Dyer, Gene Gauntier, Alice Hollister, Samuel Morgan, James D. Ainsley, Robert G. Vignola, George Kellog, J.P. McGowan</td><td>An account of the life of Jesus Christ, based on the books of the New Testament: After Jesus' birth is foretold to his parents, he is born in Bethlehem, and is visited by shepherds and wise...</td><td>05.lip</td><td>484</td><td>null</td><td>null</td><td>null</td><td>null</td><td>13.0</td><td>5.0</td><td>1742662648</td></tr><tr><td>tt0002423</td><td>Madame DuBarry</td><td>Madame DuBarry</td><td>1919</td><td>26.11.1919</td><td>Biography, Drama, Romance</td><td>85</td><td>Germany</td><td>German</td><td>Ernst Lubitsch</td><td>Norbert Falk, Hanns Kräly</td><td>Projektions-AG Union (PAGU)</td><td>Pola Negri, Emil Jannings, Harry Liedtke, Eduard von Winterstein, Reinhold Schünzel, Else Berna, Fred Immler, Gustav Czimeg, Karl Platen, Bernhard Goetzke, Magnus Stifter, Paul Biensfeldt, Willy Kaiser-Heyl, Alexander Ekert, Robert Sortsch-Pla</td><td>The story of Madame DuBarry, the mistress of Louis XV of France, and her loves in the time of the French revolution.</td><td>06.sie</td><td>753</td><td>null</td><td>null</td><td>null</td><td>null</td><td>12.0</td><td>9.0</td><td>1742662648</td></tr><tr><td>tt0002445</td><td>Quo Vadis?</td><td>Quo Vadis?</td><td>1913</td><td>01.03.1913</td><td>Drama, History</td><td>120</td><td>Italy</td><td>Italian</td><td>Enrico Guazzoni</td><td>Henryk Sienkiewicz, Enrico Guazzoni</td><td>Società Italiana Cines</td><td>Amleto Novelli, Gustavo Serena, Carlo Cattaneo, Amelia Cattaneo, Lea Giunchi, Bruto Castellani, Augusto Mastripietri, Cesare Moltini, Olga Brandini, Ignazio Lupi, Giovanni Gizzi, Lia Orlandini, Matilde Guillaume, Ida Carloni Talli, Giuseppe Gambardella</td><td>An epic Italian film Quo Vadis influenced many of the later movies.</td><td>06.lut</td><td>273</td><td>ITL 45000</td><td>null</td><td>null</td><td>null</td><td>7.0</td><td>5.0</td><td>1742662648</td></tr><tr><td>tt0002452</td><td>Independenta Romaniei</td><td>Independenta Romaniei</td><td>1912</td><td>01.09.1912</td><td>History, War</td><td>120</td><td>Romania</td><td>null</td><td>Aristide Demetriade, Grigore Brezeanu</td><td>Aristide Demetriade, Petre Liciu</td><td>Societatea Filmului de Arta Leon Popescu</td><td>Aristide Demetriade, Constanta Demetriade, Constantin Nottara, Pepi Machauer, Aurel Athanasescu, Jeny Metaxa-Doro, Nicolae Soreanu, Vasile Toneanu, Aristita Romanescu, Elvire Popesco, M. Vîrgolici, C. Nedelcovici, Mihail Tancovici-Cosmin, Ion Dumitrescu, Gheorghe Meliseanu</td><td>The movie depicts the Romanian War of Independence (1877-1878).</td><td>06.lip</td><td>198</td><td>ROL 400000</td><td>null</td><td>null</td><td>null</td><td>4.0</td><td>1.0</td><td>1742662648</td></tr><tr><td>tt0002461</td><td>Richard III</td><td>Richard III</td><td>1912</td><td>15.10.1912</td><td>Drama</td><td>55</td><td>France, USA</td><td>English</td><td>André Calmettes, James Keane</td><td>James Keane, William Shakespeare</td><td>Le Film d'Art</td><td>Robert Gemp, Frederick Warde, Albert Gardner, James Keane, George Moss, Howard Stuart, Virginia Rankin, Violet Stuart, Carey Lee, Carlotta De Felice</td><td>Richard of Gloucester uses manipulation and murder to gain the English throne.</td><td>05.maj</td><td>225</td><td>$ 30000</td><td>null</td><td>null</td><td>null</td><td>8.0</td><td>1.0</td><td>1742662648</td></tr></tbody></table></div>"
      ]
     },
     "metadata": {
      "application/vnd.databricks.v1+output": {
       "addedWidgets": {},
       "aggData": [],
       "aggError": "",
       "aggOverflow": false,
       "aggSchema": [],
       "aggSeriesLimitReached": false,
       "aggType": "",
       "arguments": {},
       "columnCustomDisplayInfos": {},
       "data": [
        [
         "tt0000009",
         "Miss Jerry",
         "Miss Jerry",
         "1894",
         "1894-10-09",
         "Romance",
         45,
         "USA",
         "None",
         "Alexander Black",
         "Alexander Black",
         "Alexander Black Photoplays",
         "Blanche Bayliss, William Courtenay, Chauncey Depew",
         "The adventures of a female reporter in the 1890s.",
         "05.wrz",
         154,
         null,
         null,
         null,
         null,
         1.0,
         2.0,
         1742662648
        ],
        [
         "tt0000574",
         "The Story of the Kelly Gang",
         "The Story of the Kelly Gang",
         "1906",
         "26.12.1906",
         "Biography, Crime, Drama",
         70,
         "Australia",
         "None",
         "Charles Tait",
         "Charles Tait",
         "J. and N. Tait",
         "Elizabeth Tait, John Tait, Norman Campbell, Bella Cola, Will Coyne, Sam Crewes, Jack Ennis, John Forde, Vera Linden, Mr. Marshall, Mr. McKenzie, Frank Mills, Ollie Wilson",
         "True story of notorious Australian outlaw Ned Kelly (1855-80).",
         "06.sty",
         589,
         "$ 2250",
         null,
         null,
         null,
         7.0,
         7.0,
         1742662648
        ],
        [
         "tt0001892",
         "Den sorte drøm",
         "Den sorte drøm",
         "1911",
         "19.08.1911",
         "Drama",
         53,
         "Germany, Denmark",
         null,
         "Urban Gad",
         "Urban Gad, Gebhard Schätzler-Perasini",
         "Fotorama",
         "Asta Nielsen, Valdemar Psilander, Gunnar Helsengreen, Emil Albes, Hugo Flink, Mary Hagen",
         "Two men of high rank are both wooing the beautiful and famous equestrian acrobat Stella. While Stella ignores the jeweler Hirsch, she accepts Count von Waldberg's offer to follow her home, ...",
         "05.sie",
         188,
         null,
         null,
         null,
         null,
         5.0,
         2.0,
         1742662648
        ],
        [
         "tt0002101",
         "Cleopatra",
         "Cleopatra",
         "1912",
         "13.11.1912",
         "Drama, History",
         100,
         "USA",
         "English",
         "Charles L. Gaskill",
         "Victorien Sardou",
         "Helen Gardner Picture Players",
         "Helen Gardner, Pearl Sindelar, Miss Fielding, Miss Robson, Helene Costello, Charles Sindelar, Mr. Howard, James R. Waite, Mr. Osborne, Harry Knowles, Mr. Paul, Mr. Brady, Mr. Corker",
         "The fabled queen of Egypt's affair with Roman general Marc Antony is ultimately disastrous for both of them.",
         "05.lut",
         446,
         "$ 45000",
         null,
         null,
         null,
         25.0,
         3.0,
         1742662648
        ],
        [
         "tt0002130",
         "L'Inferno",
         "L'Inferno",
         "1911",
         "06.03.1911",
         "Adventure, Drama, Fantasy",
         68,
         "Italy",
         "Italian",
         "Francesco Bertolini, Adolfo Padovan",
         "Dante Alighieri",
         "Milano Film",
         "Salvatore Papa, Arturo Pirovano, Giuseppe de Liguoro, Pier Delle Vigne, Augusto Milla, Attilio Motta, Emilise Beretta",
         "Loosely adapted from Dante's Divine Comedy and inspired by the illustrations of Gustav Doré the original silent film has been restored and has a new score by Tangerine Dream.",
         "7.0",
         2237,
         null,
         null,
         null,
         null,
         31.0,
         14.0,
         1742662648
        ],
        [
         "tt0002199",
         "From the Manger to the Cross or, Jesus of Nazareth",
         "From the Manger to the Cross or, Jesus of Nazareth",
         "1912",
         "1913",
         "Biography, Drama",
         60,
         "USA",
         "English",
         "Sidney Olcott",
         "Gene Gauntier",
         "Kalem Company",
         "R. Henderson Bland, Percy Dyer, Gene Gauntier, Alice Hollister, Samuel Morgan, James D. Ainsley, Robert G. Vignola, George Kellog, J.P. McGowan",
         "An account of the life of Jesus Christ, based on the books of the New Testament: After Jesus' birth is foretold to his parents, he is born in Bethlehem, and is visited by shepherds and wise...",
         "05.lip",
         484,
         null,
         null,
         null,
         null,
         13.0,
         5.0,
         1742662648
        ],
        [
         "tt0002423",
         "Madame DuBarry",
         "Madame DuBarry",
         "1919",
         "26.11.1919",
         "Biography, Drama, Romance",
         85,
         "Germany",
         "German",
         "Ernst Lubitsch",
         "Norbert Falk, Hanns Kräly",
         "Projektions-AG Union (PAGU)",
         "Pola Negri, Emil Jannings, Harry Liedtke, Eduard von Winterstein, Reinhold Schünzel, Else Berna, Fred Immler, Gustav Czimeg, Karl Platen, Bernhard Goetzke, Magnus Stifter, Paul Biensfeldt, Willy Kaiser-Heyl, Alexander Ekert, Robert Sortsch-Pla",
         "The story of Madame DuBarry, the mistress of Louis XV of France, and her loves in the time of the French revolution.",
         "06.sie",
         753,
         null,
         null,
         null,
         null,
         12.0,
         9.0,
         1742662648
        ],
        [
         "tt0002445",
         "Quo Vadis?",
         "Quo Vadis?",
         "1913",
         "01.03.1913",
         "Drama, History",
         120,
         "Italy",
         "Italian",
         "Enrico Guazzoni",
         "Henryk Sienkiewicz, Enrico Guazzoni",
         "Società Italiana Cines",
         "Amleto Novelli, Gustavo Serena, Carlo Cattaneo, Amelia Cattaneo, Lea Giunchi, Bruto Castellani, Augusto Mastripietri, Cesare Moltini, Olga Brandini, Ignazio Lupi, Giovanni Gizzi, Lia Orlandini, Matilde Guillaume, Ida Carloni Talli, Giuseppe Gambardella",
         "An epic Italian film Quo Vadis influenced many of the later movies.",
         "06.lut",
         273,
         "ITL 45000",
         null,
         null,
         null,
         7.0,
         5.0,
         1742662648
        ],
        [
         "tt0002452",
         "Independenta Romaniei",
         "Independenta Romaniei",
         "1912",
         "01.09.1912",
         "History, War",
         120,
         "Romania",
         null,
         "Aristide Demetriade, Grigore Brezeanu",
         "Aristide Demetriade, Petre Liciu",
         "Societatea Filmului de Arta Leon Popescu",
         "Aristide Demetriade, Constanta Demetriade, Constantin Nottara, Pepi Machauer, Aurel Athanasescu, Jeny Metaxa-Doro, Nicolae Soreanu, Vasile Toneanu, Aristita Romanescu, Elvire Popesco, M. Vîrgolici, C. Nedelcovici, Mihail Tancovici-Cosmin, Ion Dumitrescu, Gheorghe Meliseanu",
         "The movie depicts the Romanian War of Independence (1877-1878).",
         "06.lip",
         198,
         "ROL 400000",
         null,
         null,
         null,
         4.0,
         1.0,
         1742662648
        ],
        [
         "tt0002461",
         "Richard III",
         "Richard III",
         "1912",
         "15.10.1912",
         "Drama",
         55,
         "France, USA",
         "English",
         "André Calmettes, James Keane",
         "James Keane, William Shakespeare",
         "Le Film d'Art",
         "Robert Gemp, Frederick Warde, Albert Gardner, James Keane, George Moss, Howard Stuart, Virginia Rankin, Violet Stuart, Carey Lee, Carlotta De Felice",
         "Richard of Gloucester uses manipulation and murder to gain the English throne.",
         "05.maj",
         225,
         "$ 30000",
         null,
         null,
         null,
         8.0,
         1.0,
         1742662648
        ]
       ],
       "datasetInfos": [],
       "dbfsResultPath": null,
       "isJsonSchema": true,
       "metadata": {},
       "overflow": false,
       "plotOptions": {
        "customPlotOptions": {},
        "displayType": "table",
        "pivotAggregation": null,
        "pivotColumns": null,
        "xColumns": null,
        "yColumns": null
       },
       "removedWidgets": [],
       "schema": [
        {
         "metadata": "{}",
         "name": "imdb_title_id",
         "type": "\"string\""
        },
        {
         "metadata": "{}",
         "name": "title",
         "type": "\"string\""
        },
        {
         "metadata": "{}",
         "name": "original_title",
         "type": "\"string\""
        },
        {
         "metadata": "{}",
         "name": "year",
         "type": "\"string\""
        },
        {
         "metadata": "{}",
         "name": "date_published",
         "type": "\"string\""
        },
        {
         "metadata": "{}",
         "name": "genre",
         "type": "\"string\""
        },
        {
         "metadata": "{}",
         "name": "duration",
         "type": "\"integer\""
        },
        {
         "metadata": "{}",
         "name": "country",
         "type": "\"string\""
        },
        {
         "metadata": "{}",
         "name": "language",
         "type": "\"string\""
        },
        {
         "metadata": "{}",
         "name": "director",
         "type": "\"string\""
        },
        {
         "metadata": "{}",
         "name": "writer",
         "type": "\"string\""
        },
        {
         "metadata": "{}",
         "name": "production_company",
         "type": "\"string\""
        },
        {
         "metadata": "{}",
         "name": "actors",
         "type": "\"string\""
        },
        {
         "metadata": "{}",
         "name": "description",
         "type": "\"string\""
        },
        {
         "metadata": "{}",
         "name": "avg_vote",
         "type": "\"string\""
        },
        {
         "metadata": "{}",
         "name": "votes",
         "type": "\"integer\""
        },
        {
         "metadata": "{}",
         "name": "budget",
         "type": "\"string\""
        },
        {
         "metadata": "{}",
         "name": "usa_gross_income",
         "type": "\"string\""
        },
        {
         "metadata": "{}",
         "name": "worlwide_gross_income",
         "type": "\"string\""
        },
        {
         "metadata": "{}",
         "name": "metascore",
         "type": "\"double\""
        },
        {
         "metadata": "{}",
         "name": "reviews_from_users",
         "type": "\"double\""
        },
        {
         "metadata": "{}",
         "name": "reviews_from_critics",
         "type": "\"double\""
        },
        {
         "metadata": "{}",
         "name": "notebook_epoch_time_movies",
         "type": "\"long\""
        }
       ],
       "type": "table"
      }
     },
     "output_type": "display_data"
    },
    {
     "output_type": "stream",
     "name": "stdout",
     "output_type": "stream",
     "text": [
      "== Physical Plan ==\n*(1) Project [imdb_title_id#12013, title#12014, original_title#12015, year#12016, date_published#12017, genre#12018, duration#12019, country#12020, language#12021, director#12022, writer#12023, production_company#12024, actors#12025, description#12026, avg_vote#12027, votes#12028, budget#12029, usa_gross_income#12030, worlwide_gross_income#12031, metascore#12032, reviews_from_users#12033, reviews_from_critics#12034, 1742662648 AS notebook_epoch_time_movies#12124L]\n+- FileScan csv [imdb_title_id#12013,title#12014,original_title#12015,year#12016,date_published#12017,genre#12018,duration#12019,country#12020,language#12021,director#12022,writer#12023,production_company#12024,actors#12025,description#12026,avg_vote#12027,votes#12028,budget#12029,usa_gross_income#12030,worlwide_gross_income#12031,metascore#12032,reviews_from_users#12033,reviews_from_critics#12034] Batched: false, DataFilters: [], Format: CSV, Location: InMemoryFileIndex(1 paths)[dbfs:/FileStore/tables/Files/movies.csv], PartitionFilters: [], PushedFilters: [], ReadSchema: struct<imdb_title_id:string,title:string,original_title:string,year:string,date_published:string,...\n\n\n"
     ]
    }
   ],
   "source": [
    "moviesWithEpoch = namesDF.withColumn(\"notebook_epoch_time_movies\", unix_timestamp())\n",
    "display(moviesWithEpoch.limit(10))\n",
    "moviesWithEpoch.explain() "
   ]
  },
  {
   "cell_type": "markdown",
   "metadata": {
    "application/vnd.databricks.v1+cell": {
     "cellMetadata": {
      "byteLimit": 2048000,
      "rowLimit": 10000
     },
     "inputWidgets": {},
     "nuid": "af7de3f0-171f-40af-831a-59d1b920da52",
     "showTitle": false,
     "tableResultSettingsMap": {},
     "title": ""
    }
   },
   "source": [
    "2.2 Dodaj kolumnę która wylicza ile lat upłynęło od publikacji filmu"
   ]
  },
  {
   "cell_type": "code",
   "execution_count": 0,
   "metadata": {
    "application/vnd.databricks.v1+cell": {
     "cellMetadata": {
      "byteLimit": 2048000,
      "rowLimit": 10000
     },
     "inputWidgets": {},
     "nuid": "06ea72f5-5fc3-403a-bcbd-914fa687a922",
     "showTitle": false,
     "tableResultSettingsMap": {},
     "title": ""
    }
   },
   "outputs": [
    {
     "output_type": "display_data",
     "data": {
      "text/html": [
       "<style scoped>\n",
       "  .table-result-container {\n",
       "    max-height: 300px;\n",
       "    overflow: auto;\n",
       "  }\n",
       "  table, th, td {\n",
       "    border: 1px solid black;\n",
       "    border-collapse: collapse;\n",
       "  }\n",
       "  th, td {\n",
       "    padding: 5px;\n",
       "  }\n",
       "  th {\n",
       "    text-align: left;\n",
       "  }\n",
       "</style><div class='table-result-container'><table class='table-result'><thead style='background-color: white'><tr><th>imdb_title_id</th><th>title</th><th>original_title</th><th>year</th><th>date_published</th><th>genre</th><th>duration</th><th>country</th><th>language</th><th>director</th><th>writer</th><th>production_company</th><th>actors</th><th>description</th><th>avg_vote</th><th>votes</th><th>budget</th><th>usa_gross_income</th><th>worlwide_gross_income</th><th>metascore</th><th>reviews_from_users</th><th>reviews_from_critics</th><th>notebook_epoch_time_movies</th><th>years_since_published</th></tr></thead><tbody><tr><td>tt0000009</td><td>Miss Jerry</td><td>Miss Jerry</td><td>1894</td><td>1894-10-09</td><td>Romance</td><td>45</td><td>USA</td><td>None</td><td>Alexander Black</td><td>Alexander Black</td><td>Alexander Black Photoplays</td><td>Blanche Bayliss, William Courtenay, Chauncey Depew</td><td>The adventures of a female reporter in the 1890s.</td><td>05.wrz</td><td>154</td><td>null</td><td>null</td><td>null</td><td>null</td><td>1.0</td><td>2.0</td><td>1742662648</td><td>131</td></tr><tr><td>tt0000574</td><td>The Story of the Kelly Gang</td><td>The Story of the Kelly Gang</td><td>1906</td><td>26.12.1906</td><td>Biography, Crime, Drama</td><td>70</td><td>Australia</td><td>None</td><td>Charles Tait</td><td>Charles Tait</td><td>J. and N. Tait</td><td>Elizabeth Tait, John Tait, Norman Campbell, Bella Cola, Will Coyne, Sam Crewes, Jack Ennis, John Forde, Vera Linden, Mr. Marshall, Mr. McKenzie, Frank Mills, Ollie Wilson</td><td>True story of notorious Australian outlaw Ned Kelly (1855-80).</td><td>06.sty</td><td>589</td><td>$ 2250</td><td>null</td><td>null</td><td>null</td><td>7.0</td><td>7.0</td><td>1742662648</td><td>119</td></tr><tr><td>tt0001892</td><td>Den sorte drøm</td><td>Den sorte drøm</td><td>1911</td><td>19.08.1911</td><td>Drama</td><td>53</td><td>Germany, Denmark</td><td>null</td><td>Urban Gad</td><td>Urban Gad, Gebhard Schätzler-Perasini</td><td>Fotorama</td><td>Asta Nielsen, Valdemar Psilander, Gunnar Helsengreen, Emil Albes, Hugo Flink, Mary Hagen</td><td>Two men of high rank are both wooing the beautiful and famous equestrian acrobat Stella. While Stella ignores the jeweler Hirsch, she accepts Count von Waldberg's offer to follow her home, ...</td><td>05.sie</td><td>188</td><td>null</td><td>null</td><td>null</td><td>null</td><td>5.0</td><td>2.0</td><td>1742662648</td><td>114</td></tr><tr><td>tt0002101</td><td>Cleopatra</td><td>Cleopatra</td><td>1912</td><td>13.11.1912</td><td>Drama, History</td><td>100</td><td>USA</td><td>English</td><td>Charles L. Gaskill</td><td>Victorien Sardou</td><td>Helen Gardner Picture Players</td><td>Helen Gardner, Pearl Sindelar, Miss Fielding, Miss Robson, Helene Costello, Charles Sindelar, Mr. Howard, James R. Waite, Mr. Osborne, Harry Knowles, Mr. Paul, Mr. Brady, Mr. Corker</td><td>The fabled queen of Egypt's affair with Roman general Marc Antony is ultimately disastrous for both of them.</td><td>05.lut</td><td>446</td><td>$ 45000</td><td>null</td><td>null</td><td>null</td><td>25.0</td><td>3.0</td><td>1742662648</td><td>113</td></tr><tr><td>tt0002130</td><td>L'Inferno</td><td>L'Inferno</td><td>1911</td><td>06.03.1911</td><td>Adventure, Drama, Fantasy</td><td>68</td><td>Italy</td><td>Italian</td><td>Francesco Bertolini, Adolfo Padovan</td><td>Dante Alighieri</td><td>Milano Film</td><td>Salvatore Papa, Arturo Pirovano, Giuseppe de Liguoro, Pier Delle Vigne, Augusto Milla, Attilio Motta, Emilise Beretta</td><td>Loosely adapted from Dante's Divine Comedy and inspired by the illustrations of Gustav Doré the original silent film has been restored and has a new score by Tangerine Dream.</td><td>7.0</td><td>2237</td><td>null</td><td>null</td><td>null</td><td>null</td><td>31.0</td><td>14.0</td><td>1742662648</td><td>114</td></tr><tr><td>tt0002199</td><td>From the Manger to the Cross or, Jesus of Nazareth</td><td>From the Manger to the Cross or, Jesus of Nazareth</td><td>1912</td><td>1913</td><td>Biography, Drama</td><td>60</td><td>USA</td><td>English</td><td>Sidney Olcott</td><td>Gene Gauntier</td><td>Kalem Company</td><td>R. Henderson Bland, Percy Dyer, Gene Gauntier, Alice Hollister, Samuel Morgan, James D. Ainsley, Robert G. Vignola, George Kellog, J.P. McGowan</td><td>An account of the life of Jesus Christ, based on the books of the New Testament: After Jesus' birth is foretold to his parents, he is born in Bethlehem, and is visited by shepherds and wise...</td><td>05.lip</td><td>484</td><td>null</td><td>null</td><td>null</td><td>null</td><td>13.0</td><td>5.0</td><td>1742662648</td><td>112</td></tr><tr><td>tt0002423</td><td>Madame DuBarry</td><td>Madame DuBarry</td><td>1919</td><td>26.11.1919</td><td>Biography, Drama, Romance</td><td>85</td><td>Germany</td><td>German</td><td>Ernst Lubitsch</td><td>Norbert Falk, Hanns Kräly</td><td>Projektions-AG Union (PAGU)</td><td>Pola Negri, Emil Jannings, Harry Liedtke, Eduard von Winterstein, Reinhold Schünzel, Else Berna, Fred Immler, Gustav Czimeg, Karl Platen, Bernhard Goetzke, Magnus Stifter, Paul Biensfeldt, Willy Kaiser-Heyl, Alexander Ekert, Robert Sortsch-Pla</td><td>The story of Madame DuBarry, the mistress of Louis XV of France, and her loves in the time of the French revolution.</td><td>06.sie</td><td>753</td><td>null</td><td>null</td><td>null</td><td>null</td><td>12.0</td><td>9.0</td><td>1742662648</td><td>106</td></tr><tr><td>tt0002445</td><td>Quo Vadis?</td><td>Quo Vadis?</td><td>1913</td><td>01.03.1913</td><td>Drama, History</td><td>120</td><td>Italy</td><td>Italian</td><td>Enrico Guazzoni</td><td>Henryk Sienkiewicz, Enrico Guazzoni</td><td>Società Italiana Cines</td><td>Amleto Novelli, Gustavo Serena, Carlo Cattaneo, Amelia Cattaneo, Lea Giunchi, Bruto Castellani, Augusto Mastripietri, Cesare Moltini, Olga Brandini, Ignazio Lupi, Giovanni Gizzi, Lia Orlandini, Matilde Guillaume, Ida Carloni Talli, Giuseppe Gambardella</td><td>An epic Italian film Quo Vadis influenced many of the later movies.</td><td>06.lut</td><td>273</td><td>ITL 45000</td><td>null</td><td>null</td><td>null</td><td>7.0</td><td>5.0</td><td>1742662648</td><td>112</td></tr><tr><td>tt0002452</td><td>Independenta Romaniei</td><td>Independenta Romaniei</td><td>1912</td><td>01.09.1912</td><td>History, War</td><td>120</td><td>Romania</td><td>null</td><td>Aristide Demetriade, Grigore Brezeanu</td><td>Aristide Demetriade, Petre Liciu</td><td>Societatea Filmului de Arta Leon Popescu</td><td>Aristide Demetriade, Constanta Demetriade, Constantin Nottara, Pepi Machauer, Aurel Athanasescu, Jeny Metaxa-Doro, Nicolae Soreanu, Vasile Toneanu, Aristita Romanescu, Elvire Popesco, M. Vîrgolici, C. Nedelcovici, Mihail Tancovici-Cosmin, Ion Dumitrescu, Gheorghe Meliseanu</td><td>The movie depicts the Romanian War of Independence (1877-1878).</td><td>06.lip</td><td>198</td><td>ROL 400000</td><td>null</td><td>null</td><td>null</td><td>4.0</td><td>1.0</td><td>1742662648</td><td>113</td></tr><tr><td>tt0002461</td><td>Richard III</td><td>Richard III</td><td>1912</td><td>15.10.1912</td><td>Drama</td><td>55</td><td>France, USA</td><td>English</td><td>André Calmettes, James Keane</td><td>James Keane, William Shakespeare</td><td>Le Film d'Art</td><td>Robert Gemp, Frederick Warde, Albert Gardner, James Keane, George Moss, Howard Stuart, Virginia Rankin, Violet Stuart, Carey Lee, Carlotta De Felice</td><td>Richard of Gloucester uses manipulation and murder to gain the English throne.</td><td>05.maj</td><td>225</td><td>$ 30000</td><td>null</td><td>null</td><td>null</td><td>8.0</td><td>1.0</td><td>1742662648</td><td>113</td></tr></tbody></table></div>"
      ]
     },
     "metadata": {
      "application/vnd.databricks.v1+output": {
       "addedWidgets": {},
       "aggData": [],
       "aggError": "",
       "aggOverflow": false,
       "aggSchema": [],
       "aggSeriesLimitReached": false,
       "aggType": "",
       "arguments": {},
       "columnCustomDisplayInfos": {},
       "data": [
        [
         "tt0000009",
         "Miss Jerry",
         "Miss Jerry",
         "1894",
         "1894-10-09",
         "Romance",
         45,
         "USA",
         "None",
         "Alexander Black",
         "Alexander Black",
         "Alexander Black Photoplays",
         "Blanche Bayliss, William Courtenay, Chauncey Depew",
         "The adventures of a female reporter in the 1890s.",
         "05.wrz",
         154,
         null,
         null,
         null,
         null,
         1.0,
         2.0,
         1742662648,
         131
        ],
        [
         "tt0000574",
         "The Story of the Kelly Gang",
         "The Story of the Kelly Gang",
         "1906",
         "26.12.1906",
         "Biography, Crime, Drama",
         70,
         "Australia",
         "None",
         "Charles Tait",
         "Charles Tait",
         "J. and N. Tait",
         "Elizabeth Tait, John Tait, Norman Campbell, Bella Cola, Will Coyne, Sam Crewes, Jack Ennis, John Forde, Vera Linden, Mr. Marshall, Mr. McKenzie, Frank Mills, Ollie Wilson",
         "True story of notorious Australian outlaw Ned Kelly (1855-80).",
         "06.sty",
         589,
         "$ 2250",
         null,
         null,
         null,
         7.0,
         7.0,
         1742662648,
         119
        ],
        [
         "tt0001892",
         "Den sorte drøm",
         "Den sorte drøm",
         "1911",
         "19.08.1911",
         "Drama",
         53,
         "Germany, Denmark",
         null,
         "Urban Gad",
         "Urban Gad, Gebhard Schätzler-Perasini",
         "Fotorama",
         "Asta Nielsen, Valdemar Psilander, Gunnar Helsengreen, Emil Albes, Hugo Flink, Mary Hagen",
         "Two men of high rank are both wooing the beautiful and famous equestrian acrobat Stella. While Stella ignores the jeweler Hirsch, she accepts Count von Waldberg's offer to follow her home, ...",
         "05.sie",
         188,
         null,
         null,
         null,
         null,
         5.0,
         2.0,
         1742662648,
         114
        ],
        [
         "tt0002101",
         "Cleopatra",
         "Cleopatra",
         "1912",
         "13.11.1912",
         "Drama, History",
         100,
         "USA",
         "English",
         "Charles L. Gaskill",
         "Victorien Sardou",
         "Helen Gardner Picture Players",
         "Helen Gardner, Pearl Sindelar, Miss Fielding, Miss Robson, Helene Costello, Charles Sindelar, Mr. Howard, James R. Waite, Mr. Osborne, Harry Knowles, Mr. Paul, Mr. Brady, Mr. Corker",
         "The fabled queen of Egypt's affair with Roman general Marc Antony is ultimately disastrous for both of them.",
         "05.lut",
         446,
         "$ 45000",
         null,
         null,
         null,
         25.0,
         3.0,
         1742662648,
         113
        ],
        [
         "tt0002130",
         "L'Inferno",
         "L'Inferno",
         "1911",
         "06.03.1911",
         "Adventure, Drama, Fantasy",
         68,
         "Italy",
         "Italian",
         "Francesco Bertolini, Adolfo Padovan",
         "Dante Alighieri",
         "Milano Film",
         "Salvatore Papa, Arturo Pirovano, Giuseppe de Liguoro, Pier Delle Vigne, Augusto Milla, Attilio Motta, Emilise Beretta",
         "Loosely adapted from Dante's Divine Comedy and inspired by the illustrations of Gustav Doré the original silent film has been restored and has a new score by Tangerine Dream.",
         "7.0",
         2237,
         null,
         null,
         null,
         null,
         31.0,
         14.0,
         1742662648,
         114
        ],
        [
         "tt0002199",
         "From the Manger to the Cross or, Jesus of Nazareth",
         "From the Manger to the Cross or, Jesus of Nazareth",
         "1912",
         "1913",
         "Biography, Drama",
         60,
         "USA",
         "English",
         "Sidney Olcott",
         "Gene Gauntier",
         "Kalem Company",
         "R. Henderson Bland, Percy Dyer, Gene Gauntier, Alice Hollister, Samuel Morgan, James D. Ainsley, Robert G. Vignola, George Kellog, J.P. McGowan",
         "An account of the life of Jesus Christ, based on the books of the New Testament: After Jesus' birth is foretold to his parents, he is born in Bethlehem, and is visited by shepherds and wise...",
         "05.lip",
         484,
         null,
         null,
         null,
         null,
         13.0,
         5.0,
         1742662648,
         112
        ],
        [
         "tt0002423",
         "Madame DuBarry",
         "Madame DuBarry",
         "1919",
         "26.11.1919",
         "Biography, Drama, Romance",
         85,
         "Germany",
         "German",
         "Ernst Lubitsch",
         "Norbert Falk, Hanns Kräly",
         "Projektions-AG Union (PAGU)",
         "Pola Negri, Emil Jannings, Harry Liedtke, Eduard von Winterstein, Reinhold Schünzel, Else Berna, Fred Immler, Gustav Czimeg, Karl Platen, Bernhard Goetzke, Magnus Stifter, Paul Biensfeldt, Willy Kaiser-Heyl, Alexander Ekert, Robert Sortsch-Pla",
         "The story of Madame DuBarry, the mistress of Louis XV of France, and her loves in the time of the French revolution.",
         "06.sie",
         753,
         null,
         null,
         null,
         null,
         12.0,
         9.0,
         1742662648,
         106
        ],
        [
         "tt0002445",
         "Quo Vadis?",
         "Quo Vadis?",
         "1913",
         "01.03.1913",
         "Drama, History",
         120,
         "Italy",
         "Italian",
         "Enrico Guazzoni",
         "Henryk Sienkiewicz, Enrico Guazzoni",
         "Società Italiana Cines",
         "Amleto Novelli, Gustavo Serena, Carlo Cattaneo, Amelia Cattaneo, Lea Giunchi, Bruto Castellani, Augusto Mastripietri, Cesare Moltini, Olga Brandini, Ignazio Lupi, Giovanni Gizzi, Lia Orlandini, Matilde Guillaume, Ida Carloni Talli, Giuseppe Gambardella",
         "An epic Italian film Quo Vadis influenced many of the later movies.",
         "06.lut",
         273,
         "ITL 45000",
         null,
         null,
         null,
         7.0,
         5.0,
         1742662648,
         112
        ],
        [
         "tt0002452",
         "Independenta Romaniei",
         "Independenta Romaniei",
         "1912",
         "01.09.1912",
         "History, War",
         120,
         "Romania",
         null,
         "Aristide Demetriade, Grigore Brezeanu",
         "Aristide Demetriade, Petre Liciu",
         "Societatea Filmului de Arta Leon Popescu",
         "Aristide Demetriade, Constanta Demetriade, Constantin Nottara, Pepi Machauer, Aurel Athanasescu, Jeny Metaxa-Doro, Nicolae Soreanu, Vasile Toneanu, Aristita Romanescu, Elvire Popesco, M. Vîrgolici, C. Nedelcovici, Mihail Tancovici-Cosmin, Ion Dumitrescu, Gheorghe Meliseanu",
         "The movie depicts the Romanian War of Independence (1877-1878).",
         "06.lip",
         198,
         "ROL 400000",
         null,
         null,
         null,
         4.0,
         1.0,
         1742662648,
         113
        ],
        [
         "tt0002461",
         "Richard III",
         "Richard III",
         "1912",
         "15.10.1912",
         "Drama",
         55,
         "France, USA",
         "English",
         "André Calmettes, James Keane",
         "James Keane, William Shakespeare",
         "Le Film d'Art",
         "Robert Gemp, Frederick Warde, Albert Gardner, James Keane, George Moss, Howard Stuart, Virginia Rankin, Violet Stuart, Carey Lee, Carlotta De Felice",
         "Richard of Gloucester uses manipulation and murder to gain the English throne.",
         "05.maj",
         225,
         "$ 30000",
         null,
         null,
         null,
         8.0,
         1.0,
         1742662648,
         113
        ]
       ],
       "datasetInfos": [],
       "dbfsResultPath": null,
       "isJsonSchema": true,
       "metadata": {},
       "overflow": false,
       "plotOptions": {
        "customPlotOptions": {},
        "displayType": "table",
        "pivotAggregation": null,
        "pivotColumns": null,
        "xColumns": null,
        "yColumns": null
       },
       "removedWidgets": [],
       "schema": [
        {
         "metadata": "{}",
         "name": "imdb_title_id",
         "type": "\"string\""
        },
        {
         "metadata": "{}",
         "name": "title",
         "type": "\"string\""
        },
        {
         "metadata": "{}",
         "name": "original_title",
         "type": "\"string\""
        },
        {
         "metadata": "{}",
         "name": "year",
         "type": "\"string\""
        },
        {
         "metadata": "{}",
         "name": "date_published",
         "type": "\"string\""
        },
        {
         "metadata": "{}",
         "name": "genre",
         "type": "\"string\""
        },
        {
         "metadata": "{}",
         "name": "duration",
         "type": "\"integer\""
        },
        {
         "metadata": "{}",
         "name": "country",
         "type": "\"string\""
        },
        {
         "metadata": "{}",
         "name": "language",
         "type": "\"string\""
        },
        {
         "metadata": "{}",
         "name": "director",
         "type": "\"string\""
        },
        {
         "metadata": "{}",
         "name": "writer",
         "type": "\"string\""
        },
        {
         "metadata": "{}",
         "name": "production_company",
         "type": "\"string\""
        },
        {
         "metadata": "{}",
         "name": "actors",
         "type": "\"string\""
        },
        {
         "metadata": "{}",
         "name": "description",
         "type": "\"string\""
        },
        {
         "metadata": "{}",
         "name": "avg_vote",
         "type": "\"string\""
        },
        {
         "metadata": "{}",
         "name": "votes",
         "type": "\"integer\""
        },
        {
         "metadata": "{}",
         "name": "budget",
         "type": "\"string\""
        },
        {
         "metadata": "{}",
         "name": "usa_gross_income",
         "type": "\"string\""
        },
        {
         "metadata": "{}",
         "name": "worlwide_gross_income",
         "type": "\"string\""
        },
        {
         "metadata": "{}",
         "name": "metascore",
         "type": "\"double\""
        },
        {
         "metadata": "{}",
         "name": "reviews_from_users",
         "type": "\"double\""
        },
        {
         "metadata": "{}",
         "name": "reviews_from_critics",
         "type": "\"double\""
        },
        {
         "metadata": "{}",
         "name": "notebook_epoch_time_movies",
         "type": "\"long\""
        },
        {
         "metadata": "{}",
         "name": "years_since_published",
         "type": "\"integer\""
        }
       ],
       "type": "table"
      }
     },
     "output_type": "display_data"
    },
    {
     "output_type": "stream",
     "name": "stdout",
     "output_type": "stream",
     "text": [
      "== Physical Plan ==\n*(1) Project [imdb_title_id#12013, title#12014, original_title#12015, year#12016, date_published#12017, genre#12018, duration#12019, country#12020, language#12021, director#12022, writer#12023, production_company#12024, actors#12025, description#12026, avg_vote#12027, votes#12028, budget#12029, usa_gross_income#12030, worlwide_gross_income#12031, metascore#12032, reviews_from_users#12033, reviews_from_critics#12034, 1742662649 AS notebook_epoch_time_movies#12124L, CASE WHEN isnotnull(cast(gettimestamp(date_published#12017, yyyy-MM-dd, TimestampType, Some(Etc/UTC), false) as date)) THEN (2025 - year(cast(gettimestamp(date_published#12017, yyyy-MM-dd, TimestampType, Some(Etc/UTC), false) as date))) WHEN isnotnull(cast(gettimestamp(date_published#12017, dd.MM.yyyy, TimestampType, Some(Etc/UTC), false) as date)) THEN (2025 - year(cast(gettimestamp(date_published#12017, dd.MM.yyyy, TimestampType, Some(Etc/UTC), false) as date))) WHEN isnotnull(cast(gettimestamp(date_published#12017, yyyy, TimestampType, Some(Etc/UTC), false) as date)) THEN (2025 - year(cast(gettimestamp(date_published#12017, yyyy, TimestampType, Some(Etc/UTC), false) as date))) END AS years_since_published#12218]\n+- FileScan csv [imdb_title_id#12013,title#12014,original_title#12015,year#12016,date_published#12017,genre#12018,duration#12019,country#12020,language#12021,director#12022,writer#12023,production_company#12024,actors#12025,description#12026,avg_vote#12027,votes#12028,budget#12029,usa_gross_income#12030,worlwide_gross_income#12031,metascore#12032,reviews_from_users#12033,reviews_from_critics#12034] Batched: false, DataFilters: [], Format: CSV, Location: InMemoryFileIndex(1 paths)[dbfs:/FileStore/tables/Files/movies.csv], PartitionFilters: [], PushedFilters: [], ReadSchema: struct<imdb_title_id:string,title:string,original_title:string,year:string,date_published:string,...\n\n\n"
     ]
    }
   ],
   "source": [
    "def convert_and_calculate_years_directly(df, date_col):\n",
    "    \n",
    "    df = df.withColumn(\n",
    "        \"years_since_published\",\n",
    "        when(to_date(col(date_col), \"yyyy-MM-dd\").isNotNull(), year(current_date()) - year(to_date(col(date_col), \"yyyy-MM-dd\")))\n",
    "        .when(to_date(col(date_col), \"dd.MM.yyyy\").isNotNull(), year(current_date()) - year(to_date(col(date_col), \"dd.MM.yyyy\")))\n",
    "        .when(to_date(col(date_col), \"yyyy\").isNotNull(), year(current_date()) - year(to_date(col(date_col), \"yyyy\")))\n",
    "        .otherwise(None)\n",
    "    )\n",
    "    \n",
    "    return df\n",
    "\n",
    "namesDfWithYearsSinceRelease = convert_and_calculate_years_directly(moviesWithEpoch, \"date_published\")\n",
    "display(namesDfWithYearsSinceRelease.limit(10))\n",
    "namesDfWithYearsSinceRelease.explain() "
   ]
  },
  {
   "cell_type": "markdown",
   "metadata": {
    "application/vnd.databricks.v1+cell": {
     "cellMetadata": {
      "byteLimit": 2048000,
      "rowLimit": 10000
     },
     "inputWidgets": {},
     "nuid": "0f5705c7-7a60-4255-bbd3-7e52d402ee53",
     "showTitle": false,
     "tableResultSettingsMap": {},
     "title": ""
    }
   },
   "source": [
    "2.3 Dodaj kolumnę która pokaże budżet filmu jako wartość numeryczną, (trzeba usunac znaki walut)"
   ]
  },
  {
   "cell_type": "code",
   "execution_count": 0,
   "metadata": {
    "application/vnd.databricks.v1+cell": {
     "cellMetadata": {
      "byteLimit": 2048000,
      "rowLimit": 10000
     },
     "inputWidgets": {},
     "nuid": "ed2e0768-f230-42e7-a137-5e719452a7d9",
     "showTitle": false,
     "tableResultSettingsMap": {},
     "title": ""
    }
   },
   "outputs": [
    {
     "output_type": "display_data",
     "data": {
      "text/html": [
       "<style scoped>\n",
       "  .table-result-container {\n",
       "    max-height: 300px;\n",
       "    overflow: auto;\n",
       "  }\n",
       "  table, th, td {\n",
       "    border: 1px solid black;\n",
       "    border-collapse: collapse;\n",
       "  }\n",
       "  th, td {\n",
       "    padding: 5px;\n",
       "  }\n",
       "  th {\n",
       "    text-align: left;\n",
       "  }\n",
       "</style><div class='table-result-container'><table class='table-result'><thead style='background-color: white'><tr><th>imdb_title_id</th><th>title</th><th>original_title</th><th>year</th><th>date_published</th><th>genre</th><th>duration</th><th>country</th><th>language</th><th>director</th><th>writer</th><th>production_company</th><th>actors</th><th>description</th><th>avg_vote</th><th>votes</th><th>budget</th><th>usa_gross_income</th><th>worlwide_gross_income</th><th>metascore</th><th>reviews_from_users</th><th>reviews_from_critics</th><th>notebook_epoch_time_movies</th><th>years_since_published</th><th>numeric_budget</th></tr></thead><tbody><tr><td>tt0000009</td><td>Miss Jerry</td><td>Miss Jerry</td><td>1894</td><td>1894-10-09</td><td>Romance</td><td>45</td><td>USA</td><td>None</td><td>Alexander Black</td><td>Alexander Black</td><td>Alexander Black Photoplays</td><td>Blanche Bayliss, William Courtenay, Chauncey Depew</td><td>The adventures of a female reporter in the 1890s.</td><td>05.wrz</td><td>154</td><td>null</td><td>null</td><td>null</td><td>null</td><td>1.0</td><td>2.0</td><td>1742662649</td><td>131</td><td>null</td></tr><tr><td>tt0000574</td><td>The Story of the Kelly Gang</td><td>The Story of the Kelly Gang</td><td>1906</td><td>26.12.1906</td><td>Biography, Crime, Drama</td><td>70</td><td>Australia</td><td>None</td><td>Charles Tait</td><td>Charles Tait</td><td>J. and N. Tait</td><td>Elizabeth Tait, John Tait, Norman Campbell, Bella Cola, Will Coyne, Sam Crewes, Jack Ennis, John Forde, Vera Linden, Mr. Marshall, Mr. McKenzie, Frank Mills, Ollie Wilson</td><td>True story of notorious Australian outlaw Ned Kelly (1855-80).</td><td>06.sty</td><td>589</td><td>$ 2250</td><td>null</td><td>null</td><td>null</td><td>7.0</td><td>7.0</td><td>1742662649</td><td>119</td><td>2250.0</td></tr><tr><td>tt0001892</td><td>Den sorte drøm</td><td>Den sorte drøm</td><td>1911</td><td>19.08.1911</td><td>Drama</td><td>53</td><td>Germany, Denmark</td><td>null</td><td>Urban Gad</td><td>Urban Gad, Gebhard Schätzler-Perasini</td><td>Fotorama</td><td>Asta Nielsen, Valdemar Psilander, Gunnar Helsengreen, Emil Albes, Hugo Flink, Mary Hagen</td><td>Two men of high rank are both wooing the beautiful and famous equestrian acrobat Stella. While Stella ignores the jeweler Hirsch, she accepts Count von Waldberg's offer to follow her home, ...</td><td>05.sie</td><td>188</td><td>null</td><td>null</td><td>null</td><td>null</td><td>5.0</td><td>2.0</td><td>1742662649</td><td>114</td><td>null</td></tr><tr><td>tt0002101</td><td>Cleopatra</td><td>Cleopatra</td><td>1912</td><td>13.11.1912</td><td>Drama, History</td><td>100</td><td>USA</td><td>English</td><td>Charles L. Gaskill</td><td>Victorien Sardou</td><td>Helen Gardner Picture Players</td><td>Helen Gardner, Pearl Sindelar, Miss Fielding, Miss Robson, Helene Costello, Charles Sindelar, Mr. Howard, James R. Waite, Mr. Osborne, Harry Knowles, Mr. Paul, Mr. Brady, Mr. Corker</td><td>The fabled queen of Egypt's affair with Roman general Marc Antony is ultimately disastrous for both of them.</td><td>05.lut</td><td>446</td><td>$ 45000</td><td>null</td><td>null</td><td>null</td><td>25.0</td><td>3.0</td><td>1742662649</td><td>113</td><td>45000.0</td></tr><tr><td>tt0002130</td><td>L'Inferno</td><td>L'Inferno</td><td>1911</td><td>06.03.1911</td><td>Adventure, Drama, Fantasy</td><td>68</td><td>Italy</td><td>Italian</td><td>Francesco Bertolini, Adolfo Padovan</td><td>Dante Alighieri</td><td>Milano Film</td><td>Salvatore Papa, Arturo Pirovano, Giuseppe de Liguoro, Pier Delle Vigne, Augusto Milla, Attilio Motta, Emilise Beretta</td><td>Loosely adapted from Dante's Divine Comedy and inspired by the illustrations of Gustav Doré the original silent film has been restored and has a new score by Tangerine Dream.</td><td>7.0</td><td>2237</td><td>null</td><td>null</td><td>null</td><td>null</td><td>31.0</td><td>14.0</td><td>1742662649</td><td>114</td><td>null</td></tr><tr><td>tt0002199</td><td>From the Manger to the Cross or, Jesus of Nazareth</td><td>From the Manger to the Cross or, Jesus of Nazareth</td><td>1912</td><td>1913</td><td>Biography, Drama</td><td>60</td><td>USA</td><td>English</td><td>Sidney Olcott</td><td>Gene Gauntier</td><td>Kalem Company</td><td>R. Henderson Bland, Percy Dyer, Gene Gauntier, Alice Hollister, Samuel Morgan, James D. Ainsley, Robert G. Vignola, George Kellog, J.P. McGowan</td><td>An account of the life of Jesus Christ, based on the books of the New Testament: After Jesus' birth is foretold to his parents, he is born in Bethlehem, and is visited by shepherds and wise...</td><td>05.lip</td><td>484</td><td>null</td><td>null</td><td>null</td><td>null</td><td>13.0</td><td>5.0</td><td>1742662649</td><td>112</td><td>null</td></tr><tr><td>tt0002423</td><td>Madame DuBarry</td><td>Madame DuBarry</td><td>1919</td><td>26.11.1919</td><td>Biography, Drama, Romance</td><td>85</td><td>Germany</td><td>German</td><td>Ernst Lubitsch</td><td>Norbert Falk, Hanns Kräly</td><td>Projektions-AG Union (PAGU)</td><td>Pola Negri, Emil Jannings, Harry Liedtke, Eduard von Winterstein, Reinhold Schünzel, Else Berna, Fred Immler, Gustav Czimeg, Karl Platen, Bernhard Goetzke, Magnus Stifter, Paul Biensfeldt, Willy Kaiser-Heyl, Alexander Ekert, Robert Sortsch-Pla</td><td>The story of Madame DuBarry, the mistress of Louis XV of France, and her loves in the time of the French revolution.</td><td>06.sie</td><td>753</td><td>null</td><td>null</td><td>null</td><td>null</td><td>12.0</td><td>9.0</td><td>1742662649</td><td>106</td><td>null</td></tr><tr><td>tt0002445</td><td>Quo Vadis?</td><td>Quo Vadis?</td><td>1913</td><td>01.03.1913</td><td>Drama, History</td><td>120</td><td>Italy</td><td>Italian</td><td>Enrico Guazzoni</td><td>Henryk Sienkiewicz, Enrico Guazzoni</td><td>Società Italiana Cines</td><td>Amleto Novelli, Gustavo Serena, Carlo Cattaneo, Amelia Cattaneo, Lea Giunchi, Bruto Castellani, Augusto Mastripietri, Cesare Moltini, Olga Brandini, Ignazio Lupi, Giovanni Gizzi, Lia Orlandini, Matilde Guillaume, Ida Carloni Talli, Giuseppe Gambardella</td><td>An epic Italian film Quo Vadis influenced many of the later movies.</td><td>06.lut</td><td>273</td><td>ITL 45000</td><td>null</td><td>null</td><td>null</td><td>7.0</td><td>5.0</td><td>1742662649</td><td>112</td><td>45000.0</td></tr><tr><td>tt0002452</td><td>Independenta Romaniei</td><td>Independenta Romaniei</td><td>1912</td><td>01.09.1912</td><td>History, War</td><td>120</td><td>Romania</td><td>null</td><td>Aristide Demetriade, Grigore Brezeanu</td><td>Aristide Demetriade, Petre Liciu</td><td>Societatea Filmului de Arta Leon Popescu</td><td>Aristide Demetriade, Constanta Demetriade, Constantin Nottara, Pepi Machauer, Aurel Athanasescu, Jeny Metaxa-Doro, Nicolae Soreanu, Vasile Toneanu, Aristita Romanescu, Elvire Popesco, M. Vîrgolici, C. Nedelcovici, Mihail Tancovici-Cosmin, Ion Dumitrescu, Gheorghe Meliseanu</td><td>The movie depicts the Romanian War of Independence (1877-1878).</td><td>06.lip</td><td>198</td><td>ROL 400000</td><td>null</td><td>null</td><td>null</td><td>4.0</td><td>1.0</td><td>1742662649</td><td>113</td><td>400000.0</td></tr><tr><td>tt0002461</td><td>Richard III</td><td>Richard III</td><td>1912</td><td>15.10.1912</td><td>Drama</td><td>55</td><td>France, USA</td><td>English</td><td>André Calmettes, James Keane</td><td>James Keane, William Shakespeare</td><td>Le Film d'Art</td><td>Robert Gemp, Frederick Warde, Albert Gardner, James Keane, George Moss, Howard Stuart, Virginia Rankin, Violet Stuart, Carey Lee, Carlotta De Felice</td><td>Richard of Gloucester uses manipulation and murder to gain the English throne.</td><td>05.maj</td><td>225</td><td>$ 30000</td><td>null</td><td>null</td><td>null</td><td>8.0</td><td>1.0</td><td>1742662649</td><td>113</td><td>30000.0</td></tr></tbody></table></div>"
      ]
     },
     "metadata": {
      "application/vnd.databricks.v1+output": {
       "addedWidgets": {},
       "aggData": [],
       "aggError": "",
       "aggOverflow": false,
       "aggSchema": [],
       "aggSeriesLimitReached": false,
       "aggType": "",
       "arguments": {},
       "columnCustomDisplayInfos": {},
       "data": [
        [
         "tt0000009",
         "Miss Jerry",
         "Miss Jerry",
         "1894",
         "1894-10-09",
         "Romance",
         45,
         "USA",
         "None",
         "Alexander Black",
         "Alexander Black",
         "Alexander Black Photoplays",
         "Blanche Bayliss, William Courtenay, Chauncey Depew",
         "The adventures of a female reporter in the 1890s.",
         "05.wrz",
         154,
         null,
         null,
         null,
         null,
         1.0,
         2.0,
         1742662649,
         131,
         null
        ],
        [
         "tt0000574",
         "The Story of the Kelly Gang",
         "The Story of the Kelly Gang",
         "1906",
         "26.12.1906",
         "Biography, Crime, Drama",
         70,
         "Australia",
         "None",
         "Charles Tait",
         "Charles Tait",
         "J. and N. Tait",
         "Elizabeth Tait, John Tait, Norman Campbell, Bella Cola, Will Coyne, Sam Crewes, Jack Ennis, John Forde, Vera Linden, Mr. Marshall, Mr. McKenzie, Frank Mills, Ollie Wilson",
         "True story of notorious Australian outlaw Ned Kelly (1855-80).",
         "06.sty",
         589,
         "$ 2250",
         null,
         null,
         null,
         7.0,
         7.0,
         1742662649,
         119,
         2250.0
        ],
        [
         "tt0001892",
         "Den sorte drøm",
         "Den sorte drøm",
         "1911",
         "19.08.1911",
         "Drama",
         53,
         "Germany, Denmark",
         null,
         "Urban Gad",
         "Urban Gad, Gebhard Schätzler-Perasini",
         "Fotorama",
         "Asta Nielsen, Valdemar Psilander, Gunnar Helsengreen, Emil Albes, Hugo Flink, Mary Hagen",
         "Two men of high rank are both wooing the beautiful and famous equestrian acrobat Stella. While Stella ignores the jeweler Hirsch, she accepts Count von Waldberg's offer to follow her home, ...",
         "05.sie",
         188,
         null,
         null,
         null,
         null,
         5.0,
         2.0,
         1742662649,
         114,
         null
        ],
        [
         "tt0002101",
         "Cleopatra",
         "Cleopatra",
         "1912",
         "13.11.1912",
         "Drama, History",
         100,
         "USA",
         "English",
         "Charles L. Gaskill",
         "Victorien Sardou",
         "Helen Gardner Picture Players",
         "Helen Gardner, Pearl Sindelar, Miss Fielding, Miss Robson, Helene Costello, Charles Sindelar, Mr. Howard, James R. Waite, Mr. Osborne, Harry Knowles, Mr. Paul, Mr. Brady, Mr. Corker",
         "The fabled queen of Egypt's affair with Roman general Marc Antony is ultimately disastrous for both of them.",
         "05.lut",
         446,
         "$ 45000",
         null,
         null,
         null,
         25.0,
         3.0,
         1742662649,
         113,
         45000.0
        ],
        [
         "tt0002130",
         "L'Inferno",
         "L'Inferno",
         "1911",
         "06.03.1911",
         "Adventure, Drama, Fantasy",
         68,
         "Italy",
         "Italian",
         "Francesco Bertolini, Adolfo Padovan",
         "Dante Alighieri",
         "Milano Film",
         "Salvatore Papa, Arturo Pirovano, Giuseppe de Liguoro, Pier Delle Vigne, Augusto Milla, Attilio Motta, Emilise Beretta",
         "Loosely adapted from Dante's Divine Comedy and inspired by the illustrations of Gustav Doré the original silent film has been restored and has a new score by Tangerine Dream.",
         "7.0",
         2237,
         null,
         null,
         null,
         null,
         31.0,
         14.0,
         1742662649,
         114,
         null
        ],
        [
         "tt0002199",
         "From the Manger to the Cross or, Jesus of Nazareth",
         "From the Manger to the Cross or, Jesus of Nazareth",
         "1912",
         "1913",
         "Biography, Drama",
         60,
         "USA",
         "English",
         "Sidney Olcott",
         "Gene Gauntier",
         "Kalem Company",
         "R. Henderson Bland, Percy Dyer, Gene Gauntier, Alice Hollister, Samuel Morgan, James D. Ainsley, Robert G. Vignola, George Kellog, J.P. McGowan",
         "An account of the life of Jesus Christ, based on the books of the New Testament: After Jesus' birth is foretold to his parents, he is born in Bethlehem, and is visited by shepherds and wise...",
         "05.lip",
         484,
         null,
         null,
         null,
         null,
         13.0,
         5.0,
         1742662649,
         112,
         null
        ],
        [
         "tt0002423",
         "Madame DuBarry",
         "Madame DuBarry",
         "1919",
         "26.11.1919",
         "Biography, Drama, Romance",
         85,
         "Germany",
         "German",
         "Ernst Lubitsch",
         "Norbert Falk, Hanns Kräly",
         "Projektions-AG Union (PAGU)",
         "Pola Negri, Emil Jannings, Harry Liedtke, Eduard von Winterstein, Reinhold Schünzel, Else Berna, Fred Immler, Gustav Czimeg, Karl Platen, Bernhard Goetzke, Magnus Stifter, Paul Biensfeldt, Willy Kaiser-Heyl, Alexander Ekert, Robert Sortsch-Pla",
         "The story of Madame DuBarry, the mistress of Louis XV of France, and her loves in the time of the French revolution.",
         "06.sie",
         753,
         null,
         null,
         null,
         null,
         12.0,
         9.0,
         1742662649,
         106,
         null
        ],
        [
         "tt0002445",
         "Quo Vadis?",
         "Quo Vadis?",
         "1913",
         "01.03.1913",
         "Drama, History",
         120,
         "Italy",
         "Italian",
         "Enrico Guazzoni",
         "Henryk Sienkiewicz, Enrico Guazzoni",
         "Società Italiana Cines",
         "Amleto Novelli, Gustavo Serena, Carlo Cattaneo, Amelia Cattaneo, Lea Giunchi, Bruto Castellani, Augusto Mastripietri, Cesare Moltini, Olga Brandini, Ignazio Lupi, Giovanni Gizzi, Lia Orlandini, Matilde Guillaume, Ida Carloni Talli, Giuseppe Gambardella",
         "An epic Italian film Quo Vadis influenced many of the later movies.",
         "06.lut",
         273,
         "ITL 45000",
         null,
         null,
         null,
         7.0,
         5.0,
         1742662649,
         112,
         45000.0
        ],
        [
         "tt0002452",
         "Independenta Romaniei",
         "Independenta Romaniei",
         "1912",
         "01.09.1912",
         "History, War",
         120,
         "Romania",
         null,
         "Aristide Demetriade, Grigore Brezeanu",
         "Aristide Demetriade, Petre Liciu",
         "Societatea Filmului de Arta Leon Popescu",
         "Aristide Demetriade, Constanta Demetriade, Constantin Nottara, Pepi Machauer, Aurel Athanasescu, Jeny Metaxa-Doro, Nicolae Soreanu, Vasile Toneanu, Aristita Romanescu, Elvire Popesco, M. Vîrgolici, C. Nedelcovici, Mihail Tancovici-Cosmin, Ion Dumitrescu, Gheorghe Meliseanu",
         "The movie depicts the Romanian War of Independence (1877-1878).",
         "06.lip",
         198,
         "ROL 400000",
         null,
         null,
         null,
         4.0,
         1.0,
         1742662649,
         113,
         400000.0
        ],
        [
         "tt0002461",
         "Richard III",
         "Richard III",
         "1912",
         "15.10.1912",
         "Drama",
         55,
         "France, USA",
         "English",
         "André Calmettes, James Keane",
         "James Keane, William Shakespeare",
         "Le Film d'Art",
         "Robert Gemp, Frederick Warde, Albert Gardner, James Keane, George Moss, Howard Stuart, Virginia Rankin, Violet Stuart, Carey Lee, Carlotta De Felice",
         "Richard of Gloucester uses manipulation and murder to gain the English throne.",
         "05.maj",
         225,
         "$ 30000",
         null,
         null,
         null,
         8.0,
         1.0,
         1742662649,
         113,
         30000.0
        ]
       ],
       "datasetInfos": [],
       "dbfsResultPath": null,
       "isJsonSchema": true,
       "metadata": {},
       "overflow": false,
       "plotOptions": {
        "customPlotOptions": {},
        "displayType": "table",
        "pivotAggregation": null,
        "pivotColumns": null,
        "xColumns": null,
        "yColumns": null
       },
       "removedWidgets": [],
       "schema": [
        {
         "metadata": "{}",
         "name": "imdb_title_id",
         "type": "\"string\""
        },
        {
         "metadata": "{}",
         "name": "title",
         "type": "\"string\""
        },
        {
         "metadata": "{}",
         "name": "original_title",
         "type": "\"string\""
        },
        {
         "metadata": "{}",
         "name": "year",
         "type": "\"string\""
        },
        {
         "metadata": "{}",
         "name": "date_published",
         "type": "\"string\""
        },
        {
         "metadata": "{}",
         "name": "genre",
         "type": "\"string\""
        },
        {
         "metadata": "{}",
         "name": "duration",
         "type": "\"integer\""
        },
        {
         "metadata": "{}",
         "name": "country",
         "type": "\"string\""
        },
        {
         "metadata": "{}",
         "name": "language",
         "type": "\"string\""
        },
        {
         "metadata": "{}",
         "name": "director",
         "type": "\"string\""
        },
        {
         "metadata": "{}",
         "name": "writer",
         "type": "\"string\""
        },
        {
         "metadata": "{}",
         "name": "production_company",
         "type": "\"string\""
        },
        {
         "metadata": "{}",
         "name": "actors",
         "type": "\"string\""
        },
        {
         "metadata": "{}",
         "name": "description",
         "type": "\"string\""
        },
        {
         "metadata": "{}",
         "name": "avg_vote",
         "type": "\"string\""
        },
        {
         "metadata": "{}",
         "name": "votes",
         "type": "\"integer\""
        },
        {
         "metadata": "{}",
         "name": "budget",
         "type": "\"string\""
        },
        {
         "metadata": "{}",
         "name": "usa_gross_income",
         "type": "\"string\""
        },
        {
         "metadata": "{}",
         "name": "worlwide_gross_income",
         "type": "\"string\""
        },
        {
         "metadata": "{}",
         "name": "metascore",
         "type": "\"double\""
        },
        {
         "metadata": "{}",
         "name": "reviews_from_users",
         "type": "\"double\""
        },
        {
         "metadata": "{}",
         "name": "reviews_from_critics",
         "type": "\"double\""
        },
        {
         "metadata": "{}",
         "name": "notebook_epoch_time_movies",
         "type": "\"long\""
        },
        {
         "metadata": "{}",
         "name": "years_since_published",
         "type": "\"integer\""
        },
        {
         "metadata": "{}",
         "name": "numeric_budget",
         "type": "\"double\""
        }
       ],
       "type": "table"
      }
     },
     "output_type": "display_data"
    },
    {
     "output_type": "stream",
     "name": "stdout",
     "output_type": "stream",
     "text": [
      "== Physical Plan ==\n*(1) Project [imdb_title_id#12013, title#12014, original_title#12015, year#12016, date_published#12017, genre#12018, duration#12019, country#12020, language#12021, director#12022, writer#12023, production_company#12024, actors#12025, description#12026, avg_vote#12027, votes#12028, budget#12029, usa_gross_income#12030, worlwide_gross_income#12031, metascore#12032, reviews_from_users#12033, reviews_from_critics#12034, 1742662649 AS notebook_epoch_time_movies#12124L, CASE WHEN isnotnull(cast(gettimestamp(date_published#12017, yyyy-MM-dd, TimestampType, Some(Etc/UTC), false) as date)) THEN (2025 - year(cast(gettimestamp(date_published#12017, yyyy-MM-dd, TimestampType, Some(Etc/UTC), false) as date))) WHEN isnotnull(cast(gettimestamp(date_published#12017, dd.MM.yyyy, TimestampType, Some(Etc/UTC), false) as date)) THEN (2025 - year(cast(gettimestamp(date_published#12017, dd.MM.yyyy, TimestampType, Some(Etc/UTC), false) as date))) WHEN isnotnull(cast(gettimestamp(date_published#12017, yyyy, TimestampType, Some(Etc/UTC), false) as date)) THEN (2025 - year(cast(gettimestamp(date_published#12017, yyyy, TimestampType, Some(Etc/UTC), false) as date))) END AS years_since_published#12218, cast(regexp_replace(budget#12029, [^\\d.], , 1) as double) AS numeric_budget#12314]\n+- FileScan csv [imdb_title_id#12013,title#12014,original_title#12015,year#12016,date_published#12017,genre#12018,duration#12019,country#12020,language#12021,director#12022,writer#12023,production_company#12024,actors#12025,description#12026,avg_vote#12027,votes#12028,budget#12029,usa_gross_income#12030,worlwide_gross_income#12031,metascore#12032,reviews_from_users#12033,reviews_from_critics#12034] Batched: false, DataFilters: [], Format: CSV, Location: InMemoryFileIndex(1 paths)[dbfs:/FileStore/tables/Files/movies.csv], PartitionFilters: [], PushedFilters: [], ReadSchema: struct<imdb_title_id:string,title:string,original_title:string,year:string,date_published:string,...\n\n\n"
     ]
    }
   ],
   "source": [
    "namesDfWithNumericBudget = namesDfWithYearsSinceRelease.withColumn(\n",
    "    \"numeric_budget\",\n",
    "    regexp_replace(col(\"budget\"), \"[^\\\\d.]\", \"\").cast(\"double\")\n",
    ")\n",
    "\n",
    "display(namesDfWithNumericBudget.limit(10))\n",
    "namesDfWithNumericBudget.explain() "
   ]
  },
  {
   "cell_type": "markdown",
   "metadata": {
    "application/vnd.databricks.v1+cell": {
     "cellMetadata": {
      "byteLimit": 2048000,
      "rowLimit": 10000
     },
     "inputWidgets": {},
     "nuid": "8ff73680-de75-470a-88ee-265ad31221ff",
     "showTitle": false,
     "tableResultSettingsMap": {},
     "title": ""
    }
   },
   "source": [
    "2.4 Usuń wiersze z dataframe gdzie wartości są null"
   ]
  },
  {
   "cell_type": "code",
   "execution_count": 0,
   "metadata": {
    "application/vnd.databricks.v1+cell": {
     "cellMetadata": {
      "byteLimit": 2048000,
      "rowLimit": 10000
     },
     "inputWidgets": {},
     "nuid": "7846800f-35f9-44ca-a873-9f0db6901ece",
     "showTitle": false,
     "tableResultSettingsMap": {},
     "title": ""
    }
   },
   "outputs": [
    {
     "output_type": "display_data",
     "data": {
      "text/html": [
       "<style scoped>\n",
       "  .table-result-container {\n",
       "    max-height: 300px;\n",
       "    overflow: auto;\n",
       "  }\n",
       "  table, th, td {\n",
       "    border: 1px solid black;\n",
       "    border-collapse: collapse;\n",
       "  }\n",
       "  th, td {\n",
       "    padding: 5px;\n",
       "  }\n",
       "  th {\n",
       "    text-align: left;\n",
       "  }\n",
       "</style><div class='table-result-container'><table class='table-result'><thead style='background-color: white'><tr><th>imdb_title_id</th><th>title</th><th>original_title</th><th>year</th><th>date_published</th><th>genre</th><th>duration</th><th>country</th><th>language</th><th>director</th><th>writer</th><th>production_company</th><th>actors</th><th>description</th><th>avg_vote</th><th>votes</th><th>budget</th><th>usa_gross_income</th><th>worlwide_gross_income</th><th>metascore</th><th>reviews_from_users</th><th>reviews_from_critics</th><th>notebook_epoch_time_movies</th><th>years_since_published</th><th>numeric_budget</th></tr></thead><tbody><tr><td>tt0017136</td><td>Metropolis</td><td>Metropolis</td><td>1927</td><td>01.10.1928</td><td>Drama, Sci-Fi</td><td>153</td><td>Germany</td><td>German</td><td>Fritz Lang</td><td>Thea von Harbou, Thea von Harbou</td><td>Universum Film (UFA)</td><td>Alfred Abel, Gustav Fröhlich, Rudolf Klein-Rogge, Fritz Rasp, Theodor Loos, Erwin Biswanger, Heinrich George, Brigitte Helm</td><td>In a futuristic city sharply divided between the working class and the city planners, the son of the city's mastermind falls in love with a working class prophet who predicts the coming of a savior to mediate their differences.</td><td>08.mar</td><td>156076</td><td>DEM 6000000</td><td>$ 1236166</td><td>$ 1349711</td><td>98.0</td><td>495.0</td><td>208.0</td><td>1742662649</td><td>97</td><td>6000000.0</td></tr><tr><td>tt0021749</td><td>Luci della città</td><td>City Lights</td><td>1931</td><td>02.04.1931</td><td>Comedy, Drama, Romance</td><td>87</td><td>USA</td><td>English</td><td>Charles Chaplin</td><td>Charles Chaplin</td><td>Charles Chaplin Productions</td><td>Virginia Cherrill, Florence Lee, Harry Myers, Al Ernest Garcia, Hank Mann, Charles Chaplin</td><td>With the aid of a wealthy erratic tippler, a dewy-eyed tramp who has fallen in love with a sightless flower girl accumulates money to be able to help her medically.</td><td>08.maj</td><td>162668</td><td>$ 1500000</td><td>$ 19181</td><td>$ 46008</td><td>99.0</td><td>295.0</td><td>122.0</td><td>1742662649</td><td>94</td><td>1500000.0</td></tr><tr><td>tt0027977</td><td>Tempi moderni</td><td>Modern Times</td><td>1936</td><td>12.03.1937</td><td>Comedy, Drama, Family</td><td>87</td><td>USA</td><td>English</td><td>Charles Chaplin</td><td>Charles Chaplin</td><td>Charles Chaplin Productions</td><td>Charles Chaplin, Paulette Goddard, Henry Bergman, Tiny Sandford, Chester Conklin, Hank Mann, Stanley Blystone, Al Ernest Garcia, Richard Alexander, Cecil Reynolds, Mira McKinney, Murdock MacQuarrie, Wilfred Lucas, Edward LeSaint, Fred Malatesta</td><td>The Tramp struggles to live in modern industrial society with the help of a young homeless woman.</td><td>08.maj</td><td>211250</td><td>$ 1500000</td><td>$ 163577</td><td>$ 457688</td><td>96.0</td><td>307.0</td><td>115.0</td><td>1742662649</td><td>88</td><td>1500000.0</td></tr><tr><td>tt0029453</td><td>Il bandito della Casbah</td><td>Pépé le Moko</td><td>1937</td><td>22.10.1937</td><td>Crime, Drama, Romance</td><td>94</td><td>France</td><td>French, Arabic</td><td>Julien Duvivier</td><td>Henri La Barthe, Henri La Barthe</td><td>Paris Film</td><td>Jean Gabin, Gabriel Gabrio, Saturnin Fabre, Fernand Charpin, Lucas Gridoux, Gilbert Gil, Marcel Dalio, Charles Granval, Gaston Modot, René Bergeron, Paul Escoffier, Roger Legris, Jean Témerson, Robert Ozanne, Philippe Richard</td><td>A wanted gangster is both king and prisoner of the Casbah. He is protected from arrest by his friends, but is torn by his desire for freedom outside. A visiting Parisian beauty may just tempt his fate.</td><td>07.lip</td><td>6180</td><td>$ 60000</td><td>$ 155895</td><td>$ 155895</td><td>98.0</td><td>46.0</td><td>55.0</td><td>1742662649</td><td>88</td><td>60000.0</td></tr><tr><td>tt0029583</td><td>Biancaneve e i sette nani</td><td>Snow White and the Seven Dwarfs</td><td>1937</td><td>30.11.1938</td><td>Animation, Family, Fantasy</td><td>83</td><td>USA</td><td>English</td><td>William Cottrell, David Hand</td><td>Jacob Grimm, Wilhelm Grimm</td><td>Walt Disney Productions</td><td>Roy Atwell, Stuart Buchanan, Adriana Caselotti, Eddie Collins, Pinto Colvig, Marion Darlington, Billy Gilbert, Otis Harlan, Lucille La Verne, James MacDonald, Scotty Mattraw, Moroni Olsen, Purv Pullen, Harry Stockwell, Bill Thompson</td><td>Exiled into the dangerous forest by her wicked stepmother, a princess is rescued by seven dwarf miners who make her part of their household.</td><td>07.cze</td><td>177157</td><td>$ 1499000</td><td>$ 184925486</td><td>$ 184925486</td><td>95.0</td><td>260.0</td><td>173.0</td><td>1742662649</td><td>87</td><td>1499000.0</td></tr><tr><td>tt0031381</td><td>Via col vento</td><td>Gone with the Wind</td><td>1939</td><td>12.03.1949</td><td>Drama, History, Romance</td><td>238</td><td>USA</td><td>English</td><td>Victor Fleming, George Cukor</td><td>Margaret Mitchell, Sidney Howard</td><td>Selznick International Pictures</td><td>Thomas Mitchell, Barbara O'Neil, Vivien Leigh, Evelyn Keyes, Ann Rutherford, George Reeves, Fred Crane, Hattie McDaniel, Oscar Polk, Butterfly McQueen, Victor Jory, Everett Brown, Howard Hickman, Alicia Rhett, Leslie Howard</td><td>A manipulative woman and a roguish man conduct a turbulent romance during the American Civil War and Reconstruction periods.</td><td>08.sty</td><td>283975</td><td>$ 3977000</td><td>$ 200852579</td><td>$ 402352579</td><td>97.0</td><td>881.0</td><td>197.0</td><td>1742662649</td><td>76</td><td>3977000.0</td></tr><tr><td>tt0031679</td><td>Mr. Smith va a Washington</td><td>Mr. Smith Goes to Washington</td><td>1939</td><td>05.04.1947</td><td>Comedy, Drama</td><td>129</td><td>USA</td><td>English</td><td>Frank Capra</td><td>Sidney Buchman, Lewis R. Foster</td><td>Columbia Pictures</td><td>Jean Arthur, James Stewart, Claude Rains, Edward Arnold, Guy Kibbee, Thomas Mitchell, Eugene Pallette, Beulah Bondi, H.B. Warner, Harry Carey, Astrid Allwyn, Ruth Donnelly, Grant Mitchell, Porter Hall, H.V. Kaltenborn</td><td>A naive man is appointed to fill a vacancy in the United States Senate. His plans promptly collide with political corruption, but he doesn't back down.</td><td>08.sty</td><td>104547</td><td>$ 1900000</td><td>$ 144738</td><td>$ 144738</td><td>73.0</td><td>296.0</td><td>88.0</td><td>1742662649</td><td>78</td><td>1900000.0</td></tr><tr><td>tt0032138</td><td>Il mago di Oz</td><td>The Wizard of Oz</td><td>1939</td><td>19.04.1949</td><td>Adventure, Family, Fantasy</td><td>102</td><td>USA</td><td>English</td><td>Victor Fleming, George Cukor</td><td>Noel Langley, Florence Ryerson</td><td>Metro-Goldwyn-Mayer (MGM)</td><td>Judy Garland, Frank Morgan, Ray Bolger, Bert Lahr, Jack Haley, Billie Burke, Margaret Hamilton, Charley Grapewin, Pat Walshe, Clara Blandick, Terry, The Singer Midgets</td><td>Dorothy Gale is swept away from a farm in Kansas to a magical land of Oz in a tornado and embarks on a quest with her new friends to see the Wizard who can help her return home to Kansas and help her friends as well.</td><td>8.0</td><td>366293</td><td>$ 2777000</td><td>$ 24790250</td><td>$ 26142032</td><td>100.0</td><td>688.0</td><td>168.0</td><td>1742662649</td><td>76</td><td>2777000.0</td></tr><tr><td>tt0032455</td><td>Fantasia</td><td>Fantasia</td><td>1940</td><td>19.09.1946</td><td>Animation, Family, Fantasy</td><td>125</td><td>USA</td><td>English</td><td>James Algar, Samuel Armstrong</td><td>Joe Grant, Dick Huemer</td><td>Walt Disney Productions</td><td>Deems Taylor, Leopold Stokowski, The Philadelphia Orchestra</td><td>A collection of animated interpretations of great works of Western classical music.</td><td>07.sie</td><td>86795</td><td>$ 2280000</td><td>$ 76408097</td><td>$ 76411401</td><td>96.0</td><td>342.0</td><td>119.0</td><td>1742662649</td><td>79</td><td>2280000.0</td></tr><tr><td>tt0032910</td><td>Pinocchio</td><td>Pinocchio</td><td>1940</td><td>27.11.1947</td><td>Animation, Comedy, Family</td><td>88</td><td>USA</td><td>English</td><td>Norman Ferguson, T. Hee</td><td>Carlo Collodi, Ted Sears</td><td>Walt Disney Animation Studios</td><td>Mel Blanc, Don Brodie, Stuart Buchanan, Walter Catlett, Marion Darlington, Frankie Darro, Cliff Edwards, Dickie Jones, Charles Judels, John McLeish, Clarence Nash, Patricia Page, Christian Rub, Bill Thompson, Evelyn Venable</td><td>A living puppet, with the help of a cricket as his conscience, must prove himself worthy to become a real boy.</td><td>07.kwi</td><td>127618</td><td>$ 2600000</td><td>$ 84254167</td><td>$ 121892045</td><td>99.0</td><td>202.0</td><td>140.0</td><td>1742662649</td><td>78</td><td>2600000.0</td></tr></tbody></table></div>"
      ]
     },
     "metadata": {
      "application/vnd.databricks.v1+output": {
       "addedWidgets": {},
       "aggData": [],
       "aggError": "",
       "aggOverflow": false,
       "aggSchema": [],
       "aggSeriesLimitReached": false,
       "aggType": "",
       "arguments": {},
       "columnCustomDisplayInfos": {},
       "data": [
        [
         "tt0017136",
         "Metropolis",
         "Metropolis",
         "1927",
         "01.10.1928",
         "Drama, Sci-Fi",
         153,
         "Germany",
         "German",
         "Fritz Lang",
         "Thea von Harbou, Thea von Harbou",
         "Universum Film (UFA)",
         "Alfred Abel, Gustav Fröhlich, Rudolf Klein-Rogge, Fritz Rasp, Theodor Loos, Erwin Biswanger, Heinrich George, Brigitte Helm",
         "In a futuristic city sharply divided between the working class and the city planners, the son of the city's mastermind falls in love with a working class prophet who predicts the coming of a savior to mediate their differences.",
         "08.mar",
         156076,
         "DEM 6000000",
         "$ 1236166",
         "$ 1349711",
         98.0,
         495.0,
         208.0,
         1742662649,
         97,
         6000000.0
        ],
        [
         "tt0021749",
         "Luci della città",
         "City Lights",
         "1931",
         "02.04.1931",
         "Comedy, Drama, Romance",
         87,
         "USA",
         "English",
         "Charles Chaplin",
         "Charles Chaplin",
         "Charles Chaplin Productions",
         "Virginia Cherrill, Florence Lee, Harry Myers, Al Ernest Garcia, Hank Mann, Charles Chaplin",
         "With the aid of a wealthy erratic tippler, a dewy-eyed tramp who has fallen in love with a sightless flower girl accumulates money to be able to help her medically.",
         "08.maj",
         162668,
         "$ 1500000",
         "$ 19181",
         "$ 46008",
         99.0,
         295.0,
         122.0,
         1742662649,
         94,
         1500000.0
        ],
        [
         "tt0027977",
         "Tempi moderni",
         "Modern Times",
         "1936",
         "12.03.1937",
         "Comedy, Drama, Family",
         87,
         "USA",
         "English",
         "Charles Chaplin",
         "Charles Chaplin",
         "Charles Chaplin Productions",
         "Charles Chaplin, Paulette Goddard, Henry Bergman, Tiny Sandford, Chester Conklin, Hank Mann, Stanley Blystone, Al Ernest Garcia, Richard Alexander, Cecil Reynolds, Mira McKinney, Murdock MacQuarrie, Wilfred Lucas, Edward LeSaint, Fred Malatesta",
         "The Tramp struggles to live in modern industrial society with the help of a young homeless woman.",
         "08.maj",
         211250,
         "$ 1500000",
         "$ 163577",
         "$ 457688",
         96.0,
         307.0,
         115.0,
         1742662649,
         88,
         1500000.0
        ],
        [
         "tt0029453",
         "Il bandito della Casbah",
         "Pépé le Moko",
         "1937",
         "22.10.1937",
         "Crime, Drama, Romance",
         94,
         "France",
         "French, Arabic",
         "Julien Duvivier",
         "Henri La Barthe, Henri La Barthe",
         "Paris Film",
         "Jean Gabin, Gabriel Gabrio, Saturnin Fabre, Fernand Charpin, Lucas Gridoux, Gilbert Gil, Marcel Dalio, Charles Granval, Gaston Modot, René Bergeron, Paul Escoffier, Roger Legris, Jean Témerson, Robert Ozanne, Philippe Richard",
         "A wanted gangster is both king and prisoner of the Casbah. He is protected from arrest by his friends, but is torn by his desire for freedom outside. A visiting Parisian beauty may just tempt his fate.",
         "07.lip",
         6180,
         "$ 60000",
         "$ 155895",
         "$ 155895",
         98.0,
         46.0,
         55.0,
         1742662649,
         88,
         60000.0
        ],
        [
         "tt0029583",
         "Biancaneve e i sette nani",
         "Snow White and the Seven Dwarfs",
         "1937",
         "30.11.1938",
         "Animation, Family, Fantasy",
         83,
         "USA",
         "English",
         "William Cottrell, David Hand",
         "Jacob Grimm, Wilhelm Grimm",
         "Walt Disney Productions",
         "Roy Atwell, Stuart Buchanan, Adriana Caselotti, Eddie Collins, Pinto Colvig, Marion Darlington, Billy Gilbert, Otis Harlan, Lucille La Verne, James MacDonald, Scotty Mattraw, Moroni Olsen, Purv Pullen, Harry Stockwell, Bill Thompson",
         "Exiled into the dangerous forest by her wicked stepmother, a princess is rescued by seven dwarf miners who make her part of their household.",
         "07.cze",
         177157,
         "$ 1499000",
         "$ 184925486",
         "$ 184925486",
         95.0,
         260.0,
         173.0,
         1742662649,
         87,
         1499000.0
        ],
        [
         "tt0031381",
         "Via col vento",
         "Gone with the Wind",
         "1939",
         "12.03.1949",
         "Drama, History, Romance",
         238,
         "USA",
         "English",
         "Victor Fleming, George Cukor",
         "Margaret Mitchell, Sidney Howard",
         "Selznick International Pictures",
         "Thomas Mitchell, Barbara O'Neil, Vivien Leigh, Evelyn Keyes, Ann Rutherford, George Reeves, Fred Crane, Hattie McDaniel, Oscar Polk, Butterfly McQueen, Victor Jory, Everett Brown, Howard Hickman, Alicia Rhett, Leslie Howard",
         "A manipulative woman and a roguish man conduct a turbulent romance during the American Civil War and Reconstruction periods.",
         "08.sty",
         283975,
         "$ 3977000",
         "$ 200852579",
         "$ 402352579",
         97.0,
         881.0,
         197.0,
         1742662649,
         76,
         3977000.0
        ],
        [
         "tt0031679",
         "Mr. Smith va a Washington",
         "Mr. Smith Goes to Washington",
         "1939",
         "05.04.1947",
         "Comedy, Drama",
         129,
         "USA",
         "English",
         "Frank Capra",
         "Sidney Buchman, Lewis R. Foster",
         "Columbia Pictures",
         "Jean Arthur, James Stewart, Claude Rains, Edward Arnold, Guy Kibbee, Thomas Mitchell, Eugene Pallette, Beulah Bondi, H.B. Warner, Harry Carey, Astrid Allwyn, Ruth Donnelly, Grant Mitchell, Porter Hall, H.V. Kaltenborn",
         "A naive man is appointed to fill a vacancy in the United States Senate. His plans promptly collide with political corruption, but he doesn't back down.",
         "08.sty",
         104547,
         "$ 1900000",
         "$ 144738",
         "$ 144738",
         73.0,
         296.0,
         88.0,
         1742662649,
         78,
         1900000.0
        ],
        [
         "tt0032138",
         "Il mago di Oz",
         "The Wizard of Oz",
         "1939",
         "19.04.1949",
         "Adventure, Family, Fantasy",
         102,
         "USA",
         "English",
         "Victor Fleming, George Cukor",
         "Noel Langley, Florence Ryerson",
         "Metro-Goldwyn-Mayer (MGM)",
         "Judy Garland, Frank Morgan, Ray Bolger, Bert Lahr, Jack Haley, Billie Burke, Margaret Hamilton, Charley Grapewin, Pat Walshe, Clara Blandick, Terry, The Singer Midgets",
         "Dorothy Gale is swept away from a farm in Kansas to a magical land of Oz in a tornado and embarks on a quest with her new friends to see the Wizard who can help her return home to Kansas and help her friends as well.",
         "8.0",
         366293,
         "$ 2777000",
         "$ 24790250",
         "$ 26142032",
         100.0,
         688.0,
         168.0,
         1742662649,
         76,
         2777000.0
        ],
        [
         "tt0032455",
         "Fantasia",
         "Fantasia",
         "1940",
         "19.09.1946",
         "Animation, Family, Fantasy",
         125,
         "USA",
         "English",
         "James Algar, Samuel Armstrong",
         "Joe Grant, Dick Huemer",
         "Walt Disney Productions",
         "Deems Taylor, Leopold Stokowski, The Philadelphia Orchestra",
         "A collection of animated interpretations of great works of Western classical music.",
         "07.sie",
         86795,
         "$ 2280000",
         "$ 76408097",
         "$ 76411401",
         96.0,
         342.0,
         119.0,
         1742662649,
         79,
         2280000.0
        ],
        [
         "tt0032910",
         "Pinocchio",
         "Pinocchio",
         "1940",
         "27.11.1947",
         "Animation, Comedy, Family",
         88,
         "USA",
         "English",
         "Norman Ferguson, T. Hee",
         "Carlo Collodi, Ted Sears",
         "Walt Disney Animation Studios",
         "Mel Blanc, Don Brodie, Stuart Buchanan, Walter Catlett, Marion Darlington, Frankie Darro, Cliff Edwards, Dickie Jones, Charles Judels, John McLeish, Clarence Nash, Patricia Page, Christian Rub, Bill Thompson, Evelyn Venable",
         "A living puppet, with the help of a cricket as his conscience, must prove himself worthy to become a real boy.",
         "07.kwi",
         127618,
         "$ 2600000",
         "$ 84254167",
         "$ 121892045",
         99.0,
         202.0,
         140.0,
         1742662649,
         78,
         2600000.0
        ]
       ],
       "datasetInfos": [],
       "dbfsResultPath": null,
       "isJsonSchema": true,
       "metadata": {},
       "overflow": false,
       "plotOptions": {
        "customPlotOptions": {},
        "displayType": "table",
        "pivotAggregation": null,
        "pivotColumns": null,
        "xColumns": null,
        "yColumns": null
       },
       "removedWidgets": [],
       "schema": [
        {
         "metadata": "{}",
         "name": "imdb_title_id",
         "type": "\"string\""
        },
        {
         "metadata": "{}",
         "name": "title",
         "type": "\"string\""
        },
        {
         "metadata": "{}",
         "name": "original_title",
         "type": "\"string\""
        },
        {
         "metadata": "{}",
         "name": "year",
         "type": "\"string\""
        },
        {
         "metadata": "{}",
         "name": "date_published",
         "type": "\"string\""
        },
        {
         "metadata": "{}",
         "name": "genre",
         "type": "\"string\""
        },
        {
         "metadata": "{}",
         "name": "duration",
         "type": "\"integer\""
        },
        {
         "metadata": "{}",
         "name": "country",
         "type": "\"string\""
        },
        {
         "metadata": "{}",
         "name": "language",
         "type": "\"string\""
        },
        {
         "metadata": "{}",
         "name": "director",
         "type": "\"string\""
        },
        {
         "metadata": "{}",
         "name": "writer",
         "type": "\"string\""
        },
        {
         "metadata": "{}",
         "name": "production_company",
         "type": "\"string\""
        },
        {
         "metadata": "{}",
         "name": "actors",
         "type": "\"string\""
        },
        {
         "metadata": "{}",
         "name": "description",
         "type": "\"string\""
        },
        {
         "metadata": "{}",
         "name": "avg_vote",
         "type": "\"string\""
        },
        {
         "metadata": "{}",
         "name": "votes",
         "type": "\"integer\""
        },
        {
         "metadata": "{}",
         "name": "budget",
         "type": "\"string\""
        },
        {
         "metadata": "{}",
         "name": "usa_gross_income",
         "type": "\"string\""
        },
        {
         "metadata": "{}",
         "name": "worlwide_gross_income",
         "type": "\"string\""
        },
        {
         "metadata": "{}",
         "name": "metascore",
         "type": "\"double\""
        },
        {
         "metadata": "{}",
         "name": "reviews_from_users",
         "type": "\"double\""
        },
        {
         "metadata": "{}",
         "name": "reviews_from_critics",
         "type": "\"double\""
        },
        {
         "metadata": "{}",
         "name": "notebook_epoch_time_movies",
         "type": "\"long\""
        },
        {
         "metadata": "{}",
         "name": "years_since_published",
         "type": "\"integer\""
        },
        {
         "metadata": "{}",
         "name": "numeric_budget",
         "type": "\"double\""
        }
       ],
       "type": "table"
      }
     },
     "output_type": "display_data"
    },
    {
     "output_type": "stream",
     "name": "stdout",
     "output_type": "stream",
     "text": [
      "== Physical Plan ==\n*(1) Project [imdb_name_id#11128 AS ImdbNameId#11547, name#11129 AS Name#11566, birth_name#11130 AS BirthName#11585, height#11131 AS Height#11604, birth_details#11133 AS BirthDetails#11623, date_of_birth#11134 AS DateOfBirth#11642, place_of_birth#11135 AS PlaceOfBirth#11661, date_of_death#11137 AS DateOfDeath#11680, place_of_death#11138 AS PlaceOfDeath#11699, reason_of_death#11139 AS ReasonOfDeath#11718, spouses_string#11140 AS SpousesString#11737, spouses#11141 AS Spouses#11756, divorces#11142 AS Divorces#11775, spouses_with_children#11143 AS SpousesWithChildren#11794, children#11144 AS Children#11813, 1742662642 AS NotebookEpochTimeNames#11832L, ((cast(height#11131 as double) / 2.54) / 12.0) AS HeightInFeet#11851, FLOOR((cast(datediff(2025-03-22, cast(gettimestamp(regexp_replace(date_of_birth#11134, (\\d{2}).(\\d{2}).(\\d{4}), $3-$2-$1, 1), yyyy-MM-dd, TimestampType, Some(Etc/UTC), false) as date)) as double) / 365.25)) AS Age#11870L]\n+- FileScan csv [imdb_name_id#11128,name#11129,birth_name#11130,height#11131,birth_details#11133,date_of_birth#11134,place_of_birth#11135,date_of_death#11137,place_of_death#11138,reason_of_death#11139,spouses_string#11140,spouses#11141,divorces#11142,spouses_with_children#11143,children#11144] Batched: false, DataFilters: [], Format: CSV, Location: InMemoryFileIndex(1 paths)[dbfs:/FileStore/tables/Files/names.csv], PartitionFilters: [], PushedFilters: [], ReadSchema: struct<imdb_name_id:string,name:string,birth_name:string,height:int,birth_details:string,date_of_...\n\n\n"
     ]
    }
   ],
   "source": [
    "cleanNamesDf = namesDfWithNumericBudget.na.drop()\n",
    "\n",
    "display(cleanNamesDf.limit(10))\n",
    "cleanedNamesDf.explain() "
   ]
  },
  {
   "cell_type": "markdown",
   "metadata": {
    "application/vnd.databricks.v1+cell": {
     "cellMetadata": {
      "byteLimit": 2048000,
      "rowLimit": 10000
     },
     "inputWidgets": {},
     "nuid": "18d1e437-12d6-41c0-a8f4-d430ae74431f",
     "showTitle": false,
     "tableResultSettingsMap": {},
     "title": ""
    }
   },
   "source": [
    "3. ratings.csv\n",
    "* Dodaj kolumnę z wartością czasu wykonania notatnika w formacie epoch\n",
    "* Dla każdego z poniższych wyliczeń nie bierz pod uwagę `nulls` \n",
    "* Kto daje lepsze oceny chłopcy czy dziewczyny dla całego setu\n",
    "* Dla jednej z kolumn zmień typ danych do `long` "
   ]
  },
  {
   "cell_type": "code",
   "execution_count": 0,
   "metadata": {
    "application/vnd.databricks.v1+cell": {
     "cellMetadata": {
      "byteLimit": 2048000,
      "rowLimit": 10000
     },
     "inputWidgets": {},
     "nuid": "75c22c14-a54e-4727-b2ad-f8b631f2b541",
     "showTitle": false,
     "tableResultSettingsMap": {},
     "title": ""
    }
   },
   "outputs": [
    {
     "output_type": "display_data",
     "data": {
      "text/html": [
       "<style scoped>\n",
       "  .table-result-container {\n",
       "    max-height: 300px;\n",
       "    overflow: auto;\n",
       "  }\n",
       "  table, th, td {\n",
       "    border: 1px solid black;\n",
       "    border-collapse: collapse;\n",
       "  }\n",
       "  th, td {\n",
       "    padding: 5px;\n",
       "  }\n",
       "  th {\n",
       "    text-align: left;\n",
       "  }\n",
       "</style><div class='table-result-container'><table class='table-result'><thead style='background-color: white'><tr><th>imdb_title_id</th><th>weighted_average_vote</th><th>total_votes</th><th>mean_vote</th><th>median_vote</th><th>votes_10</th><th>votes_9</th><th>votes_8</th><th>votes_7</th><th>votes_6</th><th>votes_5</th><th>votes_4</th><th>votes_3</th><th>votes_2</th><th>votes_1</th><th>allgenders_0age_avg_vote</th><th>allgenders_0age_votes</th><th>allgenders_18age_avg_vote</th><th>allgenders_18age_votes</th><th>allgenders_30age_avg_vote</th><th>allgenders_30age_votes</th><th>allgenders_45age_avg_vote</th><th>allgenders_45age_votes</th><th>males_allages_avg_vote</th><th>males_allages_votes</th><th>males_0age_avg_vote</th><th>males_0age_votes</th><th>males_18age_avg_vote</th><th>males_18age_votes</th><th>males_30age_avg_vote</th><th>males_30age_votes</th><th>males_45age_avg_vote</th><th>males_45age_votes</th><th>females_allages_avg_vote</th><th>females_allages_votes</th><th>females_0age_avg_vote</th><th>females_0age_votes</th><th>females_18age_avg_vote</th><th>females_18age_votes</th><th>females_30age_avg_vote</th><th>females_30age_votes</th><th>females_45age_avg_vote</th><th>females_45age_votes</th><th>top1000_voters_rating</th><th>top1000_voters_votes</th><th>us_voters_rating</th><th>us_voters_votes</th><th>non_us_voters_rating</th><th>non_us_voters_votes</th></tr></thead><tbody><tr><td>tt0000009</td><td>5.9</td><td>154</td><td>5.9</td><td>6.0</td><td>12</td><td>4</td><td>10</td><td>43</td><td>28</td><td>28</td><td>9</td><td>1</td><td>5</td><td>14</td><td>7.2</td><td>4.0</td><td>6.0</td><td>38.0</td><td>5.7</td><td>50.0</td><td>6.6</td><td>35.0</td><td>6.2</td><td>97.0</td><td>7.0</td><td>1.0</td><td>5.9</td><td>24.0</td><td>5.6</td><td>36.0</td><td>6.7</td><td>31.0</td><td>6.0</td><td>35.0</td><td>7.3</td><td>3.0</td><td>5.9</td><td>14.0</td><td>5.7</td><td>13.0</td><td>4.5</td><td>4.0</td><td>5.7</td><td>34.0</td><td>6.4</td><td>51.0</td><td>6.0</td><td>70.0</td></tr><tr><td>tt0000574</td><td>6.1</td><td>589</td><td>6.3</td><td>6.0</td><td>57</td><td>18</td><td>58</td><td>137</td><td>139</td><td>103</td><td>28</td><td>20</td><td>13</td><td>16</td><td>6.0</td><td>1.0</td><td>6.1</td><td>114.0</td><td>6.0</td><td>239.0</td><td>6.3</td><td>115.0</td><td>6.1</td><td>425.0</td><td>6.0</td><td>1.0</td><td>6.2</td><td>102.0</td><td>6.0</td><td>210.0</td><td>6.2</td><td>100.0</td><td>6.2</td><td>50.0</td><td>null</td><td>null</td><td>5.9</td><td>12.0</td><td>6.2</td><td>23.0</td><td>6.6</td><td>14.0</td><td>6.4</td><td>66.0</td><td>6.0</td><td>96.0</td><td>6.2</td><td>331.0</td></tr><tr><td>tt0001892</td><td>5.8</td><td>188</td><td>6.0</td><td>6.0</td><td>6</td><td>6</td><td>17</td><td>44</td><td>52</td><td>32</td><td>16</td><td>5</td><td>6</td><td>4</td><td>null</td><td>null</td><td>5.5</td><td>25.0</td><td>5.8</td><td>72.0</td><td>6.2</td><td>62.0</td><td>5.9</td><td>146.0</td><td>null</td><td>null</td><td>5.5</td><td>21.0</td><td>5.9</td><td>67.0</td><td>6.2</td><td>55.0</td><td>5.7</td><td>15.0</td><td>null</td><td>null</td><td>5.8</td><td>4.0</td><td>5.8</td><td>4.0</td><td>6.8</td><td>7.0</td><td>5.4</td><td>32.0</td><td>6.2</td><td>31.0</td><td>5.9</td><td>123.0</td></tr><tr><td>tt0002101</td><td>5.2</td><td>446</td><td>5.3</td><td>5.0</td><td>15</td><td>8</td><td>16</td><td>62</td><td>98</td><td>117</td><td>63</td><td>26</td><td>25</td><td>16</td><td>null</td><td>null</td><td>5.3</td><td>23.0</td><td>5.0</td><td>111.0</td><td>5.3</td><td>193.0</td><td>5.1</td><td>299.0</td><td>null</td><td>null</td><td>5.2</td><td>20.0</td><td>4.9</td><td>96.0</td><td>5.2</td><td>171.0</td><td>5.9</td><td>39.0</td><td>null</td><td>null</td><td>5.7</td><td>3.0</td><td>5.5</td><td>14.0</td><td>6.1</td><td>21.0</td><td>4.9</td><td>57.0</td><td>5.5</td><td>207.0</td><td>4.7</td><td>105.0</td></tr><tr><td>tt0002130</td><td>7.0</td><td>2237</td><td>6.9</td><td>7.0</td><td>210</td><td>225</td><td>436</td><td>641</td><td>344</td><td>169</td><td>66</td><td>39</td><td>20</td><td>87</td><td>7.5</td><td>4.0</td><td>7.0</td><td>402.0</td><td>7.0</td><td>895.0</td><td>7.1</td><td>482.0</td><td>7.0</td><td>1607.0</td><td>8.0</td><td>2.0</td><td>7.0</td><td>346.0</td><td>7.0</td><td>804.0</td><td>7.0</td><td>396.0</td><td>7.2</td><td>215.0</td><td>7.0</td><td>2.0</td><td>7.0</td><td>52.0</td><td>7.3</td><td>82.0</td><td>7.4</td><td>77.0</td><td>6.9</td><td>139.0</td><td>7.0</td><td>488.0</td><td>7.0</td><td>1166.0</td></tr><tr><td>tt0002199</td><td>5.7</td><td>484</td><td>5.8</td><td>6.0</td><td>33</td><td>15</td><td>48</td><td>80</td><td>123</td><td>77</td><td>36</td><td>20</td><td>18</td><td>34</td><td>null</td><td>null</td><td>5.6</td><td>35.0</td><td>5.6</td><td>177.0</td><td>5.8</td><td>168.0</td><td>5.7</td><td>354.0</td><td>null</td><td>null</td><td>5.6</td><td>32.0</td><td>5.7</td><td>159.0</td><td>5.8</td><td>151.0</td><td>5.8</td><td>31.0</td><td>null</td><td>null</td><td>6.3</td><td>3.0</td><td>5.1</td><td>13.0</td><td>6.5</td><td>15.0</td><td>5.5</td><td>67.0</td><td>5.9</td><td>173.0</td><td>5.6</td><td>181.0</td></tr><tr><td>tt0002423</td><td>6.8</td><td>753</td><td>6.8</td><td>7.0</td><td>80</td><td>65</td><td>105</td><td>209</td><td>142</td><td>80</td><td>27</td><td>13</td><td>4</td><td>28</td><td>3.0</td><td>1.0</td><td>6.4</td><td>59.0</td><td>6.7</td><td>287.0</td><td>7.0</td><td>276.0</td><td>6.6</td><td>530.0</td><td>3.0</td><td>1.0</td><td>6.4</td><td>41.0</td><td>6.6</td><td>240.0</td><td>6.8</td><td>238.0</td><td>7.4</td><td>93.0</td><td>null</td><td>null</td><td>6.5</td><td>16.0</td><td>7.2</td><td>40.0</td><td>8.2</td><td>34.0</td><td>6.2</td><td>88.0</td><td>6.6</td><td>139.0</td><td>6.8</td><td>455.0</td></tr><tr><td>tt0002445</td><td>6.2</td><td>273</td><td>6.2</td><td>6.0</td><td>15</td><td>8</td><td>30</td><td>74</td><td>66</td><td>40</td><td>22</td><td>6</td><td>2</td><td>10</td><td>6.0</td><td>1.0</td><td>5.9</td><td>34.0</td><td>6.2</td><td>99.0</td><td>6.3</td><td>69.0</td><td>6.2</td><td>191.0</td><td>6.0</td><td>1.0</td><td>5.8</td><td>29.0</td><td>6.2</td><td>85.0</td><td>6.3</td><td>64.0</td><td>6.3</td><td>21.0</td><td>null</td><td>null</td><td>6.5</td><td>5.0</td><td>6.3</td><td>11.0</td><td>6.2</td><td>5.0</td><td>5.7</td><td>41.0</td><td>5.8</td><td>40.0</td><td>6.2</td><td>154.0</td></tr><tr><td>tt0002452</td><td>6.7</td><td>198</td><td>7.1</td><td>7.0</td><td>53</td><td>7</td><td>23</td><td>35</td><td>30</td><td>24</td><td>12</td><td>5</td><td>3</td><td>6</td><td>null</td><td>null</td><td>7.4</td><td>28.0</td><td>6.7</td><td>104.0</td><td>6.5</td><td>39.0</td><td>6.7</td><td>153.0</td><td>null</td><td>null</td><td>7.3</td><td>24.0</td><td>6.6</td><td>92.0</td><td>6.5</td><td>33.0</td><td>7.0</td><td>19.0</td><td>null</td><td>null</td><td>8.3</td><td>3.0</td><td>6.8</td><td>10.0</td><td>6.8</td><td>6.0</td><td>5.4</td><td>25.0</td><td>6.7</td><td>25.0</td><td>6.8</td><td>135.0</td></tr><tr><td>tt0002461</td><td>5.5</td><td>225</td><td>5.4</td><td>6.0</td><td>9</td><td>6</td><td>22</td><td>34</td><td>53</td><td>40</td><td>23</td><td>8</td><td>4</td><td>26</td><td>null</td><td>null</td><td>5.9</td><td>11.0</td><td>5.3</td><td>95.0</td><td>5.8</td><td>72.0</td><td>5.5</td><td>168.0</td><td>null</td><td>null</td><td>5.9</td><td>11.0</td><td>5.2</td><td>88.0</td><td>5.8</td><td>63.0</td><td>7.7</td><td>15.0</td><td>null</td><td>null</td><td>null</td><td>null</td><td>7.2</td><td>6.0</td><td>9.7</td><td>9.0</td><td>5.4</td><td>37.0</td><td>5.8</td><td>109.0</td><td>5.4</td><td>68.0</td></tr></tbody></table></div>"
      ]
     },
     "metadata": {
      "application/vnd.databricks.v1+output": {
       "addedWidgets": {},
       "aggData": [],
       "aggError": "",
       "aggOverflow": false,
       "aggSchema": [],
       "aggSeriesLimitReached": false,
       "aggType": "",
       "arguments": {},
       "columnCustomDisplayInfos": {},
       "data": [
        [
         "tt0000009",
         5.9,
         154,
         5.9,
         6.0,
         12,
         4,
         10,
         43,
         28,
         28,
         9,
         1,
         5,
         14,
         7.2,
         4.0,
         6.0,
         38.0,
         5.7,
         50.0,
         6.6,
         35.0,
         6.2,
         97.0,
         7.0,
         1.0,
         5.9,
         24.0,
         5.6,
         36.0,
         6.7,
         31.0,
         6.0,
         35.0,
         7.3,
         3.0,
         5.9,
         14.0,
         5.7,
         13.0,
         4.5,
         4.0,
         5.7,
         34.0,
         6.4,
         51.0,
         6.0,
         70.0
        ],
        [
         "tt0000574",
         6.1,
         589,
         6.3,
         6.0,
         57,
         18,
         58,
         137,
         139,
         103,
         28,
         20,
         13,
         16,
         6.0,
         1.0,
         6.1,
         114.0,
         6.0,
         239.0,
         6.3,
         115.0,
         6.1,
         425.0,
         6.0,
         1.0,
         6.2,
         102.0,
         6.0,
         210.0,
         6.2,
         100.0,
         6.2,
         50.0,
         null,
         null,
         5.9,
         12.0,
         6.2,
         23.0,
         6.6,
         14.0,
         6.4,
         66.0,
         6.0,
         96.0,
         6.2,
         331.0
        ],
        [
         "tt0001892",
         5.8,
         188,
         6.0,
         6.0,
         6,
         6,
         17,
         44,
         52,
         32,
         16,
         5,
         6,
         4,
         null,
         null,
         5.5,
         25.0,
         5.8,
         72.0,
         6.2,
         62.0,
         5.9,
         146.0,
         null,
         null,
         5.5,
         21.0,
         5.9,
         67.0,
         6.2,
         55.0,
         5.7,
         15.0,
         null,
         null,
         5.8,
         4.0,
         5.8,
         4.0,
         6.8,
         7.0,
         5.4,
         32.0,
         6.2,
         31.0,
         5.9,
         123.0
        ],
        [
         "tt0002101",
         5.2,
         446,
         5.3,
         5.0,
         15,
         8,
         16,
         62,
         98,
         117,
         63,
         26,
         25,
         16,
         null,
         null,
         5.3,
         23.0,
         5.0,
         111.0,
         5.3,
         193.0,
         5.1,
         299.0,
         null,
         null,
         5.2,
         20.0,
         4.9,
         96.0,
         5.2,
         171.0,
         5.9,
         39.0,
         null,
         null,
         5.7,
         3.0,
         5.5,
         14.0,
         6.1,
         21.0,
         4.9,
         57.0,
         5.5,
         207.0,
         4.7,
         105.0
        ],
        [
         "tt0002130",
         7.0,
         2237,
         6.9,
         7.0,
         210,
         225,
         436,
         641,
         344,
         169,
         66,
         39,
         20,
         87,
         7.5,
         4.0,
         7.0,
         402.0,
         7.0,
         895.0,
         7.1,
         482.0,
         7.0,
         1607.0,
         8.0,
         2.0,
         7.0,
         346.0,
         7.0,
         804.0,
         7.0,
         396.0,
         7.2,
         215.0,
         7.0,
         2.0,
         7.0,
         52.0,
         7.3,
         82.0,
         7.4,
         77.0,
         6.9,
         139.0,
         7.0,
         488.0,
         7.0,
         1166.0
        ],
        [
         "tt0002199",
         5.7,
         484,
         5.8,
         6.0,
         33,
         15,
         48,
         80,
         123,
         77,
         36,
         20,
         18,
         34,
         null,
         null,
         5.6,
         35.0,
         5.6,
         177.0,
         5.8,
         168.0,
         5.7,
         354.0,
         null,
         null,
         5.6,
         32.0,
         5.7,
         159.0,
         5.8,
         151.0,
         5.8,
         31.0,
         null,
         null,
         6.3,
         3.0,
         5.1,
         13.0,
         6.5,
         15.0,
         5.5,
         67.0,
         5.9,
         173.0,
         5.6,
         181.0
        ],
        [
         "tt0002423",
         6.8,
         753,
         6.8,
         7.0,
         80,
         65,
         105,
         209,
         142,
         80,
         27,
         13,
         4,
         28,
         3.0,
         1.0,
         6.4,
         59.0,
         6.7,
         287.0,
         7.0,
         276.0,
         6.6,
         530.0,
         3.0,
         1.0,
         6.4,
         41.0,
         6.6,
         240.0,
         6.8,
         238.0,
         7.4,
         93.0,
         null,
         null,
         6.5,
         16.0,
         7.2,
         40.0,
         8.2,
         34.0,
         6.2,
         88.0,
         6.6,
         139.0,
         6.8,
         455.0
        ],
        [
         "tt0002445",
         6.2,
         273,
         6.2,
         6.0,
         15,
         8,
         30,
         74,
         66,
         40,
         22,
         6,
         2,
         10,
         6.0,
         1.0,
         5.9,
         34.0,
         6.2,
         99.0,
         6.3,
         69.0,
         6.2,
         191.0,
         6.0,
         1.0,
         5.8,
         29.0,
         6.2,
         85.0,
         6.3,
         64.0,
         6.3,
         21.0,
         null,
         null,
         6.5,
         5.0,
         6.3,
         11.0,
         6.2,
         5.0,
         5.7,
         41.0,
         5.8,
         40.0,
         6.2,
         154.0
        ],
        [
         "tt0002452",
         6.7,
         198,
         7.1,
         7.0,
         53,
         7,
         23,
         35,
         30,
         24,
         12,
         5,
         3,
         6,
         null,
         null,
         7.4,
         28.0,
         6.7,
         104.0,
         6.5,
         39.0,
         6.7,
         153.0,
         null,
         null,
         7.3,
         24.0,
         6.6,
         92.0,
         6.5,
         33.0,
         7.0,
         19.0,
         null,
         null,
         8.3,
         3.0,
         6.8,
         10.0,
         6.8,
         6.0,
         5.4,
         25.0,
         6.7,
         25.0,
         6.8,
         135.0
        ],
        [
         "tt0002461",
         5.5,
         225,
         5.4,
         6.0,
         9,
         6,
         22,
         34,
         53,
         40,
         23,
         8,
         4,
         26,
         null,
         null,
         5.9,
         11.0,
         5.3,
         95.0,
         5.8,
         72.0,
         5.5,
         168.0,
         null,
         null,
         5.9,
         11.0,
         5.2,
         88.0,
         5.8,
         63.0,
         7.7,
         15.0,
         null,
         null,
         null,
         null,
         7.2,
         6.0,
         9.7,
         9.0,
         5.4,
         37.0,
         5.8,
         109.0,
         5.4,
         68.0
        ]
       ],
       "datasetInfos": [],
       "dbfsResultPath": null,
       "isJsonSchema": true,
       "metadata": {},
       "overflow": false,
       "plotOptions": {
        "customPlotOptions": {},
        "displayType": "table",
        "pivotAggregation": null,
        "pivotColumns": null,
        "xColumns": null,
        "yColumns": null
       },
       "removedWidgets": [],
       "schema": [
        {
         "metadata": "{}",
         "name": "imdb_title_id",
         "type": "\"string\""
        },
        {
         "metadata": "{}",
         "name": "weighted_average_vote",
         "type": "\"double\""
        },
        {
         "metadata": "{}",
         "name": "total_votes",
         "type": "\"integer\""
        },
        {
         "metadata": "{}",
         "name": "mean_vote",
         "type": "\"double\""
        },
        {
         "metadata": "{}",
         "name": "median_vote",
         "type": "\"double\""
        },
        {
         "metadata": "{}",
         "name": "votes_10",
         "type": "\"integer\""
        },
        {
         "metadata": "{}",
         "name": "votes_9",
         "type": "\"integer\""
        },
        {
         "metadata": "{}",
         "name": "votes_8",
         "type": "\"integer\""
        },
        {
         "metadata": "{}",
         "name": "votes_7",
         "type": "\"integer\""
        },
        {
         "metadata": "{}",
         "name": "votes_6",
         "type": "\"integer\""
        },
        {
         "metadata": "{}",
         "name": "votes_5",
         "type": "\"integer\""
        },
        {
         "metadata": "{}",
         "name": "votes_4",
         "type": "\"integer\""
        },
        {
         "metadata": "{}",
         "name": "votes_3",
         "type": "\"integer\""
        },
        {
         "metadata": "{}",
         "name": "votes_2",
         "type": "\"integer\""
        },
        {
         "metadata": "{}",
         "name": "votes_1",
         "type": "\"integer\""
        },
        {
         "metadata": "{}",
         "name": "allgenders_0age_avg_vote",
         "type": "\"double\""
        },
        {
         "metadata": "{}",
         "name": "allgenders_0age_votes",
         "type": "\"double\""
        },
        {
         "metadata": "{}",
         "name": "allgenders_18age_avg_vote",
         "type": "\"double\""
        },
        {
         "metadata": "{}",
         "name": "allgenders_18age_votes",
         "type": "\"double\""
        },
        {
         "metadata": "{}",
         "name": "allgenders_30age_avg_vote",
         "type": "\"double\""
        },
        {
         "metadata": "{}",
         "name": "allgenders_30age_votes",
         "type": "\"double\""
        },
        {
         "metadata": "{}",
         "name": "allgenders_45age_avg_vote",
         "type": "\"double\""
        },
        {
         "metadata": "{}",
         "name": "allgenders_45age_votes",
         "type": "\"double\""
        },
        {
         "metadata": "{}",
         "name": "males_allages_avg_vote",
         "type": "\"double\""
        },
        {
         "metadata": "{}",
         "name": "males_allages_votes",
         "type": "\"double\""
        },
        {
         "metadata": "{}",
         "name": "males_0age_avg_vote",
         "type": "\"double\""
        },
        {
         "metadata": "{}",
         "name": "males_0age_votes",
         "type": "\"double\""
        },
        {
         "metadata": "{}",
         "name": "males_18age_avg_vote",
         "type": "\"double\""
        },
        {
         "metadata": "{}",
         "name": "males_18age_votes",
         "type": "\"double\""
        },
        {
         "metadata": "{}",
         "name": "males_30age_avg_vote",
         "type": "\"double\""
        },
        {
         "metadata": "{}",
         "name": "males_30age_votes",
         "type": "\"double\""
        },
        {
         "metadata": "{}",
         "name": "males_45age_avg_vote",
         "type": "\"double\""
        },
        {
         "metadata": "{}",
         "name": "males_45age_votes",
         "type": "\"double\""
        },
        {
         "metadata": "{}",
         "name": "females_allages_avg_vote",
         "type": "\"double\""
        },
        {
         "metadata": "{}",
         "name": "females_allages_votes",
         "type": "\"double\""
        },
        {
         "metadata": "{}",
         "name": "females_0age_avg_vote",
         "type": "\"double\""
        },
        {
         "metadata": "{}",
         "name": "females_0age_votes",
         "type": "\"double\""
        },
        {
         "metadata": "{}",
         "name": "females_18age_avg_vote",
         "type": "\"double\""
        },
        {
         "metadata": "{}",
         "name": "females_18age_votes",
         "type": "\"double\""
        },
        {
         "metadata": "{}",
         "name": "females_30age_avg_vote",
         "type": "\"double\""
        },
        {
         "metadata": "{}",
         "name": "females_30age_votes",
         "type": "\"double\""
        },
        {
         "metadata": "{}",
         "name": "females_45age_avg_vote",
         "type": "\"double\""
        },
        {
         "metadata": "{}",
         "name": "females_45age_votes",
         "type": "\"double\""
        },
        {
         "metadata": "{}",
         "name": "top1000_voters_rating",
         "type": "\"double\""
        },
        {
         "metadata": "{}",
         "name": "top1000_voters_votes",
         "type": "\"double\""
        },
        {
         "metadata": "{}",
         "name": "us_voters_rating",
         "type": "\"double\""
        },
        {
         "metadata": "{}",
         "name": "us_voters_votes",
         "type": "\"double\""
        },
        {
         "metadata": "{}",
         "name": "non_us_voters_rating",
         "type": "\"double\""
        },
        {
         "metadata": "{}",
         "name": "non_us_voters_votes",
         "type": "\"double\""
        }
       ],
       "type": "table"
      }
     },
     "output_type": "display_data"
    }
   ],
   "source": [
    "filePath = \"dbfs:/FileStore/tables/Files/ratings.csv\"\n",
    "namesDF = spark.read.format(\"csv\") \\\n",
    "              .option(\"header\",\"true\") \\\n",
    "              .option(\"inferSchema\",\"true\") \\\n",
    "              .load(filePath)\n",
    "\n",
    "display(namesDF.limit(10))"
   ]
  },
  {
   "cell_type": "markdown",
   "metadata": {
    "application/vnd.databricks.v1+cell": {
     "cellMetadata": {
      "byteLimit": 2048000,
      "rowLimit": 10000
     },
     "inputWidgets": {},
     "nuid": "ea72bcb9-7fb4-4305-85d1-709a63b8c9c3",
     "showTitle": false,
     "tableResultSettingsMap": {},
     "title": ""
    }
   },
   "source": [
    "3.1 Dodaj kolumnę z wartością czasu wykonania notatnika w formacie epoch"
   ]
  },
  {
   "cell_type": "code",
   "execution_count": 0,
   "metadata": {
    "application/vnd.databricks.v1+cell": {
     "cellMetadata": {
      "byteLimit": 2048000,
      "rowLimit": 10000
     },
     "inputWidgets": {},
     "nuid": "2a5e3c26-1edf-47dd-9116-fc75bbca05ff",
     "showTitle": false,
     "tableResultSettingsMap": {},
     "title": ""
    }
   },
   "outputs": [
    {
     "output_type": "display_data",
     "data": {
      "text/html": [
       "<style scoped>\n",
       "  .table-result-container {\n",
       "    max-height: 300px;\n",
       "    overflow: auto;\n",
       "  }\n",
       "  table, th, td {\n",
       "    border: 1px solid black;\n",
       "    border-collapse: collapse;\n",
       "  }\n",
       "  th, td {\n",
       "    padding: 5px;\n",
       "  }\n",
       "  th {\n",
       "    text-align: left;\n",
       "  }\n",
       "</style><div class='table-result-container'><table class='table-result'><thead style='background-color: white'><tr><th>imdb_title_id</th><th>weighted_average_vote</th><th>total_votes</th><th>mean_vote</th><th>median_vote</th><th>votes_10</th><th>votes_9</th><th>votes_8</th><th>votes_7</th><th>votes_6</th><th>votes_5</th><th>votes_4</th><th>votes_3</th><th>votes_2</th><th>votes_1</th><th>allgenders_0age_avg_vote</th><th>allgenders_0age_votes</th><th>allgenders_18age_avg_vote</th><th>allgenders_18age_votes</th><th>allgenders_30age_avg_vote</th><th>allgenders_30age_votes</th><th>allgenders_45age_avg_vote</th><th>allgenders_45age_votes</th><th>males_allages_avg_vote</th><th>males_allages_votes</th><th>males_0age_avg_vote</th><th>males_0age_votes</th><th>males_18age_avg_vote</th><th>males_18age_votes</th><th>males_30age_avg_vote</th><th>males_30age_votes</th><th>males_45age_avg_vote</th><th>males_45age_votes</th><th>females_allages_avg_vote</th><th>females_allages_votes</th><th>females_0age_avg_vote</th><th>females_0age_votes</th><th>females_18age_avg_vote</th><th>females_18age_votes</th><th>females_30age_avg_vote</th><th>females_30age_votes</th><th>females_45age_avg_vote</th><th>females_45age_votes</th><th>top1000_voters_rating</th><th>top1000_voters_votes</th><th>us_voters_rating</th><th>us_voters_votes</th><th>non_us_voters_rating</th><th>non_us_voters_votes</th><th>notebook_epoch_time_ratings</th></tr></thead><tbody><tr><td>tt0000009</td><td>5.9</td><td>154</td><td>5.9</td><td>6.0</td><td>12</td><td>4</td><td>10</td><td>43</td><td>28</td><td>28</td><td>9</td><td>1</td><td>5</td><td>14</td><td>7.2</td><td>4.0</td><td>6.0</td><td>38.0</td><td>5.7</td><td>50.0</td><td>6.6</td><td>35.0</td><td>6.2</td><td>97.0</td><td>7.0</td><td>1.0</td><td>5.9</td><td>24.0</td><td>5.6</td><td>36.0</td><td>6.7</td><td>31.0</td><td>6.0</td><td>35.0</td><td>7.3</td><td>3.0</td><td>5.9</td><td>14.0</td><td>5.7</td><td>13.0</td><td>4.5</td><td>4.0</td><td>5.7</td><td>34.0</td><td>6.4</td><td>51.0</td><td>6.0</td><td>70.0</td><td>1742662653</td></tr><tr><td>tt0000574</td><td>6.1</td><td>589</td><td>6.3</td><td>6.0</td><td>57</td><td>18</td><td>58</td><td>137</td><td>139</td><td>103</td><td>28</td><td>20</td><td>13</td><td>16</td><td>6.0</td><td>1.0</td><td>6.1</td><td>114.0</td><td>6.0</td><td>239.0</td><td>6.3</td><td>115.0</td><td>6.1</td><td>425.0</td><td>6.0</td><td>1.0</td><td>6.2</td><td>102.0</td><td>6.0</td><td>210.0</td><td>6.2</td><td>100.0</td><td>6.2</td><td>50.0</td><td>null</td><td>null</td><td>5.9</td><td>12.0</td><td>6.2</td><td>23.0</td><td>6.6</td><td>14.0</td><td>6.4</td><td>66.0</td><td>6.0</td><td>96.0</td><td>6.2</td><td>331.0</td><td>1742662653</td></tr><tr><td>tt0001892</td><td>5.8</td><td>188</td><td>6.0</td><td>6.0</td><td>6</td><td>6</td><td>17</td><td>44</td><td>52</td><td>32</td><td>16</td><td>5</td><td>6</td><td>4</td><td>null</td><td>null</td><td>5.5</td><td>25.0</td><td>5.8</td><td>72.0</td><td>6.2</td><td>62.0</td><td>5.9</td><td>146.0</td><td>null</td><td>null</td><td>5.5</td><td>21.0</td><td>5.9</td><td>67.0</td><td>6.2</td><td>55.0</td><td>5.7</td><td>15.0</td><td>null</td><td>null</td><td>5.8</td><td>4.0</td><td>5.8</td><td>4.0</td><td>6.8</td><td>7.0</td><td>5.4</td><td>32.0</td><td>6.2</td><td>31.0</td><td>5.9</td><td>123.0</td><td>1742662653</td></tr><tr><td>tt0002101</td><td>5.2</td><td>446</td><td>5.3</td><td>5.0</td><td>15</td><td>8</td><td>16</td><td>62</td><td>98</td><td>117</td><td>63</td><td>26</td><td>25</td><td>16</td><td>null</td><td>null</td><td>5.3</td><td>23.0</td><td>5.0</td><td>111.0</td><td>5.3</td><td>193.0</td><td>5.1</td><td>299.0</td><td>null</td><td>null</td><td>5.2</td><td>20.0</td><td>4.9</td><td>96.0</td><td>5.2</td><td>171.0</td><td>5.9</td><td>39.0</td><td>null</td><td>null</td><td>5.7</td><td>3.0</td><td>5.5</td><td>14.0</td><td>6.1</td><td>21.0</td><td>4.9</td><td>57.0</td><td>5.5</td><td>207.0</td><td>4.7</td><td>105.0</td><td>1742662653</td></tr><tr><td>tt0002130</td><td>7.0</td><td>2237</td><td>6.9</td><td>7.0</td><td>210</td><td>225</td><td>436</td><td>641</td><td>344</td><td>169</td><td>66</td><td>39</td><td>20</td><td>87</td><td>7.5</td><td>4.0</td><td>7.0</td><td>402.0</td><td>7.0</td><td>895.0</td><td>7.1</td><td>482.0</td><td>7.0</td><td>1607.0</td><td>8.0</td><td>2.0</td><td>7.0</td><td>346.0</td><td>7.0</td><td>804.0</td><td>7.0</td><td>396.0</td><td>7.2</td><td>215.0</td><td>7.0</td><td>2.0</td><td>7.0</td><td>52.0</td><td>7.3</td><td>82.0</td><td>7.4</td><td>77.0</td><td>6.9</td><td>139.0</td><td>7.0</td><td>488.0</td><td>7.0</td><td>1166.0</td><td>1742662653</td></tr><tr><td>tt0002199</td><td>5.7</td><td>484</td><td>5.8</td><td>6.0</td><td>33</td><td>15</td><td>48</td><td>80</td><td>123</td><td>77</td><td>36</td><td>20</td><td>18</td><td>34</td><td>null</td><td>null</td><td>5.6</td><td>35.0</td><td>5.6</td><td>177.0</td><td>5.8</td><td>168.0</td><td>5.7</td><td>354.0</td><td>null</td><td>null</td><td>5.6</td><td>32.0</td><td>5.7</td><td>159.0</td><td>5.8</td><td>151.0</td><td>5.8</td><td>31.0</td><td>null</td><td>null</td><td>6.3</td><td>3.0</td><td>5.1</td><td>13.0</td><td>6.5</td><td>15.0</td><td>5.5</td><td>67.0</td><td>5.9</td><td>173.0</td><td>5.6</td><td>181.0</td><td>1742662653</td></tr><tr><td>tt0002423</td><td>6.8</td><td>753</td><td>6.8</td><td>7.0</td><td>80</td><td>65</td><td>105</td><td>209</td><td>142</td><td>80</td><td>27</td><td>13</td><td>4</td><td>28</td><td>3.0</td><td>1.0</td><td>6.4</td><td>59.0</td><td>6.7</td><td>287.0</td><td>7.0</td><td>276.0</td><td>6.6</td><td>530.0</td><td>3.0</td><td>1.0</td><td>6.4</td><td>41.0</td><td>6.6</td><td>240.0</td><td>6.8</td><td>238.0</td><td>7.4</td><td>93.0</td><td>null</td><td>null</td><td>6.5</td><td>16.0</td><td>7.2</td><td>40.0</td><td>8.2</td><td>34.0</td><td>6.2</td><td>88.0</td><td>6.6</td><td>139.0</td><td>6.8</td><td>455.0</td><td>1742662653</td></tr><tr><td>tt0002445</td><td>6.2</td><td>273</td><td>6.2</td><td>6.0</td><td>15</td><td>8</td><td>30</td><td>74</td><td>66</td><td>40</td><td>22</td><td>6</td><td>2</td><td>10</td><td>6.0</td><td>1.0</td><td>5.9</td><td>34.0</td><td>6.2</td><td>99.0</td><td>6.3</td><td>69.0</td><td>6.2</td><td>191.0</td><td>6.0</td><td>1.0</td><td>5.8</td><td>29.0</td><td>6.2</td><td>85.0</td><td>6.3</td><td>64.0</td><td>6.3</td><td>21.0</td><td>null</td><td>null</td><td>6.5</td><td>5.0</td><td>6.3</td><td>11.0</td><td>6.2</td><td>5.0</td><td>5.7</td><td>41.0</td><td>5.8</td><td>40.0</td><td>6.2</td><td>154.0</td><td>1742662653</td></tr><tr><td>tt0002452</td><td>6.7</td><td>198</td><td>7.1</td><td>7.0</td><td>53</td><td>7</td><td>23</td><td>35</td><td>30</td><td>24</td><td>12</td><td>5</td><td>3</td><td>6</td><td>null</td><td>null</td><td>7.4</td><td>28.0</td><td>6.7</td><td>104.0</td><td>6.5</td><td>39.0</td><td>6.7</td><td>153.0</td><td>null</td><td>null</td><td>7.3</td><td>24.0</td><td>6.6</td><td>92.0</td><td>6.5</td><td>33.0</td><td>7.0</td><td>19.0</td><td>null</td><td>null</td><td>8.3</td><td>3.0</td><td>6.8</td><td>10.0</td><td>6.8</td><td>6.0</td><td>5.4</td><td>25.0</td><td>6.7</td><td>25.0</td><td>6.8</td><td>135.0</td><td>1742662653</td></tr><tr><td>tt0002461</td><td>5.5</td><td>225</td><td>5.4</td><td>6.0</td><td>9</td><td>6</td><td>22</td><td>34</td><td>53</td><td>40</td><td>23</td><td>8</td><td>4</td><td>26</td><td>null</td><td>null</td><td>5.9</td><td>11.0</td><td>5.3</td><td>95.0</td><td>5.8</td><td>72.0</td><td>5.5</td><td>168.0</td><td>null</td><td>null</td><td>5.9</td><td>11.0</td><td>5.2</td><td>88.0</td><td>5.8</td><td>63.0</td><td>7.7</td><td>15.0</td><td>null</td><td>null</td><td>null</td><td>null</td><td>7.2</td><td>6.0</td><td>9.7</td><td>9.0</td><td>5.4</td><td>37.0</td><td>5.8</td><td>109.0</td><td>5.4</td><td>68.0</td><td>1742662653</td></tr></tbody></table></div>"
      ]
     },
     "metadata": {
      "application/vnd.databricks.v1+output": {
       "addedWidgets": {},
       "aggData": [],
       "aggError": "",
       "aggOverflow": false,
       "aggSchema": [],
       "aggSeriesLimitReached": false,
       "aggType": "",
       "arguments": {},
       "columnCustomDisplayInfos": {},
       "data": [
        [
         "tt0000009",
         5.9,
         154,
         5.9,
         6.0,
         12,
         4,
         10,
         43,
         28,
         28,
         9,
         1,
         5,
         14,
         7.2,
         4.0,
         6.0,
         38.0,
         5.7,
         50.0,
         6.6,
         35.0,
         6.2,
         97.0,
         7.0,
         1.0,
         5.9,
         24.0,
         5.6,
         36.0,
         6.7,
         31.0,
         6.0,
         35.0,
         7.3,
         3.0,
         5.9,
         14.0,
         5.7,
         13.0,
         4.5,
         4.0,
         5.7,
         34.0,
         6.4,
         51.0,
         6.0,
         70.0,
         1742662653
        ],
        [
         "tt0000574",
         6.1,
         589,
         6.3,
         6.0,
         57,
         18,
         58,
         137,
         139,
         103,
         28,
         20,
         13,
         16,
         6.0,
         1.0,
         6.1,
         114.0,
         6.0,
         239.0,
         6.3,
         115.0,
         6.1,
         425.0,
         6.0,
         1.0,
         6.2,
         102.0,
         6.0,
         210.0,
         6.2,
         100.0,
         6.2,
         50.0,
         null,
         null,
         5.9,
         12.0,
         6.2,
         23.0,
         6.6,
         14.0,
         6.4,
         66.0,
         6.0,
         96.0,
         6.2,
         331.0,
         1742662653
        ],
        [
         "tt0001892",
         5.8,
         188,
         6.0,
         6.0,
         6,
         6,
         17,
         44,
         52,
         32,
         16,
         5,
         6,
         4,
         null,
         null,
         5.5,
         25.0,
         5.8,
         72.0,
         6.2,
         62.0,
         5.9,
         146.0,
         null,
         null,
         5.5,
         21.0,
         5.9,
         67.0,
         6.2,
         55.0,
         5.7,
         15.0,
         null,
         null,
         5.8,
         4.0,
         5.8,
         4.0,
         6.8,
         7.0,
         5.4,
         32.0,
         6.2,
         31.0,
         5.9,
         123.0,
         1742662653
        ],
        [
         "tt0002101",
         5.2,
         446,
         5.3,
         5.0,
         15,
         8,
         16,
         62,
         98,
         117,
         63,
         26,
         25,
         16,
         null,
         null,
         5.3,
         23.0,
         5.0,
         111.0,
         5.3,
         193.0,
         5.1,
         299.0,
         null,
         null,
         5.2,
         20.0,
         4.9,
         96.0,
         5.2,
         171.0,
         5.9,
         39.0,
         null,
         null,
         5.7,
         3.0,
         5.5,
         14.0,
         6.1,
         21.0,
         4.9,
         57.0,
         5.5,
         207.0,
         4.7,
         105.0,
         1742662653
        ],
        [
         "tt0002130",
         7.0,
         2237,
         6.9,
         7.0,
         210,
         225,
         436,
         641,
         344,
         169,
         66,
         39,
         20,
         87,
         7.5,
         4.0,
         7.0,
         402.0,
         7.0,
         895.0,
         7.1,
         482.0,
         7.0,
         1607.0,
         8.0,
         2.0,
         7.0,
         346.0,
         7.0,
         804.0,
         7.0,
         396.0,
         7.2,
         215.0,
         7.0,
         2.0,
         7.0,
         52.0,
         7.3,
         82.0,
         7.4,
         77.0,
         6.9,
         139.0,
         7.0,
         488.0,
         7.0,
         1166.0,
         1742662653
        ],
        [
         "tt0002199",
         5.7,
         484,
         5.8,
         6.0,
         33,
         15,
         48,
         80,
         123,
         77,
         36,
         20,
         18,
         34,
         null,
         null,
         5.6,
         35.0,
         5.6,
         177.0,
         5.8,
         168.0,
         5.7,
         354.0,
         null,
         null,
         5.6,
         32.0,
         5.7,
         159.0,
         5.8,
         151.0,
         5.8,
         31.0,
         null,
         null,
         6.3,
         3.0,
         5.1,
         13.0,
         6.5,
         15.0,
         5.5,
         67.0,
         5.9,
         173.0,
         5.6,
         181.0,
         1742662653
        ],
        [
         "tt0002423",
         6.8,
         753,
         6.8,
         7.0,
         80,
         65,
         105,
         209,
         142,
         80,
         27,
         13,
         4,
         28,
         3.0,
         1.0,
         6.4,
         59.0,
         6.7,
         287.0,
         7.0,
         276.0,
         6.6,
         530.0,
         3.0,
         1.0,
         6.4,
         41.0,
         6.6,
         240.0,
         6.8,
         238.0,
         7.4,
         93.0,
         null,
         null,
         6.5,
         16.0,
         7.2,
         40.0,
         8.2,
         34.0,
         6.2,
         88.0,
         6.6,
         139.0,
         6.8,
         455.0,
         1742662653
        ],
        [
         "tt0002445",
         6.2,
         273,
         6.2,
         6.0,
         15,
         8,
         30,
         74,
         66,
         40,
         22,
         6,
         2,
         10,
         6.0,
         1.0,
         5.9,
         34.0,
         6.2,
         99.0,
         6.3,
         69.0,
         6.2,
         191.0,
         6.0,
         1.0,
         5.8,
         29.0,
         6.2,
         85.0,
         6.3,
         64.0,
         6.3,
         21.0,
         null,
         null,
         6.5,
         5.0,
         6.3,
         11.0,
         6.2,
         5.0,
         5.7,
         41.0,
         5.8,
         40.0,
         6.2,
         154.0,
         1742662653
        ],
        [
         "tt0002452",
         6.7,
         198,
         7.1,
         7.0,
         53,
         7,
         23,
         35,
         30,
         24,
         12,
         5,
         3,
         6,
         null,
         null,
         7.4,
         28.0,
         6.7,
         104.0,
         6.5,
         39.0,
         6.7,
         153.0,
         null,
         null,
         7.3,
         24.0,
         6.6,
         92.0,
         6.5,
         33.0,
         7.0,
         19.0,
         null,
         null,
         8.3,
         3.0,
         6.8,
         10.0,
         6.8,
         6.0,
         5.4,
         25.0,
         6.7,
         25.0,
         6.8,
         135.0,
         1742662653
        ],
        [
         "tt0002461",
         5.5,
         225,
         5.4,
         6.0,
         9,
         6,
         22,
         34,
         53,
         40,
         23,
         8,
         4,
         26,
         null,
         null,
         5.9,
         11.0,
         5.3,
         95.0,
         5.8,
         72.0,
         5.5,
         168.0,
         null,
         null,
         5.9,
         11.0,
         5.2,
         88.0,
         5.8,
         63.0,
         7.7,
         15.0,
         null,
         null,
         null,
         null,
         7.2,
         6.0,
         9.7,
         9.0,
         5.4,
         37.0,
         5.8,
         109.0,
         5.4,
         68.0,
         1742662653
        ]
       ],
       "datasetInfos": [],
       "dbfsResultPath": null,
       "isJsonSchema": true,
       "metadata": {},
       "overflow": false,
       "plotOptions": {
        "customPlotOptions": {},
        "displayType": "table",
        "pivotAggregation": null,
        "pivotColumns": null,
        "xColumns": null,
        "yColumns": null
       },
       "removedWidgets": [],
       "schema": [
        {
         "metadata": "{}",
         "name": "imdb_title_id",
         "type": "\"string\""
        },
        {
         "metadata": "{}",
         "name": "weighted_average_vote",
         "type": "\"double\""
        },
        {
         "metadata": "{}",
         "name": "total_votes",
         "type": "\"integer\""
        },
        {
         "metadata": "{}",
         "name": "mean_vote",
         "type": "\"double\""
        },
        {
         "metadata": "{}",
         "name": "median_vote",
         "type": "\"double\""
        },
        {
         "metadata": "{}",
         "name": "votes_10",
         "type": "\"integer\""
        },
        {
         "metadata": "{}",
         "name": "votes_9",
         "type": "\"integer\""
        },
        {
         "metadata": "{}",
         "name": "votes_8",
         "type": "\"integer\""
        },
        {
         "metadata": "{}",
         "name": "votes_7",
         "type": "\"integer\""
        },
        {
         "metadata": "{}",
         "name": "votes_6",
         "type": "\"integer\""
        },
        {
         "metadata": "{}",
         "name": "votes_5",
         "type": "\"integer\""
        },
        {
         "metadata": "{}",
         "name": "votes_4",
         "type": "\"integer\""
        },
        {
         "metadata": "{}",
         "name": "votes_3",
         "type": "\"integer\""
        },
        {
         "metadata": "{}",
         "name": "votes_2",
         "type": "\"integer\""
        },
        {
         "metadata": "{}",
         "name": "votes_1",
         "type": "\"integer\""
        },
        {
         "metadata": "{}",
         "name": "allgenders_0age_avg_vote",
         "type": "\"double\""
        },
        {
         "metadata": "{}",
         "name": "allgenders_0age_votes",
         "type": "\"double\""
        },
        {
         "metadata": "{}",
         "name": "allgenders_18age_avg_vote",
         "type": "\"double\""
        },
        {
         "metadata": "{}",
         "name": "allgenders_18age_votes",
         "type": "\"double\""
        },
        {
         "metadata": "{}",
         "name": "allgenders_30age_avg_vote",
         "type": "\"double\""
        },
        {
         "metadata": "{}",
         "name": "allgenders_30age_votes",
         "type": "\"double\""
        },
        {
         "metadata": "{}",
         "name": "allgenders_45age_avg_vote",
         "type": "\"double\""
        },
        {
         "metadata": "{}",
         "name": "allgenders_45age_votes",
         "type": "\"double\""
        },
        {
         "metadata": "{}",
         "name": "males_allages_avg_vote",
         "type": "\"double\""
        },
        {
         "metadata": "{}",
         "name": "males_allages_votes",
         "type": "\"double\""
        },
        {
         "metadata": "{}",
         "name": "males_0age_avg_vote",
         "type": "\"double\""
        },
        {
         "metadata": "{}",
         "name": "males_0age_votes",
         "type": "\"double\""
        },
        {
         "metadata": "{}",
         "name": "males_18age_avg_vote",
         "type": "\"double\""
        },
        {
         "metadata": "{}",
         "name": "males_18age_votes",
         "type": "\"double\""
        },
        {
         "metadata": "{}",
         "name": "males_30age_avg_vote",
         "type": "\"double\""
        },
        {
         "metadata": "{}",
         "name": "males_30age_votes",
         "type": "\"double\""
        },
        {
         "metadata": "{}",
         "name": "males_45age_avg_vote",
         "type": "\"double\""
        },
        {
         "metadata": "{}",
         "name": "males_45age_votes",
         "type": "\"double\""
        },
        {
         "metadata": "{}",
         "name": "females_allages_avg_vote",
         "type": "\"double\""
        },
        {
         "metadata": "{}",
         "name": "females_allages_votes",
         "type": "\"double\""
        },
        {
         "metadata": "{}",
         "name": "females_0age_avg_vote",
         "type": "\"double\""
        },
        {
         "metadata": "{}",
         "name": "females_0age_votes",
         "type": "\"double\""
        },
        {
         "metadata": "{}",
         "name": "females_18age_avg_vote",
         "type": "\"double\""
        },
        {
         "metadata": "{}",
         "name": "females_18age_votes",
         "type": "\"double\""
        },
        {
         "metadata": "{}",
         "name": "females_30age_avg_vote",
         "type": "\"double\""
        },
        {
         "metadata": "{}",
         "name": "females_30age_votes",
         "type": "\"double\""
        },
        {
         "metadata": "{}",
         "name": "females_45age_avg_vote",
         "type": "\"double\""
        },
        {
         "metadata": "{}",
         "name": "females_45age_votes",
         "type": "\"double\""
        },
        {
         "metadata": "{}",
         "name": "top1000_voters_rating",
         "type": "\"double\""
        },
        {
         "metadata": "{}",
         "name": "top1000_voters_votes",
         "type": "\"double\""
        },
        {
         "metadata": "{}",
         "name": "us_voters_rating",
         "type": "\"double\""
        },
        {
         "metadata": "{}",
         "name": "us_voters_votes",
         "type": "\"double\""
        },
        {
         "metadata": "{}",
         "name": "non_us_voters_rating",
         "type": "\"double\""
        },
        {
         "metadata": "{}",
         "name": "non_us_voters_votes",
         "type": "\"double\""
        },
        {
         "metadata": "{}",
         "name": "notebook_epoch_time_ratings",
         "type": "\"long\""
        }
       ],
       "type": "table"
      }
     },
     "output_type": "display_data"
    },
    {
     "output_type": "stream",
     "name": "stdout",
     "output_type": "stream",
     "text": [
      "== Physical Plan ==\n*(1) Project [imdb_title_id#12528, weighted_average_vote#12529, total_votes#12530, mean_vote#12531, median_vote#12532, votes_10#12533, votes_9#12534, votes_8#12535, votes_7#12536, votes_6#12537, votes_5#12538, votes_4#12539, votes_3#12540, votes_2#12541, votes_1#12542, allgenders_0age_avg_vote#12543, allgenders_0age_votes#12544, allgenders_18age_avg_vote#12545, allgenders_18age_votes#12546, allgenders_30age_avg_vote#12547, allgenders_30age_votes#12548, allgenders_45age_avg_vote#12549, allgenders_45age_votes#12550, males_allages_avg_vote#12551, ... 26 more fields]\n+- FileScan csv [imdb_title_id#12528,weighted_average_vote#12529,total_votes#12530,mean_vote#12531,median_vote#12532,votes_10#12533,votes_9#12534,votes_8#12535,votes_7#12536,votes_6#12537,votes_5#12538,votes_4#12539,votes_3#12540,votes_2#12541,votes_1#12542,allgenders_0age_avg_vote#12543,allgenders_0age_votes#12544,allgenders_18age_avg_vote#12545,allgenders_18age_votes#12546,allgenders_30age_avg_vote#12547,allgenders_30age_votes#12548,allgenders_45age_avg_vote#12549,allgenders_45age_votes#12550,males_allages_avg_vote#12551,... 25 more fields] Batched: false, DataFilters: [], Format: CSV, Location: InMemoryFileIndex(1 paths)[dbfs:/FileStore/tables/Files/ratings.csv], PartitionFilters: [], PushedFilters: [], ReadSchema: struct<imdb_title_id:string,weighted_average_vote:double,total_votes:int,mean_vote:double,median_...\n\n\n"
     ]
    }
   ],
   "source": [
    "ratingsWithEpoch = namesDF.withColumn(\"notebook_epoch_time_ratings\", unix_timestamp())\n",
    "display(ratingsWithEpoch.limit(10))\n",
    "ratingsWithEpoch.explain() "
   ]
  },
  {
   "cell_type": "markdown",
   "metadata": {
    "application/vnd.databricks.v1+cell": {
     "cellMetadata": {
      "byteLimit": 2048000,
      "rowLimit": 10000
     },
     "inputWidgets": {},
     "nuid": "26106140-3396-40eb-96d2-c546b5618b39",
     "showTitle": false,
     "tableResultSettingsMap": {},
     "title": ""
    }
   },
   "source": [
    "3.2 Kto daje lepsze oceny chłopcy czy dziewczyny dla całego setu"
   ]
  },
  {
   "cell_type": "code",
   "execution_count": 0,
   "metadata": {
    "application/vnd.databricks.v1+cell": {
     "cellMetadata": {
      "byteLimit": 2048000,
      "rowLimit": 10000
     },
     "inputWidgets": {},
     "nuid": "0c291efd-d763-48f7-948e-5e23504f7ccd",
     "showTitle": false,
     "tableResultSettingsMap": {},
     "title": ""
    }
   },
   "outputs": [
    {
     "output_type": "stream",
     "name": "stdout",
     "output_type": "stream",
     "text": [
      "== Physical Plan ==\nAdaptiveSparkPlan isFinalPlan=false\n+- HashAggregate(keys=[], functions=[finalmerge_avg(merge sum#13031, count#13032L) AS avg(males_allages_avg_vote#12551)#12976])\n   +- Exchange SinglePartition, ENSURE_REQUIREMENTS, [plan_id=4412]\n      +- HashAggregate(keys=[], functions=[partial_avg(males_allages_avg_vote#12551) AS (sum#13031, count#13032L)])\n         +- FileScan csv [males_allages_avg_vote#12551] Batched: false, DataFilters: [], Format: CSV, Location: InMemoryFileIndex(1 paths)[dbfs:/FileStore/tables/Files/ratings.csv], PartitionFilters: [], PushedFilters: [], ReadSchema: struct<males_allages_avg_vote:double>\n\n\n== Physical Plan ==\nAdaptiveSparkPlan isFinalPlan=false\n+- HashAggregate(keys=[], functions=[finalmerge_avg(merge sum#13101, count#13102L) AS avg(females_allages_avg_vote#12561)#13046])\n   +- Exchange SinglePartition, ENSURE_REQUIREMENTS, [plan_id=4463]\n      +- HashAggregate(keys=[], functions=[partial_avg(females_allages_avg_vote#12561) AS (sum#13101, count#13102L)])\n         +- FileScan csv [females_allages_avg_vote#12561] Batched: false, DataFilters: [], Format: CSV, Location: InMemoryFileIndex(1 paths)[dbfs:/FileStore/tables/Files/ratings.csv], PartitionFilters: [], PushedFilters: [], ReadSchema: struct<females_allages_avg_vote:double>\n\n\nŚrednia ocen chłopców: 5.817172176019753, Średnia ocen dziewczyn: 6.03940821227877. Lepsze oceny dają: dziewczyny\n"
     ]
    }
   ],
   "source": [
    "dfMales = ratingsWithEpoch.agg(avg(\"males_allages_avg_vote\").alias(\"avg_males\"))\n",
    "dfMales.explain()\n",
    "avgMales = dfMales.first().avg_males\n",
    "\n",
    "dfFemales = ratingsWithEpoch.agg(avg(\"females_allages_avg_vote\").alias(\"avg_females\"))\n",
    "dfFemales.explain()\n",
    "avgFemales = dfFemales.first().avg_females\n",
    "\n",
    "betterRaters = \"chłopcy\" if avgMales > avgFemales else \"dziewczyny\"\n",
    "print(f\"Średnia ocen chłopców: {avgMales}, Średnia ocen dziewczyn: {avgFemales}. Lepsze oceny dają: {betterRaters}\")\n"
   ]
  },
  {
   "cell_type": "markdown",
   "metadata": {
    "application/vnd.databricks.v1+cell": {
     "cellMetadata": {
      "byteLimit": 2048000,
      "rowLimit": 10000
     },
     "inputWidgets": {},
     "nuid": "93a087f3-2e67-450c-8cfa-efb6feb5a8bf",
     "showTitle": false,
     "tableResultSettingsMap": {},
     "title": ""
    }
   },
   "source": [
    "3.3 Dla jednej z kolumn zmień typ danych do `long` "
   ]
  },
  {
   "cell_type": "code",
   "execution_count": 0,
   "metadata": {
    "application/vnd.databricks.v1+cell": {
     "cellMetadata": {
      "byteLimit": 2048000,
      "rowLimit": 10000
     },
     "inputWidgets": {},
     "nuid": "d7e5c2a9-9597-4c7a-9cf3-1538d64e1b3e",
     "showTitle": false,
     "tableResultSettingsMap": {},
     "title": ""
    }
   },
   "outputs": [
    {
     "output_type": "display_data",
     "data": {
      "text/html": [
       "<style scoped>\n",
       "  .table-result-container {\n",
       "    max-height: 300px;\n",
       "    overflow: auto;\n",
       "  }\n",
       "  table, th, td {\n",
       "    border: 1px solid black;\n",
       "    border-collapse: collapse;\n",
       "  }\n",
       "  th, td {\n",
       "    padding: 5px;\n",
       "  }\n",
       "  th {\n",
       "    text-align: left;\n",
       "  }\n",
       "</style><div class='table-result-container'><table class='table-result'><thead style='background-color: white'><tr><th>imdb_title_id</th><th>weighted_average_vote</th><th>total_votes</th><th>mean_vote</th><th>median_vote</th><th>votes_10</th><th>votes_9</th><th>votes_8</th><th>votes_7</th><th>votes_6</th><th>votes_5</th><th>votes_4</th><th>votes_3</th><th>votes_2</th><th>votes_1</th><th>allgenders_0age_avg_vote</th><th>allgenders_0age_votes</th><th>allgenders_18age_avg_vote</th><th>allgenders_18age_votes</th><th>allgenders_30age_avg_vote</th><th>allgenders_30age_votes</th><th>allgenders_45age_avg_vote</th><th>allgenders_45age_votes</th><th>males_allages_avg_vote</th><th>males_allages_votes</th><th>males_0age_avg_vote</th><th>males_0age_votes</th><th>males_18age_avg_vote</th><th>males_18age_votes</th><th>males_30age_avg_vote</th><th>males_30age_votes</th><th>males_45age_avg_vote</th><th>males_45age_votes</th><th>females_allages_avg_vote</th><th>females_allages_votes</th><th>females_0age_avg_vote</th><th>females_0age_votes</th><th>females_18age_avg_vote</th><th>females_18age_votes</th><th>females_30age_avg_vote</th><th>females_30age_votes</th><th>females_45age_avg_vote</th><th>females_45age_votes</th><th>top1000_voters_rating</th><th>top1000_voters_votes</th><th>us_voters_rating</th><th>us_voters_votes</th><th>non_us_voters_rating</th><th>non_us_voters_votes</th><th>notebook_epoch_time_ratings</th></tr></thead><tbody><tr><td>tt0000009</td><td>5.9</td><td>154</td><td>5.9</td><td>6.0</td><td>12</td><td>4</td><td>10</td><td>43</td><td>28</td><td>28</td><td>9</td><td>1</td><td>5</td><td>14</td><td>7.2</td><td>4.0</td><td>6.0</td><td>38.0</td><td>5.7</td><td>50.0</td><td>6.6</td><td>35.0</td><td>6.2</td><td>97.0</td><td>7.0</td><td>1.0</td><td>5.9</td><td>24.0</td><td>5.6</td><td>36.0</td><td>6.7</td><td>31.0</td><td>6.0</td><td>35.0</td><td>7.3</td><td>3.0</td><td>5.9</td><td>14.0</td><td>5.7</td><td>13.0</td><td>4.5</td><td>4.0</td><td>5.7</td><td>34.0</td><td>6.4</td><td>51.0</td><td>6.0</td><td>70.0</td><td>1742662655</td></tr><tr><td>tt0000574</td><td>6.1</td><td>589</td><td>6.3</td><td>6.0</td><td>57</td><td>18</td><td>58</td><td>137</td><td>139</td><td>103</td><td>28</td><td>20</td><td>13</td><td>16</td><td>6.0</td><td>1.0</td><td>6.1</td><td>114.0</td><td>6.0</td><td>239.0</td><td>6.3</td><td>115.0</td><td>6.1</td><td>425.0</td><td>6.0</td><td>1.0</td><td>6.2</td><td>102.0</td><td>6.0</td><td>210.0</td><td>6.2</td><td>100.0</td><td>6.2</td><td>50.0</td><td>null</td><td>null</td><td>5.9</td><td>12.0</td><td>6.2</td><td>23.0</td><td>6.6</td><td>14.0</td><td>6.4</td><td>66.0</td><td>6.0</td><td>96.0</td><td>6.2</td><td>331.0</td><td>1742662655</td></tr><tr><td>tt0001892</td><td>5.8</td><td>188</td><td>6.0</td><td>6.0</td><td>6</td><td>6</td><td>17</td><td>44</td><td>52</td><td>32</td><td>16</td><td>5</td><td>6</td><td>4</td><td>null</td><td>null</td><td>5.5</td><td>25.0</td><td>5.8</td><td>72.0</td><td>6.2</td><td>62.0</td><td>5.9</td><td>146.0</td><td>null</td><td>null</td><td>5.5</td><td>21.0</td><td>5.9</td><td>67.0</td><td>6.2</td><td>55.0</td><td>5.7</td><td>15.0</td><td>null</td><td>null</td><td>5.8</td><td>4.0</td><td>5.8</td><td>4.0</td><td>6.8</td><td>7.0</td><td>5.4</td><td>32.0</td><td>6.2</td><td>31.0</td><td>5.9</td><td>123.0</td><td>1742662655</td></tr><tr><td>tt0002101</td><td>5.2</td><td>446</td><td>5.3</td><td>5.0</td><td>15</td><td>8</td><td>16</td><td>62</td><td>98</td><td>117</td><td>63</td><td>26</td><td>25</td><td>16</td><td>null</td><td>null</td><td>5.3</td><td>23.0</td><td>5.0</td><td>111.0</td><td>5.3</td><td>193.0</td><td>5.1</td><td>299.0</td><td>null</td><td>null</td><td>5.2</td><td>20.0</td><td>4.9</td><td>96.0</td><td>5.2</td><td>171.0</td><td>5.9</td><td>39.0</td><td>null</td><td>null</td><td>5.7</td><td>3.0</td><td>5.5</td><td>14.0</td><td>6.1</td><td>21.0</td><td>4.9</td><td>57.0</td><td>5.5</td><td>207.0</td><td>4.7</td><td>105.0</td><td>1742662655</td></tr><tr><td>tt0002130</td><td>7.0</td><td>2237</td><td>6.9</td><td>7.0</td><td>210</td><td>225</td><td>436</td><td>641</td><td>344</td><td>169</td><td>66</td><td>39</td><td>20</td><td>87</td><td>7.5</td><td>4.0</td><td>7.0</td><td>402.0</td><td>7.0</td><td>895.0</td><td>7.1</td><td>482.0</td><td>7.0</td><td>1607.0</td><td>8.0</td><td>2.0</td><td>7.0</td><td>346.0</td><td>7.0</td><td>804.0</td><td>7.0</td><td>396.0</td><td>7.2</td><td>215.0</td><td>7.0</td><td>2.0</td><td>7.0</td><td>52.0</td><td>7.3</td><td>82.0</td><td>7.4</td><td>77.0</td><td>6.9</td><td>139.0</td><td>7.0</td><td>488.0</td><td>7.0</td><td>1166.0</td><td>1742662655</td></tr><tr><td>tt0002199</td><td>5.7</td><td>484</td><td>5.8</td><td>6.0</td><td>33</td><td>15</td><td>48</td><td>80</td><td>123</td><td>77</td><td>36</td><td>20</td><td>18</td><td>34</td><td>null</td><td>null</td><td>5.6</td><td>35.0</td><td>5.6</td><td>177.0</td><td>5.8</td><td>168.0</td><td>5.7</td><td>354.0</td><td>null</td><td>null</td><td>5.6</td><td>32.0</td><td>5.7</td><td>159.0</td><td>5.8</td><td>151.0</td><td>5.8</td><td>31.0</td><td>null</td><td>null</td><td>6.3</td><td>3.0</td><td>5.1</td><td>13.0</td><td>6.5</td><td>15.0</td><td>5.5</td><td>67.0</td><td>5.9</td><td>173.0</td><td>5.6</td><td>181.0</td><td>1742662655</td></tr><tr><td>tt0002423</td><td>6.8</td><td>753</td><td>6.8</td><td>7.0</td><td>80</td><td>65</td><td>105</td><td>209</td><td>142</td><td>80</td><td>27</td><td>13</td><td>4</td><td>28</td><td>3.0</td><td>1.0</td><td>6.4</td><td>59.0</td><td>6.7</td><td>287.0</td><td>7.0</td><td>276.0</td><td>6.6</td><td>530.0</td><td>3.0</td><td>1.0</td><td>6.4</td><td>41.0</td><td>6.6</td><td>240.0</td><td>6.8</td><td>238.0</td><td>7.4</td><td>93.0</td><td>null</td><td>null</td><td>6.5</td><td>16.0</td><td>7.2</td><td>40.0</td><td>8.2</td><td>34.0</td><td>6.2</td><td>88.0</td><td>6.6</td><td>139.0</td><td>6.8</td><td>455.0</td><td>1742662655</td></tr><tr><td>tt0002445</td><td>6.2</td><td>273</td><td>6.2</td><td>6.0</td><td>15</td><td>8</td><td>30</td><td>74</td><td>66</td><td>40</td><td>22</td><td>6</td><td>2</td><td>10</td><td>6.0</td><td>1.0</td><td>5.9</td><td>34.0</td><td>6.2</td><td>99.0</td><td>6.3</td><td>69.0</td><td>6.2</td><td>191.0</td><td>6.0</td><td>1.0</td><td>5.8</td><td>29.0</td><td>6.2</td><td>85.0</td><td>6.3</td><td>64.0</td><td>6.3</td><td>21.0</td><td>null</td><td>null</td><td>6.5</td><td>5.0</td><td>6.3</td><td>11.0</td><td>6.2</td><td>5.0</td><td>5.7</td><td>41.0</td><td>5.8</td><td>40.0</td><td>6.2</td><td>154.0</td><td>1742662655</td></tr><tr><td>tt0002452</td><td>6.7</td><td>198</td><td>7.1</td><td>7.0</td><td>53</td><td>7</td><td>23</td><td>35</td><td>30</td><td>24</td><td>12</td><td>5</td><td>3</td><td>6</td><td>null</td><td>null</td><td>7.4</td><td>28.0</td><td>6.7</td><td>104.0</td><td>6.5</td><td>39.0</td><td>6.7</td><td>153.0</td><td>null</td><td>null</td><td>7.3</td><td>24.0</td><td>6.6</td><td>92.0</td><td>6.5</td><td>33.0</td><td>7.0</td><td>19.0</td><td>null</td><td>null</td><td>8.3</td><td>3.0</td><td>6.8</td><td>10.0</td><td>6.8</td><td>6.0</td><td>5.4</td><td>25.0</td><td>6.7</td><td>25.0</td><td>6.8</td><td>135.0</td><td>1742662655</td></tr><tr><td>tt0002461</td><td>5.5</td><td>225</td><td>5.4</td><td>6.0</td><td>9</td><td>6</td><td>22</td><td>34</td><td>53</td><td>40</td><td>23</td><td>8</td><td>4</td><td>26</td><td>null</td><td>null</td><td>5.9</td><td>11.0</td><td>5.3</td><td>95.0</td><td>5.8</td><td>72.0</td><td>5.5</td><td>168.0</td><td>null</td><td>null</td><td>5.9</td><td>11.0</td><td>5.2</td><td>88.0</td><td>5.8</td><td>63.0</td><td>7.7</td><td>15.0</td><td>null</td><td>null</td><td>null</td><td>null</td><td>7.2</td><td>6.0</td><td>9.7</td><td>9.0</td><td>5.4</td><td>37.0</td><td>5.8</td><td>109.0</td><td>5.4</td><td>68.0</td><td>1742662655</td></tr></tbody></table></div>"
      ]
     },
     "metadata": {
      "application/vnd.databricks.v1+output": {
       "addedWidgets": {},
       "aggData": [],
       "aggError": "",
       "aggOverflow": false,
       "aggSchema": [],
       "aggSeriesLimitReached": false,
       "aggType": "",
       "arguments": {},
       "columnCustomDisplayInfos": {},
       "data": [
        [
         "tt0000009",
         5.9,
         154,
         5.9,
         6.0,
         12,
         4,
         10,
         43,
         28,
         28,
         9,
         1,
         5,
         14,
         7.2,
         4.0,
         6.0,
         38.0,
         5.7,
         50.0,
         6.6,
         35.0,
         6.2,
         97.0,
         7.0,
         1.0,
         5.9,
         24.0,
         5.6,
         36.0,
         6.7,
         31.0,
         6.0,
         35.0,
         7.3,
         3.0,
         5.9,
         14.0,
         5.7,
         13.0,
         4.5,
         4.0,
         5.7,
         34.0,
         6.4,
         51.0,
         6.0,
         70.0,
         1742662655
        ],
        [
         "tt0000574",
         6.1,
         589,
         6.3,
         6.0,
         57,
         18,
         58,
         137,
         139,
         103,
         28,
         20,
         13,
         16,
         6.0,
         1.0,
         6.1,
         114.0,
         6.0,
         239.0,
         6.3,
         115.0,
         6.1,
         425.0,
         6.0,
         1.0,
         6.2,
         102.0,
         6.0,
         210.0,
         6.2,
         100.0,
         6.2,
         50.0,
         null,
         null,
         5.9,
         12.0,
         6.2,
         23.0,
         6.6,
         14.0,
         6.4,
         66.0,
         6.0,
         96.0,
         6.2,
         331.0,
         1742662655
        ],
        [
         "tt0001892",
         5.8,
         188,
         6.0,
         6.0,
         6,
         6,
         17,
         44,
         52,
         32,
         16,
         5,
         6,
         4,
         null,
         null,
         5.5,
         25.0,
         5.8,
         72.0,
         6.2,
         62.0,
         5.9,
         146.0,
         null,
         null,
         5.5,
         21.0,
         5.9,
         67.0,
         6.2,
         55.0,
         5.7,
         15.0,
         null,
         null,
         5.8,
         4.0,
         5.8,
         4.0,
         6.8,
         7.0,
         5.4,
         32.0,
         6.2,
         31.0,
         5.9,
         123.0,
         1742662655
        ],
        [
         "tt0002101",
         5.2,
         446,
         5.3,
         5.0,
         15,
         8,
         16,
         62,
         98,
         117,
         63,
         26,
         25,
         16,
         null,
         null,
         5.3,
         23.0,
         5.0,
         111.0,
         5.3,
         193.0,
         5.1,
         299.0,
         null,
         null,
         5.2,
         20.0,
         4.9,
         96.0,
         5.2,
         171.0,
         5.9,
         39.0,
         null,
         null,
         5.7,
         3.0,
         5.5,
         14.0,
         6.1,
         21.0,
         4.9,
         57.0,
         5.5,
         207.0,
         4.7,
         105.0,
         1742662655
        ],
        [
         "tt0002130",
         7.0,
         2237,
         6.9,
         7.0,
         210,
         225,
         436,
         641,
         344,
         169,
         66,
         39,
         20,
         87,
         7.5,
         4.0,
         7.0,
         402.0,
         7.0,
         895.0,
         7.1,
         482.0,
         7.0,
         1607.0,
         8.0,
         2.0,
         7.0,
         346.0,
         7.0,
         804.0,
         7.0,
         396.0,
         7.2,
         215.0,
         7.0,
         2.0,
         7.0,
         52.0,
         7.3,
         82.0,
         7.4,
         77.0,
         6.9,
         139.0,
         7.0,
         488.0,
         7.0,
         1166.0,
         1742662655
        ],
        [
         "tt0002199",
         5.7,
         484,
         5.8,
         6.0,
         33,
         15,
         48,
         80,
         123,
         77,
         36,
         20,
         18,
         34,
         null,
         null,
         5.6,
         35.0,
         5.6,
         177.0,
         5.8,
         168.0,
         5.7,
         354.0,
         null,
         null,
         5.6,
         32.0,
         5.7,
         159.0,
         5.8,
         151.0,
         5.8,
         31.0,
         null,
         null,
         6.3,
         3.0,
         5.1,
         13.0,
         6.5,
         15.0,
         5.5,
         67.0,
         5.9,
         173.0,
         5.6,
         181.0,
         1742662655
        ],
        [
         "tt0002423",
         6.8,
         753,
         6.8,
         7.0,
         80,
         65,
         105,
         209,
         142,
         80,
         27,
         13,
         4,
         28,
         3.0,
         1.0,
         6.4,
         59.0,
         6.7,
         287.0,
         7.0,
         276.0,
         6.6,
         530.0,
         3.0,
         1.0,
         6.4,
         41.0,
         6.6,
         240.0,
         6.8,
         238.0,
         7.4,
         93.0,
         null,
         null,
         6.5,
         16.0,
         7.2,
         40.0,
         8.2,
         34.0,
         6.2,
         88.0,
         6.6,
         139.0,
         6.8,
         455.0,
         1742662655
        ],
        [
         "tt0002445",
         6.2,
         273,
         6.2,
         6.0,
         15,
         8,
         30,
         74,
         66,
         40,
         22,
         6,
         2,
         10,
         6.0,
         1.0,
         5.9,
         34.0,
         6.2,
         99.0,
         6.3,
         69.0,
         6.2,
         191.0,
         6.0,
         1.0,
         5.8,
         29.0,
         6.2,
         85.0,
         6.3,
         64.0,
         6.3,
         21.0,
         null,
         null,
         6.5,
         5.0,
         6.3,
         11.0,
         6.2,
         5.0,
         5.7,
         41.0,
         5.8,
         40.0,
         6.2,
         154.0,
         1742662655
        ],
        [
         "tt0002452",
         6.7,
         198,
         7.1,
         7.0,
         53,
         7,
         23,
         35,
         30,
         24,
         12,
         5,
         3,
         6,
         null,
         null,
         7.4,
         28.0,
         6.7,
         104.0,
         6.5,
         39.0,
         6.7,
         153.0,
         null,
         null,
         7.3,
         24.0,
         6.6,
         92.0,
         6.5,
         33.0,
         7.0,
         19.0,
         null,
         null,
         8.3,
         3.0,
         6.8,
         10.0,
         6.8,
         6.0,
         5.4,
         25.0,
         6.7,
         25.0,
         6.8,
         135.0,
         1742662655
        ],
        [
         "tt0002461",
         5.5,
         225,
         5.4,
         6.0,
         9,
         6,
         22,
         34,
         53,
         40,
         23,
         8,
         4,
         26,
         null,
         null,
         5.9,
         11.0,
         5.3,
         95.0,
         5.8,
         72.0,
         5.5,
         168.0,
         null,
         null,
         5.9,
         11.0,
         5.2,
         88.0,
         5.8,
         63.0,
         7.7,
         15.0,
         null,
         null,
         null,
         null,
         7.2,
         6.0,
         9.7,
         9.0,
         5.4,
         37.0,
         5.8,
         109.0,
         5.4,
         68.0,
         1742662655
        ]
       ],
       "datasetInfos": [],
       "dbfsResultPath": null,
       "isJsonSchema": true,
       "metadata": {},
       "overflow": false,
       "plotOptions": {
        "customPlotOptions": {},
        "displayType": "table",
        "pivotAggregation": null,
        "pivotColumns": null,
        "xColumns": null,
        "yColumns": null
       },
       "removedWidgets": [],
       "schema": [
        {
         "metadata": "{}",
         "name": "imdb_title_id",
         "type": "\"string\""
        },
        {
         "metadata": "{}",
         "name": "weighted_average_vote",
         "type": "\"double\""
        },
        {
         "metadata": "{}",
         "name": "total_votes",
         "type": "\"long\""
        },
        {
         "metadata": "{}",
         "name": "mean_vote",
         "type": "\"double\""
        },
        {
         "metadata": "{}",
         "name": "median_vote",
         "type": "\"double\""
        },
        {
         "metadata": "{}",
         "name": "votes_10",
         "type": "\"integer\""
        },
        {
         "metadata": "{}",
         "name": "votes_9",
         "type": "\"integer\""
        },
        {
         "metadata": "{}",
         "name": "votes_8",
         "type": "\"integer\""
        },
        {
         "metadata": "{}",
         "name": "votes_7",
         "type": "\"integer\""
        },
        {
         "metadata": "{}",
         "name": "votes_6",
         "type": "\"integer\""
        },
        {
         "metadata": "{}",
         "name": "votes_5",
         "type": "\"integer\""
        },
        {
         "metadata": "{}",
         "name": "votes_4",
         "type": "\"integer\""
        },
        {
         "metadata": "{}",
         "name": "votes_3",
         "type": "\"integer\""
        },
        {
         "metadata": "{}",
         "name": "votes_2",
         "type": "\"integer\""
        },
        {
         "metadata": "{}",
         "name": "votes_1",
         "type": "\"integer\""
        },
        {
         "metadata": "{}",
         "name": "allgenders_0age_avg_vote",
         "type": "\"double\""
        },
        {
         "metadata": "{}",
         "name": "allgenders_0age_votes",
         "type": "\"double\""
        },
        {
         "metadata": "{}",
         "name": "allgenders_18age_avg_vote",
         "type": "\"double\""
        },
        {
         "metadata": "{}",
         "name": "allgenders_18age_votes",
         "type": "\"double\""
        },
        {
         "metadata": "{}",
         "name": "allgenders_30age_avg_vote",
         "type": "\"double\""
        },
        {
         "metadata": "{}",
         "name": "allgenders_30age_votes",
         "type": "\"double\""
        },
        {
         "metadata": "{}",
         "name": "allgenders_45age_avg_vote",
         "type": "\"double\""
        },
        {
         "metadata": "{}",
         "name": "allgenders_45age_votes",
         "type": "\"double\""
        },
        {
         "metadata": "{}",
         "name": "males_allages_avg_vote",
         "type": "\"double\""
        },
        {
         "metadata": "{}",
         "name": "males_allages_votes",
         "type": "\"double\""
        },
        {
         "metadata": "{}",
         "name": "males_0age_avg_vote",
         "type": "\"double\""
        },
        {
         "metadata": "{}",
         "name": "males_0age_votes",
         "type": "\"double\""
        },
        {
         "metadata": "{}",
         "name": "males_18age_avg_vote",
         "type": "\"double\""
        },
        {
         "metadata": "{}",
         "name": "males_18age_votes",
         "type": "\"double\""
        },
        {
         "metadata": "{}",
         "name": "males_30age_avg_vote",
         "type": "\"double\""
        },
        {
         "metadata": "{}",
         "name": "males_30age_votes",
         "type": "\"double\""
        },
        {
         "metadata": "{}",
         "name": "males_45age_avg_vote",
         "type": "\"double\""
        },
        {
         "metadata": "{}",
         "name": "males_45age_votes",
         "type": "\"double\""
        },
        {
         "metadata": "{}",
         "name": "females_allages_avg_vote",
         "type": "\"double\""
        },
        {
         "metadata": "{}",
         "name": "females_allages_votes",
         "type": "\"double\""
        },
        {
         "metadata": "{}",
         "name": "females_0age_avg_vote",
         "type": "\"double\""
        },
        {
         "metadata": "{}",
         "name": "females_0age_votes",
         "type": "\"double\""
        },
        {
         "metadata": "{}",
         "name": "females_18age_avg_vote",
         "type": "\"double\""
        },
        {
         "metadata": "{}",
         "name": "females_18age_votes",
         "type": "\"double\""
        },
        {
         "metadata": "{}",
         "name": "females_30age_avg_vote",
         "type": "\"double\""
        },
        {
         "metadata": "{}",
         "name": "females_30age_votes",
         "type": "\"double\""
        },
        {
         "metadata": "{}",
         "name": "females_45age_avg_vote",
         "type": "\"double\""
        },
        {
         "metadata": "{}",
         "name": "females_45age_votes",
         "type": "\"double\""
        },
        {
         "metadata": "{}",
         "name": "top1000_voters_rating",
         "type": "\"double\""
        },
        {
         "metadata": "{}",
         "name": "top1000_voters_votes",
         "type": "\"double\""
        },
        {
         "metadata": "{}",
         "name": "us_voters_rating",
         "type": "\"double\""
        },
        {
         "metadata": "{}",
         "name": "us_voters_votes",
         "type": "\"double\""
        },
        {
         "metadata": "{}",
         "name": "non_us_voters_rating",
         "type": "\"double\""
        },
        {
         "metadata": "{}",
         "name": "non_us_voters_votes",
         "type": "\"double\""
        },
        {
         "metadata": "{}",
         "name": "notebook_epoch_time_ratings",
         "type": "\"long\""
        }
       ],
       "type": "table"
      }
     },
     "output_type": "display_data"
    },
    {
     "output_type": "stream",
     "name": "stdout",
     "output_type": "stream",
     "text": [
      "== Physical Plan ==\n*(1) Project [imdb_title_id#12528, weighted_average_vote#12529, cast(total_votes#12530 as bigint) AS total_votes#13116L, mean_vote#12531, median_vote#12532, votes_10#12533, votes_9#12534, votes_8#12535, votes_7#12536, votes_6#12537, votes_5#12538, votes_4#12539, votes_3#12540, votes_2#12541, votes_1#12542, allgenders_0age_avg_vote#12543, allgenders_0age_votes#12544, allgenders_18age_avg_vote#12545, allgenders_18age_votes#12546, allgenders_30age_avg_vote#12547, allgenders_30age_votes#12548, allgenders_45age_avg_vote#12549, allgenders_45age_votes#12550, males_allages_avg_vote#12551, ... 26 more fields]\n+- FileScan csv [imdb_title_id#12528,weighted_average_vote#12529,total_votes#12530,mean_vote#12531,median_vote#12532,votes_10#12533,votes_9#12534,votes_8#12535,votes_7#12536,votes_6#12537,votes_5#12538,votes_4#12539,votes_3#12540,votes_2#12541,votes_1#12542,allgenders_0age_avg_vote#12543,allgenders_0age_votes#12544,allgenders_18age_avg_vote#12545,allgenders_18age_votes#12546,allgenders_30age_avg_vote#12547,allgenders_30age_votes#12548,allgenders_45age_avg_vote#12549,allgenders_45age_votes#12550,males_allages_avg_vote#12551,... 25 more fields] Batched: false, DataFilters: [], Format: CSV, Location: InMemoryFileIndex(1 paths)[dbfs:/FileStore/tables/Files/ratings.csv], PartitionFilters: [], PushedFilters: [], ReadSchema: struct<imdb_title_id:string,weighted_average_vote:double,total_votes:int,mean_vote:double,median_...\n\n\n"
     ]
    }
   ],
   "source": [
    "updatedRatingsDf = ratingsWithEpoch.withColumn(\"total_votes\", col(\"total_votes\").cast(\"long\"))\n",
    "display(updatedRatingsDf.limit(10))\n",
    "updatedRatingsDf.explain()"
   ]
  },
  {
   "cell_type": "markdown",
   "metadata": {
    "application/vnd.databricks.v1+cell": {
     "cellMetadata": {
      "byteLimit": 2048000,
      "rowLimit": 10000
     },
     "inputWidgets": {},
     "nuid": "44cdfcc7-29ab-4b8d-82ab-2a03b76106b0",
     "showTitle": false,
     "tableResultSettingsMap": {},
     "title": ""
    }
   },
   "source": [
    "\n",
    "**Zadanie 2** - Przejdź przez Spark UI i opisz w kilku zdaniach co można znaleźć w każdym z elementów Spark UI.\n",
    "\n",
    "# **_SPARK UI: zawiera_**\n",
    "\n",
    "### Jobs Tab\n",
    "- **Jobs Detail**: Pokazuje szczegółowe informacje o każdym zadaniu wykonanym przez klaster, w tym czas wykonania, status i związane z nim etapy (stages).\n",
    "\n",
    "### Stages Tab\n",
    "- **Stage Detail**: Dostarcza szczegółowe informacje o etapach przetwarzania, w tym metryki takie jak czas trwania, operacje shuffle i metryki wejścia/wyjścia.\n",
    "\n",
    "### Storage Tab\n",
    "- Zapewnia informacje o danych przechowywanych w RDDs oraz o ich lokalizacji w pamięci lub na dysku.\n",
    "\n",
    "### Environment Tab\n",
    "- Prezentuje informacje o środowisku wykonawczym, w tym konfiguracje Sparka, Javy i innych składowych systemu.\n",
    "\n",
    "### Executors Tab\n",
    "- Wyświetla informacje o executorach klastra, w tym ich lokalizację, ilość wykorzystywanej pamięci i procesora oraz logi.\n",
    "\n",
    "### SQL Tab\n",
    "- **SQL Metrics**: Zawiera metryki dotyczące wykonanych operacji SQL, w tym plany wykonania i czas trwania zapytań.\n",
    "\n",
    "### Structured Streaming Tab\n",
    "- Prezentuje informacje o operacjach streamingowych z wykorzystaniem Structured Streaming, w tym bieżący status i statystyki.\n",
    "\n",
    "### Streaming (DStreams) Tab\n",
    "- Pokazuje szczegóły dotyczące streamingu opartego o DStreams, w tym informacje o batchach i ich przetwarzaniu.\n",
    "\n",
    "### JDBC/ODBC Server Tab\n",
    "- Prezentuje informacje o sesjach i operacjach wykonanych przez serwery JDBC lub ODBC, włącznie z aktywnymi połączeniami.\n"
   ]
  },
  {
   "cell_type": "markdown",
   "metadata": {
    "application/vnd.databricks.v1+cell": {
     "cellMetadata": {
      "byteLimit": 2048000,
      "rowLimit": 10000
     },
     "inputWidgets": {},
     "nuid": "7885a783-f3a5-4a6f-bde6-1b150b98f466",
     "showTitle": false,
     "tableResultSettingsMap": {},
     "title": ""
    }
   },
   "source": [
    "\n",
    "**Zadanie 3** - Do jednej z Dataframe dołóż transformacje groupBy i porównaj, jak wygląda plan wykonania.\n",
    "\n",
    "# **_groupBy()_**\n",
    "\n",
    "Użycie funkcji `groupBy()` w Apache Spark często prowadzi do operacji przetasowania (shuffle) danych pomiędzy partycjami, co zwiększa koszty obliczeniowe. Ten proces wymaga również dodatkowych etapów (stages) w planie wykonania, gdyż Spark przeprowadza przetwarzanie danych w dwóch głównych krokach: pierwszym, w którym dane są grupowane, a drugim, w którym są przetwarzane za pomocą zdefiniowanych funkcji agregujących lub transformacyjnych.\n",
    "\n"
   ]
  },
  {
   "cell_type": "code",
   "execution_count": 0,
   "metadata": {
    "application/vnd.databricks.v1+cell": {
     "cellMetadata": {
      "byteLimit": 2048000,
      "rowLimit": 10000
     },
     "inputWidgets": {},
     "nuid": "196d93c9-6721-4527-bf31-5427919355e7",
     "showTitle": false,
     "tableResultSettingsMap": {},
     "title": ""
    }
   },
   "outputs": [
    {
     "output_type": "stream",
     "name": "stdout",
     "output_type": "stream",
     "text": [
      "Plan wykonania przed dodaniem groupBy:\n== Physical Plan ==\n*(1) Project [imdb_title_id#12528, weighted_average_vote#12529, cast(total_votes#12530 as bigint) AS total_votes#13116L, mean_vote#12531, median_vote#12532, votes_10#12533, votes_9#12534, votes_8#12535, votes_7#12536, votes_6#12537, votes_5#12538, votes_4#12539, votes_3#12540, votes_2#12541, votes_1#12542, allgenders_0age_avg_vote#12543, allgenders_0age_votes#12544, allgenders_18age_avg_vote#12545, allgenders_18age_votes#12546, allgenders_30age_avg_vote#12547, allgenders_30age_votes#12548, allgenders_45age_avg_vote#12549, allgenders_45age_votes#12550, males_allages_avg_vote#12551, ... 26 more fields]\n+- FileScan csv [imdb_title_id#12528,weighted_average_vote#12529,total_votes#12530,mean_vote#12531,median_vote#12532,votes_10#12533,votes_9#12534,votes_8#12535,votes_7#12536,votes_6#12537,votes_5#12538,votes_4#12539,votes_3#12540,votes_2#12541,votes_1#12542,allgenders_0age_avg_vote#12543,allgenders_0age_votes#12544,allgenders_18age_avg_vote#12545,allgenders_18age_votes#12546,allgenders_30age_avg_vote#12547,allgenders_30age_votes#12548,allgenders_45age_avg_vote#12549,allgenders_45age_votes#12550,males_allages_avg_vote#12551,... 25 more fields] Batched: false, DataFilters: [], Format: CSV, Location: InMemoryFileIndex(1 paths)[dbfs:/FileStore/tables/Files/ratings.csv], PartitionFilters: [], PushedFilters: [], ReadSchema: struct<imdb_title_id:string,weighted_average_vote:double,total_votes:int,mean_vote:double,median_...\n\n\nPlan wykonania po dodaniu groupBy:\n== Physical Plan ==\n*(1) Project [imdb_title_id#12528, weighted_average_vote#12529, cast(total_votes#12530 as bigint) AS total_votes#13116L, mean_vote#12531, median_vote#12532, votes_10#12533, votes_9#12534, votes_8#12535, votes_7#12536, votes_6#12537, votes_5#12538, votes_4#12539, votes_3#12540, votes_2#12541, votes_1#12542, allgenders_0age_avg_vote#12543, allgenders_0age_votes#12544, allgenders_18age_avg_vote#12545, allgenders_18age_votes#12546, allgenders_30age_avg_vote#12547, allgenders_30age_votes#12548, allgenders_45age_avg_vote#12549, allgenders_45age_votes#12550, males_allages_avg_vote#12551, ... 26 more fields]\n+- FileScan csv [imdb_title_id#12528,weighted_average_vote#12529,total_votes#12530,mean_vote#12531,median_vote#12532,votes_10#12533,votes_9#12534,votes_8#12535,votes_7#12536,votes_6#12537,votes_5#12538,votes_4#12539,votes_3#12540,votes_2#12541,votes_1#12542,allgenders_0age_avg_vote#12543,allgenders_0age_votes#12544,allgenders_18age_avg_vote#12545,allgenders_18age_votes#12546,allgenders_30age_avg_vote#12547,allgenders_30age_votes#12548,allgenders_45age_avg_vote#12549,allgenders_45age_votes#12550,males_allages_avg_vote#12551,... 25 more fields] Batched: false, DataFilters: [], Format: CSV, Location: InMemoryFileIndex(1 paths)[dbfs:/FileStore/tables/Files/ratings.csv], PartitionFilters: [], PushedFilters: [], ReadSchema: struct<imdb_title_id:string,weighted_average_vote:double,total_votes:int,mean_vote:double,median_...\n\n\n"
     ]
    },
    {
     "output_type": "display_data",
     "data": {
      "text/html": [
       "<style scoped>\n",
       "  .table-result-container {\n",
       "    max-height: 300px;\n",
       "    overflow: auto;\n",
       "  }\n",
       "  table, th, td {\n",
       "    border: 1px solid black;\n",
       "    border-collapse: collapse;\n",
       "  }\n",
       "  th, td {\n",
       "    padding: 5px;\n",
       "  }\n",
       "  th {\n",
       "    text-align: left;\n",
       "  }\n",
       "</style><div class='table-result-container'><table class='table-result'><thead style='background-color: white'><tr><th>imdb_title_id</th><th>weighted_average_vote</th><th>total_votes</th><th>mean_vote</th><th>median_vote</th><th>votes_10</th><th>votes_9</th><th>votes_8</th><th>votes_7</th><th>votes_6</th><th>votes_5</th><th>votes_4</th><th>votes_3</th><th>votes_2</th><th>votes_1</th><th>allgenders_0age_avg_vote</th><th>allgenders_0age_votes</th><th>allgenders_18age_avg_vote</th><th>allgenders_18age_votes</th><th>allgenders_30age_avg_vote</th><th>allgenders_30age_votes</th><th>allgenders_45age_avg_vote</th><th>allgenders_45age_votes</th><th>males_allages_avg_vote</th><th>males_allages_votes</th><th>males_0age_avg_vote</th><th>males_0age_votes</th><th>males_18age_avg_vote</th><th>males_18age_votes</th><th>males_30age_avg_vote</th><th>males_30age_votes</th><th>males_45age_avg_vote</th><th>males_45age_votes</th><th>females_allages_avg_vote</th><th>females_allages_votes</th><th>females_0age_avg_vote</th><th>females_0age_votes</th><th>females_18age_avg_vote</th><th>females_18age_votes</th><th>females_30age_avg_vote</th><th>females_30age_votes</th><th>females_45age_avg_vote</th><th>females_45age_votes</th><th>top1000_voters_rating</th><th>top1000_voters_votes</th><th>us_voters_rating</th><th>us_voters_votes</th><th>non_us_voters_rating</th><th>non_us_voters_votes</th><th>notebook_epoch_time_ratings</th></tr></thead><tbody><tr><td>tt0000009</td><td>5.9</td><td>154</td><td>5.9</td><td>6.0</td><td>12</td><td>4</td><td>10</td><td>43</td><td>28</td><td>28</td><td>9</td><td>1</td><td>5</td><td>14</td><td>7.2</td><td>4.0</td><td>6.0</td><td>38.0</td><td>5.7</td><td>50.0</td><td>6.6</td><td>35.0</td><td>6.2</td><td>97.0</td><td>7.0</td><td>1.0</td><td>5.9</td><td>24.0</td><td>5.6</td><td>36.0</td><td>6.7</td><td>31.0</td><td>6.0</td><td>35.0</td><td>7.3</td><td>3.0</td><td>5.9</td><td>14.0</td><td>5.7</td><td>13.0</td><td>4.5</td><td>4.0</td><td>5.7</td><td>34.0</td><td>6.4</td><td>51.0</td><td>6.0</td><td>70.0</td><td>1742662656</td></tr><tr><td>tt0000574</td><td>6.1</td><td>589</td><td>6.3</td><td>6.0</td><td>57</td><td>18</td><td>58</td><td>137</td><td>139</td><td>103</td><td>28</td><td>20</td><td>13</td><td>16</td><td>6.0</td><td>1.0</td><td>6.1</td><td>114.0</td><td>6.0</td><td>239.0</td><td>6.3</td><td>115.0</td><td>6.1</td><td>425.0</td><td>6.0</td><td>1.0</td><td>6.2</td><td>102.0</td><td>6.0</td><td>210.0</td><td>6.2</td><td>100.0</td><td>6.2</td><td>50.0</td><td>null</td><td>null</td><td>5.9</td><td>12.0</td><td>6.2</td><td>23.0</td><td>6.6</td><td>14.0</td><td>6.4</td><td>66.0</td><td>6.0</td><td>96.0</td><td>6.2</td><td>331.0</td><td>1742662656</td></tr><tr><td>tt0001892</td><td>5.8</td><td>188</td><td>6.0</td><td>6.0</td><td>6</td><td>6</td><td>17</td><td>44</td><td>52</td><td>32</td><td>16</td><td>5</td><td>6</td><td>4</td><td>null</td><td>null</td><td>5.5</td><td>25.0</td><td>5.8</td><td>72.0</td><td>6.2</td><td>62.0</td><td>5.9</td><td>146.0</td><td>null</td><td>null</td><td>5.5</td><td>21.0</td><td>5.9</td><td>67.0</td><td>6.2</td><td>55.0</td><td>5.7</td><td>15.0</td><td>null</td><td>null</td><td>5.8</td><td>4.0</td><td>5.8</td><td>4.0</td><td>6.8</td><td>7.0</td><td>5.4</td><td>32.0</td><td>6.2</td><td>31.0</td><td>5.9</td><td>123.0</td><td>1742662656</td></tr><tr><td>tt0002101</td><td>5.2</td><td>446</td><td>5.3</td><td>5.0</td><td>15</td><td>8</td><td>16</td><td>62</td><td>98</td><td>117</td><td>63</td><td>26</td><td>25</td><td>16</td><td>null</td><td>null</td><td>5.3</td><td>23.0</td><td>5.0</td><td>111.0</td><td>5.3</td><td>193.0</td><td>5.1</td><td>299.0</td><td>null</td><td>null</td><td>5.2</td><td>20.0</td><td>4.9</td><td>96.0</td><td>5.2</td><td>171.0</td><td>5.9</td><td>39.0</td><td>null</td><td>null</td><td>5.7</td><td>3.0</td><td>5.5</td><td>14.0</td><td>6.1</td><td>21.0</td><td>4.9</td><td>57.0</td><td>5.5</td><td>207.0</td><td>4.7</td><td>105.0</td><td>1742662656</td></tr><tr><td>tt0002130</td><td>7.0</td><td>2237</td><td>6.9</td><td>7.0</td><td>210</td><td>225</td><td>436</td><td>641</td><td>344</td><td>169</td><td>66</td><td>39</td><td>20</td><td>87</td><td>7.5</td><td>4.0</td><td>7.0</td><td>402.0</td><td>7.0</td><td>895.0</td><td>7.1</td><td>482.0</td><td>7.0</td><td>1607.0</td><td>8.0</td><td>2.0</td><td>7.0</td><td>346.0</td><td>7.0</td><td>804.0</td><td>7.0</td><td>396.0</td><td>7.2</td><td>215.0</td><td>7.0</td><td>2.0</td><td>7.0</td><td>52.0</td><td>7.3</td><td>82.0</td><td>7.4</td><td>77.0</td><td>6.9</td><td>139.0</td><td>7.0</td><td>488.0</td><td>7.0</td><td>1166.0</td><td>1742662656</td></tr><tr><td>tt0002199</td><td>5.7</td><td>484</td><td>5.8</td><td>6.0</td><td>33</td><td>15</td><td>48</td><td>80</td><td>123</td><td>77</td><td>36</td><td>20</td><td>18</td><td>34</td><td>null</td><td>null</td><td>5.6</td><td>35.0</td><td>5.6</td><td>177.0</td><td>5.8</td><td>168.0</td><td>5.7</td><td>354.0</td><td>null</td><td>null</td><td>5.6</td><td>32.0</td><td>5.7</td><td>159.0</td><td>5.8</td><td>151.0</td><td>5.8</td><td>31.0</td><td>null</td><td>null</td><td>6.3</td><td>3.0</td><td>5.1</td><td>13.0</td><td>6.5</td><td>15.0</td><td>5.5</td><td>67.0</td><td>5.9</td><td>173.0</td><td>5.6</td><td>181.0</td><td>1742662656</td></tr><tr><td>tt0002423</td><td>6.8</td><td>753</td><td>6.8</td><td>7.0</td><td>80</td><td>65</td><td>105</td><td>209</td><td>142</td><td>80</td><td>27</td><td>13</td><td>4</td><td>28</td><td>3.0</td><td>1.0</td><td>6.4</td><td>59.0</td><td>6.7</td><td>287.0</td><td>7.0</td><td>276.0</td><td>6.6</td><td>530.0</td><td>3.0</td><td>1.0</td><td>6.4</td><td>41.0</td><td>6.6</td><td>240.0</td><td>6.8</td><td>238.0</td><td>7.4</td><td>93.0</td><td>null</td><td>null</td><td>6.5</td><td>16.0</td><td>7.2</td><td>40.0</td><td>8.2</td><td>34.0</td><td>6.2</td><td>88.0</td><td>6.6</td><td>139.0</td><td>6.8</td><td>455.0</td><td>1742662656</td></tr><tr><td>tt0002445</td><td>6.2</td><td>273</td><td>6.2</td><td>6.0</td><td>15</td><td>8</td><td>30</td><td>74</td><td>66</td><td>40</td><td>22</td><td>6</td><td>2</td><td>10</td><td>6.0</td><td>1.0</td><td>5.9</td><td>34.0</td><td>6.2</td><td>99.0</td><td>6.3</td><td>69.0</td><td>6.2</td><td>191.0</td><td>6.0</td><td>1.0</td><td>5.8</td><td>29.0</td><td>6.2</td><td>85.0</td><td>6.3</td><td>64.0</td><td>6.3</td><td>21.0</td><td>null</td><td>null</td><td>6.5</td><td>5.0</td><td>6.3</td><td>11.0</td><td>6.2</td><td>5.0</td><td>5.7</td><td>41.0</td><td>5.8</td><td>40.0</td><td>6.2</td><td>154.0</td><td>1742662656</td></tr><tr><td>tt0002452</td><td>6.7</td><td>198</td><td>7.1</td><td>7.0</td><td>53</td><td>7</td><td>23</td><td>35</td><td>30</td><td>24</td><td>12</td><td>5</td><td>3</td><td>6</td><td>null</td><td>null</td><td>7.4</td><td>28.0</td><td>6.7</td><td>104.0</td><td>6.5</td><td>39.0</td><td>6.7</td><td>153.0</td><td>null</td><td>null</td><td>7.3</td><td>24.0</td><td>6.6</td><td>92.0</td><td>6.5</td><td>33.0</td><td>7.0</td><td>19.0</td><td>null</td><td>null</td><td>8.3</td><td>3.0</td><td>6.8</td><td>10.0</td><td>6.8</td><td>6.0</td><td>5.4</td><td>25.0</td><td>6.7</td><td>25.0</td><td>6.8</td><td>135.0</td><td>1742662656</td></tr><tr><td>tt0002461</td><td>5.5</td><td>225</td><td>5.4</td><td>6.0</td><td>9</td><td>6</td><td>22</td><td>34</td><td>53</td><td>40</td><td>23</td><td>8</td><td>4</td><td>26</td><td>null</td><td>null</td><td>5.9</td><td>11.0</td><td>5.3</td><td>95.0</td><td>5.8</td><td>72.0</td><td>5.5</td><td>168.0</td><td>null</td><td>null</td><td>5.9</td><td>11.0</td><td>5.2</td><td>88.0</td><td>5.8</td><td>63.0</td><td>7.7</td><td>15.0</td><td>null</td><td>null</td><td>null</td><td>null</td><td>7.2</td><td>6.0</td><td>9.7</td><td>9.0</td><td>5.4</td><td>37.0</td><td>5.8</td><td>109.0</td><td>5.4</td><td>68.0</td><td>1742662656</td></tr></tbody></table></div>"
      ]
     },
     "metadata": {
      "application/vnd.databricks.v1+output": {
       "addedWidgets": {},
       "aggData": [],
       "aggError": "",
       "aggOverflow": false,
       "aggSchema": [],
       "aggSeriesLimitReached": false,
       "aggType": "",
       "arguments": {},
       "columnCustomDisplayInfos": {},
       "data": [
        [
         "tt0000009",
         5.9,
         154,
         5.9,
         6.0,
         12,
         4,
         10,
         43,
         28,
         28,
         9,
         1,
         5,
         14,
         7.2,
         4.0,
         6.0,
         38.0,
         5.7,
         50.0,
         6.6,
         35.0,
         6.2,
         97.0,
         7.0,
         1.0,
         5.9,
         24.0,
         5.6,
         36.0,
         6.7,
         31.0,
         6.0,
         35.0,
         7.3,
         3.0,
         5.9,
         14.0,
         5.7,
         13.0,
         4.5,
         4.0,
         5.7,
         34.0,
         6.4,
         51.0,
         6.0,
         70.0,
         1742662656
        ],
        [
         "tt0000574",
         6.1,
         589,
         6.3,
         6.0,
         57,
         18,
         58,
         137,
         139,
         103,
         28,
         20,
         13,
         16,
         6.0,
         1.0,
         6.1,
         114.0,
         6.0,
         239.0,
         6.3,
         115.0,
         6.1,
         425.0,
         6.0,
         1.0,
         6.2,
         102.0,
         6.0,
         210.0,
         6.2,
         100.0,
         6.2,
         50.0,
         null,
         null,
         5.9,
         12.0,
         6.2,
         23.0,
         6.6,
         14.0,
         6.4,
         66.0,
         6.0,
         96.0,
         6.2,
         331.0,
         1742662656
        ],
        [
         "tt0001892",
         5.8,
         188,
         6.0,
         6.0,
         6,
         6,
         17,
         44,
         52,
         32,
         16,
         5,
         6,
         4,
         null,
         null,
         5.5,
         25.0,
         5.8,
         72.0,
         6.2,
         62.0,
         5.9,
         146.0,
         null,
         null,
         5.5,
         21.0,
         5.9,
         67.0,
         6.2,
         55.0,
         5.7,
         15.0,
         null,
         null,
         5.8,
         4.0,
         5.8,
         4.0,
         6.8,
         7.0,
         5.4,
         32.0,
         6.2,
         31.0,
         5.9,
         123.0,
         1742662656
        ],
        [
         "tt0002101",
         5.2,
         446,
         5.3,
         5.0,
         15,
         8,
         16,
         62,
         98,
         117,
         63,
         26,
         25,
         16,
         null,
         null,
         5.3,
         23.0,
         5.0,
         111.0,
         5.3,
         193.0,
         5.1,
         299.0,
         null,
         null,
         5.2,
         20.0,
         4.9,
         96.0,
         5.2,
         171.0,
         5.9,
         39.0,
         null,
         null,
         5.7,
         3.0,
         5.5,
         14.0,
         6.1,
         21.0,
         4.9,
         57.0,
         5.5,
         207.0,
         4.7,
         105.0,
         1742662656
        ],
        [
         "tt0002130",
         7.0,
         2237,
         6.9,
         7.0,
         210,
         225,
         436,
         641,
         344,
         169,
         66,
         39,
         20,
         87,
         7.5,
         4.0,
         7.0,
         402.0,
         7.0,
         895.0,
         7.1,
         482.0,
         7.0,
         1607.0,
         8.0,
         2.0,
         7.0,
         346.0,
         7.0,
         804.0,
         7.0,
         396.0,
         7.2,
         215.0,
         7.0,
         2.0,
         7.0,
         52.0,
         7.3,
         82.0,
         7.4,
         77.0,
         6.9,
         139.0,
         7.0,
         488.0,
         7.0,
         1166.0,
         1742662656
        ],
        [
         "tt0002199",
         5.7,
         484,
         5.8,
         6.0,
         33,
         15,
         48,
         80,
         123,
         77,
         36,
         20,
         18,
         34,
         null,
         null,
         5.6,
         35.0,
         5.6,
         177.0,
         5.8,
         168.0,
         5.7,
         354.0,
         null,
         null,
         5.6,
         32.0,
         5.7,
         159.0,
         5.8,
         151.0,
         5.8,
         31.0,
         null,
         null,
         6.3,
         3.0,
         5.1,
         13.0,
         6.5,
         15.0,
         5.5,
         67.0,
         5.9,
         173.0,
         5.6,
         181.0,
         1742662656
        ],
        [
         "tt0002423",
         6.8,
         753,
         6.8,
         7.0,
         80,
         65,
         105,
         209,
         142,
         80,
         27,
         13,
         4,
         28,
         3.0,
         1.0,
         6.4,
         59.0,
         6.7,
         287.0,
         7.0,
         276.0,
         6.6,
         530.0,
         3.0,
         1.0,
         6.4,
         41.0,
         6.6,
         240.0,
         6.8,
         238.0,
         7.4,
         93.0,
         null,
         null,
         6.5,
         16.0,
         7.2,
         40.0,
         8.2,
         34.0,
         6.2,
         88.0,
         6.6,
         139.0,
         6.8,
         455.0,
         1742662656
        ],
        [
         "tt0002445",
         6.2,
         273,
         6.2,
         6.0,
         15,
         8,
         30,
         74,
         66,
         40,
         22,
         6,
         2,
         10,
         6.0,
         1.0,
         5.9,
         34.0,
         6.2,
         99.0,
         6.3,
         69.0,
         6.2,
         191.0,
         6.0,
         1.0,
         5.8,
         29.0,
         6.2,
         85.0,
         6.3,
         64.0,
         6.3,
         21.0,
         null,
         null,
         6.5,
         5.0,
         6.3,
         11.0,
         6.2,
         5.0,
         5.7,
         41.0,
         5.8,
         40.0,
         6.2,
         154.0,
         1742662656
        ],
        [
         "tt0002452",
         6.7,
         198,
         7.1,
         7.0,
         53,
         7,
         23,
         35,
         30,
         24,
         12,
         5,
         3,
         6,
         null,
         null,
         7.4,
         28.0,
         6.7,
         104.0,
         6.5,
         39.0,
         6.7,
         153.0,
         null,
         null,
         7.3,
         24.0,
         6.6,
         92.0,
         6.5,
         33.0,
         7.0,
         19.0,
         null,
         null,
         8.3,
         3.0,
         6.8,
         10.0,
         6.8,
         6.0,
         5.4,
         25.0,
         6.7,
         25.0,
         6.8,
         135.0,
         1742662656
        ],
        [
         "tt0002461",
         5.5,
         225,
         5.4,
         6.0,
         9,
         6,
         22,
         34,
         53,
         40,
         23,
         8,
         4,
         26,
         null,
         null,
         5.9,
         11.0,
         5.3,
         95.0,
         5.8,
         72.0,
         5.5,
         168.0,
         null,
         null,
         5.9,
         11.0,
         5.2,
         88.0,
         5.8,
         63.0,
         7.7,
         15.0,
         null,
         null,
         null,
         null,
         7.2,
         6.0,
         9.7,
         9.0,
         5.4,
         37.0,
         5.8,
         109.0,
         5.4,
         68.0,
         1742662656
        ]
       ],
       "datasetInfos": [],
       "dbfsResultPath": null,
       "isJsonSchema": true,
       "metadata": {},
       "overflow": false,
       "plotOptions": {
        "customPlotOptions": {},
        "displayType": "table",
        "pivotAggregation": null,
        "pivotColumns": null,
        "xColumns": null,
        "yColumns": null
       },
       "removedWidgets": [],
       "schema": [
        {
         "metadata": "{}",
         "name": "imdb_title_id",
         "type": "\"string\""
        },
        {
         "metadata": "{}",
         "name": "weighted_average_vote",
         "type": "\"double\""
        },
        {
         "metadata": "{}",
         "name": "total_votes",
         "type": "\"long\""
        },
        {
         "metadata": "{}",
         "name": "mean_vote",
         "type": "\"double\""
        },
        {
         "metadata": "{}",
         "name": "median_vote",
         "type": "\"double\""
        },
        {
         "metadata": "{}",
         "name": "votes_10",
         "type": "\"integer\""
        },
        {
         "metadata": "{}",
         "name": "votes_9",
         "type": "\"integer\""
        },
        {
         "metadata": "{}",
         "name": "votes_8",
         "type": "\"integer\""
        },
        {
         "metadata": "{}",
         "name": "votes_7",
         "type": "\"integer\""
        },
        {
         "metadata": "{}",
         "name": "votes_6",
         "type": "\"integer\""
        },
        {
         "metadata": "{}",
         "name": "votes_5",
         "type": "\"integer\""
        },
        {
         "metadata": "{}",
         "name": "votes_4",
         "type": "\"integer\""
        },
        {
         "metadata": "{}",
         "name": "votes_3",
         "type": "\"integer\""
        },
        {
         "metadata": "{}",
         "name": "votes_2",
         "type": "\"integer\""
        },
        {
         "metadata": "{}",
         "name": "votes_1",
         "type": "\"integer\""
        },
        {
         "metadata": "{}",
         "name": "allgenders_0age_avg_vote",
         "type": "\"double\""
        },
        {
         "metadata": "{}",
         "name": "allgenders_0age_votes",
         "type": "\"double\""
        },
        {
         "metadata": "{}",
         "name": "allgenders_18age_avg_vote",
         "type": "\"double\""
        },
        {
         "metadata": "{}",
         "name": "allgenders_18age_votes",
         "type": "\"double\""
        },
        {
         "metadata": "{}",
         "name": "allgenders_30age_avg_vote",
         "type": "\"double\""
        },
        {
         "metadata": "{}",
         "name": "allgenders_30age_votes",
         "type": "\"double\""
        },
        {
         "metadata": "{}",
         "name": "allgenders_45age_avg_vote",
         "type": "\"double\""
        },
        {
         "metadata": "{}",
         "name": "allgenders_45age_votes",
         "type": "\"double\""
        },
        {
         "metadata": "{}",
         "name": "males_allages_avg_vote",
         "type": "\"double\""
        },
        {
         "metadata": "{}",
         "name": "males_allages_votes",
         "type": "\"double\""
        },
        {
         "metadata": "{}",
         "name": "males_0age_avg_vote",
         "type": "\"double\""
        },
        {
         "metadata": "{}",
         "name": "males_0age_votes",
         "type": "\"double\""
        },
        {
         "metadata": "{}",
         "name": "males_18age_avg_vote",
         "type": "\"double\""
        },
        {
         "metadata": "{}",
         "name": "males_18age_votes",
         "type": "\"double\""
        },
        {
         "metadata": "{}",
         "name": "males_30age_avg_vote",
         "type": "\"double\""
        },
        {
         "metadata": "{}",
         "name": "males_30age_votes",
         "type": "\"double\""
        },
        {
         "metadata": "{}",
         "name": "males_45age_avg_vote",
         "type": "\"double\""
        },
        {
         "metadata": "{}",
         "name": "males_45age_votes",
         "type": "\"double\""
        },
        {
         "metadata": "{}",
         "name": "females_allages_avg_vote",
         "type": "\"double\""
        },
        {
         "metadata": "{}",
         "name": "females_allages_votes",
         "type": "\"double\""
        },
        {
         "metadata": "{}",
         "name": "females_0age_avg_vote",
         "type": "\"double\""
        },
        {
         "metadata": "{}",
         "name": "females_0age_votes",
         "type": "\"double\""
        },
        {
         "metadata": "{}",
         "name": "females_18age_avg_vote",
         "type": "\"double\""
        },
        {
         "metadata": "{}",
         "name": "females_18age_votes",
         "type": "\"double\""
        },
        {
         "metadata": "{}",
         "name": "females_30age_avg_vote",
         "type": "\"double\""
        },
        {
         "metadata": "{}",
         "name": "females_30age_votes",
         "type": "\"double\""
        },
        {
         "metadata": "{}",
         "name": "females_45age_avg_vote",
         "type": "\"double\""
        },
        {
         "metadata": "{}",
         "name": "females_45age_votes",
         "type": "\"double\""
        },
        {
         "metadata": "{}",
         "name": "top1000_voters_rating",
         "type": "\"double\""
        },
        {
         "metadata": "{}",
         "name": "top1000_voters_votes",
         "type": "\"double\""
        },
        {
         "metadata": "{}",
         "name": "us_voters_rating",
         "type": "\"double\""
        },
        {
         "metadata": "{}",
         "name": "us_voters_votes",
         "type": "\"double\""
        },
        {
         "metadata": "{}",
         "name": "non_us_voters_rating",
         "type": "\"double\""
        },
        {
         "metadata": "{}",
         "name": "non_us_voters_votes",
         "type": "\"double\""
        },
        {
         "metadata": "{}",
         "name": "notebook_epoch_time_ratings",
         "type": "\"long\""
        }
       ],
       "type": "table"
      }
     },
     "output_type": "display_data"
    }
   ],
   "source": [
    "print(\"Plan wykonania przed dodaniem groupBy:\")\n",
    "updatedRatingsDf.explain()\n",
    "\n",
    "updatedRatingsDf.groupBy(\"total_votes\").agg(avg(\"weighted_average_vote\").alias(\"average_rating\"))\n",
    "\n",
    "print(\"Plan wykonania po dodaniu groupBy:\")\n",
    "updatedRatingsDf.explain()\n",
    "display(updatedRatingsDf.limit(10))"
   ]
  }
 ],
 "metadata": {
  "application/vnd.databricks.v1+notebook": {
   "computePreferences": null,
   "dashboards": [],
   "environmentMetadata": null,
   "language": "python",
   "notebookMetadata": {
    "pythonIndentUnit": 2
   },
   "notebookName": "Cwiczenia 3",
   "widgets": {}
  }
 },
 "nbformat": 4,
 "nbformat_minor": 0
}
