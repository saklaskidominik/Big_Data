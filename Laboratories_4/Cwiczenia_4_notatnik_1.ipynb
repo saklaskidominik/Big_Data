{
 "cells": [
  {
   "cell_type": "markdown",
   "metadata": {
    "application/vnd.databricks.v1+cell": {
     "cellMetadata": {
      "byteLimit": 2048000,
      "rowLimit": 10000
     },
     "inputWidgets": {},
     "nuid": "6a117174-fcb5-4568-95ca-69e56a382ad4",
     "showTitle": false,
     "tableResultSettingsMap": {},
     "title": ""
    }
   },
   "source": [
    "##### Import bibliotek"
   ]
  },
  {
   "cell_type": "code",
   "execution_count": 0,
   "metadata": {
    "application/vnd.databricks.v1+cell": {
     "cellMetadata": {
      "byteLimit": 2048000,
      "rowLimit": 10000
     },
     "inputWidgets": {},
     "nuid": "79e48521-684c-436e-9eb9-06387d92d7bd",
     "showTitle": false,
     "tableResultSettingsMap": {},
     "title": ""
    }
   },
   "outputs": [],
   "source": [
    "\n",
    "from pyspark.sql.functions import (\n",
    "    col, explode, regexp_replace, regexp_extract, corr, skewness, pandas_udf, PandasUDFType,\n",
    "    coalesce, lit, when, array_contains, array, expr, avg, max, countDistinct, split, concat_ws, lower, stddev, udf, StringType\n",
    ")"
   ]
  },
  {
   "cell_type": "markdown",
   "metadata": {
    "application/vnd.databricks.v1+cell": {
     "cellMetadata": {
      "byteLimit": 2048000,
      "rowLimit": 10000
     },
     "inputWidgets": {},
     "nuid": "418feaed-7f03-49c7-bf5f-6d453681fbe5",
     "showTitle": false,
     "tableResultSettingsMap": {},
     "title": ""
    }
   },
   "source": [
    "#Zadanie 1a\n",
    "Stwórz nowy notatnik w którym wykonasz poniższe zadania. Wykorzystaj dane jakie chcesz lub użyj tych z wykładu. \n",
    "\n",
    "a.\tUżyj poniższe funkcje Nulls, fill, explode, drop, regexp_replace, regexp_extract, ifnull, nullIf, replace, array_contains. \n"
   ]
  },
  {
   "cell_type": "code",
   "execution_count": 0,
   "metadata": {
    "application/vnd.databricks.v1+cell": {
     "cellMetadata": {
      "byteLimit": 2048000,
      "rowLimit": 10000
     },
     "inputWidgets": {},
     "nuid": "d7bf0fd1-0eec-4084-b829-178c43bf7780",
     "showTitle": false,
     "tableResultSettingsMap": {},
     "title": ""
    }
   },
   "outputs": [
    {
     "output_type": "display_data",
     "data": {
      "text/html": [
       "<style scoped>\n",
       "  .table-result-container {\n",
       "    max-height: 300px;\n",
       "    overflow: auto;\n",
       "  }\n",
       "  table, th, td {\n",
       "    border: 1px solid black;\n",
       "    border-collapse: collapse;\n",
       "  }\n",
       "  th, td {\n",
       "    padding: 5px;\n",
       "  }\n",
       "  th {\n",
       "    text-align: left;\n",
       "  }\n",
       "</style><div class='table-result-container'><table class='table-result'><thead style='background-color: white'><tr><th>path</th><th>name</th><th>size</th><th>modificationTime</th></tr></thead><tbody><tr><td>dbfs:/FileStore/tables/Files/actors.csv</td><td>actors.csv</td><td>41451610</td><td>1741776149000</td></tr><tr><td>dbfs:/FileStore/tables/Files/movies.csv</td><td>movies.csv</td><td>50657522</td><td>1741776155000</td></tr><tr><td>dbfs:/FileStore/tables/Files/names.csv</td><td>names.csv</td><td>62194757</td><td>1741776162000</td></tr><tr><td>dbfs:/FileStore/tables/Files/ratings.csv</td><td>ratings.csv</td><td>17363252</td><td>1741776165000</td></tr></tbody></table></div>"
      ]
     },
     "metadata": {
      "application/vnd.databricks.v1+output": {
       "addedWidgets": {},
       "aggData": [],
       "aggError": "",
       "aggOverflow": false,
       "aggSchema": [],
       "aggSeriesLimitReached": false,
       "aggType": "",
       "arguments": {},
       "columnCustomDisplayInfos": {},
       "data": [
        [
         "dbfs:/FileStore/tables/Files/actors.csv",
         "actors.csv",
         41451610,
         1741776149000
        ],
        [
         "dbfs:/FileStore/tables/Files/movies.csv",
         "movies.csv",
         50657522,
         1741776155000
        ],
        [
         "dbfs:/FileStore/tables/Files/names.csv",
         "names.csv",
         62194757,
         1741776162000
        ],
        [
         "dbfs:/FileStore/tables/Files/ratings.csv",
         "ratings.csv",
         17363252,
         1741776165000
        ]
       ],
       "datasetInfos": [],
       "dbfsResultPath": null,
       "isJsonSchema": true,
       "metadata": {},
       "overflow": false,
       "plotOptions": {
        "customPlotOptions": {},
        "displayType": "table",
        "pivotAggregation": null,
        "pivotColumns": null,
        "xColumns": null,
        "yColumns": null
       },
       "removedWidgets": [],
       "schema": [
        {
         "metadata": "{}",
         "name": "path",
         "type": "\"string\""
        },
        {
         "metadata": "{}",
         "name": "name",
         "type": "\"string\""
        },
        {
         "metadata": "{}",
         "name": "size",
         "type": "\"long\""
        },
        {
         "metadata": "{}",
         "name": "modificationTime",
         "type": "\"long\""
        }
       ],
       "type": "table"
      }
     },
     "output_type": "display_data"
    }
   ],
   "source": [
    "display(dbutils.fs.ls(\"dbfs:/FileStore/tables/Files\"))\n"
   ]
  },
  {
   "cell_type": "markdown",
   "metadata": {
    "application/vnd.databricks.v1+cell": {
     "cellMetadata": {
      "byteLimit": 2048000,
      "rowLimit": 10000
     },
     "inputWidgets": {},
     "nuid": "cbc91683-8f83-413a-bc55-d93bc70707c3",
     "showTitle": false,
     "tableResultSettingsMap": {},
     "title": ""
    }
   },
   "source": [
    "##### 1.0\n",
    "Wczytanie danych."
   ]
  },
  {
   "cell_type": "code",
   "execution_count": 0,
   "metadata": {
    "application/vnd.databricks.v1+cell": {
     "cellMetadata": {
      "byteLimit": 2048000,
      "rowLimit": 10000
     },
     "inputWidgets": {},
     "nuid": "0cea8060-62a5-4cd9-8ed3-d673258e0bea",
     "showTitle": false,
     "tableResultSettingsMap": {},
     "title": ""
    }
   },
   "outputs": [
    {
     "output_type": "display_data",
     "data": {
      "text/html": [
       "<style scoped>\n",
       "  .table-result-container {\n",
       "    max-height: 300px;\n",
       "    overflow: auto;\n",
       "  }\n",
       "  table, th, td {\n",
       "    border: 1px solid black;\n",
       "    border-collapse: collapse;\n",
       "  }\n",
       "  th, td {\n",
       "    padding: 5px;\n",
       "  }\n",
       "  th {\n",
       "    text-align: left;\n",
       "  }\n",
       "</style><div class='table-result-container'><table class='table-result'><thead style='background-color: white'><tr><th>imdb_title_id</th><th>title</th><th>original_title</th><th>year</th><th>date_published</th><th>genre</th><th>duration</th><th>country</th><th>language</th><th>director</th><th>writer</th><th>production_company</th><th>actors</th><th>description</th><th>avg_vote</th><th>votes</th><th>budget</th><th>usa_gross_income</th><th>worlwide_gross_income</th><th>metascore</th><th>reviews_from_users</th><th>reviews_from_critics</th></tr></thead><tbody><tr><td>tt0000009</td><td>Miss Jerry</td><td>Miss Jerry</td><td>1894</td><td>1894-10-09</td><td>Romance</td><td>45</td><td>USA</td><td>None</td><td>Alexander Black</td><td>Alexander Black</td><td>Alexander Black Photoplays</td><td>Blanche Bayliss, William Courtenay, Chauncey Depew</td><td>The adventures of a female reporter in the 1890s.</td><td>05.wrz</td><td>154</td><td>null</td><td>null</td><td>null</td><td>null</td><td>1.0</td><td>2.0</td></tr><tr><td>tt0000574</td><td>The Story of the Kelly Gang</td><td>The Story of the Kelly Gang</td><td>1906</td><td>26.12.1906</td><td>Biography, Crime, Drama</td><td>70</td><td>Australia</td><td>None</td><td>Charles Tait</td><td>Charles Tait</td><td>J. and N. Tait</td><td>Elizabeth Tait, John Tait, Norman Campbell, Bella Cola, Will Coyne, Sam Crewes, Jack Ennis, John Forde, Vera Linden, Mr. Marshall, Mr. McKenzie, Frank Mills, Ollie Wilson</td><td>True story of notorious Australian outlaw Ned Kelly (1855-80).</td><td>06.sty</td><td>589</td><td>$ 2250</td><td>null</td><td>null</td><td>null</td><td>7.0</td><td>7.0</td></tr><tr><td>tt0001892</td><td>Den sorte drøm</td><td>Den sorte drøm</td><td>1911</td><td>19.08.1911</td><td>Drama</td><td>53</td><td>Germany, Denmark</td><td>null</td><td>Urban Gad</td><td>Urban Gad, Gebhard Schätzler-Perasini</td><td>Fotorama</td><td>Asta Nielsen, Valdemar Psilander, Gunnar Helsengreen, Emil Albes, Hugo Flink, Mary Hagen</td><td>Two men of high rank are both wooing the beautiful and famous equestrian acrobat Stella. While Stella ignores the jeweler Hirsch, she accepts Count von Waldberg's offer to follow her home, ...</td><td>05.sie</td><td>188</td><td>null</td><td>null</td><td>null</td><td>null</td><td>5.0</td><td>2.0</td></tr><tr><td>tt0002101</td><td>Cleopatra</td><td>Cleopatra</td><td>1912</td><td>13.11.1912</td><td>Drama, History</td><td>100</td><td>USA</td><td>English</td><td>Charles L. Gaskill</td><td>Victorien Sardou</td><td>Helen Gardner Picture Players</td><td>Helen Gardner, Pearl Sindelar, Miss Fielding, Miss Robson, Helene Costello, Charles Sindelar, Mr. Howard, James R. Waite, Mr. Osborne, Harry Knowles, Mr. Paul, Mr. Brady, Mr. Corker</td><td>The fabled queen of Egypt's affair with Roman general Marc Antony is ultimately disastrous for both of them.</td><td>05.lut</td><td>446</td><td>$ 45000</td><td>null</td><td>null</td><td>null</td><td>25.0</td><td>3.0</td></tr><tr><td>tt0002130</td><td>L'Inferno</td><td>L'Inferno</td><td>1911</td><td>06.03.1911</td><td>Adventure, Drama, Fantasy</td><td>68</td><td>Italy</td><td>Italian</td><td>Francesco Bertolini, Adolfo Padovan</td><td>Dante Alighieri</td><td>Milano Film</td><td>Salvatore Papa, Arturo Pirovano, Giuseppe de Liguoro, Pier Delle Vigne, Augusto Milla, Attilio Motta, Emilise Beretta</td><td>Loosely adapted from Dante's Divine Comedy and inspired by the illustrations of Gustav Doré the original silent film has been restored and has a new score by Tangerine Dream.</td><td>7.0</td><td>2237</td><td>null</td><td>null</td><td>null</td><td>null</td><td>31.0</td><td>14.0</td></tr><tr><td>tt0002199</td><td>From the Manger to the Cross or, Jesus of Nazareth</td><td>From the Manger to the Cross or, Jesus of Nazareth</td><td>1912</td><td>1913</td><td>Biography, Drama</td><td>60</td><td>USA</td><td>English</td><td>Sidney Olcott</td><td>Gene Gauntier</td><td>Kalem Company</td><td>R. Henderson Bland, Percy Dyer, Gene Gauntier, Alice Hollister, Samuel Morgan, James D. Ainsley, Robert G. Vignola, George Kellog, J.P. McGowan</td><td>An account of the life of Jesus Christ, based on the books of the New Testament: After Jesus' birth is foretold to his parents, he is born in Bethlehem, and is visited by shepherds and wise...</td><td>05.lip</td><td>484</td><td>null</td><td>null</td><td>null</td><td>null</td><td>13.0</td><td>5.0</td></tr><tr><td>tt0002423</td><td>Madame DuBarry</td><td>Madame DuBarry</td><td>1919</td><td>26.11.1919</td><td>Biography, Drama, Romance</td><td>85</td><td>Germany</td><td>German</td><td>Ernst Lubitsch</td><td>Norbert Falk, Hanns Kräly</td><td>Projektions-AG Union (PAGU)</td><td>Pola Negri, Emil Jannings, Harry Liedtke, Eduard von Winterstein, Reinhold Schünzel, Else Berna, Fred Immler, Gustav Czimeg, Karl Platen, Bernhard Goetzke, Magnus Stifter, Paul Biensfeldt, Willy Kaiser-Heyl, Alexander Ekert, Robert Sortsch-Pla</td><td>The story of Madame DuBarry, the mistress of Louis XV of France, and her loves in the time of the French revolution.</td><td>06.sie</td><td>753</td><td>null</td><td>null</td><td>null</td><td>null</td><td>12.0</td><td>9.0</td></tr><tr><td>tt0002445</td><td>Quo Vadis?</td><td>Quo Vadis?</td><td>1913</td><td>01.03.1913</td><td>Drama, History</td><td>120</td><td>Italy</td><td>Italian</td><td>Enrico Guazzoni</td><td>Henryk Sienkiewicz, Enrico Guazzoni</td><td>Società Italiana Cines</td><td>Amleto Novelli, Gustavo Serena, Carlo Cattaneo, Amelia Cattaneo, Lea Giunchi, Bruto Castellani, Augusto Mastripietri, Cesare Moltini, Olga Brandini, Ignazio Lupi, Giovanni Gizzi, Lia Orlandini, Matilde Guillaume, Ida Carloni Talli, Giuseppe Gambardella</td><td>An epic Italian film Quo Vadis influenced many of the later movies.</td><td>06.lut</td><td>273</td><td>ITL 45000</td><td>null</td><td>null</td><td>null</td><td>7.0</td><td>5.0</td></tr><tr><td>tt0002452</td><td>Independenta Romaniei</td><td>Independenta Romaniei</td><td>1912</td><td>01.09.1912</td><td>History, War</td><td>120</td><td>Romania</td><td>null</td><td>Aristide Demetriade, Grigore Brezeanu</td><td>Aristide Demetriade, Petre Liciu</td><td>Societatea Filmului de Arta Leon Popescu</td><td>Aristide Demetriade, Constanta Demetriade, Constantin Nottara, Pepi Machauer, Aurel Athanasescu, Jeny Metaxa-Doro, Nicolae Soreanu, Vasile Toneanu, Aristita Romanescu, Elvire Popesco, M. Vîrgolici, C. Nedelcovici, Mihail Tancovici-Cosmin, Ion Dumitrescu, Gheorghe Meliseanu</td><td>The movie depicts the Romanian War of Independence (1877-1878).</td><td>06.lip</td><td>198</td><td>ROL 400000</td><td>null</td><td>null</td><td>null</td><td>4.0</td><td>1.0</td></tr><tr><td>tt0002461</td><td>Richard III</td><td>Richard III</td><td>1912</td><td>15.10.1912</td><td>Drama</td><td>55</td><td>France, USA</td><td>English</td><td>André Calmettes, James Keane</td><td>James Keane, William Shakespeare</td><td>Le Film d'Art</td><td>Robert Gemp, Frederick Warde, Albert Gardner, James Keane, George Moss, Howard Stuart, Virginia Rankin, Violet Stuart, Carey Lee, Carlotta De Felice</td><td>Richard of Gloucester uses manipulation and murder to gain the English throne.</td><td>05.maj</td><td>225</td><td>$ 30000</td><td>null</td><td>null</td><td>null</td><td>8.0</td><td>1.0</td></tr></tbody></table></div>"
      ]
     },
     "metadata": {
      "application/vnd.databricks.v1+output": {
       "addedWidgets": {},
       "aggData": [],
       "aggError": "",
       "aggOverflow": false,
       "aggSchema": [],
       "aggSeriesLimitReached": false,
       "aggType": "",
       "arguments": {},
       "columnCustomDisplayInfos": {},
       "data": [
        [
         "tt0000009",
         "Miss Jerry",
         "Miss Jerry",
         "1894",
         "1894-10-09",
         "Romance",
         45,
         "USA",
         "None",
         "Alexander Black",
         "Alexander Black",
         "Alexander Black Photoplays",
         "Blanche Bayliss, William Courtenay, Chauncey Depew",
         "The adventures of a female reporter in the 1890s.",
         "05.wrz",
         154,
         null,
         null,
         null,
         null,
         1.0,
         2.0
        ],
        [
         "tt0000574",
         "The Story of the Kelly Gang",
         "The Story of the Kelly Gang",
         "1906",
         "26.12.1906",
         "Biography, Crime, Drama",
         70,
         "Australia",
         "None",
         "Charles Tait",
         "Charles Tait",
         "J. and N. Tait",
         "Elizabeth Tait, John Tait, Norman Campbell, Bella Cola, Will Coyne, Sam Crewes, Jack Ennis, John Forde, Vera Linden, Mr. Marshall, Mr. McKenzie, Frank Mills, Ollie Wilson",
         "True story of notorious Australian outlaw Ned Kelly (1855-80).",
         "06.sty",
         589,
         "$ 2250",
         null,
         null,
         null,
         7.0,
         7.0
        ],
        [
         "tt0001892",
         "Den sorte drøm",
         "Den sorte drøm",
         "1911",
         "19.08.1911",
         "Drama",
         53,
         "Germany, Denmark",
         null,
         "Urban Gad",
         "Urban Gad, Gebhard Schätzler-Perasini",
         "Fotorama",
         "Asta Nielsen, Valdemar Psilander, Gunnar Helsengreen, Emil Albes, Hugo Flink, Mary Hagen",
         "Two men of high rank are both wooing the beautiful and famous equestrian acrobat Stella. While Stella ignores the jeweler Hirsch, she accepts Count von Waldberg's offer to follow her home, ...",
         "05.sie",
         188,
         null,
         null,
         null,
         null,
         5.0,
         2.0
        ],
        [
         "tt0002101",
         "Cleopatra",
         "Cleopatra",
         "1912",
         "13.11.1912",
         "Drama, History",
         100,
         "USA",
         "English",
         "Charles L. Gaskill",
         "Victorien Sardou",
         "Helen Gardner Picture Players",
         "Helen Gardner, Pearl Sindelar, Miss Fielding, Miss Robson, Helene Costello, Charles Sindelar, Mr. Howard, James R. Waite, Mr. Osborne, Harry Knowles, Mr. Paul, Mr. Brady, Mr. Corker",
         "The fabled queen of Egypt's affair with Roman general Marc Antony is ultimately disastrous for both of them.",
         "05.lut",
         446,
         "$ 45000",
         null,
         null,
         null,
         25.0,
         3.0
        ],
        [
         "tt0002130",
         "L'Inferno",
         "L'Inferno",
         "1911",
         "06.03.1911",
         "Adventure, Drama, Fantasy",
         68,
         "Italy",
         "Italian",
         "Francesco Bertolini, Adolfo Padovan",
         "Dante Alighieri",
         "Milano Film",
         "Salvatore Papa, Arturo Pirovano, Giuseppe de Liguoro, Pier Delle Vigne, Augusto Milla, Attilio Motta, Emilise Beretta",
         "Loosely adapted from Dante's Divine Comedy and inspired by the illustrations of Gustav Doré the original silent film has been restored and has a new score by Tangerine Dream.",
         "7.0",
         2237,
         null,
         null,
         null,
         null,
         31.0,
         14.0
        ],
        [
         "tt0002199",
         "From the Manger to the Cross or, Jesus of Nazareth",
         "From the Manger to the Cross or, Jesus of Nazareth",
         "1912",
         "1913",
         "Biography, Drama",
         60,
         "USA",
         "English",
         "Sidney Olcott",
         "Gene Gauntier",
         "Kalem Company",
         "R. Henderson Bland, Percy Dyer, Gene Gauntier, Alice Hollister, Samuel Morgan, James D. Ainsley, Robert G. Vignola, George Kellog, J.P. McGowan",
         "An account of the life of Jesus Christ, based on the books of the New Testament: After Jesus' birth is foretold to his parents, he is born in Bethlehem, and is visited by shepherds and wise...",
         "05.lip",
         484,
         null,
         null,
         null,
         null,
         13.0,
         5.0
        ],
        [
         "tt0002423",
         "Madame DuBarry",
         "Madame DuBarry",
         "1919",
         "26.11.1919",
         "Biography, Drama, Romance",
         85,
         "Germany",
         "German",
         "Ernst Lubitsch",
         "Norbert Falk, Hanns Kräly",
         "Projektions-AG Union (PAGU)",
         "Pola Negri, Emil Jannings, Harry Liedtke, Eduard von Winterstein, Reinhold Schünzel, Else Berna, Fred Immler, Gustav Czimeg, Karl Platen, Bernhard Goetzke, Magnus Stifter, Paul Biensfeldt, Willy Kaiser-Heyl, Alexander Ekert, Robert Sortsch-Pla",
         "The story of Madame DuBarry, the mistress of Louis XV of France, and her loves in the time of the French revolution.",
         "06.sie",
         753,
         null,
         null,
         null,
         null,
         12.0,
         9.0
        ],
        [
         "tt0002445",
         "Quo Vadis?",
         "Quo Vadis?",
         "1913",
         "01.03.1913",
         "Drama, History",
         120,
         "Italy",
         "Italian",
         "Enrico Guazzoni",
         "Henryk Sienkiewicz, Enrico Guazzoni",
         "Società Italiana Cines",
         "Amleto Novelli, Gustavo Serena, Carlo Cattaneo, Amelia Cattaneo, Lea Giunchi, Bruto Castellani, Augusto Mastripietri, Cesare Moltini, Olga Brandini, Ignazio Lupi, Giovanni Gizzi, Lia Orlandini, Matilde Guillaume, Ida Carloni Talli, Giuseppe Gambardella",
         "An epic Italian film Quo Vadis influenced many of the later movies.",
         "06.lut",
         273,
         "ITL 45000",
         null,
         null,
         null,
         7.0,
         5.0
        ],
        [
         "tt0002452",
         "Independenta Romaniei",
         "Independenta Romaniei",
         "1912",
         "01.09.1912",
         "History, War",
         120,
         "Romania",
         null,
         "Aristide Demetriade, Grigore Brezeanu",
         "Aristide Demetriade, Petre Liciu",
         "Societatea Filmului de Arta Leon Popescu",
         "Aristide Demetriade, Constanta Demetriade, Constantin Nottara, Pepi Machauer, Aurel Athanasescu, Jeny Metaxa-Doro, Nicolae Soreanu, Vasile Toneanu, Aristita Romanescu, Elvire Popesco, M. Vîrgolici, C. Nedelcovici, Mihail Tancovici-Cosmin, Ion Dumitrescu, Gheorghe Meliseanu",
         "The movie depicts the Romanian War of Independence (1877-1878).",
         "06.lip",
         198,
         "ROL 400000",
         null,
         null,
         null,
         4.0,
         1.0
        ],
        [
         "tt0002461",
         "Richard III",
         "Richard III",
         "1912",
         "15.10.1912",
         "Drama",
         55,
         "France, USA",
         "English",
         "André Calmettes, James Keane",
         "James Keane, William Shakespeare",
         "Le Film d'Art",
         "Robert Gemp, Frederick Warde, Albert Gardner, James Keane, George Moss, Howard Stuart, Virginia Rankin, Violet Stuart, Carey Lee, Carlotta De Felice",
         "Richard of Gloucester uses manipulation and murder to gain the English throne.",
         "05.maj",
         225,
         "$ 30000",
         null,
         null,
         null,
         8.0,
         1.0
        ]
       ],
       "datasetInfos": [],
       "dbfsResultPath": null,
       "isJsonSchema": true,
       "metadata": {},
       "overflow": false,
       "plotOptions": {
        "customPlotOptions": {},
        "displayType": "table",
        "pivotAggregation": null,
        "pivotColumns": null,
        "xColumns": null,
        "yColumns": null
       },
       "removedWidgets": [],
       "schema": [
        {
         "metadata": "{}",
         "name": "imdb_title_id",
         "type": "\"string\""
        },
        {
         "metadata": "{}",
         "name": "title",
         "type": "\"string\""
        },
        {
         "metadata": "{}",
         "name": "original_title",
         "type": "\"string\""
        },
        {
         "metadata": "{}",
         "name": "year",
         "type": "\"string\""
        },
        {
         "metadata": "{}",
         "name": "date_published",
         "type": "\"string\""
        },
        {
         "metadata": "{}",
         "name": "genre",
         "type": "\"string\""
        },
        {
         "metadata": "{}",
         "name": "duration",
         "type": "\"integer\""
        },
        {
         "metadata": "{}",
         "name": "country",
         "type": "\"string\""
        },
        {
         "metadata": "{}",
         "name": "language",
         "type": "\"string\""
        },
        {
         "metadata": "{}",
         "name": "director",
         "type": "\"string\""
        },
        {
         "metadata": "{}",
         "name": "writer",
         "type": "\"string\""
        },
        {
         "metadata": "{}",
         "name": "production_company",
         "type": "\"string\""
        },
        {
         "metadata": "{}",
         "name": "actors",
         "type": "\"string\""
        },
        {
         "metadata": "{}",
         "name": "description",
         "type": "\"string\""
        },
        {
         "metadata": "{}",
         "name": "avg_vote",
         "type": "\"string\""
        },
        {
         "metadata": "{}",
         "name": "votes",
         "type": "\"integer\""
        },
        {
         "metadata": "{}",
         "name": "budget",
         "type": "\"string\""
        },
        {
         "metadata": "{}",
         "name": "usa_gross_income",
         "type": "\"string\""
        },
        {
         "metadata": "{}",
         "name": "worlwide_gross_income",
         "type": "\"string\""
        },
        {
         "metadata": "{}",
         "name": "metascore",
         "type": "\"double\""
        },
        {
         "metadata": "{}",
         "name": "reviews_from_users",
         "type": "\"double\""
        },
        {
         "metadata": "{}",
         "name": "reviews_from_critics",
         "type": "\"double\""
        }
       ],
       "type": "table"
      }
     },
     "output_type": "display_data"
    },
    {
     "output_type": "stream",
     "name": "stdout",
     "output_type": "stream",
     "text": [
      "root\n |-- imdb_title_id: string (nullable = true)\n |-- title: string (nullable = true)\n |-- original_title: string (nullable = true)\n |-- year: string (nullable = true)\n |-- date_published: string (nullable = true)\n |-- genre: string (nullable = true)\n |-- duration: integer (nullable = true)\n |-- country: string (nullable = true)\n |-- language: string (nullable = true)\n |-- director: string (nullable = true)\n |-- writer: string (nullable = true)\n |-- production_company: string (nullable = true)\n |-- actors: string (nullable = true)\n |-- description: string (nullable = true)\n |-- avg_vote: string (nullable = true)\n |-- votes: integer (nullable = true)\n |-- budget: string (nullable = true)\n |-- usa_gross_income: string (nullable = true)\n |-- worlwide_gross_income: string (nullable = true)\n |-- metascore: double (nullable = true)\n |-- reviews_from_users: double (nullable = true)\n |-- reviews_from_critics: double (nullable = true)\n\n"
     ]
    }
   ],
   "source": [
    "filePath = \"dbfs:/FileStore/tables/Files/movies.csv\"\n",
    "df = spark.read.format(\"csv\").option(\"header\",\"true\").option(\"inferSchema\",\"true\").load(filePath)\n",
    "\n",
    "display(df.limit(10))  \n",
    "\n",
    "df.printSchema()"
   ]
  },
  {
   "cell_type": "markdown",
   "metadata": {
    "application/vnd.databricks.v1+cell": {
     "cellMetadata": {
      "byteLimit": 2048000,
      "rowLimit": 10000
     },
     "inputWidgets": {},
     "nuid": "2047d440-09a7-4952-9926-64d0f073cd19",
     "showTitle": false,
     "tableResultSettingsMap": {},
     "title": ""
    }
   },
   "source": [
    "##### 1.1\n",
    "Użycie funkcji nulls."
   ]
  },
  {
   "cell_type": "code",
   "execution_count": 0,
   "metadata": {
    "application/vnd.databricks.v1+cell": {
     "cellMetadata": {
      "byteLimit": 2048000,
      "rowLimit": 10000
     },
     "inputWidgets": {},
     "nuid": "4f93dea4-8364-4a07-b3e4-578645e3b3d3",
     "showTitle": false,
     "tableResultSettingsMap": {},
     "title": ""
    }
   },
   "outputs": [
    {
     "output_type": "display_data",
     "data": {
      "text/html": [
       "<style scoped>\n",
       "  .table-result-container {\n",
       "    max-height: 300px;\n",
       "    overflow: auto;\n",
       "  }\n",
       "  table, th, td {\n",
       "    border: 1px solid black;\n",
       "    border-collapse: collapse;\n",
       "  }\n",
       "  th, td {\n",
       "    padding: 5px;\n",
       "  }\n",
       "  th {\n",
       "    text-align: left;\n",
       "  }\n",
       "</style><div class='table-result-container'><table class='table-result'><thead style='background-color: white'><tr><th>imdb_title_id</th><th>title</th><th>original_title</th><th>year</th><th>date_published</th><th>genre</th><th>duration</th><th>country</th><th>language</th><th>director</th><th>writer</th><th>production_company</th><th>actors</th><th>description</th><th>avg_vote</th><th>votes</th><th>budget</th><th>usa_gross_income</th><th>worlwide_gross_income</th><th>metascore</th><th>reviews_from_users</th><th>reviews_from_critics</th></tr></thead><tbody><tr><td>tt0033809</td><td>Land of Liberty</td><td>Land of Liberty</td><td>1939</td><td>15.06.1939</td><td>History</td><td>138</td><td>USA</td><td>English</td><td>null</td><td>Jesse Lasky Jr., Jeanie Macpherson</td><td>MPPDA</td><td>Gayne Whitman, Erville Alderson, Don Ameche, George Arliss, Edward Arnold, George Bancroft, Binnie Barnes, John Barrymore, Lionel Barrymore, Warner Baxter, Janet Beecher, Noah Beery, Wallace Beery, Sidney Blackmer, Eleanor Boardman</td><td>This film tells the history of the United States from pre-Revolution through 1939.</td><td>7.0</td><td>222</td><td>null</td><td>null</td><td>null</td><td>null</td><td>2.0</td><td>3.0</td></tr><tr><td>tt0056173</td><td>La leggenda di Lobo</td><td>The Legend of Lobo</td><td>1962</td><td>07.11.1962</td><td>Adventure, Family</td><td>67</td><td>USA</td><td>English</td><td>null</td><td>Dwight Hauser, James Algar</td><td>Cangary</td><td>Rex Allen, Ingvald Lieberkind</td><td>Tells the life story of a wolf named Lobo. He grows from a playful, curious cub into a wolf with a huge bounty on his head. Along the way he makes friends with deer, tangles with ...</td><td>7.0</td><td>441</td><td>null</td><td>null</td><td>null</td><td>null</td><td>7.0</td><td>null</td></tr><tr><td>tt0070754</td><td>Superman</td><td>Superman</td><td>1973</td><td>09.09.1973</td><td>Action, Adventure, Sci-Fi</td><td>104</td><td>USA</td><td>English</td><td>null</td><td>Robert Leslie Bellem, Whitney Ellsworth</td><td>Warner Bros.</td><td>George Reeves, Noel Neill, Jack Larson, John Hamilton, Robert Shayne, Everett Glass, Keith Richards, Ben Welden, Bruce Wendell, Joel Riordan, John Ayres, Joi Lansing, John Eldredge, John Bennes, Harry Arnie</td><td>A compilation of four episodes of The Adventures of Superman tv series: episode #95 (The Mysterious Cube), #100 (Superman's Wife), #80 (Tin Hero), and #82 (The Town That Wasn't).</td><td>06.maj</td><td>181</td><td>null</td><td>null</td><td>null</td><td>null</td><td>4.0</td><td>null</td></tr><tr><td>tt0095342</td><td>I Love N.Y.</td><td>I Love N.Y.</td><td>1987</td><td>04.05.1987</td><td>Comedy, Drama</td><td>100</td><td>USA</td><td>English</td><td>null</td><td>Gianni Bozzacchi</td><td>null</td><td>Scott Baio, Christopher Plummer, Kelly Van der Velden, Jennifer O'Neill, Jerry Orbach, Virna Lisi, John Armstead, Lisanne Falk, Jusak Bernhard, Morgan Most, Cyrus Elias, Mickey Knox, Penny Brown, John Karlsen, Eve Slatner</td><td>Photographer Mario Cotone is hired to cover a big N.Y. actor. When his pretty daughter Nicole Yeats (N.Y.) and Mario fall in love, this angers her father and hurts Mario's work which further infuriates his boss. Will love prevail?</td><td>04.sty</td><td>109</td><td>null</td><td>null</td><td>null</td><td>null</td><td>5.0</td><td>null</td></tr><tr><td>tt0099338</td><td>Da Jue Zhan I: Liao Shen Zhan Yi</td><td>Da Jue Zhan I: Liao Shen Zhan Yi</td><td>1990</td><td>1990</td><td>Drama, History, War</td><td>222</td><td>China</td><td>null</td><td>null</td><td>Pingfen Li, Chao Shi</td><td>August 1st Film Studio</td><td>Haiying Sun</td><td>Set in 1948, the first strategic campaign in northeast China during the civil war between CCP army and Nationalist Party army.</td><td>06.maj</td><td>126</td><td>null</td><td>null</td><td>null</td><td>null</td><td>2.0</td><td>null</td></tr><tr><td>tt0099339</td><td>Da Jue Zhan II: Huai Hai Zhan Yi</td><td>Da Jue Zhan II: Huai Hai Zhan Yi</td><td>1991</td><td>01.08.1991</td><td>Drama, History, War</td><td>219</td><td>China</td><td>null</td><td>null</td><td>Pingfen Li, Chao Shi</td><td>August 1st Film Studio</td><td>Shuangli Zhang</td><td>Set in 1948, the second strategic campaign in central China between CCP army and the Nationalist Party army.</td><td>06.kwi</td><td>107</td><td>null</td><td>null</td><td>null</td><td>null</td><td>1.0</td><td>null</td></tr><tr><td>tt0199991</td><td>Rage of the Master</td><td>Rage of the Master</td><td>1975</td><td>1982</td><td>Action</td><td>100</td><td>Hong Kong</td><td>null</td><td>null</td><td>null</td><td>null</td><td>Ming-Tsai Wu, Cheng-Wu Yang</td><td>A kung fu school's master is killed by a disgruntled former student and now casino owner (Sit Hon), and the master's children seek out the help of Tiger Wong (Jimmy Wang Yu) to get revenge.</td><td>03.maj</td><td>107</td><td>null</td><td>null</td><td>null</td><td>null</td><td>2.0</td><td>null</td></tr><tr><td>tt0212112</td><td>Donald Duck Goes West</td><td>Donald Duck Goes West</td><td>1965</td><td>25.03.1966</td><td>Animation, Comedy, Family</td><td>57</td><td>USA</td><td>English</td><td>null</td><td>null</td><td>Walt Disney Pictures</td><td>Clarence Nash</td><td>A compilation of previously released western-themed Disney cartoons.</td><td>06.sie</td><td>107</td><td>null</td><td>null</td><td>null</td><td>null</td><td>null</td><td>null</td></tr><tr><td>tt0225346</td><td>Cartoon Noir</td><td>Cartoon Noir</td><td>1999</td><td>03.12.1999</td><td>Animation</td><td>83</td><td>USA</td><td>English</td><td>null</td><td>null</td><td>null</td><td>null</td><td>null</td><td>06.sty</td><td>170</td><td>null</td><td>null</td><td>null</td><td>null</td><td>3.0</td><td>6.0</td></tr><tr><td>tt0238595</td><td>Sherlock Holmes and a Study in Scarlet</td><td>Sherlock Holmes and a Study in Scarlet</td><td>1983</td><td>15.01.1983</td><td>Animation, Family, Mystery</td><td>50</td><td>Australia</td><td>English</td><td>null</td><td>Arthur Conan Doyle, John King</td><td>Burbank Films Australia</td><td>Peter O'Toole, Earle Cross, Judy Nunn, Ron Haddrick, Shane Briant, Ken Wayne, Brian Adams, Henri Szeps</td><td>The great detective investigates a murder that has a far flung revenge motive.</td><td>06.lut</td><td>100</td><td>null</td><td>null</td><td>null</td><td>null</td><td>4.0</td><td>3.0</td></tr></tbody></table></div>"
      ]
     },
     "metadata": {
      "application/vnd.databricks.v1+output": {
       "addedWidgets": {},
       "aggData": [],
       "aggError": "",
       "aggOverflow": false,
       "aggSchema": [],
       "aggSeriesLimitReached": false,
       "aggType": "",
       "arguments": {},
       "columnCustomDisplayInfos": {},
       "data": [
        [
         "tt0033809",
         "Land of Liberty",
         "Land of Liberty",
         "1939",
         "15.06.1939",
         "History",
         138,
         "USA",
         "English",
         null,
         "Jesse Lasky Jr., Jeanie Macpherson",
         "MPPDA",
         "Gayne Whitman, Erville Alderson, Don Ameche, George Arliss, Edward Arnold, George Bancroft, Binnie Barnes, John Barrymore, Lionel Barrymore, Warner Baxter, Janet Beecher, Noah Beery, Wallace Beery, Sidney Blackmer, Eleanor Boardman",
         "This film tells the history of the United States from pre-Revolution through 1939.",
         "7.0",
         222,
         null,
         null,
         null,
         null,
         2.0,
         3.0
        ],
        [
         "tt0056173",
         "La leggenda di Lobo",
         "The Legend of Lobo",
         "1962",
         "07.11.1962",
         "Adventure, Family",
         67,
         "USA",
         "English",
         null,
         "Dwight Hauser, James Algar",
         "Cangary",
         "Rex Allen, Ingvald Lieberkind",
         "Tells the life story of a wolf named Lobo. He grows from a playful, curious cub into a wolf with a huge bounty on his head. Along the way he makes friends with deer, tangles with ...",
         "7.0",
         441,
         null,
         null,
         null,
         null,
         7.0,
         null
        ],
        [
         "tt0070754",
         "Superman",
         "Superman",
         "1973",
         "09.09.1973",
         "Action, Adventure, Sci-Fi",
         104,
         "USA",
         "English",
         null,
         "Robert Leslie Bellem, Whitney Ellsworth",
         "Warner Bros.",
         "George Reeves, Noel Neill, Jack Larson, John Hamilton, Robert Shayne, Everett Glass, Keith Richards, Ben Welden, Bruce Wendell, Joel Riordan, John Ayres, Joi Lansing, John Eldredge, John Bennes, Harry Arnie",
         "A compilation of four episodes of The Adventures of Superman tv series: episode #95 (The Mysterious Cube), #100 (Superman's Wife), #80 (Tin Hero), and #82 (The Town That Wasn't).",
         "06.maj",
         181,
         null,
         null,
         null,
         null,
         4.0,
         null
        ],
        [
         "tt0095342",
         "I Love N.Y.",
         "I Love N.Y.",
         "1987",
         "04.05.1987",
         "Comedy, Drama",
         100,
         "USA",
         "English",
         null,
         "Gianni Bozzacchi",
         null,
         "Scott Baio, Christopher Plummer, Kelly Van der Velden, Jennifer O'Neill, Jerry Orbach, Virna Lisi, John Armstead, Lisanne Falk, Jusak Bernhard, Morgan Most, Cyrus Elias, Mickey Knox, Penny Brown, John Karlsen, Eve Slatner",
         "Photographer Mario Cotone is hired to cover a big N.Y. actor. When his pretty daughter Nicole Yeats (N.Y.) and Mario fall in love, this angers her father and hurts Mario's work which further infuriates his boss. Will love prevail?",
         "04.sty",
         109,
         null,
         null,
         null,
         null,
         5.0,
         null
        ],
        [
         "tt0099338",
         "Da Jue Zhan I: Liao Shen Zhan Yi",
         "Da Jue Zhan I: Liao Shen Zhan Yi",
         "1990",
         "1990",
         "Drama, History, War",
         222,
         "China",
         null,
         null,
         "Pingfen Li, Chao Shi",
         "August 1st Film Studio",
         "Haiying Sun",
         "Set in 1948, the first strategic campaign in northeast China during the civil war between CCP army and Nationalist Party army.",
         "06.maj",
         126,
         null,
         null,
         null,
         null,
         2.0,
         null
        ],
        [
         "tt0099339",
         "Da Jue Zhan II: Huai Hai Zhan Yi",
         "Da Jue Zhan II: Huai Hai Zhan Yi",
         "1991",
         "01.08.1991",
         "Drama, History, War",
         219,
         "China",
         null,
         null,
         "Pingfen Li, Chao Shi",
         "August 1st Film Studio",
         "Shuangli Zhang",
         "Set in 1948, the second strategic campaign in central China between CCP army and the Nationalist Party army.",
         "06.kwi",
         107,
         null,
         null,
         null,
         null,
         1.0,
         null
        ],
        [
         "tt0199991",
         "Rage of the Master",
         "Rage of the Master",
         "1975",
         "1982",
         "Action",
         100,
         "Hong Kong",
         null,
         null,
         null,
         null,
         "Ming-Tsai Wu, Cheng-Wu Yang",
         "A kung fu school's master is killed by a disgruntled former student and now casino owner (Sit Hon), and the master's children seek out the help of Tiger Wong (Jimmy Wang Yu) to get revenge.",
         "03.maj",
         107,
         null,
         null,
         null,
         null,
         2.0,
         null
        ],
        [
         "tt0212112",
         "Donald Duck Goes West",
         "Donald Duck Goes West",
         "1965",
         "25.03.1966",
         "Animation, Comedy, Family",
         57,
         "USA",
         "English",
         null,
         null,
         "Walt Disney Pictures",
         "Clarence Nash",
         "A compilation of previously released western-themed Disney cartoons.",
         "06.sie",
         107,
         null,
         null,
         null,
         null,
         null,
         null
        ],
        [
         "tt0225346",
         "Cartoon Noir",
         "Cartoon Noir",
         "1999",
         "03.12.1999",
         "Animation",
         83,
         "USA",
         "English",
         null,
         null,
         null,
         null,
         null,
         "06.sty",
         170,
         null,
         null,
         null,
         null,
         3.0,
         6.0
        ],
        [
         "tt0238595",
         "Sherlock Holmes and a Study in Scarlet",
         "Sherlock Holmes and a Study in Scarlet",
         "1983",
         "15.01.1983",
         "Animation, Family, Mystery",
         50,
         "Australia",
         "English",
         null,
         "Arthur Conan Doyle, John King",
         "Burbank Films Australia",
         "Peter O'Toole, Earle Cross, Judy Nunn, Ron Haddrick, Shane Briant, Ken Wayne, Brian Adams, Henri Szeps",
         "The great detective investigates a murder that has a far flung revenge motive.",
         "06.lut",
         100,
         null,
         null,
         null,
         null,
         4.0,
         3.0
        ]
       ],
       "datasetInfos": [],
       "dbfsResultPath": null,
       "isJsonSchema": true,
       "metadata": {},
       "overflow": false,
       "plotOptions": {
        "customPlotOptions": {},
        "displayType": "table",
        "pivotAggregation": null,
        "pivotColumns": null,
        "xColumns": null,
        "yColumns": null
       },
       "removedWidgets": [],
       "schema": [
        {
         "metadata": "{}",
         "name": "imdb_title_id",
         "type": "\"string\""
        },
        {
         "metadata": "{}",
         "name": "title",
         "type": "\"string\""
        },
        {
         "metadata": "{}",
         "name": "original_title",
         "type": "\"string\""
        },
        {
         "metadata": "{}",
         "name": "year",
         "type": "\"string\""
        },
        {
         "metadata": "{}",
         "name": "date_published",
         "type": "\"string\""
        },
        {
         "metadata": "{}",
         "name": "genre",
         "type": "\"string\""
        },
        {
         "metadata": "{}",
         "name": "duration",
         "type": "\"integer\""
        },
        {
         "metadata": "{}",
         "name": "country",
         "type": "\"string\""
        },
        {
         "metadata": "{}",
         "name": "language",
         "type": "\"string\""
        },
        {
         "metadata": "{}",
         "name": "director",
         "type": "\"string\""
        },
        {
         "metadata": "{}",
         "name": "writer",
         "type": "\"string\""
        },
        {
         "metadata": "{}",
         "name": "production_company",
         "type": "\"string\""
        },
        {
         "metadata": "{}",
         "name": "actors",
         "type": "\"string\""
        },
        {
         "metadata": "{}",
         "name": "description",
         "type": "\"string\""
        },
        {
         "metadata": "{}",
         "name": "avg_vote",
         "type": "\"string\""
        },
        {
         "metadata": "{}",
         "name": "votes",
         "type": "\"integer\""
        },
        {
         "metadata": "{}",
         "name": "budget",
         "type": "\"string\""
        },
        {
         "metadata": "{}",
         "name": "usa_gross_income",
         "type": "\"string\""
        },
        {
         "metadata": "{}",
         "name": "worlwide_gross_income",
         "type": "\"string\""
        },
        {
         "metadata": "{}",
         "name": "metascore",
         "type": "\"double\""
        },
        {
         "metadata": "{}",
         "name": "reviews_from_users",
         "type": "\"double\""
        },
        {
         "metadata": "{}",
         "name": "reviews_from_critics",
         "type": "\"double\""
        }
       ],
       "type": "table"
      }
     },
     "output_type": "display_data"
    }
   ],
   "source": [
    "df_null_director = df.filter(col(\"director\").isNull())\n",
    "display(df_null_director.limit(10))"
   ]
  },
  {
   "cell_type": "markdown",
   "metadata": {
    "application/vnd.databricks.v1+cell": {
     "cellMetadata": {
      "byteLimit": 2048000,
      "rowLimit": 10000
     },
     "inputWidgets": {},
     "nuid": "20d13087-8786-4628-a2e4-a1cec9637cf9",
     "showTitle": false,
     "tableResultSettingsMap": {},
     "title": ""
    }
   },
   "source": [
    "##### 1.2\n",
    "Użycie funkcji fill."
   ]
  },
  {
   "cell_type": "code",
   "execution_count": 0,
   "metadata": {
    "application/vnd.databricks.v1+cell": {
     "cellMetadata": {
      "byteLimit": 2048000,
      "rowLimit": 10000
     },
     "inputWidgets": {},
     "nuid": "42f46965-f283-46bd-b865-8a7865aee6ad",
     "showTitle": false,
     "tableResultSettingsMap": {},
     "title": ""
    }
   },
   "outputs": [
    {
     "output_type": "display_data",
     "data": {
      "text/html": [
       "<style scoped>\n",
       "  .table-result-container {\n",
       "    max-height: 300px;\n",
       "    overflow: auto;\n",
       "  }\n",
       "  table, th, td {\n",
       "    border: 1px solid black;\n",
       "    border-collapse: collapse;\n",
       "  }\n",
       "  th, td {\n",
       "    padding: 5px;\n",
       "  }\n",
       "  th {\n",
       "    text-align: left;\n",
       "  }\n",
       "</style><div class='table-result-container'><table class='table-result'><thead style='background-color: white'><tr><th>imdb_title_id</th><th>title</th><th>original_title</th><th>year</th><th>date_published</th><th>genre</th><th>duration</th><th>country</th><th>language</th><th>director</th><th>writer</th><th>production_company</th><th>actors</th><th>description</th><th>avg_vote</th><th>votes</th><th>budget</th><th>usa_gross_income</th><th>worlwide_gross_income</th><th>metascore</th><th>reviews_from_users</th><th>reviews_from_critics</th></tr></thead><tbody><tr><td>tt0000009</td><td>Miss Jerry</td><td>Miss Jerry</td><td>1894</td><td>1894-10-09</td><td>Romance</td><td>45</td><td>USA</td><td>None</td><td>Alexander Black</td><td>Alexander Black</td><td>Alexander Black Photoplays</td><td>Blanche Bayliss, William Courtenay, Chauncey Depew</td><td>The adventures of a female reporter in the 1890s.</td><td>05.wrz</td><td>154</td><td>null</td><td>null</td><td>null</td><td>null</td><td>1.0</td><td>2.0</td></tr><tr><td>tt0000574</td><td>The Story of the Kelly Gang</td><td>The Story of the Kelly Gang</td><td>1906</td><td>26.12.1906</td><td>Biography, Crime, Drama</td><td>70</td><td>Australia</td><td>None</td><td>Charles Tait</td><td>Charles Tait</td><td>J. and N. Tait</td><td>Elizabeth Tait, John Tait, Norman Campbell, Bella Cola, Will Coyne, Sam Crewes, Jack Ennis, John Forde, Vera Linden, Mr. Marshall, Mr. McKenzie, Frank Mills, Ollie Wilson</td><td>True story of notorious Australian outlaw Ned Kelly (1855-80).</td><td>06.sty</td><td>589</td><td>$ 2250</td><td>null</td><td>null</td><td>null</td><td>7.0</td><td>7.0</td></tr><tr><td>tt0001892</td><td>Den sorte drøm</td><td>Den sorte drøm</td><td>1911</td><td>19.08.1911</td><td>Drama</td><td>53</td><td>Germany, Denmark</td><td>Unknown language</td><td>Urban Gad</td><td>Urban Gad, Gebhard Schätzler-Perasini</td><td>Fotorama</td><td>Asta Nielsen, Valdemar Psilander, Gunnar Helsengreen, Emil Albes, Hugo Flink, Mary Hagen</td><td>Two men of high rank are both wooing the beautiful and famous equestrian acrobat Stella. While Stella ignores the jeweler Hirsch, she accepts Count von Waldberg's offer to follow her home, ...</td><td>05.sie</td><td>188</td><td>null</td><td>null</td><td>null</td><td>null</td><td>5.0</td><td>2.0</td></tr><tr><td>tt0002101</td><td>Cleopatra</td><td>Cleopatra</td><td>1912</td><td>13.11.1912</td><td>Drama, History</td><td>100</td><td>USA</td><td>English</td><td>Charles L. Gaskill</td><td>Victorien Sardou</td><td>Helen Gardner Picture Players</td><td>Helen Gardner, Pearl Sindelar, Miss Fielding, Miss Robson, Helene Costello, Charles Sindelar, Mr. Howard, James R. Waite, Mr. Osborne, Harry Knowles, Mr. Paul, Mr. Brady, Mr. Corker</td><td>The fabled queen of Egypt's affair with Roman general Marc Antony is ultimately disastrous for both of them.</td><td>05.lut</td><td>446</td><td>$ 45000</td><td>null</td><td>null</td><td>null</td><td>25.0</td><td>3.0</td></tr><tr><td>tt0002130</td><td>L'Inferno</td><td>L'Inferno</td><td>1911</td><td>06.03.1911</td><td>Adventure, Drama, Fantasy</td><td>68</td><td>Italy</td><td>Italian</td><td>Francesco Bertolini, Adolfo Padovan</td><td>Dante Alighieri</td><td>Milano Film</td><td>Salvatore Papa, Arturo Pirovano, Giuseppe de Liguoro, Pier Delle Vigne, Augusto Milla, Attilio Motta, Emilise Beretta</td><td>Loosely adapted from Dante's Divine Comedy and inspired by the illustrations of Gustav Doré the original silent film has been restored and has a new score by Tangerine Dream.</td><td>7.0</td><td>2237</td><td>null</td><td>null</td><td>null</td><td>null</td><td>31.0</td><td>14.0</td></tr><tr><td>tt0002199</td><td>From the Manger to the Cross or, Jesus of Nazareth</td><td>From the Manger to the Cross or, Jesus of Nazareth</td><td>1912</td><td>1913</td><td>Biography, Drama</td><td>60</td><td>USA</td><td>English</td><td>Sidney Olcott</td><td>Gene Gauntier</td><td>Kalem Company</td><td>R. Henderson Bland, Percy Dyer, Gene Gauntier, Alice Hollister, Samuel Morgan, James D. Ainsley, Robert G. Vignola, George Kellog, J.P. McGowan</td><td>An account of the life of Jesus Christ, based on the books of the New Testament: After Jesus' birth is foretold to his parents, he is born in Bethlehem, and is visited by shepherds and wise...</td><td>05.lip</td><td>484</td><td>null</td><td>null</td><td>null</td><td>null</td><td>13.0</td><td>5.0</td></tr><tr><td>tt0002423</td><td>Madame DuBarry</td><td>Madame DuBarry</td><td>1919</td><td>26.11.1919</td><td>Biography, Drama, Romance</td><td>85</td><td>Germany</td><td>German</td><td>Ernst Lubitsch</td><td>Norbert Falk, Hanns Kräly</td><td>Projektions-AG Union (PAGU)</td><td>Pola Negri, Emil Jannings, Harry Liedtke, Eduard von Winterstein, Reinhold Schünzel, Else Berna, Fred Immler, Gustav Czimeg, Karl Platen, Bernhard Goetzke, Magnus Stifter, Paul Biensfeldt, Willy Kaiser-Heyl, Alexander Ekert, Robert Sortsch-Pla</td><td>The story of Madame DuBarry, the mistress of Louis XV of France, and her loves in the time of the French revolution.</td><td>06.sie</td><td>753</td><td>null</td><td>null</td><td>null</td><td>null</td><td>12.0</td><td>9.0</td></tr><tr><td>tt0002445</td><td>Quo Vadis?</td><td>Quo Vadis?</td><td>1913</td><td>01.03.1913</td><td>Drama, History</td><td>120</td><td>Italy</td><td>Italian</td><td>Enrico Guazzoni</td><td>Henryk Sienkiewicz, Enrico Guazzoni</td><td>Società Italiana Cines</td><td>Amleto Novelli, Gustavo Serena, Carlo Cattaneo, Amelia Cattaneo, Lea Giunchi, Bruto Castellani, Augusto Mastripietri, Cesare Moltini, Olga Brandini, Ignazio Lupi, Giovanni Gizzi, Lia Orlandini, Matilde Guillaume, Ida Carloni Talli, Giuseppe Gambardella</td><td>An epic Italian film Quo Vadis influenced many of the later movies.</td><td>06.lut</td><td>273</td><td>ITL 45000</td><td>null</td><td>null</td><td>null</td><td>7.0</td><td>5.0</td></tr><tr><td>tt0002452</td><td>Independenta Romaniei</td><td>Independenta Romaniei</td><td>1912</td><td>01.09.1912</td><td>History, War</td><td>120</td><td>Romania</td><td>Unknown language</td><td>Aristide Demetriade, Grigore Brezeanu</td><td>Aristide Demetriade, Petre Liciu</td><td>Societatea Filmului de Arta Leon Popescu</td><td>Aristide Demetriade, Constanta Demetriade, Constantin Nottara, Pepi Machauer, Aurel Athanasescu, Jeny Metaxa-Doro, Nicolae Soreanu, Vasile Toneanu, Aristita Romanescu, Elvire Popesco, M. Vîrgolici, C. Nedelcovici, Mihail Tancovici-Cosmin, Ion Dumitrescu, Gheorghe Meliseanu</td><td>The movie depicts the Romanian War of Independence (1877-1878).</td><td>06.lip</td><td>198</td><td>ROL 400000</td><td>null</td><td>null</td><td>null</td><td>4.0</td><td>1.0</td></tr><tr><td>tt0002461</td><td>Richard III</td><td>Richard III</td><td>1912</td><td>15.10.1912</td><td>Drama</td><td>55</td><td>France, USA</td><td>English</td><td>André Calmettes, James Keane</td><td>James Keane, William Shakespeare</td><td>Le Film d'Art</td><td>Robert Gemp, Frederick Warde, Albert Gardner, James Keane, George Moss, Howard Stuart, Virginia Rankin, Violet Stuart, Carey Lee, Carlotta De Felice</td><td>Richard of Gloucester uses manipulation and murder to gain the English throne.</td><td>05.maj</td><td>225</td><td>$ 30000</td><td>null</td><td>null</td><td>null</td><td>8.0</td><td>1.0</td></tr></tbody></table></div>"
      ]
     },
     "metadata": {
      "application/vnd.databricks.v1+output": {
       "addedWidgets": {},
       "aggData": [],
       "aggError": "",
       "aggOverflow": false,
       "aggSchema": [],
       "aggSeriesLimitReached": false,
       "aggType": "",
       "arguments": {},
       "columnCustomDisplayInfos": {},
       "data": [
        [
         "tt0000009",
         "Miss Jerry",
         "Miss Jerry",
         "1894",
         "1894-10-09",
         "Romance",
         45,
         "USA",
         "None",
         "Alexander Black",
         "Alexander Black",
         "Alexander Black Photoplays",
         "Blanche Bayliss, William Courtenay, Chauncey Depew",
         "The adventures of a female reporter in the 1890s.",
         "05.wrz",
         154,
         null,
         null,
         null,
         null,
         1.0,
         2.0
        ],
        [
         "tt0000574",
         "The Story of the Kelly Gang",
         "The Story of the Kelly Gang",
         "1906",
         "26.12.1906",
         "Biography, Crime, Drama",
         70,
         "Australia",
         "None",
         "Charles Tait",
         "Charles Tait",
         "J. and N. Tait",
         "Elizabeth Tait, John Tait, Norman Campbell, Bella Cola, Will Coyne, Sam Crewes, Jack Ennis, John Forde, Vera Linden, Mr. Marshall, Mr. McKenzie, Frank Mills, Ollie Wilson",
         "True story of notorious Australian outlaw Ned Kelly (1855-80).",
         "06.sty",
         589,
         "$ 2250",
         null,
         null,
         null,
         7.0,
         7.0
        ],
        [
         "tt0001892",
         "Den sorte drøm",
         "Den sorte drøm",
         "1911",
         "19.08.1911",
         "Drama",
         53,
         "Germany, Denmark",
         "Unknown language",
         "Urban Gad",
         "Urban Gad, Gebhard Schätzler-Perasini",
         "Fotorama",
         "Asta Nielsen, Valdemar Psilander, Gunnar Helsengreen, Emil Albes, Hugo Flink, Mary Hagen",
         "Two men of high rank are both wooing the beautiful and famous equestrian acrobat Stella. While Stella ignores the jeweler Hirsch, she accepts Count von Waldberg's offer to follow her home, ...",
         "05.sie",
         188,
         null,
         null,
         null,
         null,
         5.0,
         2.0
        ],
        [
         "tt0002101",
         "Cleopatra",
         "Cleopatra",
         "1912",
         "13.11.1912",
         "Drama, History",
         100,
         "USA",
         "English",
         "Charles L. Gaskill",
         "Victorien Sardou",
         "Helen Gardner Picture Players",
         "Helen Gardner, Pearl Sindelar, Miss Fielding, Miss Robson, Helene Costello, Charles Sindelar, Mr. Howard, James R. Waite, Mr. Osborne, Harry Knowles, Mr. Paul, Mr. Brady, Mr. Corker",
         "The fabled queen of Egypt's affair with Roman general Marc Antony is ultimately disastrous for both of them.",
         "05.lut",
         446,
         "$ 45000",
         null,
         null,
         null,
         25.0,
         3.0
        ],
        [
         "tt0002130",
         "L'Inferno",
         "L'Inferno",
         "1911",
         "06.03.1911",
         "Adventure, Drama, Fantasy",
         68,
         "Italy",
         "Italian",
         "Francesco Bertolini, Adolfo Padovan",
         "Dante Alighieri",
         "Milano Film",
         "Salvatore Papa, Arturo Pirovano, Giuseppe de Liguoro, Pier Delle Vigne, Augusto Milla, Attilio Motta, Emilise Beretta",
         "Loosely adapted from Dante's Divine Comedy and inspired by the illustrations of Gustav Doré the original silent film has been restored and has a new score by Tangerine Dream.",
         "7.0",
         2237,
         null,
         null,
         null,
         null,
         31.0,
         14.0
        ],
        [
         "tt0002199",
         "From the Manger to the Cross or, Jesus of Nazareth",
         "From the Manger to the Cross or, Jesus of Nazareth",
         "1912",
         "1913",
         "Biography, Drama",
         60,
         "USA",
         "English",
         "Sidney Olcott",
         "Gene Gauntier",
         "Kalem Company",
         "R. Henderson Bland, Percy Dyer, Gene Gauntier, Alice Hollister, Samuel Morgan, James D. Ainsley, Robert G. Vignola, George Kellog, J.P. McGowan",
         "An account of the life of Jesus Christ, based on the books of the New Testament: After Jesus' birth is foretold to his parents, he is born in Bethlehem, and is visited by shepherds and wise...",
         "05.lip",
         484,
         null,
         null,
         null,
         null,
         13.0,
         5.0
        ],
        [
         "tt0002423",
         "Madame DuBarry",
         "Madame DuBarry",
         "1919",
         "26.11.1919",
         "Biography, Drama, Romance",
         85,
         "Germany",
         "German",
         "Ernst Lubitsch",
         "Norbert Falk, Hanns Kräly",
         "Projektions-AG Union (PAGU)",
         "Pola Negri, Emil Jannings, Harry Liedtke, Eduard von Winterstein, Reinhold Schünzel, Else Berna, Fred Immler, Gustav Czimeg, Karl Platen, Bernhard Goetzke, Magnus Stifter, Paul Biensfeldt, Willy Kaiser-Heyl, Alexander Ekert, Robert Sortsch-Pla",
         "The story of Madame DuBarry, the mistress of Louis XV of France, and her loves in the time of the French revolution.",
         "06.sie",
         753,
         null,
         null,
         null,
         null,
         12.0,
         9.0
        ],
        [
         "tt0002445",
         "Quo Vadis?",
         "Quo Vadis?",
         "1913",
         "01.03.1913",
         "Drama, History",
         120,
         "Italy",
         "Italian",
         "Enrico Guazzoni",
         "Henryk Sienkiewicz, Enrico Guazzoni",
         "Società Italiana Cines",
         "Amleto Novelli, Gustavo Serena, Carlo Cattaneo, Amelia Cattaneo, Lea Giunchi, Bruto Castellani, Augusto Mastripietri, Cesare Moltini, Olga Brandini, Ignazio Lupi, Giovanni Gizzi, Lia Orlandini, Matilde Guillaume, Ida Carloni Talli, Giuseppe Gambardella",
         "An epic Italian film Quo Vadis influenced many of the later movies.",
         "06.lut",
         273,
         "ITL 45000",
         null,
         null,
         null,
         7.0,
         5.0
        ],
        [
         "tt0002452",
         "Independenta Romaniei",
         "Independenta Romaniei",
         "1912",
         "01.09.1912",
         "History, War",
         120,
         "Romania",
         "Unknown language",
         "Aristide Demetriade, Grigore Brezeanu",
         "Aristide Demetriade, Petre Liciu",
         "Societatea Filmului de Arta Leon Popescu",
         "Aristide Demetriade, Constanta Demetriade, Constantin Nottara, Pepi Machauer, Aurel Athanasescu, Jeny Metaxa-Doro, Nicolae Soreanu, Vasile Toneanu, Aristita Romanescu, Elvire Popesco, M. Vîrgolici, C. Nedelcovici, Mihail Tancovici-Cosmin, Ion Dumitrescu, Gheorghe Meliseanu",
         "The movie depicts the Romanian War of Independence (1877-1878).",
         "06.lip",
         198,
         "ROL 400000",
         null,
         null,
         null,
         4.0,
         1.0
        ],
        [
         "tt0002461",
         "Richard III",
         "Richard III",
         "1912",
         "15.10.1912",
         "Drama",
         55,
         "France, USA",
         "English",
         "André Calmettes, James Keane",
         "James Keane, William Shakespeare",
         "Le Film d'Art",
         "Robert Gemp, Frederick Warde, Albert Gardner, James Keane, George Moss, Howard Stuart, Virginia Rankin, Violet Stuart, Carey Lee, Carlotta De Felice",
         "Richard of Gloucester uses manipulation and murder to gain the English throne.",
         "05.maj",
         225,
         "$ 30000",
         null,
         null,
         null,
         8.0,
         1.0
        ]
       ],
       "datasetInfos": [],
       "dbfsResultPath": null,
       "isJsonSchema": true,
       "metadata": {},
       "overflow": false,
       "plotOptions": {
        "customPlotOptions": {},
        "displayType": "table",
        "pivotAggregation": null,
        "pivotColumns": null,
        "xColumns": null,
        "yColumns": null
       },
       "removedWidgets": [],
       "schema": [
        {
         "metadata": "{}",
         "name": "imdb_title_id",
         "type": "\"string\""
        },
        {
         "metadata": "{}",
         "name": "title",
         "type": "\"string\""
        },
        {
         "metadata": "{}",
         "name": "original_title",
         "type": "\"string\""
        },
        {
         "metadata": "{}",
         "name": "year",
         "type": "\"string\""
        },
        {
         "metadata": "{}",
         "name": "date_published",
         "type": "\"string\""
        },
        {
         "metadata": "{}",
         "name": "genre",
         "type": "\"string\""
        },
        {
         "metadata": "{}",
         "name": "duration",
         "type": "\"integer\""
        },
        {
         "metadata": "{}",
         "name": "country",
         "type": "\"string\""
        },
        {
         "metadata": "{}",
         "name": "language",
         "type": "\"string\""
        },
        {
         "metadata": "{}",
         "name": "director",
         "type": "\"string\""
        },
        {
         "metadata": "{}",
         "name": "writer",
         "type": "\"string\""
        },
        {
         "metadata": "{}",
         "name": "production_company",
         "type": "\"string\""
        },
        {
         "metadata": "{}",
         "name": "actors",
         "type": "\"string\""
        },
        {
         "metadata": "{}",
         "name": "description",
         "type": "\"string\""
        },
        {
         "metadata": "{}",
         "name": "avg_vote",
         "type": "\"string\""
        },
        {
         "metadata": "{}",
         "name": "votes",
         "type": "\"integer\""
        },
        {
         "metadata": "{}",
         "name": "budget",
         "type": "\"string\""
        },
        {
         "metadata": "{}",
         "name": "usa_gross_income",
         "type": "\"string\""
        },
        {
         "metadata": "{}",
         "name": "worlwide_gross_income",
         "type": "\"string\""
        },
        {
         "metadata": "{}",
         "name": "metascore",
         "type": "\"double\""
        },
        {
         "metadata": "{}",
         "name": "reviews_from_users",
         "type": "\"double\""
        },
        {
         "metadata": "{}",
         "name": "reviews_from_critics",
         "type": "\"double\""
        }
       ],
       "type": "table"
      }
     },
     "output_type": "display_data"
    }
   ],
   "source": [
    "df_filled = df.na.fill({\n",
    "    \"language\": \"Unknown language\"\n",
    "})\n",
    "\n",
    "display(df_filled.limit(10))"
   ]
  },
  {
   "cell_type": "markdown",
   "metadata": {
    "application/vnd.databricks.v1+cell": {
     "cellMetadata": {
      "byteLimit": 2048000,
      "rowLimit": 10000
     },
     "inputWidgets": {},
     "nuid": "a96364bb-3ef4-4b86-b4ec-150f8538ea31",
     "showTitle": false,
     "tableResultSettingsMap": {},
     "title": ""
    }
   },
   "source": [
    "##### 1.3\n",
    "Użycie funkcji explode."
   ]
  },
  {
   "cell_type": "code",
   "execution_count": 0,
   "metadata": {
    "application/vnd.databricks.v1+cell": {
     "cellMetadata": {
      "byteLimit": 2048000,
      "rowLimit": 10000
     },
     "inputWidgets": {},
     "nuid": "c7230a16-516a-4e65-ae65-5d5bde61d1f3",
     "showTitle": false,
     "tableResultSettingsMap": {},
     "title": ""
    }
   },
   "outputs": [
    {
     "output_type": "display_data",
     "data": {
      "text/html": [
       "<style scoped>\n",
       "  .table-result-container {\n",
       "    max-height: 300px;\n",
       "    overflow: auto;\n",
       "  }\n",
       "  table, th, td {\n",
       "    border: 1px solid black;\n",
       "    border-collapse: collapse;\n",
       "  }\n",
       "  th, td {\n",
       "    padding: 5px;\n",
       "  }\n",
       "  th {\n",
       "    text-align: left;\n",
       "  }\n",
       "</style><div class='table-result-container'><table class='table-result'><thead style='background-color: white'><tr><th>imdb_title_id</th><th>title</th><th>actor</th></tr></thead><tbody><tr><td>tt0000009</td><td>Miss Jerry</td><td>Blanche Bayliss</td></tr><tr><td>tt0000009</td><td>Miss Jerry</td><td>William Courtenay</td></tr><tr><td>tt0000009</td><td>Miss Jerry</td><td>Chauncey Depew</td></tr><tr><td>tt0000574</td><td>The Story of the Kelly Gang</td><td>Elizabeth Tait</td></tr><tr><td>tt0000574</td><td>The Story of the Kelly Gang</td><td>John Tait</td></tr><tr><td>tt0000574</td><td>The Story of the Kelly Gang</td><td>Norman Campbell</td></tr><tr><td>tt0000574</td><td>The Story of the Kelly Gang</td><td>Bella Cola</td></tr><tr><td>tt0000574</td><td>The Story of the Kelly Gang</td><td>Will Coyne</td></tr><tr><td>tt0000574</td><td>The Story of the Kelly Gang</td><td>Sam Crewes</td></tr><tr><td>tt0000574</td><td>The Story of the Kelly Gang</td><td>Jack Ennis</td></tr></tbody></table></div>"
      ]
     },
     "metadata": {
      "application/vnd.databricks.v1+output": {
       "addedWidgets": {},
       "aggData": [],
       "aggError": "",
       "aggOverflow": false,
       "aggSchema": [],
       "aggSeriesLimitReached": false,
       "aggType": "",
       "arguments": {},
       "columnCustomDisplayInfos": {},
       "data": [
        [
         "tt0000009",
         "Miss Jerry",
         "Blanche Bayliss"
        ],
        [
         "tt0000009",
         "Miss Jerry",
         "William Courtenay"
        ],
        [
         "tt0000009",
         "Miss Jerry",
         "Chauncey Depew"
        ],
        [
         "tt0000574",
         "The Story of the Kelly Gang",
         "Elizabeth Tait"
        ],
        [
         "tt0000574",
         "The Story of the Kelly Gang",
         "John Tait"
        ],
        [
         "tt0000574",
         "The Story of the Kelly Gang",
         "Norman Campbell"
        ],
        [
         "tt0000574",
         "The Story of the Kelly Gang",
         "Bella Cola"
        ],
        [
         "tt0000574",
         "The Story of the Kelly Gang",
         "Will Coyne"
        ],
        [
         "tt0000574",
         "The Story of the Kelly Gang",
         "Sam Crewes"
        ],
        [
         "tt0000574",
         "The Story of the Kelly Gang",
         "Jack Ennis"
        ]
       ],
       "datasetInfos": [],
       "dbfsResultPath": null,
       "isJsonSchema": true,
       "metadata": {},
       "overflow": false,
       "plotOptions": {
        "customPlotOptions": {},
        "displayType": "table",
        "pivotAggregation": null,
        "pivotColumns": null,
        "xColumns": null,
        "yColumns": null
       },
       "removedWidgets": [],
       "schema": [
        {
         "metadata": "{}",
         "name": "imdb_title_id",
         "type": "\"string\""
        },
        {
         "metadata": "{}",
         "name": "title",
         "type": "\"string\""
        },
        {
         "metadata": "{}",
         "name": "actor",
         "type": "\"string\""
        }
       ],
       "type": "table"
      }
     },
     "output_type": "display_data"
    }
   ],
   "source": [
    "df = df.withColumn(\"actors\", split(col(\"actors\"), \",\\s*\"))\n",
    "df_exploded = df.withColumn(\"actor\", explode(col(\"actors\")))\n",
    "display(df_exploded.select(\"imdb_title_id\", \"title\", \"actor\").limit(10))"
   ]
  },
  {
   "cell_type": "markdown",
   "metadata": {
    "application/vnd.databricks.v1+cell": {
     "cellMetadata": {
      "byteLimit": 2048000,
      "rowLimit": 10000
     },
     "inputWidgets": {},
     "nuid": "fc13a103-0b93-4ce0-8b7e-8f48e8fa7f9f",
     "showTitle": false,
     "tableResultSettingsMap": {},
     "title": ""
    }
   },
   "source": [
    "##### 1.4\n",
    "Użycie funkcji drop."
   ]
  },
  {
   "cell_type": "code",
   "execution_count": 0,
   "metadata": {
    "application/vnd.databricks.v1+cell": {
     "cellMetadata": {
      "byteLimit": 2048000,
      "rowLimit": 10000
     },
     "inputWidgets": {},
     "nuid": "c9d35f9d-6bc9-48fe-bf68-997560d7cedc",
     "showTitle": false,
     "tableResultSettingsMap": {},
     "title": ""
    }
   },
   "outputs": [
    {
     "output_type": "stream",
     "name": "stdout",
     "output_type": "stream",
     "text": [
      "root\n |-- imdb_title_id: string (nullable = true)\n |-- title: string (nullable = true)\n |-- original_title: string (nullable = true)\n |-- year: string (nullable = true)\n |-- date_published: string (nullable = true)\n |-- genre: string (nullable = true)\n |-- duration: integer (nullable = true)\n |-- country: string (nullable = true)\n |-- language: string (nullable = true)\n |-- director: string (nullable = true)\n |-- writer: string (nullable = true)\n |-- production_company: string (nullable = true)\n |-- actors: array (nullable = true)\n |    |-- element: string (containsNull = false)\n |-- description: string (nullable = true)\n |-- avg_vote: string (nullable = true)\n |-- budget: string (nullable = true)\n |-- usa_gross_income: string (nullable = true)\n |-- worlwide_gross_income: string (nullable = true)\n |-- metascore: double (nullable = true)\n |-- reviews_from_users: double (nullable = true)\n |-- reviews_from_critics: double (nullable = true)\n\n"
     ]
    },
    {
     "output_type": "display_data",
     "data": {
      "text/html": [
       "<style scoped>\n",
       "  .table-result-container {\n",
       "    max-height: 300px;\n",
       "    overflow: auto;\n",
       "  }\n",
       "  table, th, td {\n",
       "    border: 1px solid black;\n",
       "    border-collapse: collapse;\n",
       "  }\n",
       "  th, td {\n",
       "    padding: 5px;\n",
       "  }\n",
       "  th {\n",
       "    text-align: left;\n",
       "  }\n",
       "</style><div class='table-result-container'><table class='table-result'><thead style='background-color: white'><tr><th>imdb_title_id</th><th>title</th><th>original_title</th><th>year</th><th>date_published</th><th>genre</th><th>duration</th><th>country</th><th>language</th><th>director</th><th>writer</th><th>production_company</th><th>actors</th><th>description</th><th>avg_vote</th><th>budget</th><th>usa_gross_income</th><th>worlwide_gross_income</th><th>metascore</th><th>reviews_from_users</th><th>reviews_from_critics</th></tr></thead><tbody><tr><td>tt0000009</td><td>Miss Jerry</td><td>Miss Jerry</td><td>1894</td><td>1894-10-09</td><td>Romance</td><td>45</td><td>USA</td><td>None</td><td>Alexander Black</td><td>Alexander Black</td><td>Alexander Black Photoplays</td><td>List(Blanche Bayliss, William Courtenay, Chauncey Depew)</td><td>The adventures of a female reporter in the 1890s.</td><td>05.wrz</td><td>null</td><td>null</td><td>null</td><td>null</td><td>1.0</td><td>2.0</td></tr><tr><td>tt0000574</td><td>The Story of the Kelly Gang</td><td>The Story of the Kelly Gang</td><td>1906</td><td>26.12.1906</td><td>Biography, Crime, Drama</td><td>70</td><td>Australia</td><td>None</td><td>Charles Tait</td><td>Charles Tait</td><td>J. and N. Tait</td><td>List(Elizabeth Tait, John Tait, Norman Campbell, Bella Cola, Will Coyne, Sam Crewes, Jack Ennis, John Forde, Vera Linden, Mr. Marshall, Mr. McKenzie, Frank Mills, Ollie Wilson)</td><td>True story of notorious Australian outlaw Ned Kelly (1855-80).</td><td>06.sty</td><td>$ 2250</td><td>null</td><td>null</td><td>null</td><td>7.0</td><td>7.0</td></tr><tr><td>tt0001892</td><td>Den sorte drøm</td><td>Den sorte drøm</td><td>1911</td><td>19.08.1911</td><td>Drama</td><td>53</td><td>Germany, Denmark</td><td>null</td><td>Urban Gad</td><td>Urban Gad, Gebhard Schätzler-Perasini</td><td>Fotorama</td><td>List(Asta Nielsen, Valdemar Psilander, Gunnar Helsengreen, Emil Albes, Hugo Flink, Mary Hagen)</td><td>Two men of high rank are both wooing the beautiful and famous equestrian acrobat Stella. While Stella ignores the jeweler Hirsch, she accepts Count von Waldberg's offer to follow her home, ...</td><td>05.sie</td><td>null</td><td>null</td><td>null</td><td>null</td><td>5.0</td><td>2.0</td></tr><tr><td>tt0002101</td><td>Cleopatra</td><td>Cleopatra</td><td>1912</td><td>13.11.1912</td><td>Drama, History</td><td>100</td><td>USA</td><td>English</td><td>Charles L. Gaskill</td><td>Victorien Sardou</td><td>Helen Gardner Picture Players</td><td>List(Helen Gardner, Pearl Sindelar, Miss Fielding, Miss Robson, Helene Costello, Charles Sindelar, Mr. Howard, James R. Waite, Mr. Osborne, Harry Knowles, Mr. Paul, Mr. Brady, Mr. Corker)</td><td>The fabled queen of Egypt's affair with Roman general Marc Antony is ultimately disastrous for both of them.</td><td>05.lut</td><td>$ 45000</td><td>null</td><td>null</td><td>null</td><td>25.0</td><td>3.0</td></tr><tr><td>tt0002130</td><td>L'Inferno</td><td>L'Inferno</td><td>1911</td><td>06.03.1911</td><td>Adventure, Drama, Fantasy</td><td>68</td><td>Italy</td><td>Italian</td><td>Francesco Bertolini, Adolfo Padovan</td><td>Dante Alighieri</td><td>Milano Film</td><td>List(Salvatore Papa, Arturo Pirovano, Giuseppe de Liguoro, Pier Delle Vigne, Augusto Milla, Attilio Motta, Emilise Beretta)</td><td>Loosely adapted from Dante's Divine Comedy and inspired by the illustrations of Gustav Doré the original silent film has been restored and has a new score by Tangerine Dream.</td><td>7.0</td><td>null</td><td>null</td><td>null</td><td>null</td><td>31.0</td><td>14.0</td></tr><tr><td>tt0002199</td><td>From the Manger to the Cross or, Jesus of Nazareth</td><td>From the Manger to the Cross or, Jesus of Nazareth</td><td>1912</td><td>1913</td><td>Biography, Drama</td><td>60</td><td>USA</td><td>English</td><td>Sidney Olcott</td><td>Gene Gauntier</td><td>Kalem Company</td><td>List(R. Henderson Bland, Percy Dyer, Gene Gauntier, Alice Hollister, Samuel Morgan, James D. Ainsley, Robert G. Vignola, George Kellog, J.P. McGowan)</td><td>An account of the life of Jesus Christ, based on the books of the New Testament: After Jesus' birth is foretold to his parents, he is born in Bethlehem, and is visited by shepherds and wise...</td><td>05.lip</td><td>null</td><td>null</td><td>null</td><td>null</td><td>13.0</td><td>5.0</td></tr><tr><td>tt0002423</td><td>Madame DuBarry</td><td>Madame DuBarry</td><td>1919</td><td>26.11.1919</td><td>Biography, Drama, Romance</td><td>85</td><td>Germany</td><td>German</td><td>Ernst Lubitsch</td><td>Norbert Falk, Hanns Kräly</td><td>Projektions-AG Union (PAGU)</td><td>List(Pola Negri, Emil Jannings, Harry Liedtke, Eduard von Winterstein, Reinhold Schünzel, Else Berna, Fred Immler, Gustav Czimeg, Karl Platen, Bernhard Goetzke, Magnus Stifter, Paul Biensfeldt, Willy Kaiser-Heyl, Alexander Ekert, Robert Sortsch-Pla)</td><td>The story of Madame DuBarry, the mistress of Louis XV of France, and her loves in the time of the French revolution.</td><td>06.sie</td><td>null</td><td>null</td><td>null</td><td>null</td><td>12.0</td><td>9.0</td></tr><tr><td>tt0002445</td><td>Quo Vadis?</td><td>Quo Vadis?</td><td>1913</td><td>01.03.1913</td><td>Drama, History</td><td>120</td><td>Italy</td><td>Italian</td><td>Enrico Guazzoni</td><td>Henryk Sienkiewicz, Enrico Guazzoni</td><td>Società Italiana Cines</td><td>List(Amleto Novelli, Gustavo Serena, Carlo Cattaneo, Amelia Cattaneo, Lea Giunchi, Bruto Castellani, Augusto Mastripietri, Cesare Moltini, Olga Brandini, Ignazio Lupi, Giovanni Gizzi, Lia Orlandini, Matilde Guillaume, Ida Carloni Talli, Giuseppe Gambardella)</td><td>An epic Italian film Quo Vadis influenced many of the later movies.</td><td>06.lut</td><td>ITL 45000</td><td>null</td><td>null</td><td>null</td><td>7.0</td><td>5.0</td></tr><tr><td>tt0002452</td><td>Independenta Romaniei</td><td>Independenta Romaniei</td><td>1912</td><td>01.09.1912</td><td>History, War</td><td>120</td><td>Romania</td><td>null</td><td>Aristide Demetriade, Grigore Brezeanu</td><td>Aristide Demetriade, Petre Liciu</td><td>Societatea Filmului de Arta Leon Popescu</td><td>List(Aristide Demetriade, Constanta Demetriade, Constantin Nottara, Pepi Machauer, Aurel Athanasescu, Jeny Metaxa-Doro, Nicolae Soreanu, Vasile Toneanu, Aristita Romanescu, Elvire Popesco, M. Vîrgolici, C. Nedelcovici, Mihail Tancovici-Cosmin, Ion Dumitrescu, Gheorghe Meliseanu)</td><td>The movie depicts the Romanian War of Independence (1877-1878).</td><td>06.lip</td><td>ROL 400000</td><td>null</td><td>null</td><td>null</td><td>4.0</td><td>1.0</td></tr><tr><td>tt0002461</td><td>Richard III</td><td>Richard III</td><td>1912</td><td>15.10.1912</td><td>Drama</td><td>55</td><td>France, USA</td><td>English</td><td>André Calmettes, James Keane</td><td>James Keane, William Shakespeare</td><td>Le Film d'Art</td><td>List(Robert Gemp, Frederick Warde, Albert Gardner, James Keane, George Moss, Howard Stuart, Virginia Rankin, Violet Stuart, Carey Lee, Carlotta De Felice)</td><td>Richard of Gloucester uses manipulation and murder to gain the English throne.</td><td>05.maj</td><td>$ 30000</td><td>null</td><td>null</td><td>null</td><td>8.0</td><td>1.0</td></tr></tbody></table></div>"
      ]
     },
     "metadata": {
      "application/vnd.databricks.v1+output": {
       "addedWidgets": {},
       "aggData": [],
       "aggError": "",
       "aggOverflow": false,
       "aggSchema": [],
       "aggSeriesLimitReached": false,
       "aggType": "",
       "arguments": {},
       "columnCustomDisplayInfos": {},
       "data": [
        [
         "tt0000009",
         "Miss Jerry",
         "Miss Jerry",
         "1894",
         "1894-10-09",
         "Romance",
         45,
         "USA",
         "None",
         "Alexander Black",
         "Alexander Black",
         "Alexander Black Photoplays",
         [
          "Blanche Bayliss",
          "William Courtenay",
          "Chauncey Depew"
         ],
         "The adventures of a female reporter in the 1890s.",
         "05.wrz",
         null,
         null,
         null,
         null,
         1.0,
         2.0
        ],
        [
         "tt0000574",
         "The Story of the Kelly Gang",
         "The Story of the Kelly Gang",
         "1906",
         "26.12.1906",
         "Biography, Crime, Drama",
         70,
         "Australia",
         "None",
         "Charles Tait",
         "Charles Tait",
         "J. and N. Tait",
         [
          "Elizabeth Tait",
          "John Tait",
          "Norman Campbell",
          "Bella Cola",
          "Will Coyne",
          "Sam Crewes",
          "Jack Ennis",
          "John Forde",
          "Vera Linden",
          "Mr. Marshall",
          "Mr. McKenzie",
          "Frank Mills",
          "Ollie Wilson"
         ],
         "True story of notorious Australian outlaw Ned Kelly (1855-80).",
         "06.sty",
         "$ 2250",
         null,
         null,
         null,
         7.0,
         7.0
        ],
        [
         "tt0001892",
         "Den sorte drøm",
         "Den sorte drøm",
         "1911",
         "19.08.1911",
         "Drama",
         53,
         "Germany, Denmark",
         null,
         "Urban Gad",
         "Urban Gad, Gebhard Schätzler-Perasini",
         "Fotorama",
         [
          "Asta Nielsen",
          "Valdemar Psilander",
          "Gunnar Helsengreen",
          "Emil Albes",
          "Hugo Flink",
          "Mary Hagen"
         ],
         "Two men of high rank are both wooing the beautiful and famous equestrian acrobat Stella. While Stella ignores the jeweler Hirsch, she accepts Count von Waldberg's offer to follow her home, ...",
         "05.sie",
         null,
         null,
         null,
         null,
         5.0,
         2.0
        ],
        [
         "tt0002101",
         "Cleopatra",
         "Cleopatra",
         "1912",
         "13.11.1912",
         "Drama, History",
         100,
         "USA",
         "English",
         "Charles L. Gaskill",
         "Victorien Sardou",
         "Helen Gardner Picture Players",
         [
          "Helen Gardner",
          "Pearl Sindelar",
          "Miss Fielding",
          "Miss Robson",
          "Helene Costello",
          "Charles Sindelar",
          "Mr. Howard",
          "James R. Waite",
          "Mr. Osborne",
          "Harry Knowles",
          "Mr. Paul",
          "Mr. Brady",
          "Mr. Corker"
         ],
         "The fabled queen of Egypt's affair with Roman general Marc Antony is ultimately disastrous for both of them.",
         "05.lut",
         "$ 45000",
         null,
         null,
         null,
         25.0,
         3.0
        ],
        [
         "tt0002130",
         "L'Inferno",
         "L'Inferno",
         "1911",
         "06.03.1911",
         "Adventure, Drama, Fantasy",
         68,
         "Italy",
         "Italian",
         "Francesco Bertolini, Adolfo Padovan",
         "Dante Alighieri",
         "Milano Film",
         [
          "Salvatore Papa",
          "Arturo Pirovano",
          "Giuseppe de Liguoro",
          "Pier Delle Vigne",
          "Augusto Milla",
          "Attilio Motta",
          "Emilise Beretta"
         ],
         "Loosely adapted from Dante's Divine Comedy and inspired by the illustrations of Gustav Doré the original silent film has been restored and has a new score by Tangerine Dream.",
         "7.0",
         null,
         null,
         null,
         null,
         31.0,
         14.0
        ],
        [
         "tt0002199",
         "From the Manger to the Cross or, Jesus of Nazareth",
         "From the Manger to the Cross or, Jesus of Nazareth",
         "1912",
         "1913",
         "Biography, Drama",
         60,
         "USA",
         "English",
         "Sidney Olcott",
         "Gene Gauntier",
         "Kalem Company",
         [
          "R. Henderson Bland",
          "Percy Dyer",
          "Gene Gauntier",
          "Alice Hollister",
          "Samuel Morgan",
          "James D. Ainsley",
          "Robert G. Vignola",
          "George Kellog",
          "J.P. McGowan"
         ],
         "An account of the life of Jesus Christ, based on the books of the New Testament: After Jesus' birth is foretold to his parents, he is born in Bethlehem, and is visited by shepherds and wise...",
         "05.lip",
         null,
         null,
         null,
         null,
         13.0,
         5.0
        ],
        [
         "tt0002423",
         "Madame DuBarry",
         "Madame DuBarry",
         "1919",
         "26.11.1919",
         "Biography, Drama, Romance",
         85,
         "Germany",
         "German",
         "Ernst Lubitsch",
         "Norbert Falk, Hanns Kräly",
         "Projektions-AG Union (PAGU)",
         [
          "Pola Negri",
          "Emil Jannings",
          "Harry Liedtke",
          "Eduard von Winterstein",
          "Reinhold Schünzel",
          "Else Berna",
          "Fred Immler",
          "Gustav Czimeg",
          "Karl Platen",
          "Bernhard Goetzke",
          "Magnus Stifter",
          "Paul Biensfeldt",
          "Willy Kaiser-Heyl",
          "Alexander Ekert",
          "Robert Sortsch-Pla"
         ],
         "The story of Madame DuBarry, the mistress of Louis XV of France, and her loves in the time of the French revolution.",
         "06.sie",
         null,
         null,
         null,
         null,
         12.0,
         9.0
        ],
        [
         "tt0002445",
         "Quo Vadis?",
         "Quo Vadis?",
         "1913",
         "01.03.1913",
         "Drama, History",
         120,
         "Italy",
         "Italian",
         "Enrico Guazzoni",
         "Henryk Sienkiewicz, Enrico Guazzoni",
         "Società Italiana Cines",
         [
          "Amleto Novelli",
          "Gustavo Serena",
          "Carlo Cattaneo",
          "Amelia Cattaneo",
          "Lea Giunchi",
          "Bruto Castellani",
          "Augusto Mastripietri",
          "Cesare Moltini",
          "Olga Brandini",
          "Ignazio Lupi",
          "Giovanni Gizzi",
          "Lia Orlandini",
          "Matilde Guillaume",
          "Ida Carloni Talli",
          "Giuseppe Gambardella"
         ],
         "An epic Italian film Quo Vadis influenced many of the later movies.",
         "06.lut",
         "ITL 45000",
         null,
         null,
         null,
         7.0,
         5.0
        ],
        [
         "tt0002452",
         "Independenta Romaniei",
         "Independenta Romaniei",
         "1912",
         "01.09.1912",
         "History, War",
         120,
         "Romania",
         null,
         "Aristide Demetriade, Grigore Brezeanu",
         "Aristide Demetriade, Petre Liciu",
         "Societatea Filmului de Arta Leon Popescu",
         [
          "Aristide Demetriade",
          "Constanta Demetriade",
          "Constantin Nottara",
          "Pepi Machauer",
          "Aurel Athanasescu",
          "Jeny Metaxa-Doro",
          "Nicolae Soreanu",
          "Vasile Toneanu",
          "Aristita Romanescu",
          "Elvire Popesco",
          "M. Vîrgolici",
          "C. Nedelcovici",
          "Mihail Tancovici-Cosmin",
          "Ion Dumitrescu",
          "Gheorghe Meliseanu"
         ],
         "The movie depicts the Romanian War of Independence (1877-1878).",
         "06.lip",
         "ROL 400000",
         null,
         null,
         null,
         4.0,
         1.0
        ],
        [
         "tt0002461",
         "Richard III",
         "Richard III",
         "1912",
         "15.10.1912",
         "Drama",
         55,
         "France, USA",
         "English",
         "André Calmettes, James Keane",
         "James Keane, William Shakespeare",
         "Le Film d'Art",
         [
          "Robert Gemp",
          "Frederick Warde",
          "Albert Gardner",
          "James Keane",
          "George Moss",
          "Howard Stuart",
          "Virginia Rankin",
          "Violet Stuart",
          "Carey Lee",
          "Carlotta De Felice"
         ],
         "Richard of Gloucester uses manipulation and murder to gain the English throne.",
         "05.maj",
         "$ 30000",
         null,
         null,
         null,
         8.0,
         1.0
        ]
       ],
       "datasetInfos": [],
       "dbfsResultPath": null,
       "isJsonSchema": true,
       "metadata": {},
       "overflow": false,
       "plotOptions": {
        "customPlotOptions": {},
        "displayType": "table",
        "pivotAggregation": null,
        "pivotColumns": null,
        "xColumns": null,
        "yColumns": null
       },
       "removedWidgets": [],
       "schema": [
        {
         "metadata": "{}",
         "name": "imdb_title_id",
         "type": "\"string\""
        },
        {
         "metadata": "{}",
         "name": "title",
         "type": "\"string\""
        },
        {
         "metadata": "{}",
         "name": "original_title",
         "type": "\"string\""
        },
        {
         "metadata": "{}",
         "name": "year",
         "type": "\"string\""
        },
        {
         "metadata": "{}",
         "name": "date_published",
         "type": "\"string\""
        },
        {
         "metadata": "{}",
         "name": "genre",
         "type": "\"string\""
        },
        {
         "metadata": "{}",
         "name": "duration",
         "type": "\"integer\""
        },
        {
         "metadata": "{}",
         "name": "country",
         "type": "\"string\""
        },
        {
         "metadata": "{}",
         "name": "language",
         "type": "\"string\""
        },
        {
         "metadata": "{}",
         "name": "director",
         "type": "\"string\""
        },
        {
         "metadata": "{}",
         "name": "writer",
         "type": "\"string\""
        },
        {
         "metadata": "{}",
         "name": "production_company",
         "type": "\"string\""
        },
        {
         "metadata": "{}",
         "name": "actors",
         "type": "{\"type\":\"array\",\"elementType\":\"string\",\"containsNull\":false}"
        },
        {
         "metadata": "{}",
         "name": "description",
         "type": "\"string\""
        },
        {
         "metadata": "{}",
         "name": "avg_vote",
         "type": "\"string\""
        },
        {
         "metadata": "{}",
         "name": "budget",
         "type": "\"string\""
        },
        {
         "metadata": "{}",
         "name": "usa_gross_income",
         "type": "\"string\""
        },
        {
         "metadata": "{}",
         "name": "worlwide_gross_income",
         "type": "\"string\""
        },
        {
         "metadata": "{}",
         "name": "metascore",
         "type": "\"double\""
        },
        {
         "metadata": "{}",
         "name": "reviews_from_users",
         "type": "\"double\""
        },
        {
         "metadata": "{}",
         "name": "reviews_from_critics",
         "type": "\"double\""
        }
       ],
       "type": "table"
      }
     },
     "output_type": "display_data"
    }
   ],
   "source": [
    "df_dropped = df.drop(\"votes\")\n",
    "df_dropped.printSchema()\n",
    "display(df_dropped.limit(10))"
   ]
  },
  {
   "cell_type": "markdown",
   "metadata": {
    "application/vnd.databricks.v1+cell": {
     "cellMetadata": {
      "byteLimit": 2048000,
      "rowLimit": 10000
     },
     "inputWidgets": {},
     "nuid": "bd49f99f-dd4a-44c6-9387-c73bec20fc12",
     "showTitle": false,
     "tableResultSettingsMap": {},
     "title": ""
    }
   },
   "source": [
    "##### 1.5\n",
    "Użycie funkcji regexp_replace."
   ]
  },
  {
   "cell_type": "code",
   "execution_count": 0,
   "metadata": {
    "application/vnd.databricks.v1+cell": {
     "cellMetadata": {
      "byteLimit": 2048000,
      "rowLimit": 10000
     },
     "inputWidgets": {},
     "nuid": "15910579-8f03-4402-a8b2-75887412bde6",
     "showTitle": false,
     "tableResultSettingsMap": {},
     "title": ""
    }
   },
   "outputs": [
    {
     "output_type": "display_data",
     "data": {
      "text/html": [
       "<style scoped>\n",
       "  .table-result-container {\n",
       "    max-height: 300px;\n",
       "    overflow: auto;\n",
       "  }\n",
       "  table, th, td {\n",
       "    border: 1px solid black;\n",
       "    border-collapse: collapse;\n",
       "  }\n",
       "  th, td {\n",
       "    padding: 5px;\n",
       "  }\n",
       "  th {\n",
       "    text-align: left;\n",
       "  }\n",
       "</style><div class='table-result-container'><table class='table-result'><thead style='background-color: white'><tr><th>actors</th></tr></thead><tbody><tr><td>blanche bayliss, william courtenay, chauncey depew</td></tr><tr><td>elizabeth tait, john tait, norman campbell, bella cola, will coyne, sam crewes, jack ennis, john forde, vera linden, mr. marshall, mr. mckenzie, frank mills, ollie wilson</td></tr><tr><td>asta nielsen, valdemar psilander, gunnar helsengreen, emil albes, hugo flink, mary hagen</td></tr><tr><td>helen gardner, pearl sindelar, miss fielding, miss robson, helene costello, charles sindelar, mr. howard, james r. waite, mr. osborne, harry knowles, mr. paul, mr. brady, mr. corker</td></tr><tr><td>salvatore papa, arturo pirovano, giuseppe de liguoro, pier delle vigne, augusto milla, attilio motta, emilise beretta</td></tr><tr><td>r. henderson bland, percy dyer, gene gauntier, alice hollister, samuel morgan, james d. ainsley, robert g. vignola, george kellog, j.p. mcgowan</td></tr><tr><td>pola negri, emil jannings, harry liedtke, eduard von winterstein, reinhold schünzel, else berna, fred immler, gustav czimeg, karl platen, bernhard goetzke, magnus stifter, paul biensfeldt, willy kaiser-heyl, alexander ekert, robert sortsch-pla</td></tr><tr><td>amleto novelli, gustavo serena, carlo cattaneo, amelia cattaneo, lea giunchi, bruto castellani, augusto mastripietri, cesare moltini, olga brandini, ignazio lupi, giovanni gizzi, lia orlandini, matilde guillaume, ida carloni talli, giuseppe gambardella</td></tr><tr><td>aristide demetriade, constanta demetriade, constantin nottara, pepi machauer, aurel athanasescu, jeny metaxa-doro, nicolae soreanu, vasile toneanu, aristita romanescu, elvire popesco, m. vîrgolici, c. nedelcovici, mihail tancovici-cosmin, ion dumitrescu, gheorghe meliseanu</td></tr><tr><td>robert gemp, frederick warde, albert gardner, james keane, george moss, howard stuart, virginia rankin, violet stuart, carey lee, carlotta de felice</td></tr></tbody></table></div>"
      ]
     },
     "metadata": {
      "application/vnd.databricks.v1+output": {
       "addedWidgets": {},
       "aggData": [],
       "aggError": "",
       "aggOverflow": false,
       "aggSchema": [],
       "aggSeriesLimitReached": false,
       "aggType": "",
       "arguments": {},
       "columnCustomDisplayInfos": {},
       "data": [
        [
         "blanche bayliss, william courtenay, chauncey depew"
        ],
        [
         "elizabeth tait, john tait, norman campbell, bella cola, will coyne, sam crewes, jack ennis, john forde, vera linden, mr. marshall, mr. mckenzie, frank mills, ollie wilson"
        ],
        [
         "asta nielsen, valdemar psilander, gunnar helsengreen, emil albes, hugo flink, mary hagen"
        ],
        [
         "helen gardner, pearl sindelar, miss fielding, miss robson, helene costello, charles sindelar, mr. howard, james r. waite, mr. osborne, harry knowles, mr. paul, mr. brady, mr. corker"
        ],
        [
         "salvatore papa, arturo pirovano, giuseppe de liguoro, pier delle vigne, augusto milla, attilio motta, emilise beretta"
        ],
        [
         "r. henderson bland, percy dyer, gene gauntier, alice hollister, samuel morgan, james d. ainsley, robert g. vignola, george kellog, j.p. mcgowan"
        ],
        [
         "pola negri, emil jannings, harry liedtke, eduard von winterstein, reinhold schünzel, else berna, fred immler, gustav czimeg, karl platen, bernhard goetzke, magnus stifter, paul biensfeldt, willy kaiser-heyl, alexander ekert, robert sortsch-pla"
        ],
        [
         "amleto novelli, gustavo serena, carlo cattaneo, amelia cattaneo, lea giunchi, bruto castellani, augusto mastripietri, cesare moltini, olga brandini, ignazio lupi, giovanni gizzi, lia orlandini, matilde guillaume, ida carloni talli, giuseppe gambardella"
        ],
        [
         "aristide demetriade, constanta demetriade, constantin nottara, pepi machauer, aurel athanasescu, jeny metaxa-doro, nicolae soreanu, vasile toneanu, aristita romanescu, elvire popesco, m. vîrgolici, c. nedelcovici, mihail tancovici-cosmin, ion dumitrescu, gheorghe meliseanu"
        ],
        [
         "robert gemp, frederick warde, albert gardner, james keane, george moss, howard stuart, virginia rankin, violet stuart, carey lee, carlotta de felice"
        ]
       ],
       "datasetInfos": [],
       "dbfsResultPath": null,
       "isJsonSchema": true,
       "metadata": {},
       "overflow": false,
       "plotOptions": {
        "customPlotOptions": {},
        "displayType": "table",
        "pivotAggregation": null,
        "pivotColumns": null,
        "xColumns": null,
        "yColumns": null
       },
       "removedWidgets": [],
       "schema": [
        {
         "metadata": "{}",
         "name": "actors",
         "type": "\"string\""
        }
       ],
       "type": "table"
      }
     },
     "output_type": "display_data"
    }
   ],
   "source": [
    "df_modified = df.withColumn(\"actors\", concat_ws(\", \", col(\"actors\")))\n",
    "df_modified = df_modified.withColumn(\"actors\", regexp_replace(col(\"actors\"), \"Jr\\.\", \"Junior\"))\n",
    "df_modified = df_modified.withColumn(\"actors\", lower(col(\"actors\")))\n",
    "display(df_modified.select(\"actors\").limit(10))\n"
   ]
  },
  {
   "cell_type": "markdown",
   "metadata": {
    "application/vnd.databricks.v1+cell": {
     "cellMetadata": {
      "byteLimit": 2048000,
      "rowLimit": 10000
     },
     "inputWidgets": {},
     "nuid": "bf1b192e-cebf-4c00-a8ec-339ac9cedb40",
     "showTitle": false,
     "tableResultSettingsMap": {},
     "title": ""
    }
   },
   "source": [
    "##### 1.6\n",
    "Użycie funkcji regexp_extract."
   ]
  },
  {
   "cell_type": "code",
   "execution_count": 0,
   "metadata": {
    "application/vnd.databricks.v1+cell": {
     "cellMetadata": {
      "byteLimit": 2048000,
      "rowLimit": 10000
     },
     "inputWidgets": {},
     "nuid": "654fa549-f5af-4f1d-919c-3092906d13b9",
     "showTitle": false,
     "tableResultSettingsMap": {},
     "title": ""
    }
   },
   "outputs": [
    {
     "output_type": "display_data",
     "data": {
      "text/html": [
       "<style scoped>\n",
       "  .table-result-container {\n",
       "    max-height: 300px;\n",
       "    overflow: auto;\n",
       "  }\n",
       "  table, th, td {\n",
       "    border: 1px solid black;\n",
       "    border-collapse: collapse;\n",
       "  }\n",
       "  th, td {\n",
       "    padding: 5px;\n",
       "  }\n",
       "  th {\n",
       "    text-align: left;\n",
       "  }\n",
       "</style><div class='table-result-container'><table class='table-result'><thead style='background-color: white'><tr><th>actors_string</th><th>first_actor</th></tr></thead><tbody><tr><td>Blanche Bayliss, William Courtenay, Chauncey Depew</td><td>Blanche Bayliss</td></tr><tr><td>Elizabeth Tait, John Tait, Norman Campbell, Bella Cola, Will Coyne, Sam Crewes, Jack Ennis, John Forde, Vera Linden, Mr. Marshall, Mr. McKenzie, Frank Mills, Ollie Wilson</td><td>Elizabeth Tait</td></tr><tr><td>Asta Nielsen, Valdemar Psilander, Gunnar Helsengreen, Emil Albes, Hugo Flink, Mary Hagen</td><td>Asta Nielsen</td></tr><tr><td>Helen Gardner, Pearl Sindelar, Miss Fielding, Miss Robson, Helene Costello, Charles Sindelar, Mr. Howard, James R. Waite, Mr. Osborne, Harry Knowles, Mr. Paul, Mr. Brady, Mr. Corker</td><td>Helen Gardner</td></tr><tr><td>Salvatore Papa, Arturo Pirovano, Giuseppe de Liguoro, Pier Delle Vigne, Augusto Milla, Attilio Motta, Emilise Beretta</td><td>Salvatore Papa</td></tr><tr><td>R. Henderson Bland, Percy Dyer, Gene Gauntier, Alice Hollister, Samuel Morgan, James D. Ainsley, Robert G. Vignola, George Kellog, J.P. McGowan</td><td>R. Henderson Bland</td></tr><tr><td>Pola Negri, Emil Jannings, Harry Liedtke, Eduard von Winterstein, Reinhold Schünzel, Else Berna, Fred Immler, Gustav Czimeg, Karl Platen, Bernhard Goetzke, Magnus Stifter, Paul Biensfeldt, Willy Kaiser-Heyl, Alexander Ekert, Robert Sortsch-Pla</td><td>Pola Negri</td></tr><tr><td>Amleto Novelli, Gustavo Serena, Carlo Cattaneo, Amelia Cattaneo, Lea Giunchi, Bruto Castellani, Augusto Mastripietri, Cesare Moltini, Olga Brandini, Ignazio Lupi, Giovanni Gizzi, Lia Orlandini, Matilde Guillaume, Ida Carloni Talli, Giuseppe Gambardella</td><td>Amleto Novelli</td></tr><tr><td>Aristide Demetriade, Constanta Demetriade, Constantin Nottara, Pepi Machauer, Aurel Athanasescu, Jeny Metaxa-Doro, Nicolae Soreanu, Vasile Toneanu, Aristita Romanescu, Elvire Popesco, M. Vîrgolici, C. Nedelcovici, Mihail Tancovici-Cosmin, Ion Dumitrescu, Gheorghe Meliseanu</td><td>Aristide Demetriade</td></tr><tr><td>Robert Gemp, Frederick Warde, Albert Gardner, James Keane, George Moss, Howard Stuart, Virginia Rankin, Violet Stuart, Carey Lee, Carlotta De Felice</td><td>Robert Gemp</td></tr></tbody></table></div>"
      ]
     },
     "metadata": {
      "application/vnd.databricks.v1+output": {
       "addedWidgets": {},
       "aggData": [],
       "aggError": "",
       "aggOverflow": false,
       "aggSchema": [],
       "aggSeriesLimitReached": false,
       "aggType": "",
       "arguments": {},
       "columnCustomDisplayInfos": {},
       "data": [
        [
         "Blanche Bayliss, William Courtenay, Chauncey Depew",
         "Blanche Bayliss"
        ],
        [
         "Elizabeth Tait, John Tait, Norman Campbell, Bella Cola, Will Coyne, Sam Crewes, Jack Ennis, John Forde, Vera Linden, Mr. Marshall, Mr. McKenzie, Frank Mills, Ollie Wilson",
         "Elizabeth Tait"
        ],
        [
         "Asta Nielsen, Valdemar Psilander, Gunnar Helsengreen, Emil Albes, Hugo Flink, Mary Hagen",
         "Asta Nielsen"
        ],
        [
         "Helen Gardner, Pearl Sindelar, Miss Fielding, Miss Robson, Helene Costello, Charles Sindelar, Mr. Howard, James R. Waite, Mr. Osborne, Harry Knowles, Mr. Paul, Mr. Brady, Mr. Corker",
         "Helen Gardner"
        ],
        [
         "Salvatore Papa, Arturo Pirovano, Giuseppe de Liguoro, Pier Delle Vigne, Augusto Milla, Attilio Motta, Emilise Beretta",
         "Salvatore Papa"
        ],
        [
         "R. Henderson Bland, Percy Dyer, Gene Gauntier, Alice Hollister, Samuel Morgan, James D. Ainsley, Robert G. Vignola, George Kellog, J.P. McGowan",
         "R. Henderson Bland"
        ],
        [
         "Pola Negri, Emil Jannings, Harry Liedtke, Eduard von Winterstein, Reinhold Schünzel, Else Berna, Fred Immler, Gustav Czimeg, Karl Platen, Bernhard Goetzke, Magnus Stifter, Paul Biensfeldt, Willy Kaiser-Heyl, Alexander Ekert, Robert Sortsch-Pla",
         "Pola Negri"
        ],
        [
         "Amleto Novelli, Gustavo Serena, Carlo Cattaneo, Amelia Cattaneo, Lea Giunchi, Bruto Castellani, Augusto Mastripietri, Cesare Moltini, Olga Brandini, Ignazio Lupi, Giovanni Gizzi, Lia Orlandini, Matilde Guillaume, Ida Carloni Talli, Giuseppe Gambardella",
         "Amleto Novelli"
        ],
        [
         "Aristide Demetriade, Constanta Demetriade, Constantin Nottara, Pepi Machauer, Aurel Athanasescu, Jeny Metaxa-Doro, Nicolae Soreanu, Vasile Toneanu, Aristita Romanescu, Elvire Popesco, M. Vîrgolici, C. Nedelcovici, Mihail Tancovici-Cosmin, Ion Dumitrescu, Gheorghe Meliseanu",
         "Aristide Demetriade"
        ],
        [
         "Robert Gemp, Frederick Warde, Albert Gardner, James Keane, George Moss, Howard Stuart, Virginia Rankin, Violet Stuart, Carey Lee, Carlotta De Felice",
         "Robert Gemp"
        ]
       ],
       "datasetInfos": [],
       "dbfsResultPath": null,
       "isJsonSchema": true,
       "metadata": {},
       "overflow": false,
       "plotOptions": {
        "customPlotOptions": {},
        "displayType": "table",
        "pivotAggregation": null,
        "pivotColumns": null,
        "xColumns": null,
        "yColumns": null
       },
       "removedWidgets": [],
       "schema": [
        {
         "metadata": "{}",
         "name": "actors_string",
         "type": "\"string\""
        },
        {
         "metadata": "{}",
         "name": "first_actor",
         "type": "\"string\""
        }
       ],
       "type": "table"
      }
     },
     "output_type": "display_data"
    }
   ],
   "source": [
    "df_modified = df.withColumn(\"actors_string\", concat_ws(\", \", col(\"actors\")))\n",
    "df_modified = df_modified.withColumn(\"first_actor\", regexp_extract(col(\"actors_string\"), \"([^,]+)\", 1))\n",
    "display(df_modified.select(\"actors_string\", \"first_actor\").limit(10))"
   ]
  },
  {
   "cell_type": "markdown",
   "metadata": {
    "application/vnd.databricks.v1+cell": {
     "cellMetadata": {
      "byteLimit": 2048000,
      "rowLimit": 10000
     },
     "inputWidgets": {},
     "nuid": "8f2aea4e-b2bd-49ff-90e3-2f7cf2b2aefd",
     "showTitle": false,
     "tableResultSettingsMap": {},
     "title": ""
    }
   },
   "source": [
    "##### 1.7\n",
    "Użycie funkcji ifnull."
   ]
  },
  {
   "cell_type": "code",
   "execution_count": 0,
   "metadata": {
    "application/vnd.databricks.v1+cell": {
     "cellMetadata": {
      "byteLimit": 2048000,
      "rowLimit": 10000
     },
     "inputWidgets": {},
     "nuid": "0bd5642d-a92c-46b1-b22c-1685ef7bc4ad",
     "showTitle": false,
     "tableResultSettingsMap": {},
     "title": ""
    }
   },
   "outputs": [
    {
     "output_type": "display_data",
     "data": {
      "text/html": [
       "<style scoped>\n",
       "  .table-result-container {\n",
       "    max-height: 300px;\n",
       "    overflow: auto;\n",
       "  }\n",
       "  table, th, td {\n",
       "    border: 1px solid black;\n",
       "    border-collapse: collapse;\n",
       "  }\n",
       "  th, td {\n",
       "    padding: 5px;\n",
       "  }\n",
       "  th {\n",
       "    text-align: left;\n",
       "  }\n",
       "</style><div class='table-result-container'><table class='table-result'><thead style='background-color: white'><tr><th>budget</th><th>budget_ifnull</th></tr></thead><tbody><tr><td>null</td><td>Unknown budget</td></tr><tr><td>$ 2250</td><td>$ 2250</td></tr><tr><td>null</td><td>Unknown budget</td></tr><tr><td>$ 45000</td><td>$ 45000</td></tr><tr><td>null</td><td>Unknown budget</td></tr><tr><td>null</td><td>Unknown budget</td></tr><tr><td>null</td><td>Unknown budget</td></tr><tr><td>ITL 45000</td><td>ITL 45000</td></tr><tr><td>ROL 400000</td><td>ROL 400000</td></tr><tr><td>$ 30000</td><td>$ 30000</td></tr></tbody></table></div>"
      ]
     },
     "metadata": {
      "application/vnd.databricks.v1+output": {
       "addedWidgets": {},
       "aggData": [],
       "aggError": "",
       "aggOverflow": false,
       "aggSchema": [],
       "aggSeriesLimitReached": false,
       "aggType": "",
       "arguments": {},
       "columnCustomDisplayInfos": {},
       "data": [
        [
         null,
         "Unknown budget"
        ],
        [
         "$ 2250",
         "$ 2250"
        ],
        [
         null,
         "Unknown budget"
        ],
        [
         "$ 45000",
         "$ 45000"
        ],
        [
         null,
         "Unknown budget"
        ],
        [
         null,
         "Unknown budget"
        ],
        [
         null,
         "Unknown budget"
        ],
        [
         "ITL 45000",
         "ITL 45000"
        ],
        [
         "ROL 400000",
         "ROL 400000"
        ],
        [
         "$ 30000",
         "$ 30000"
        ]
       ],
       "datasetInfos": [],
       "dbfsResultPath": null,
       "isJsonSchema": true,
       "metadata": {},
       "overflow": false,
       "plotOptions": {
        "customPlotOptions": {},
        "displayType": "table",
        "pivotAggregation": null,
        "pivotColumns": null,
        "xColumns": null,
        "yColumns": null
       },
       "removedWidgets": [],
       "schema": [
        {
         "metadata": "{}",
         "name": "budget",
         "type": "\"string\""
        },
        {
         "metadata": "{}",
         "name": "budget_ifnull",
         "type": "\"string\""
        }
       ],
       "type": "table"
      }
     },
     "output_type": "display_data"
    }
   ],
   "source": [
    "df_ifnull = df.withColumn(\"budget_ifnull\", expr(\"ifnull(budget, 'Unknown budget')\"))\n",
    "display(df_ifnull.select(\"budget\", \"budget_ifnull\").limit(10))"
   ]
  },
  {
   "cell_type": "markdown",
   "metadata": {
    "application/vnd.databricks.v1+cell": {
     "cellMetadata": {
      "byteLimit": 2048000,
      "rowLimit": 10000
     },
     "inputWidgets": {},
     "nuid": "436f112b-199b-4b7c-96dc-c9b9e6a2e5cd",
     "showTitle": false,
     "tableResultSettingsMap": {},
     "title": ""
    }
   },
   "source": [
    "##### 1.8\n",
    "Użycie funkcji nullif."
   ]
  },
  {
   "cell_type": "code",
   "execution_count": 0,
   "metadata": {
    "application/vnd.databricks.v1+cell": {
     "cellMetadata": {
      "byteLimit": 2048000,
      "rowLimit": 10000
     },
     "inputWidgets": {},
     "nuid": "b4feedfa-459e-4c1a-bed2-b9810af772b8",
     "showTitle": false,
     "tableResultSettingsMap": {},
     "title": ""
    }
   },
   "outputs": [
    {
     "output_type": "display_data",
     "data": {
      "text/html": [
       "<style scoped>\n",
       "  .table-result-container {\n",
       "    max-height: 300px;\n",
       "    overflow: auto;\n",
       "  }\n",
       "  table, th, td {\n",
       "    border: 1px solid black;\n",
       "    border-collapse: collapse;\n",
       "  }\n",
       "  th, td {\n",
       "    padding: 5px;\n",
       "  }\n",
       "  th {\n",
       "    text-align: left;\n",
       "  }\n",
       "</style><div class='table-result-container'><table class='table-result'><thead style='background-color: white'><tr><th>country</th><th>country_nullif</th></tr></thead><tbody><tr><td>USA</td><td>null</td></tr><tr><td>Australia</td><td>Australia</td></tr><tr><td>Germany, Denmark</td><td>Germany, Denmark</td></tr><tr><td>USA</td><td>null</td></tr><tr><td>Italy</td><td>Italy</td></tr><tr><td>USA</td><td>null</td></tr><tr><td>Germany</td><td>Germany</td></tr><tr><td>Italy</td><td>Italy</td></tr><tr><td>Romania</td><td>Romania</td></tr><tr><td>France, USA</td><td>France, USA</td></tr><tr><td>Denmark</td><td>Denmark</td></tr><tr><td>France</td><td>France</td></tr><tr><td>Sweden</td><td>Sweden</td></tr><tr><td>France</td><td>France</td></tr><tr><td>Italy</td><td>Italy</td></tr><tr><td>Belgium</td><td>Belgium</td></tr><tr><td>France</td><td>France</td></tr><tr><td>USA</td><td>null</td></tr><tr><td>Germany</td><td>Germany</td></tr><tr><td>USA</td><td>null</td></tr></tbody></table></div>"
      ]
     },
     "metadata": {
      "application/vnd.databricks.v1+output": {
       "addedWidgets": {},
       "aggData": [],
       "aggError": "",
       "aggOverflow": false,
       "aggSchema": [],
       "aggSeriesLimitReached": false,
       "aggType": "",
       "arguments": {},
       "columnCustomDisplayInfos": {},
       "data": [
        [
         "USA",
         null
        ],
        [
         "Australia",
         "Australia"
        ],
        [
         "Germany, Denmark",
         "Germany, Denmark"
        ],
        [
         "USA",
         null
        ],
        [
         "Italy",
         "Italy"
        ],
        [
         "USA",
         null
        ],
        [
         "Germany",
         "Germany"
        ],
        [
         "Italy",
         "Italy"
        ],
        [
         "Romania",
         "Romania"
        ],
        [
         "France, USA",
         "France, USA"
        ],
        [
         "Denmark",
         "Denmark"
        ],
        [
         "France",
         "France"
        ],
        [
         "Sweden",
         "Sweden"
        ],
        [
         "France",
         "France"
        ],
        [
         "Italy",
         "Italy"
        ],
        [
         "Belgium",
         "Belgium"
        ],
        [
         "France",
         "France"
        ],
        [
         "USA",
         null
        ],
        [
         "Germany",
         "Germany"
        ],
        [
         "USA",
         null
        ]
       ],
       "datasetInfos": [],
       "dbfsResultPath": null,
       "isJsonSchema": true,
       "metadata": {},
       "overflow": false,
       "plotOptions": {
        "customPlotOptions": {},
        "displayType": "table",
        "pivotAggregation": null,
        "pivotColumns": null,
        "xColumns": null,
        "yColumns": null
       },
       "removedWidgets": [],
       "schema": [
        {
         "metadata": "{}",
         "name": "country",
         "type": "\"string\""
        },
        {
         "metadata": "{}",
         "name": "country_nullif",
         "type": "\"string\""
        }
       ],
       "type": "table"
      }
     },
     "output_type": "display_data"
    }
   ],
   "source": [
    "df_nullif = df.withColumn(\"country_nullif\", expr(\"nullif(country, 'USA')\"))\n",
    "\n",
    "display(df_nullif.select(\"country\", \"country_nullif\").limit(20))"
   ]
  },
  {
   "cell_type": "markdown",
   "metadata": {
    "application/vnd.databricks.v1+cell": {
     "cellMetadata": {
      "byteLimit": 2048000,
      "rowLimit": 10000
     },
     "inputWidgets": {},
     "nuid": "e7354504-976b-4aaa-b72b-1b3211978e04",
     "showTitle": false,
     "tableResultSettingsMap": {},
     "title": ""
    }
   },
   "source": [
    "##### 1.9\n",
    "Użycie funkcji replace."
   ]
  },
  {
   "cell_type": "code",
   "execution_count": 0,
   "metadata": {
    "application/vnd.databricks.v1+cell": {
     "cellMetadata": {
      "byteLimit": 2048000,
      "rowLimit": 10000
     },
     "inputWidgets": {},
     "nuid": "a2af9991-7f05-414a-821f-4b0173057745",
     "showTitle": false,
     "tableResultSettingsMap": {},
     "title": ""
    }
   },
   "outputs": [
    {
     "output_type": "display_data",
     "data": {
      "text/html": [
       "<style scoped>\n",
       "  .table-result-container {\n",
       "    max-height: 300px;\n",
       "    overflow: auto;\n",
       "  }\n",
       "  table, th, td {\n",
       "    border: 1px solid black;\n",
       "    border-collapse: collapse;\n",
       "  }\n",
       "  th, td {\n",
       "    padding: 5px;\n",
       "  }\n",
       "  th {\n",
       "    text-align: left;\n",
       "  }\n",
       "</style><div class='table-result-container'><table class='table-result'><thead style='background-color: white'><tr><th>language</th></tr></thead><tbody><tr><td>None</td></tr><tr><td>None</td></tr><tr><td>null</td></tr><tr><td>English</td></tr><tr><td>Italian</td></tr><tr><td>English</td></tr><tr><td>Language=German</td></tr><tr><td>Italian</td></tr><tr><td>null</td></tr><tr><td>English</td></tr></tbody></table></div>"
      ]
     },
     "metadata": {
      "application/vnd.databricks.v1+output": {
       "addedWidgets": {},
       "aggData": [],
       "aggError": "",
       "aggOverflow": false,
       "aggSchema": [],
       "aggSeriesLimitReached": false,
       "aggType": "",
       "arguments": {},
       "columnCustomDisplayInfos": {},
       "data": [
        [
         "None"
        ],
        [
         "None"
        ],
        [
         null
        ],
        [
         "English"
        ],
        [
         "Italian"
        ],
        [
         "English"
        ],
        [
         "Language=German"
        ],
        [
         "Italian"
        ],
        [
         null
        ],
        [
         "English"
        ]
       ],
       "datasetInfos": [],
       "dbfsResultPath": null,
       "isJsonSchema": true,
       "metadata": {},
       "overflow": false,
       "plotOptions": {
        "customPlotOptions": {},
        "displayType": "table",
        "pivotAggregation": null,
        "pivotColumns": null,
        "xColumns": null,
        "yColumns": null
       },
       "removedWidgets": [],
       "schema": [
        {
         "metadata": "{}",
         "name": "language",
         "type": "\"string\""
        }
       ],
       "type": "table"
      }
     },
     "output_type": "display_data"
    }
   ],
   "source": [
    "df_replaced = df.replace(\"German\", \"Language=German\", subset=[\"language\"])\n",
    "\n",
    "display(df_replaced.select(\"language\").limit(10))\n"
   ]
  },
  {
   "cell_type": "markdown",
   "metadata": {
    "application/vnd.databricks.v1+cell": {
     "cellMetadata": {
      "byteLimit": 2048000,
      "rowLimit": 10000
     },
     "inputWidgets": {},
     "nuid": "1404198d-2b4d-4867-be1f-1d7a95e82439",
     "showTitle": false,
     "tableResultSettingsMap": {},
     "title": ""
    }
   },
   "source": [
    "##### 1.10\n",
    "Użycie funkcji array_contains."
   ]
  },
  {
   "cell_type": "code",
   "execution_count": 0,
   "metadata": {
    "application/vnd.databricks.v1+cell": {
     "cellMetadata": {
      "byteLimit": 2048000,
      "rowLimit": 10000
     },
     "inputWidgets": {},
     "nuid": "5fe5b982-7552-4d6f-b28c-07d64bac26e0",
     "showTitle": false,
     "tableResultSettingsMap": {},
     "title": ""
    }
   },
   "outputs": [
    {
     "output_type": "display_data",
     "data": {
      "text/html": [
       "<style scoped>\n",
       "  .table-result-container {\n",
       "    max-height: 300px;\n",
       "    overflow: auto;\n",
       "  }\n",
       "  table, th, td {\n",
       "    border: 1px solid black;\n",
       "    border-collapse: collapse;\n",
       "  }\n",
       "  th, td {\n",
       "    padding: 5px;\n",
       "  }\n",
       "  th {\n",
       "    text-align: left;\n",
       "  }\n",
       "</style><div class='table-result-container'><table class='table-result'><thead style='background-color: white'><tr><th>title</th><th>genres_array</th></tr></thead><tbody><tr><td>The Story of the Kelly Gang</td><td>List(Biography, Crime, Drama)</td></tr><tr><td>Den sorte drøm</td><td>List(Drama)</td></tr><tr><td>Cleopatra</td><td>List(Drama, History)</td></tr><tr><td>L'Inferno</td><td>List(Adventure, Drama, Fantasy)</td></tr><tr><td>From the Manger to the Cross or, Jesus of Nazareth</td><td>List(Biography, Drama)</td></tr><tr><td>Madame DuBarry</td><td>List(Biography, Drama, Romance)</td></tr><tr><td>Quo Vadis?</td><td>List(Drama, History)</td></tr><tr><td>Richard III</td><td>List(Drama)</td></tr><tr><td>Atlantis</td><td>List(Drama)</td></tr><tr><td>Fantômas - À l'ombre de la guillotine</td><td>List(Crime, Drama)</td></tr></tbody></table></div>"
      ]
     },
     "metadata": {
      "application/vnd.databricks.v1+output": {
       "addedWidgets": {},
       "aggData": [],
       "aggError": "",
       "aggOverflow": false,
       "aggSchema": [],
       "aggSeriesLimitReached": false,
       "aggType": "",
       "arguments": {},
       "columnCustomDisplayInfos": {},
       "data": [
        [
         "The Story of the Kelly Gang",
         [
          "Biography",
          "Crime",
          "Drama"
         ]
        ],
        [
         "Den sorte drøm",
         [
          "Drama"
         ]
        ],
        [
         "Cleopatra",
         [
          "Drama",
          "History"
         ]
        ],
        [
         "L'Inferno",
         [
          "Adventure",
          "Drama",
          "Fantasy"
         ]
        ],
        [
         "From the Manger to the Cross or, Jesus of Nazareth",
         [
          "Biography",
          "Drama"
         ]
        ],
        [
         "Madame DuBarry",
         [
          "Biography",
          "Drama",
          "Romance"
         ]
        ],
        [
         "Quo Vadis?",
         [
          "Drama",
          "History"
         ]
        ],
        [
         "Richard III",
         [
          "Drama"
         ]
        ],
        [
         "Atlantis",
         [
          "Drama"
         ]
        ],
        [
         "Fantômas - À l'ombre de la guillotine",
         [
          "Crime",
          "Drama"
         ]
        ]
       ],
       "datasetInfos": [],
       "dbfsResultPath": null,
       "isJsonSchema": true,
       "metadata": {},
       "overflow": false,
       "plotOptions": {
        "customPlotOptions": {},
        "displayType": "table",
        "pivotAggregation": null,
        "pivotColumns": null,
        "xColumns": null,
        "yColumns": null
       },
       "removedWidgets": [],
       "schema": [
        {
         "metadata": "{}",
         "name": "title",
         "type": "\"string\""
        },
        {
         "metadata": "{}",
         "name": "genres_array",
         "type": "{\"type\":\"array\",\"elementType\":\"string\",\"containsNull\":false}"
        }
       ],
       "type": "table"
      }
     },
     "output_type": "display_data"
    }
   ],
   "source": [
    "df_modified = df.withColumn(\"genres_array\", split(col(\"genre\"), \",\\s*\"))\n",
    "df_drama = df_modified.filter(array_contains(col(\"genres_array\"), \"Drama\"))\n",
    "\n",
    "display(df_drama.select(\"title\", \"genres_array\").limit(10))"
   ]
  },
  {
   "cell_type": "markdown",
   "metadata": {
    "application/vnd.databricks.v1+cell": {
     "cellMetadata": {
      "byteLimit": 2048000,
      "rowLimit": 10000
     },
     "inputWidgets": {},
     "nuid": "5303216e-903a-45cd-af6e-246c7d288afe",
     "showTitle": false,
     "tableResultSettingsMap": {},
     "title": ""
    }
   },
   "source": [
    "#Zadanie 1b\n",
    "Stwórz nowy notatnik w którym wykonasz poniższe zadania. Wykorzystaj dane jakie chcesz lub użyj tych z wykładu. \n",
    "\n",
    "b.\tUżyj 3 funkcji agregujących (które według Ciebie są najciekawsze).\n"
   ]
  },
  {
   "cell_type": "markdown",
   "metadata": {
    "application/vnd.databricks.v1+cell": {
     "cellMetadata": {
      "byteLimit": 2048000,
      "rowLimit": 10000
     },
     "inputWidgets": {},
     "nuid": "0cfe59f3-93c2-4fac-8bde-1af0aa67e857",
     "showTitle": false,
     "tableResultSettingsMap": {},
     "title": ""
    }
   },
   "source": [
    "* Obliczenie mediany oceny filmów"
   ]
  },
  {
   "cell_type": "code",
   "execution_count": 0,
   "metadata": {
    "application/vnd.databricks.v1+cell": {
     "cellMetadata": {
      "byteLimit": 2048000,
      "rowLimit": 10000
     },
     "inputWidgets": {},
     "nuid": "912046c4-987f-4184-b80e-9ba0a6bf71b6",
     "showTitle": false,
     "tableResultSettingsMap": {},
     "title": ""
    }
   },
   "outputs": [
    {
     "output_type": "stream",
     "name": "stdout",
     "output_type": "stream",
     "text": [
      "+-----------+\n|median_vote|\n+-----------+\n|        6.0|\n+-----------+\n\n"
     ]
    }
   ],
   "source": [
    "df = df.withColumn(\"avg_vote\", col(\"avg_vote\").cast(\"float\"))\n",
    "median_vote = df.agg(expr(\"percentile_approx(avg_vote, 0.5)\").alias(\"median_vote\"))\n",
    "\n",
    "median_vote.show()"
   ]
  },
  {
   "cell_type": "markdown",
   "metadata": {
    "application/vnd.databricks.v1+cell": {
     "cellMetadata": {
      "byteLimit": 2048000,
      "rowLimit": 10000
     },
     "inputWidgets": {},
     "nuid": "7dea7f57-fc81-4dfd-a365-5b9cada9ca8c",
     "showTitle": false,
     "tableResultSettingsMap": {},
     "title": ""
    }
   },
   "source": [
    "* Obliczenie korelacji między metascore a reviews_from_users"
   ]
  },
  {
   "cell_type": "code",
   "execution_count": 0,
   "metadata": {
    "application/vnd.databricks.v1+cell": {
     "cellMetadata": {
      "byteLimit": 2048000,
      "rowLimit": 10000
     },
     "inputWidgets": {},
     "nuid": "672e7fba-3f7e-40cf-b862-97a7a4c336c6",
     "showTitle": false,
     "tableResultSettingsMap": {},
     "title": ""
    }
   },
   "outputs": [
    {
     "output_type": "stream",
     "name": "stdout",
     "output_type": "stream",
     "text": [
      "+-----------------------+\n|correlation_coefficient|\n+-----------------------+\n|    0.12613147360228708|\n+-----------------------+\n\n"
     ]
    }
   ],
   "source": [
    "df = df.withColumn(\"metascore\", col(\"metascore\").cast(\"float\"))\n",
    "df = df.withColumn(\"reviews_from_users\", col(\"reviews_from_users\").cast(\"float\"))\n",
    "correlation = df.select(corr(\"metascore\", \"reviews_from_users\").alias(\"correlation_coefficient\"))\n",
    "\n",
    "correlation.show()"
   ]
  },
  {
   "cell_type": "markdown",
   "metadata": {
    "application/vnd.databricks.v1+cell": {
     "cellMetadata": {
      "byteLimit": 2048000,
      "rowLimit": 10000
     },
     "inputWidgets": {},
     "nuid": "68e36623-ca8f-4c0e-b31b-10fc12c24eb2",
     "showTitle": false,
     "tableResultSettingsMap": {},
     "title": ""
    }
   },
   "source": [
    "* Użycie skewness do analizy rozkładu ocen filmów - skośność"
   ]
  },
  {
   "cell_type": "code",
   "execution_count": 0,
   "metadata": {
    "application/vnd.databricks.v1+cell": {
     "cellMetadata": {
      "byteLimit": 2048000,
      "rowLimit": 10000
     },
     "inputWidgets": {},
     "nuid": "bed1bb96-0973-468a-a81a-60d29f624a12",
     "showTitle": false,
     "tableResultSettingsMap": {},
     "title": ""
    }
   },
   "outputs": [
    {
     "output_type": "stream",
     "name": "stdout",
     "output_type": "stream",
     "text": [
      "+-------------------+\n|      vote_skewness|\n+-------------------+\n|-0.8451743205893021|\n+-------------------+\n\n"
     ]
    }
   ],
   "source": [
    "df = df.withColumn(\"avg_vote\", col(\"avg_vote\").cast(\"float\"))\n",
    "vote_skewness = df.select(skewness(\"avg_vote\").alias(\"vote_skewness\"))\n",
    "\n",
    "vote_skewness.show()"
   ]
  },
  {
   "cell_type": "markdown",
   "metadata": {
    "application/vnd.databricks.v1+cell": {
     "cellMetadata": {
      "byteLimit": 2048000,
      "rowLimit": 10000
     },
     "inputWidgets": {},
     "nuid": "6769cd74-0a0e-43fa-bf82-49c79b16d9bd",
     "showTitle": false,
     "tableResultSettingsMap": {},
     "title": ""
    }
   },
   "source": [
    "# Zadanie 2\n",
    "\n",
    "Stwórz 2 funkcje UDF do wybranego zestawu danych, wymyśl co mają robić w kontekście wybranych danych. Jedna funkcja z dekoratorem @pandas_udf druga standardowa.\n",
    "\n",
    "a.\tJedna funkcja działające na typach liczbowych: int, double \n",
    "\n",
    "b.\tJedna funkcja na string\n"
   ]
  },
  {
   "cell_type": "markdown",
   "metadata": {
    "application/vnd.databricks.v1+cell": {
     "cellMetadata": {
      "byteLimit": 2048000,
      "rowLimit": 10000
     },
     "inputWidgets": {},
     "nuid": "aafc709a-2b9b-4a69-bb42-63b662ade71e",
     "showTitle": false,
     "tableResultSettingsMap": {},
     "title": ""
    }
   },
   "source": [
    "a. Funkcja UDF, która przekształci liczbę głosów (votes) na kategorie popularności filmu. Można zakwalifikować filmy do różnych kategorii popularności na podstawie liczby oddanych głosów."
   ]
  },
  {
   "cell_type": "code",
   "execution_count": 0,
   "metadata": {
    "application/vnd.databricks.v1+cell": {
     "cellMetadata": {
      "byteLimit": 2048000,
      "rowLimit": 10000
     },
     "inputWidgets": {},
     "nuid": "da121ee7-cf69-4434-b0b4-6634bf0637b6",
     "showTitle": false,
     "tableResultSettingsMap": {},
     "title": ""
    }
   },
   "outputs": [
    {
     "output_type": "stream",
     "name": "stdout",
     "output_type": "stream",
     "text": [
      "+--------------------------------------------------+-----+-------------------+\n|title                                             |votes|popularity_category|\n+--------------------------------------------------+-----+-------------------+\n|Miss Jerry                                        |154  |Low                |\n|The Story of the Kelly Gang                       |589  |Low                |\n|Den sorte drøm                                    |188  |Low                |\n|Cleopatra                                         |446  |Low                |\n|L'Inferno                                         |2237 |Moderate           |\n|From the Manger to the Cross or, Jesus of Nazareth|484  |Low                |\n|Madame DuBarry                                    |753  |Low                |\n|Quo Vadis?                                        |273  |Low                |\n|Independenta Romaniei                             |198  |Low                |\n|Richard III                                       |225  |Low                |\n|Atlantis                                          |331  |Low                |\n|Fantômas - À l'ombre de la guillotine             |1944 |Moderate           |\n|Il calvario di una madre                          |948  |Low                |\n|Juve contre Fantômas                              |1349 |Moderate           |\n|Ma l'amor mio non muore...                        |100  |Low                |\n|Maudite soit la guerre                            |124  |Low                |\n|Le mort qui tue                                   |1050 |Moderate           |\n|Amore di madre                                    |187  |Low                |\n|Lo studente di Praga                              |1768 |Moderate           |\n|Traffic in Souls                                  |552  |Low                |\n+--------------------------------------------------+-----+-------------------+\nonly showing top 20 rows\n\n"
     ]
    }
   ],
   "source": [
    "from pyspark.sql.functions import udf\n",
    "from pyspark.sql.types import StringType\n",
    "\n",
    "# Definicja funkcji UDF\n",
    "@udf(StringType())\n",
    "def categorize_popularity(votes):\n",
    "    if votes is None:\n",
    "        return \"Unknown\"\n",
    "    elif votes < 1000:\n",
    "        return \"Low\"\n",
    "    elif 1000 <= votes < 10000:\n",
    "        return \"Moderate\"\n",
    "    elif 10000 <= votes < 50000:\n",
    "        return \"Popular\"\n",
    "    else:\n",
    "        return \"Highly Popular\"\n",
    "\n",
    "# Zastosowanie UDF i dodanie nowej kolumny do DataFrame\n",
    "df = df.withColumn(\"popularity_category\", categorize_popularity(\"votes\"))\n",
    "\n",
    "# Wyświetlenie wyników\n",
    "df.select(\"title\", \"votes\", \"popularity_category\").show(truncate=False)\n"
   ]
  },
  {
   "cell_type": "markdown",
   "metadata": {
    "application/vnd.databricks.v1+cell": {
     "cellMetadata": {
      "byteLimit": 2048000,
      "rowLimit": 10000
     },
     "inputWidgets": {},
     "nuid": "3aa24198-a564-429b-bb79-e1246ea579dd",
     "showTitle": false,
     "tableResultSettingsMap": {},
     "title": ""
    }
   },
   "source": [
    "b. Funkcja UDF z dekoratorem @pandas_udf do manipulacji tytułami filmów, zmieniająca wszystkie tytuły na format wielkich liter, co jest przydatne do spójności danych podczas analiz."
   ]
  },
  {
   "cell_type": "code",
   "execution_count": 0,
   "metadata": {
    "application/vnd.databricks.v1+cell": {
     "cellMetadata": {
      "byteLimit": 2048000,
      "rowLimit": 10000
     },
     "inputWidgets": {},
     "nuid": "01c89c20-a9e5-493c-8234-915c3c5cfb68",
     "showTitle": false,
     "tableResultSettingsMap": {},
     "title": ""
    }
   },
   "outputs": [
    {
     "output_type": "stream",
     "name": "stdout",
     "output_type": "stream",
     "text": [
      "+--------------------------------------------------+--------------------------------------------------+\n|title                                             |formatted_title                                   |\n+--------------------------------------------------+--------------------------------------------------+\n|Miss Jerry                                        |MISS JERRY                                        |\n|The Story of the Kelly Gang                       |THE STORY OF THE KELLY GANG                       |\n|Den sorte drøm                                    |DEN SORTE DRØM                                    |\n|Cleopatra                                         |CLEOPATRA                                         |\n|L'Inferno                                         |L'INFERNO                                         |\n|From the Manger to the Cross or, Jesus of Nazareth|FROM THE MANGER TO THE CROSS OR, JESUS OF NAZARETH|\n|Madame DuBarry                                    |MADAME DUBARRY                                    |\n|Quo Vadis?                                        |QUO VADIS?                                        |\n|Independenta Romaniei                             |INDEPENDENTA ROMANIEI                             |\n|Richard III                                       |RICHARD III                                       |\n|Atlantis                                          |ATLANTIS                                          |\n|Fantômas - À l'ombre de la guillotine             |FANTÔMAS - À L'OMBRE DE LA GUILLOTINE             |\n|Il calvario di una madre                          |IL CALVARIO DI UNA MADRE                          |\n|Juve contre Fantômas                              |JUVE CONTRE FANTÔMAS                              |\n|Ma l'amor mio non muore...                        |MA L'AMOR MIO NON MUORE...                        |\n|Maudite soit la guerre                            |MAUDITE SOIT LA GUERRE                            |\n|Le mort qui tue                                   |LE MORT QUI TUE                                   |\n|Amore di madre                                    |AMORE DI MADRE                                    |\n|Lo studente di Praga                              |LO STUDENTE DI PRAGA                              |\n|Traffic in Souls                                  |TRAFFIC IN SOULS                                  |\n+--------------------------------------------------+--------------------------------------------------+\nonly showing top 20 rows\n\n"
     ]
    }
   ],
   "source": [
    "@pandas_udf(StringType(), PandasUDFType.SCALAR)\n",
    "def format_titles(title_series):\n",
    "    return title_series.str.upper()\n",
    "\n",
    "df = df.withColumn(\"formatted_title\", format_titles(df[\"title\"]))\n",
    "df.select(\"title\", \"formatted_title\").show(truncate=False)\n"
   ]
  }
 ],
 "metadata": {
  "application/vnd.databricks.v1+notebook": {
   "computePreferences": null,
   "dashboards": [],
   "environmentMetadata": {
    "base_environment": "",
    "environment_version": "1"
   },
   "inputWidgetPreferences": null,
   "language": "python",
   "notebookMetadata": {
    "pythonIndentUnit": 4
   },
   "notebookName": "Cwiczenia_4_notatnik_1",
   "widgets": {}
  }
 },
 "nbformat": 4,
 "nbformat_minor": 0
}