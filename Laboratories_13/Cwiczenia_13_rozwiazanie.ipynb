{
 "cells": [
  {
   "cell_type": "markdown",
   "metadata": {
    "application/vnd.databricks.v1+cell": {
     "cellMetadata": {},
     "inputWidgets": {},
     "nuid": "f4b908f9-9eef-4a75-92f0-f8de32e07038",
     "showTitle": false,
     "tableResultSettingsMap": {},
     "title": ""
    }
   },
   "source": [
    "Pobierz dane for formacie GeoJson z wybranego źródła \n",
    "\n",
    " \n",
    "\n",
    "Źródło 1 \n",
    "\n",
    "https://www.data.gov.uk/ \n",
    "\n",
    "https://environment.data.gov.uk/catchment-planning/v/c3-plan \n",
    "\n",
    "Źródło 2 \n",
    "\n",
    "https://geojson.io/#map=2/0/20 \n",
    "\n",
    "Źródło 3 \n",
    "\n",
    "dbfs:/databricks-datasets/nyctaxi/ \n",
    "\n",
    " \n",
    "\n",
    "Zadanie 1 \n",
    "\n",
    "Stwórz notatnik w którym użyjesz poniższych funkcji: \n",
    "\n",
    "Policz odległość pomiędzy punktami, sprawdź czy dany punkt geograficzny znajduje się w poligonie. Jeśli dane nie mają poligonu to możesz go stworzyć.  \n",
    "\n",
    "Jeżeli dane z wybranego źródła nie mają wystarczająco danych żeby wykonać wszystkie funkcje, użyj innego źródła. \n",
    "\n",
    "Użyj jednej z wybranych bibliotek GeoMesa lub Mosaic lub Sedona. \n",
    "\n",
    "ST_Area \n",
    "\n",
    "ST_Distance \n",
    "\n",
    "ST_Contains \n",
    "\n",
    "ST_Intersects \n",
    "\n",
    "ST_Within "
   ]
  },
  {
   "cell_type": "code",
   "execution_count": 0,
   "metadata": {
    "application/vnd.databricks.v1+cell": {
     "cellMetadata": {
      "byteLimit": 2048000,
      "rowLimit": 10000
     },
     "inputWidgets": {},
     "nuid": "2cc00d6e-bbbc-48f3-9618-f108f38ea951",
     "showTitle": false,
     "tableResultSettingsMap": {},
     "title": ""
    }
   },
   "outputs": [
    {
     "output_type": "stream",
     "name": "stdout",
     "output_type": "stream",
     "text": [
      "Python interpreter will be restarted.\nCollecting databricks-mosaic\n  Downloading databricks_mosaic-0.3.14-py3-none-any.whl (81.5 MB)\nCollecting keplergl==0.3.2\n  Downloading keplergl-0.3.2.tar.gz (9.7 MB)\n  Installing build dependencies: started\n  Installing build dependencies: finished with status 'done'\n  Getting requirements to build wheel: started\n  Getting requirements to build wheel: finished with status 'done'\n    Preparing wheel metadata: started\n    Preparing wheel metadata: finished with status 'done'\nCollecting h3==3.7.3\n  Downloading h3-3.7.3-cp38-cp38-manylinux2010_x86_64.whl (805 kB)\nCollecting geopandas>=0.5.0\n  Downloading geopandas-0.13.2-py3-none-any.whl (1.1 MB)\nRequirement already satisfied: pandas>=0.23.0 in /databricks/python3/lib/python3.8/site-packages (from keplergl==0.3.2->databricks-mosaic) (1.2.4)\nCollecting Shapely>=1.6.4.post2\n  Downloading shapely-2.0.7-cp38-cp38-manylinux_2_17_x86_64.manylinux2014_x86_64.whl (2.5 MB)\nCollecting traittypes>=0.2.1\n  Downloading traittypes-0.2.1-py2.py3-none-any.whl (8.6 kB)\nRequirement already satisfied: ipywidgets<8,>=7.0.0 in /databricks/python3/lib/python3.8/site-packages (from keplergl==0.3.2->databricks-mosaic) (7.6.3)\nCollecting pyproj>=3.0.1\n  Downloading pyproj-3.5.0-cp38-cp38-manylinux_2_17_x86_64.manylinux2014_x86_64.whl (7.8 MB)\nRequirement already satisfied: packaging in /databricks/python3/lib/python3.8/site-packages (from geopandas>=0.5.0->keplergl==0.3.2->databricks-mosaic) (20.9)\nCollecting fiona>=1.8.19\n  Downloading fiona-1.10.1-cp38-cp38-manylinux_2_17_x86_64.manylinux2014_x86_64.whl (17.3 MB)\nCollecting click~=8.0\n  Downloading click-8.1.8-py3-none-any.whl (98 kB)\nRequirement already satisfied: certifi in /databricks/python3/lib/python3.8/site-packages (from fiona>=1.8.19->geopandas>=0.5.0->keplergl==0.3.2->databricks-mosaic) (2020.12.5)\nCollecting cligj>=0.5\n  Downloading cligj-0.7.2-py3-none-any.whl (7.1 kB)\nCollecting click-plugins>=1.0\n  Downloading click_plugins-1.1.1-py2.py3-none-any.whl (7.5 kB)\nRequirement already satisfied: attrs>=19.2.0 in /databricks/python3/lib/python3.8/site-packages (from fiona>=1.8.19->geopandas>=0.5.0->keplergl==0.3.2->databricks-mosaic) (20.3.0)\nCollecting importlib-metadata\n  Using cached importlib_metadata-8.5.0-py3-none-any.whl (26 kB)\nRequirement already satisfied: traitlets>=4.3.1 in /databricks/python3/lib/python3.8/site-packages (from ipywidgets<8,>=7.0.0->keplergl==0.3.2->databricks-mosaic) (5.0.5)\nRequirement already satisfied: nbformat>=4.2.0 in /databricks/python3/lib/python3.8/site-packages (from ipywidgets<8,>=7.0.0->keplergl==0.3.2->databricks-mosaic) (5.1.3)\nRequirement already satisfied: ipython>=4.0.0 in /databricks/python3/lib/python3.8/site-packages (from ipywidgets<8,>=7.0.0->keplergl==0.3.2->databricks-mosaic) (7.22.0)\nRequirement already satisfied: widgetsnbextension~=3.5.0 in /databricks/python3/lib/python3.8/site-packages (from ipywidgets<8,>=7.0.0->keplergl==0.3.2->databricks-mosaic) (3.5.1)\nRequirement already satisfied: ipykernel>=4.5.1 in /databricks/python3/lib/python3.8/site-packages (from ipywidgets<8,>=7.0.0->keplergl==0.3.2->databricks-mosaic) (5.3.4)\nRequirement already satisfied: jupyterlab-widgets>=1.0.0 in /databricks/python3/lib/python3.8/site-packages (from ipywidgets<8,>=7.0.0->keplergl==0.3.2->databricks-mosaic) (1.0.0)\nRequirement already satisfied: tornado>=4.2 in /databricks/python3/lib/python3.8/site-packages (from ipykernel>=4.5.1->ipywidgets<8,>=7.0.0->keplergl==0.3.2->databricks-mosaic) (6.1)\nRequirement already satisfied: jupyter-client in /databricks/python3/lib/python3.8/site-packages (from ipykernel>=4.5.1->ipywidgets<8,>=7.0.0->keplergl==0.3.2->databricks-mosaic) (6.1.12)\nRequirement already satisfied: backcall in /databricks/python3/lib/python3.8/site-packages (from ipython>=4.0.0->ipywidgets<8,>=7.0.0->keplergl==0.3.2->databricks-mosaic) (0.2.0)\nRequirement already satisfied: prompt-toolkit!=3.0.0,!=3.0.1,<3.1.0,>=2.0.0 in /databricks/python3/lib/python3.8/site-packages (from ipython>=4.0.0->ipywidgets<8,>=7.0.0->keplergl==0.3.2->databricks-mosaic) (3.0.17)\nRequirement already satisfied: pygments in /databricks/python3/lib/python3.8/site-packages (from ipython>=4.0.0->ipywidgets<8,>=7.0.0->keplergl==0.3.2->databricks-mosaic) (2.8.1)\nRequirement already satisfied: pexpect>4.3 in /databricks/python3/lib/python3.8/site-packages (from ipython>=4.0.0->ipywidgets<8,>=7.0.0->keplergl==0.3.2->databricks-mosaic) (4.8.0)\nRequirement already satisfied: decorator in /databricks/python3/lib/python3.8/site-packages (from ipython>=4.0.0->ipywidgets<8,>=7.0.0->keplergl==0.3.2->databricks-mosaic) (5.0.6)\nRequirement already satisfied: jedi>=0.16 in /databricks/python3/lib/python3.8/site-packages (from ipython>=4.0.0->ipywidgets<8,>=7.0.0->keplergl==0.3.2->databricks-mosaic) (0.17.2)\nRequirement already satisfied: pickleshare in /databricks/python3/lib/python3.8/site-packages (from ipython>=4.0.0->ipywidgets<8,>=7.0.0->keplergl==0.3.2->databricks-mosaic) (0.7.5)\nRequirement already satisfied: setuptools>=18.5 in /usr/local/lib/python3.8/dist-packages (from ipython>=4.0.0->ipywidgets<8,>=7.0.0->keplergl==0.3.2->databricks-mosaic) (52.0.0)\nRequirement already satisfied: parso<0.8.0,>=0.7.0 in /databricks/python3/lib/python3.8/site-packages (from jedi>=0.16->ipython>=4.0.0->ipywidgets<8,>=7.0.0->keplergl==0.3.2->databricks-mosaic) (0.7.0)\nRequirement already satisfied: jupyter-core in /databricks/python3/lib/python3.8/site-packages (from nbformat>=4.2.0->ipywidgets<8,>=7.0.0->keplergl==0.3.2->databricks-mosaic) (4.7.1)\nRequirement already satisfied: ipython-genutils in /databricks/python3/lib/python3.8/site-packages (from nbformat>=4.2.0->ipywidgets<8,>=7.0.0->keplergl==0.3.2->databricks-mosaic) (0.2.0)\nRequirement already satisfied: jsonschema!=2.5.0,>=2.4 in /databricks/python3/lib/python3.8/site-packages (from nbformat>=4.2.0->ipywidgets<8,>=7.0.0->keplergl==0.3.2->databricks-mosaic) (3.2.0)\nRequirement already satisfied: pyrsistent>=0.14.0 in /databricks/python3/lib/python3.8/site-packages (from jsonschema!=2.5.0,>=2.4->nbformat>=4.2.0->ipywidgets<8,>=7.0.0->keplergl==0.3.2->databricks-mosaic) (0.17.3)\nRequirement already satisfied: six>=1.11.0 in /databricks/python3/lib/python3.8/site-packages (from jsonschema!=2.5.0,>=2.4->nbformat>=4.2.0->ipywidgets<8,>=7.0.0->keplergl==0.3.2->databricks-mosaic) (1.15.0)\nRequirement already satisfied: pytz>=2017.3 in /databricks/python3/lib/python3.8/site-packages (from pandas>=0.23.0->keplergl==0.3.2->databricks-mosaic) (2020.5)\nRequirement already satisfied: numpy>=1.16.5 in /databricks/python3/lib/python3.8/site-packages (from pandas>=0.23.0->keplergl==0.3.2->databricks-mosaic) (1.20.1)\nRequirement already satisfied: python-dateutil>=2.7.3 in /databricks/python3/lib/python3.8/site-packages (from pandas>=0.23.0->keplergl==0.3.2->databricks-mosaic) (2.8.1)\nRequirement already satisfied: ptyprocess>=0.5 in /databricks/python3/lib/python3.8/site-packages (from pexpect>4.3->ipython>=4.0.0->ipywidgets<8,>=7.0.0->keplergl==0.3.2->databricks-mosaic) (0.7.0)\nRequirement already satisfied: wcwidth in /databricks/python3/lib/python3.8/site-packages (from prompt-toolkit!=3.0.0,!=3.0.1,<3.1.0,>=2.0.0->ipython>=4.0.0->ipywidgets<8,>=7.0.0->keplergl==0.3.2->databricks-mosaic) (0.2.5)\nRequirement already satisfied: notebook>=4.4.1 in /databricks/python3/lib/python3.8/site-packages (from widgetsnbextension~=3.5.0->ipywidgets<8,>=7.0.0->keplergl==0.3.2->databricks-mosaic) (6.3.0)\nRequirement already satisfied: Send2Trash>=1.5.0 in /databricks/python3/lib/python3.8/site-packages (from notebook>=4.4.1->widgetsnbextension~=3.5.0->ipywidgets<8,>=7.0.0->keplergl==0.3.2->databricks-mosaic) (1.5.0)\nRequirement already satisfied: nbconvert in /databricks/python3/lib/python3.8/site-packages (from notebook>=4.4.1->widgetsnbextension~=3.5.0->ipywidgets<8,>=7.0.0->keplergl==0.3.2->databricks-mosaic) (6.0.7)\nRequirement already satisfied: terminado>=0.8.3 in /databricks/python3/lib/python3.8/site-packages (from notebook>=4.4.1->widgetsnbextension~=3.5.0->ipywidgets<8,>=7.0.0->keplergl==0.3.2->databricks-mosaic) (0.9.4)\nRequirement already satisfied: pyzmq>=17 in /databricks/python3/lib/python3.8/site-packages (from notebook>=4.4.1->widgetsnbextension~=3.5.0->ipywidgets<8,>=7.0.0->keplergl==0.3.2->databricks-mosaic) (20.0.0)\nRequirement already satisfied: jinja2 in /databricks/python3/lib/python3.8/site-packages (from notebook>=4.4.1->widgetsnbextension~=3.5.0->ipywidgets<8,>=7.0.0->keplergl==0.3.2->databricks-mosaic) (2.11.3)\nRequirement already satisfied: argon2-cffi in /databricks/python3/lib/python3.8/site-packages (from notebook>=4.4.1->widgetsnbextension~=3.5.0->ipywidgets<8,>=7.0.0->keplergl==0.3.2->databricks-mosaic) (20.1.0)\nRequirement already satisfied: prometheus-client in /databricks/python3/lib/python3.8/site-packages (from notebook>=4.4.1->widgetsnbextension~=3.5.0->ipywidgets<8,>=7.0.0->keplergl==0.3.2->databricks-mosaic) (0.10.1)\nRequirement already satisfied: cffi>=1.0.0 in /databricks/python3/lib/python3.8/site-packages (from argon2-cffi->notebook>=4.4.1->widgetsnbextension~=3.5.0->ipywidgets<8,>=7.0.0->keplergl==0.3.2->databricks-mosaic) (1.14.5)\nRequirement already satisfied: pycparser in /databricks/python3/lib/python3.8/site-packages (from cffi>=1.0.0->argon2-cffi->notebook>=4.4.1->widgetsnbextension~=3.5.0->ipywidgets<8,>=7.0.0->keplergl==0.3.2->databricks-mosaic) (2.20)\nCollecting zipp>=3.20\n  Using cached zipp-3.20.2-py3-none-any.whl (9.2 kB)\nRequirement already satisfied: MarkupSafe>=0.23 in /databricks/python3/lib/python3.8/site-packages (from jinja2->notebook>=4.4.1->widgetsnbextension~=3.5.0->ipywidgets<8,>=7.0.0->keplergl==0.3.2->databricks-mosaic) (2.0.1)\nRequirement already satisfied: pandocfilters>=1.4.1 in /databricks/python3/lib/python3.8/site-packages (from nbconvert->notebook>=4.4.1->widgetsnbextension~=3.5.0->ipywidgets<8,>=7.0.0->keplergl==0.3.2->databricks-mosaic) (1.4.3)\nRequirement already satisfied: bleach in /databricks/python3/lib/python3.8/site-packages (from nbconvert->notebook>=4.4.1->widgetsnbextension~=3.5.0->ipywidgets<8,>=7.0.0->keplergl==0.3.2->databricks-mosaic) (3.3.0)\nRequirement already satisfied: defusedxml in /databricks/python3/lib/python3.8/site-packages (from nbconvert->notebook>=4.4.1->widgetsnbextension~=3.5.0->ipywidgets<8,>=7.0.0->keplergl==0.3.2->databricks-mosaic) (0.7.1)\nRequirement already satisfied: mistune<2,>=0.8.1 in /databricks/python3/lib/python3.8/site-packages (from nbconvert->notebook>=4.4.1->widgetsnbextension~=3.5.0->ipywidgets<8,>=7.0.0->keplergl==0.3.2->databricks-mosaic) (0.8.4)\nRequirement already satisfied: nbclient<0.6.0,>=0.5.0 in /databricks/python3/lib/python3.8/site-packages (from nbconvert->notebook>=4.4.1->widgetsnbextension~=3.5.0->ipywidgets<8,>=7.0.0->keplergl==0.3.2->databricks-mosaic) (0.5.3)\nRequirement already satisfied: entrypoints>=0.2.2 in /databricks/python3/lib/python3.8/site-packages (from nbconvert->notebook>=4.4.1->widgetsnbextension~=3.5.0->ipywidgets<8,>=7.0.0->keplergl==0.3.2->databricks-mosaic) (0.3)\nRequirement already satisfied: jupyterlab-pygments in /databricks/python3/lib/python3.8/site-packages (from nbconvert->notebook>=4.4.1->widgetsnbextension~=3.5.0->ipywidgets<8,>=7.0.0->keplergl==0.3.2->databricks-mosaic) (0.1.2)\nRequirement already satisfied: testpath in /databricks/python3/lib/python3.8/site-packages (from nbconvert->notebook>=4.4.1->widgetsnbextension~=3.5.0->ipywidgets<8,>=7.0.0->keplergl==0.3.2->databricks-mosaic) (0.4.4)\nRequirement already satisfied: nest-asyncio in /databricks/python3/lib/python3.8/site-packages (from nbclient<0.6.0,>=0.5.0->nbconvert->notebook>=4.4.1->widgetsnbextension~=3.5.0->ipywidgets<8,>=7.0.0->keplergl==0.3.2->databricks-mosaic) (1.5.1)\nRequirement already satisfied: async-generator in /databricks/python3/lib/python3.8/site-packages (from nbclient<0.6.0,>=0.5.0->nbconvert->notebook>=4.4.1->widgetsnbextension~=3.5.0->ipywidgets<8,>=7.0.0->keplergl==0.3.2->databricks-mosaic) (1.10)\nRequirement already satisfied: webencodings in /databricks/python3/lib/python3.8/site-packages (from bleach->nbconvert->notebook>=4.4.1->widgetsnbextension~=3.5.0->ipywidgets<8,>=7.0.0->keplergl==0.3.2->databricks-mosaic) (0.5.1)\nRequirement already satisfied: pyparsing>=2.0.2 in /databricks/python3/lib/python3.8/site-packages (from packaging->geopandas>=0.5.0->keplergl==0.3.2->databricks-mosaic) (2.4.7)\nBuilding wheels for collected packages: keplergl\n  Building wheel for keplergl (PEP 517): started\n  Building wheel for keplergl (PEP 517): finished with status 'done'\n  Created wheel for keplergl: filename=keplergl-0.3.2-py2.py3-none-any.whl size=17922343 sha256=cdac70304a076dd78fe9b5491107989d2c743a86f1125e0b0fa675210684f068\n  Stored in directory: /root/.cache/pip/wheels/54/ae/15/d61c54bd63becaa070c9590060ae071f60673f8a0e0badac3c\nSuccessfully built keplergl\nInstalling collected packages: zipp, click, importlib-metadata, cligj, click-plugins, Shapely, pyproj, fiona, traittypes, geopandas, keplergl, h3, databricks-mosaic\nSuccessfully installed Shapely-2.0.7 click-8.1.8 click-plugins-1.1.1 cligj-0.7.2 databricks-mosaic-0.3.14 fiona-1.10.1 geopandas-0.13.2 h3-3.7.3 importlib-metadata-8.5.0 keplergl-0.3.2 pyproj-3.5.0 traittypes-0.2.1 zipp-3.20.2\nPython interpreter will be restarted.\n"
     ]
    }
   ],
   "source": [
    "%pip install databricks-mosaic\n"
   ]
  },
  {
   "cell_type": "code",
   "execution_count": 0,
   "metadata": {
    "application/vnd.databricks.v1+cell": {
     "cellMetadata": {
      "byteLimit": 2048000,
      "rowLimit": 10000
     },
     "inputWidgets": {},
     "nuid": "41a5696a-71be-433b-8358-deec07fa63e7",
     "showTitle": false,
     "tableResultSettingsMap": {},
     "title": ""
    }
   },
   "outputs": [
    {
     "output_type": "stream",
     "name": "stdout",
     "output_type": "stream",
     "text": [
      "\n            DEPRECATION WARNING: \n                Please use a Databricks:\n                    - Photon-enabled Runtime for performance benefits\n                    - Runtime ML for spatial AI benefits\n                Mosaic will stop working on this cluster after v0.3.x.\n"
     ]
    }
   ],
   "source": [
    "from mosaic import enable_mosaic\n",
    "from pyspark.sql import functions as F\n",
    "\n",
    "enable_mosaic(spark)\n"
   ]
  },
  {
   "cell_type": "markdown",
   "metadata": {
    "application/vnd.databricks.v1+cell": {
     "cellMetadata": {},
     "inputWidgets": {},
     "nuid": "ca0b4c02-ddfb-4b86-b2d9-645219a77ac2",
     "showTitle": false,
     "tableResultSettingsMap": {},
     "title": ""
    }
   },
   "source": [
    "## Załadowanie danych"
   ]
  },
  {
   "cell_type": "code",
   "execution_count": 0,
   "metadata": {
    "application/vnd.databricks.v1+cell": {
     "cellMetadata": {
      "byteLimit": 2048000,
      "rowLimit": 10000
     },
     "inputWidgets": {},
     "nuid": "d5947897-a453-4e90-b7a5-cce221b95401",
     "showTitle": false,
     "tableResultSettingsMap": {},
     "title": ""
    }
   },
   "outputs": [
    {
     "output_type": "stream",
     "name": "stdout",
     "output_type": "stream",
     "text": [
      "+--------------------+\n|        polygon_geom|\n+--------------------+\n|{3, 4326, [[[20.0...|\n+--------------------+\n\n"
     ]
    }
   ],
   "source": [
    "from pyspark.sql.functions import explode, to_json, col, expr\n",
    "\n",
    "polygon_df = (\n",
    "    spark.read.option(\"multiline\", \"true\").json(\"dbfs:/FileStore/tables/region.geojson\")\n",
    "    .select(explode(\"features\").alias(\"feature\"))\n",
    "    .select(to_json(col(\"feature.geometry\")).alias(\"geometry_json\"))\n",
    "    .withColumn(\"polygon_geom\", expr(\"st_geomfromgeojson(geometry_json)\"))\n",
    "    .drop(\"geometry_json\")\n",
    ")\n",
    "\n",
    "polygon_df.createOrReplaceTempView(\"region\")\n",
    "polygon_df.show()"
   ]
  },
  {
   "cell_type": "code",
   "execution_count": 0,
   "metadata": {
    "application/vnd.databricks.v1+cell": {
     "cellMetadata": {
      "byteLimit": 2048000,
      "rowLimit": 10000
     },
     "inputWidgets": {},
     "nuid": "c209ef88-6610-4862-9cf3-729fbaac7816",
     "showTitle": false,
     "tableResultSettingsMap": {},
     "title": ""
    }
   },
   "outputs": [
    {
     "output_type": "stream",
     "name": "stdout",
     "output_type": "stream",
     "text": [
      "+--------------------+--------------------+\n|           wkt_point|          point_geom|\n+--------------------+--------------------+\n|POINT(21.0122 52....|{1, 0, [[[21.0122...|\n+--------------------+--------------------+\n\n"
     ]
    }
   ],
   "source": [
    "from pyspark.sql import Row\n",
    "\n",
    "point_df = spark.createDataFrame([\n",
    "    Row(wkt_point=\"POINT(21.0122 52.2297)\")\n",
    "]).withColumn(\"point_geom\", expr(\"st_geomfromwkt(wkt_point)\"))\n",
    "\n",
    "point_df.createOrReplaceTempView(\"location\")\n",
    "point_df.show()"
   ]
  },
  {
   "cell_type": "code",
   "execution_count": 0,
   "metadata": {
    "application/vnd.databricks.v1+cell": {
     "cellMetadata": {
      "byteLimit": 2048000,
      "rowLimit": 10000
     },
     "inputWidgets": {},
     "nuid": "84f0dd82-1e83-4a57-ab99-6d8c96a948d4",
     "showTitle": false,
     "tableResultSettingsMap": {},
     "title": ""
    }
   },
   "outputs": [
    {
     "output_type": "stream",
     "name": "stdout",
     "output_type": "stream",
     "text": [
      "+---------------+\n|point_in_region|\n+---------------+\n|          false|\n+---------------+\n\n"
     ]
    }
   ],
   "source": [
    "spark.sql(\"\"\"\n",
    "SELECT st_contains(r.polygon_geom, l.point_geom) AS point_in_region\n",
    "FROM region r CROSS JOIN location l\n",
    "\"\"\").show()\n"
   ]
  },
  {
   "cell_type": "code",
   "execution_count": 0,
   "metadata": {
    "application/vnd.databricks.v1+cell": {
     "cellMetadata": {
      "byteLimit": 2048000,
      "rowLimit": 10000
     },
     "inputWidgets": {},
     "nuid": "cc63e66c-6ad9-45bc-bbc1-607a3d3cd885",
     "showTitle": false,
     "tableResultSettingsMap": {},
     "title": ""
    }
   },
   "outputs": [
    {
     "output_type": "stream",
     "name": "stdout",
     "output_type": "stream",
     "text": [
      "+-------------------+\n|       distance_deg|\n+-------------------+\n|0.41443117956072995|\n+-------------------+\n\n"
     ]
    }
   ],
   "source": [
    "spark.sql(\"\"\"\n",
    "SELECT st_distance(r.polygon_geom, l.point_geom) AS distance_deg\n",
    "FROM region r CROSS JOIN location l\n",
    "\"\"\").show()"
   ]
  },
  {
   "cell_type": "code",
   "execution_count": 0,
   "metadata": {
    "application/vnd.databricks.v1+cell": {
     "cellMetadata": {
      "byteLimit": 2048000,
      "rowLimit": 10000
     },
     "inputWidgets": {},
     "nuid": "cd22ca8f-522b-45bd-bcb4-9d091d8fdf5e",
     "showTitle": false,
     "tableResultSettingsMap": {},
     "title": ""
    }
   },
   "outputs": [
    {
     "output_type": "stream",
     "name": "stdout",
     "output_type": "stream",
     "text": [
      "+--------+\n|area_deg|\n+--------+\n|     0.0|\n+--------+\n\n"
     ]
    }
   ],
   "source": [
    "spark.sql(\"\"\"\n",
    "SELECT st_area(polygon_geom) AS area_deg\n",
    "FROM region\n",
    "\"\"\").show()"
   ]
  },
  {
   "cell_type": "code",
   "execution_count": 0,
   "metadata": {
    "application/vnd.databricks.v1+cell": {
     "cellMetadata": {
      "byteLimit": 2048000,
      "rowLimit": 10000
     },
     "inputWidgets": {},
     "nuid": "32f08a8b-feef-4c5e-af19-cd3649f00978",
     "showTitle": false,
     "tableResultSettingsMap": {},
     "title": ""
    }
   },
   "outputs": [
    {
     "output_type": "stream",
     "name": "stdout",
     "output_type": "stream",
     "text": [
      "+-----------------------+\n|point_intersects_region|\n+-----------------------+\n|                  false|\n+-----------------------+\n\n"
     ]
    }
   ],
   "source": [
    "spark.sql(\"\"\"\n",
    "SELECT st_intersects(r.polygon_geom, l.point_geom) AS point_intersects_region\n",
    "FROM region r CROSS JOIN location l\n",
    "\"\"\").show()"
   ]
  }
 ],
 "metadata": {
  "application/vnd.databricks.v1+notebook": {
   "computePreferences": null,
   "dashboards": [],
   "environmentMetadata": {
    "base_environment": "",
    "environment_version": "1"
   },
   "inputWidgetPreferences": null,
   "language": "python",
   "notebookMetadata": {
    "pythonIndentUnit": 4
   },
   "notebookName": "Zadanie 1",
   "widgets": {}
  }
 },
 "nbformat": 4,
 "nbformat_minor": 0
}