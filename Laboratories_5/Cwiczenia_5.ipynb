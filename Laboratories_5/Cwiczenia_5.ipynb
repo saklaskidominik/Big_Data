{
 "cells": [
  {
   "cell_type": "markdown",
   "metadata": {
    "application/vnd.databricks.v1+cell": {
     "cellMetadata": {
      "byteLimit": 2048000,
      "rowLimit": 10000
     },
     "inputWidgets": {},
     "nuid": "12dbc770-a96b-49cb-a9d0-4c9b1e63e184",
     "showTitle": false,
     "tableResultSettingsMap": {},
     "title": ""
    }
   },
   "source": [
    "# Zadanie 1\n",
    "Pobierz notatniki Joins.dbc, SMJ.dbc i Generator.dbc\n",
    "\n",
    "Cel zadania: Wykonanie różnych typów jonów i sprawdzenie jaki to ma wpływ na wyniki zapytania. \n",
    "Wykonaj połączenia w notatniku Joins.dbc\n",
    "\n",
    "Dla tych jonów porównaj inner i left and right outer, Left Semi Join, Left Anti Join join \n",
    "za każdym razem sprawdź .explain i zobacz jak Spark wykonuje połączenia\n"
   ]
  },
  {
   "cell_type": "code",
   "execution_count": 0,
   "metadata": {
    "application/vnd.databricks.v1+cell": {
     "cellMetadata": {
      "byteLimit": 2048000,
      "rowLimit": 10000
     },
     "inputWidgets": {},
     "nuid": "95710ff6-8e50-45e3-9d41-b327206ff9ff",
     "showTitle": false,
     "tableResultSettingsMap": {},
     "title": ""
    }
   },
   "outputs": [],
   "source": [
    "from pyspark.sql import SparkSession\n",
    "\n",
    "# Start Spark session\n",
    "spark = SparkSession.builder.appName(\"example\").getOrCreate()\n",
    "\n",
    "# DataFrames creation in PySpark\n",
    "person = spark.createDataFrame([\n",
    "    (0, \"Bill Chambers\", 0, [100]),\n",
    "    (1, \"Matei Zaharia\", 1, [500, 250, 100]),\n",
    "    (2, \"Michael Armbrust\", 1, [250, 100])\n",
    "], [\"id\", \"name\", \"graduate_program\", \"spark_status\"])\n",
    "\n",
    "graduateProgram = spark.createDataFrame([\n",
    "    (0, \"Masters\", \"School of Information\", \"UC Berkeley\"),\n",
    "    (2, \"Masters\", \"EECS\", \"UC Berkeley\"),\n",
    "    (1, \"Ph.D.\", \"EECS\", \"UC Berkeley\")\n",
    "], [\"id\", \"degree\", \"department\", \"school\"])\n",
    "\n",
    "sparkStatus = spark.createDataFrame([\n",
    "    (500, \"Vice President\"),\n",
    "    (250, \"PMC Member\"),\n",
    "    (100, \"Contributor\")\n",
    "], [\"id\", \"status\"])\n"
   ]
  },
  {
   "cell_type": "code",
   "execution_count": 0,
   "metadata": {
    "application/vnd.databricks.v1+cell": {
     "cellMetadata": {
      "byteLimit": 2048000,
      "rowLimit": 10000
     },
     "inputWidgets": {},
     "nuid": "ed601718-ae72-49fe-ad1f-522c0b25359b",
     "showTitle": false,
     "tableResultSettingsMap": {},
     "title": ""
    }
   },
   "outputs": [],
   "source": [
    "person.createOrReplaceTempView(\"person\")\n",
    "graduateProgram.createOrReplaceTempView(\"graduateProgram\")\n",
    "sparkStatus.createOrReplaceTempView(\"sparkStatus\")"
   ]
  },
  {
   "cell_type": "code",
   "execution_count": 0,
   "metadata": {
    "application/vnd.databricks.v1+cell": {
     "cellMetadata": {
      "byteLimit": 2048000,
      "rowLimit": 10000
     },
     "inputWidgets": {},
     "nuid": "d0e20b57-1c5b-4925-806a-0fcb428ed4c4",
     "showTitle": false,
     "tableResultSettingsMap": {},
     "title": ""
    }
   },
   "outputs": [
    {
     "output_type": "stream",
     "name": "stdout",
     "output_type": "stream",
     "text": [
      "+---+----------------+----------------+---------------+\n| id|            name|graduate_program|   spark_status|\n+---+----------------+----------------+---------------+\n|  0|   Bill Chambers|               0|          [100]|\n|  1|   Matei Zaharia|               1|[500, 250, 100]|\n|  2|Michael Armbrust|               1|     [250, 100]|\n+---+----------------+----------------+---------------+\n\n"
     ]
    }
   ],
   "source": [
    "person = spark.sql(\"SELECT * FROM person\")\n",
    "person.show()\n"
   ]
  },
  {
   "cell_type": "code",
   "execution_count": 0,
   "metadata": {
    "application/vnd.databricks.v1+cell": {
     "cellMetadata": {
      "byteLimit": 2048000,
      "rowLimit": 10000
     },
     "inputWidgets": {},
     "nuid": "64495bc8-4ee0-4c78-b4c9-3f6aaed09831",
     "showTitle": false,
     "tableResultSettingsMap": {},
     "title": ""
    }
   },
   "outputs": [
    {
     "output_type": "display_data",
     "data": {
      "text/html": [
       "<style scoped>\n",
       "  .table-result-container {\n",
       "    max-height: 300px;\n",
       "    overflow: auto;\n",
       "  }\n",
       "  table, th, td {\n",
       "    border: 1px solid black;\n",
       "    border-collapse: collapse;\n",
       "  }\n",
       "  th, td {\n",
       "    padding: 5px;\n",
       "  }\n",
       "  th {\n",
       "    text-align: left;\n",
       "  }\n",
       "</style><div class='table-result-container'><table class='table-result'><thead style='background-color: white'><tr><th>id</th><th>degree</th><th>department</th><th>school</th></tr></thead><tbody><tr><td>0</td><td>Masters</td><td>School of Information</td><td>UC Berkeley</td></tr><tr><td>2</td><td>Masters</td><td>EECS</td><td>UC Berkeley</td></tr><tr><td>1</td><td>Ph.D.</td><td>EECS</td><td>UC Berkeley</td></tr></tbody></table></div>"
      ]
     },
     "metadata": {
      "application/vnd.databricks.v1+output": {
       "addedWidgets": {},
       "aggData": [],
       "aggError": "",
       "aggOverflow": false,
       "aggSchema": [],
       "aggSeriesLimitReached": false,
       "aggType": "",
       "arguments": {},
       "columnCustomDisplayInfos": {},
       "data": [
        [
         0,
         "Masters",
         "School of Information",
         "UC Berkeley"
        ],
        [
         2,
         "Masters",
         "EECS",
         "UC Berkeley"
        ],
        [
         1,
         "Ph.D.",
         "EECS",
         "UC Berkeley"
        ]
       ],
       "datasetInfos": [],
       "dbfsResultPath": null,
       "isJsonSchema": true,
       "metadata": {},
       "overflow": false,
       "plotOptions": {
        "customPlotOptions": {},
        "displayType": "table",
        "pivotAggregation": null,
        "pivotColumns": null,
        "xColumns": null,
        "yColumns": null
       },
       "removedWidgets": [],
       "schema": [
        {
         "metadata": "{}",
         "name": "id",
         "type": "\"long\""
        },
        {
         "metadata": "{}",
         "name": "degree",
         "type": "\"string\""
        },
        {
         "metadata": "{}",
         "name": "department",
         "type": "\"string\""
        },
        {
         "metadata": "{}",
         "name": "school",
         "type": "\"string\""
        }
       ],
       "type": "table"
      }
     },
     "output_type": "display_data"
    },
    {
     "output_type": "stream",
     "name": "stdout",
     "output_type": "stream",
     "text": [
      "+---+-------+--------------------+-----------+\n| id| degree|          department|     school|\n+---+-------+--------------------+-----------+\n|  0|Masters|School of Informa...|UC Berkeley|\n|  2|Masters|                EECS|UC Berkeley|\n|  1|  Ph.D.|                EECS|UC Berkeley|\n+---+-------+--------------------+-----------+\n\n"
     ]
    }
   ],
   "source": [
    "graduateProgram = spark.sql(\"SELECT * FROM graduateProgram\")\n",
    "display(graduateProgram)\n",
    "graduateProgram.show()"
   ]
  },
  {
   "cell_type": "code",
   "execution_count": 0,
   "metadata": {
    "application/vnd.databricks.v1+cell": {
     "cellMetadata": {
      "byteLimit": 2048000,
      "rowLimit": 10000
     },
     "inputWidgets": {},
     "nuid": "a96bde8d-44d9-4b49-af96-14f7f5d4c04f",
     "showTitle": false,
     "tableResultSettingsMap": {},
     "title": ""
    }
   },
   "outputs": [
    {
     "output_type": "display_data",
     "data": {
      "text/html": [
       "<style scoped>\n",
       "  .table-result-container {\n",
       "    max-height: 300px;\n",
       "    overflow: auto;\n",
       "  }\n",
       "  table, th, td {\n",
       "    border: 1px solid black;\n",
       "    border-collapse: collapse;\n",
       "  }\n",
       "  th, td {\n",
       "    padding: 5px;\n",
       "  }\n",
       "  th {\n",
       "    text-align: left;\n",
       "  }\n",
       "</style><div class='table-result-container'><table class='table-result'><thead style='background-color: white'><tr><th>id</th><th>status</th></tr></thead><tbody><tr><td>500</td><td>Vice President</td></tr><tr><td>250</td><td>PMC Member</td></tr><tr><td>100</td><td>Contributor</td></tr></tbody></table></div>"
      ]
     },
     "metadata": {
      "application/vnd.databricks.v1+output": {
       "addedWidgets": {},
       "aggData": [],
       "aggError": "",
       "aggOverflow": false,
       "aggSchema": [],
       "aggSeriesLimitReached": false,
       "aggType": "",
       "arguments": {},
       "columnCustomDisplayInfos": {},
       "data": [
        [
         500,
         "Vice President"
        ],
        [
         250,
         "PMC Member"
        ],
        [
         100,
         "Contributor"
        ]
       ],
       "datasetInfos": [],
       "dbfsResultPath": null,
       "isJsonSchema": true,
       "metadata": {},
       "overflow": false,
       "plotOptions": {
        "customPlotOptions": {},
        "displayType": "table",
        "pivotAggregation": null,
        "pivotColumns": null,
        "xColumns": null,
        "yColumns": null
       },
       "removedWidgets": [],
       "schema": [
        {
         "metadata": "{}",
         "name": "id",
         "type": "\"long\""
        },
        {
         "metadata": "{}",
         "name": "status",
         "type": "\"string\""
        }
       ],
       "type": "table"
      }
     },
     "output_type": "display_data"
    }
   ],
   "source": [
    "display(spark.sql(\"SELECT * FROM sparkStatus\"))\n"
   ]
  },
  {
   "cell_type": "code",
   "execution_count": 0,
   "metadata": {
    "application/vnd.databricks.v1+cell": {
     "cellMetadata": {
      "byteLimit": 2048000,
      "rowLimit": 10000
     },
     "inputWidgets": {},
     "nuid": "c3208c51-dc48-4081-a528-2903b5a64b8f",
     "showTitle": false,
     "tableResultSettingsMap": {},
     "title": ""
    }
   },
   "outputs": [],
   "source": [
    "joinExpression = person[\"graduate_program\"] == graduateProgram[\"id\"]\n"
   ]
  },
  {
   "cell_type": "code",
   "execution_count": 0,
   "metadata": {
    "application/vnd.databricks.v1+cell": {
     "cellMetadata": {
      "byteLimit": 2048000,
      "rowLimit": 10000
     },
     "inputWidgets": {},
     "nuid": "e19204e6-f98f-48b7-ace2-c26ee81c3128",
     "showTitle": false,
     "tableResultSettingsMap": {},
     "title": ""
    }
   },
   "outputs": [],
   "source": [
    "wrongJoinExpression = person[\"name\"] == graduateProgram[\"school\"]\n"
   ]
  },
  {
   "cell_type": "code",
   "execution_count": 0,
   "metadata": {
    "application/vnd.databricks.v1+cell": {
     "cellMetadata": {
      "byteLimit": 2048000,
      "rowLimit": 10000
     },
     "inputWidgets": {},
     "nuid": "0e2312f1-ab4a-42a0-992f-9cbaaec8ace0",
     "showTitle": false,
     "tableResultSettingsMap": {},
     "title": ""
    }
   },
   "outputs": [
    {
     "output_type": "stream",
     "name": "stdout",
     "output_type": "stream",
     "text": [
      "+---+----------------+----------------+---------------+---+-------+--------------------+-----------+\n| id|            name|graduate_program|   spark_status| id| degree|          department|     school|\n+---+----------------+----------------+---------------+---+-------+--------------------+-----------+\n|  0|   Bill Chambers|               0|          [100]|  0|Masters|School of Informa...|UC Berkeley|\n|  1|   Matei Zaharia|               1|[500, 250, 100]|  1|  Ph.D.|                EECS|UC Berkeley|\n|  2|Michael Armbrust|               1|     [250, 100]|  1|  Ph.D.|                EECS|UC Berkeley|\n+---+----------------+----------------+---------------+---+-------+--------------------+-----------+\n\n"
     ]
    }
   ],
   "source": [
    "person.join(graduateProgram, joinExpression).show()\n"
   ]
  },
  {
   "cell_type": "code",
   "execution_count": 0,
   "metadata": {
    "application/vnd.databricks.v1+cell": {
     "cellMetadata": {
      "byteLimit": 2048000,
      "rowLimit": 10000
     },
     "inputWidgets": {},
     "nuid": "bd5930f9-ad09-4149-91e6-94d5151dac8d",
     "showTitle": false,
     "tableResultSettingsMap": {},
     "title": ""
    }
   },
   "outputs": [
    {
     "output_type": "stream",
     "name": "stdout",
     "output_type": "stream",
     "text": [
      "+---+----+----------------+------------+---+------+----------+------+\n| id|name|graduate_program|spark_status| id|degree|department|school|\n+---+----+----------------+------------+---+------+----------+------+\n+---+----+----------------+------------+---+------+----------+------+\n\n"
     ]
    }
   ],
   "source": [
    "person.join(graduateProgram, wrongJoinExpression).show()\n"
   ]
  },
  {
   "cell_type": "code",
   "execution_count": 0,
   "metadata": {
    "application/vnd.databricks.v1+cell": {
     "cellMetadata": {
      "byteLimit": 2048000,
      "rowLimit": 10000
     },
     "inputWidgets": {},
     "nuid": "fdd0faa9-4f63-4089-9ae8-fb1101daeb1f",
     "showTitle": false,
     "tableResultSettingsMap": {},
     "title": ""
    }
   },
   "outputs": [
    {
     "output_type": "stream",
     "name": "stdout",
     "output_type": "stream",
     "text": [
      "== Physical Plan ==\nAdaptiveSparkPlan isFinalPlan=false\n+- SortMergeJoin [graduate_program#2464L], [id#2470L], Inner\n   :- Sort [graduate_program#2464L ASC NULLS FIRST], false, 0\n   :  +- Exchange hashpartitioning(graduate_program#2464L, 200), ENSURE_REQUIREMENTS, [plan_id=14388]\n   :     +- Filter isnotnull(graduate_program#2464L)\n   :        +- Scan ExistingRDD[id#2462L,name#2463,graduate_program#2464L,spark_status#2465]\n   +- Sort [id#2470L ASC NULLS FIRST], false, 0\n      +- Exchange hashpartitioning(id#2470L, 200), ENSURE_REQUIREMENTS, [plan_id=14389]\n         +- Filter isnotnull(id#2470L)\n            +- Scan ExistingRDD[id#2470L,degree#2471,department#2472,school#2473]\n\n\n+---+----------------+----------------+---------------+---+-------+--------------------+-----------+\n| id|            name|graduate_program|   spark_status| id| degree|          department|     school|\n+---+----------------+----------------+---------------+---+-------+--------------------+-----------+\n|  0|   Bill Chambers|               0|          [100]|  0|Masters|School of Informa...|UC Berkeley|\n|  1|   Matei Zaharia|               1|[500, 250, 100]|  1|  Ph.D.|                EECS|UC Berkeley|\n|  2|Michael Armbrust|               1|     [250, 100]|  1|  Ph.D.|                EECS|UC Berkeley|\n+---+----------------+----------------+---------------+---+-------+--------------------+-----------+\n\n"
     ]
    }
   ],
   "source": [
    "joinType = \"inner\"\n",
    "join1 = person.join(graduateProgram, joinExpression, joinType)\n",
    "join1.explain()\n",
    "join1.show()"
   ]
  },
  {
   "cell_type": "code",
   "execution_count": 0,
   "metadata": {
    "application/vnd.databricks.v1+cell": {
     "cellMetadata": {
      "byteLimit": 2048000,
      "rowLimit": 10000
     },
     "inputWidgets": {},
     "nuid": "ab220355-8b85-47a8-a069-3ce484e6504b",
     "showTitle": false,
     "tableResultSettingsMap": {},
     "title": ""
    }
   },
   "outputs": [
    {
     "output_type": "stream",
     "name": "stdout",
     "output_type": "stream",
     "text": [
      "== Physical Plan ==\nAdaptiveSparkPlan isFinalPlan=false\n+- SortMergeJoin [graduate_program#2464L], [id#2470L], FullOuter\n   :- Sort [graduate_program#2464L ASC NULLS FIRST], false, 0\n   :  +- Exchange hashpartitioning(graduate_program#2464L, 200), ENSURE_REQUIREMENTS, [plan_id=14602]\n   :     +- Scan ExistingRDD[id#2462L,name#2463,graduate_program#2464L,spark_status#2465]\n   +- Sort [id#2470L ASC NULLS FIRST], false, 0\n      +- Exchange hashpartitioning(id#2470L, 200), ENSURE_REQUIREMENTS, [plan_id=14603]\n         +- Scan ExistingRDD[id#2470L,degree#2471,department#2472,school#2473]\n\n\n+----+----------------+----------------+---------------+---+-------+--------------------+-----------+\n|  id|            name|graduate_program|   spark_status| id| degree|          department|     school|\n+----+----------------+----------------+---------------+---+-------+--------------------+-----------+\n|   0|   Bill Chambers|               0|          [100]|  0|Masters|School of Informa...|UC Berkeley|\n|   1|   Matei Zaharia|               1|[500, 250, 100]|  1|  Ph.D.|                EECS|UC Berkeley|\n|   2|Michael Armbrust|               1|     [250, 100]|  1|  Ph.D.|                EECS|UC Berkeley|\n|null|            null|            null|           null|  2|Masters|                EECS|UC Berkeley|\n+----+----------------+----------------+---------------+---+-------+--------------------+-----------+\n\n"
     ]
    }
   ],
   "source": [
    "joinType = \"outer\"\n",
    "join2 = person.join(graduateProgram, joinExpression, joinType)\n",
    "join2.explain()\n",
    "join2.show()"
   ]
  },
  {
   "cell_type": "code",
   "execution_count": 0,
   "metadata": {
    "application/vnd.databricks.v1+cell": {
     "cellMetadata": {
      "byteLimit": 2048000,
      "rowLimit": 10000
     },
     "inputWidgets": {},
     "nuid": "db2ab686-7095-4b67-b01a-ff07ca3e0344",
     "showTitle": false,
     "tableResultSettingsMap": {},
     "title": ""
    }
   },
   "outputs": [
    {
     "output_type": "stream",
     "name": "stdout",
     "output_type": "stream",
     "text": [
      "== Physical Plan ==\nAdaptiveSparkPlan isFinalPlan=false\n+- SortMergeJoin [id#2470L], [graduate_program#2464L], LeftOuter\n   :- Sort [id#2470L ASC NULLS FIRST], false, 0\n   :  +- Exchange hashpartitioning(id#2470L, 200), ENSURE_REQUIREMENTS, [plan_id=14794]\n   :     +- Scan ExistingRDD[id#2470L,degree#2471,department#2472,school#2473]\n   +- Sort [graduate_program#2464L ASC NULLS FIRST], false, 0\n      +- Exchange hashpartitioning(graduate_program#2464L, 200), ENSURE_REQUIREMENTS, [plan_id=14795]\n         +- Filter isnotnull(graduate_program#2464L)\n            +- Scan ExistingRDD[id#2462L,name#2463,graduate_program#2464L,spark_status#2465]\n\n\n+---+-------+--------------------+-----------+----+----------------+----------------+---------------+\n| id| degree|          department|     school|  id|            name|graduate_program|   spark_status|\n+---+-------+--------------------+-----------+----+----------------+----------------+---------------+\n|  0|Masters|School of Informa...|UC Berkeley|   0|   Bill Chambers|               0|          [100]|\n|  2|Masters|                EECS|UC Berkeley|null|            null|            null|           null|\n|  1|  Ph.D.|                EECS|UC Berkeley|   2|Michael Armbrust|               1|     [250, 100]|\n|  1|  Ph.D.|                EECS|UC Berkeley|   1|   Matei Zaharia|               1|[500, 250, 100]|\n+---+-------+--------------------+-----------+----+----------------+----------------+---------------+\n\n"
     ]
    }
   ],
   "source": [
    "joinType = \"left_outer\"\n",
    "join3 = graduateProgram.join(person, joinExpression, joinType)\n",
    "join3.explain()\n",
    "join3.show()"
   ]
  },
  {
   "cell_type": "code",
   "execution_count": 0,
   "metadata": {
    "application/vnd.databricks.v1+cell": {
     "cellMetadata": {
      "byteLimit": 2048000,
      "rowLimit": 10000
     },
     "inputWidgets": {},
     "nuid": "421032a0-4127-4ae6-a76c-bcb33f95d39d",
     "showTitle": false,
     "tableResultSettingsMap": {},
     "title": ""
    }
   },
   "outputs": [
    {
     "output_type": "stream",
     "name": "stdout",
     "output_type": "stream",
     "text": [
      "== Physical Plan ==\nAdaptiveSparkPlan isFinalPlan=false\n+- SortMergeJoin [graduate_program#2464L], [id#2470L], RightOuter\n   :- Sort [graduate_program#2464L ASC NULLS FIRST], false, 0\n   :  +- Exchange hashpartitioning(graduate_program#2464L, 200), ENSURE_REQUIREMENTS, [plan_id=15022]\n   :     +- Filter isnotnull(graduate_program#2464L)\n   :        +- Scan ExistingRDD[id#2462L,name#2463,graduate_program#2464L,spark_status#2465]\n   +- Sort [id#2470L ASC NULLS FIRST], false, 0\n      +- Exchange hashpartitioning(id#2470L, 200), ENSURE_REQUIREMENTS, [plan_id=15023]\n         +- Scan ExistingRDD[id#2470L,degree#2471,department#2472,school#2473]\n\n\n+----+----------------+----------------+---------------+---+-------+--------------------+-----------+\n|  id|            name|graduate_program|   spark_status| id| degree|          department|     school|\n+----+----------------+----------------+---------------+---+-------+--------------------+-----------+\n|   0|   Bill Chambers|               0|          [100]|  0|Masters|School of Informa...|UC Berkeley|\n|null|            null|            null|           null|  2|Masters|                EECS|UC Berkeley|\n|   2|Michael Armbrust|               1|     [250, 100]|  1|  Ph.D.|                EECS|UC Berkeley|\n|   1|   Matei Zaharia|               1|[500, 250, 100]|  1|  Ph.D.|                EECS|UC Berkeley|\n+----+----------------+----------------+---------------+---+-------+--------------------+-----------+\n\n"
     ]
    }
   ],
   "source": [
    "joinType = \"right\"\n",
    "join4 = person.join(graduateProgram, joinExpression, joinType)\n",
    "join4.explain()\n",
    "join4.show()"
   ]
  },
  {
   "cell_type": "code",
   "execution_count": 0,
   "metadata": {
    "application/vnd.databricks.v1+cell": {
     "cellMetadata": {
      "byteLimit": 2048000,
      "rowLimit": 10000
     },
     "inputWidgets": {},
     "nuid": "c8b5e473-9940-41c1-92a1-260b881228bc",
     "showTitle": false,
     "tableResultSettingsMap": {},
     "title": ""
    }
   },
   "outputs": [
    {
     "output_type": "stream",
     "name": "stdout",
     "output_type": "stream",
     "text": [
      "== Physical Plan ==\nAdaptiveSparkPlan isFinalPlan=false\n+- SortMergeJoin [id#2470L], [graduate_program#2464L], LeftSemi\n   :- Sort [id#2470L ASC NULLS FIRST], false, 0\n   :  +- Exchange hashpartitioning(id#2470L, 200), ENSURE_REQUIREMENTS, [plan_id=15261]\n   :     +- Filter isnotnull(id#2470L)\n   :        +- Scan ExistingRDD[id#2470L,degree#2471,department#2472,school#2473]\n   +- Sort [graduate_program#2464L ASC NULLS FIRST], false, 0\n      +- Exchange hashpartitioning(graduate_program#2464L, 200), ENSURE_REQUIREMENTS, [plan_id=15262]\n         +- Project [graduate_program#2464L]\n            +- Filter isnotnull(graduate_program#2464L)\n               +- Scan ExistingRDD[id#2462L,name#2463,graduate_program#2464L,spark_status#2465]\n\n\n+---+-------+--------------------+-----------+\n| id| degree|          department|     school|\n+---+-------+--------------------+-----------+\n|  0|Masters|School of Informa...|UC Berkeley|\n|  1|  Ph.D.|                EECS|UC Berkeley|\n+---+-------+--------------------+-----------+\n\n"
     ]
    }
   ],
   "source": [
    "joinType = \"left_semi\"\n",
    "join5 = graduateProgram.join(person, joinExpression, joinType)\n",
    "join5.explain()\n",
    "join5.show()"
   ]
  },
  {
   "cell_type": "code",
   "execution_count": 0,
   "metadata": {
    "application/vnd.databricks.v1+cell": {
     "cellMetadata": {
      "byteLimit": 2048000,
      "rowLimit": 10000
     },
     "inputWidgets": {},
     "nuid": "ce3afacf-b1df-4bf4-946d-fd7328aa5d0d",
     "showTitle": false,
     "tableResultSettingsMap": {},
     "title": ""
    }
   },
   "outputs": [],
   "source": [
    "gradProgram2 = graduateProgram.union(spark.createDataFrame([\n",
    "    (0, \"Masters\", \"Duplicated Row\", \"Duplicated School\")\n",
    "], [\"id\", \"degree\", \"department\", \"school\"]))\n",
    "\n",
    "gradProgram2.createOrReplaceTempView(\"gradProgram2\")"
   ]
  },
  {
   "cell_type": "code",
   "execution_count": 0,
   "metadata": {
    "application/vnd.databricks.v1+cell": {
     "cellMetadata": {
      "byteLimit": 2048000,
      "rowLimit": 10000
     },
     "inputWidgets": {},
     "nuid": "369d634a-57c0-435c-857a-fc71f15e8697",
     "showTitle": false,
     "tableResultSettingsMap": {},
     "title": ""
    }
   },
   "outputs": [
    {
     "output_type": "stream",
     "name": "stdout",
     "output_type": "stream",
     "text": [
      "== Physical Plan ==\nAdaptiveSparkPlan isFinalPlan=false\n+- Union\n   :- SortMergeJoin [id#2470L], [graduate_program#2464L], LeftSemi\n   :  :- Sort [id#2470L ASC NULLS FIRST], false, 0\n   :  :  +- Exchange hashpartitioning(id#2470L, 200), ENSURE_REQUIREMENTS, [plan_id=15525]\n   :  :     +- Filter isnotnull(id#2470L)\n   :  :        +- Scan ExistingRDD[id#2470L,degree#2471,department#2472,school#2473]\n   :  +- Sort [graduate_program#2464L ASC NULLS FIRST], false, 0\n   :     +- Exchange hashpartitioning(graduate_program#2464L, 200), ENSURE_REQUIREMENTS, [plan_id=15526]\n   :        +- Project [graduate_program#2464L]\n   :           +- Filter isnotnull(graduate_program#2464L)\n   :              +- Scan ExistingRDD[id#2462L,name#2463,graduate_program#2464L,spark_status#2465]\n   +- SortMergeJoin [id#2954L], [graduate_program#2464L], LeftSemi\n      :- Sort [id#2954L ASC NULLS FIRST], false, 0\n      :  +- Exchange hashpartitioning(id#2954L, 200), ENSURE_REQUIREMENTS, [plan_id=15531]\n      :     +- Filter isnotnull(id#2954L)\n      :        +- Scan ExistingRDD[id#2954L,degree#2955,department#2956,school#2957]\n      +- Sort [graduate_program#2464L ASC NULLS FIRST], false, 0\n         +- Exchange hashpartitioning(graduate_program#2464L, 200), ENSURE_REQUIREMENTS, [plan_id=15532]\n            +- Project [graduate_program#2464L]\n               +- Filter isnotnull(graduate_program#2464L)\n                  +- Scan ExistingRDD[id#2462L,name#2463,graduate_program#2464L,spark_status#2465]\n\n\n+---+-------+--------------------+-----------------+\n| id| degree|          department|           school|\n+---+-------+--------------------+-----------------+\n|  0|Masters|School of Informa...|      UC Berkeley|\n|  1|  Ph.D.|                EECS|      UC Berkeley|\n|  0|Masters|      Duplicated Row|Duplicated School|\n+---+-------+--------------------+-----------------+\n\n"
     ]
    }
   ],
   "source": [
    "join6 = gradProgram2.join(person, joinExpression, joinType)\n",
    "join6.explain()\n",
    "join6.show()"
   ]
  },
  {
   "cell_type": "code",
   "execution_count": 0,
   "metadata": {
    "application/vnd.databricks.v1+cell": {
     "cellMetadata": {
      "byteLimit": 2048000,
      "rowLimit": 10000
     },
     "inputWidgets": {},
     "nuid": "4833ebd8-1156-48c8-a612-aeffc4383665",
     "showTitle": false,
     "tableResultSettingsMap": {},
     "title": ""
    }
   },
   "outputs": [
    {
     "output_type": "stream",
     "name": "stdout",
     "output_type": "stream",
     "text": [
      "== Physical Plan ==\nAdaptiveSparkPlan isFinalPlan=false\n+- SortMergeJoin [id#2470L], [graduate_program#2464L], LeftAnti\n   :- Sort [id#2470L ASC NULLS FIRST], false, 0\n   :  +- Exchange hashpartitioning(id#2470L, 200), ENSURE_REQUIREMENTS, [plan_id=16075]\n   :     +- Scan ExistingRDD[id#2470L,degree#2471,department#2472,school#2473]\n   +- Sort [graduate_program#2464L ASC NULLS FIRST], false, 0\n      +- Exchange hashpartitioning(graduate_program#2464L, 200), ENSURE_REQUIREMENTS, [plan_id=16076]\n         +- Project [graduate_program#2464L]\n            +- Filter isnotnull(graduate_program#2464L)\n               +- Scan ExistingRDD[id#2462L,name#2463,graduate_program#2464L,spark_status#2465]\n\n\n+---+-------+----------+-----------+\n| id| degree|department|     school|\n+---+-------+----------+-----------+\n|  2|Masters|      EECS|UC Berkeley|\n+---+-------+----------+-----------+\n\n"
     ]
    }
   ],
   "source": [
    "joinType = \"left_anti\"\n",
    "join7 = graduateProgram.join(person, joinExpression, joinType)\n",
    "join7.explain()\n",
    "join7.show()"
   ]
  },
  {
   "cell_type": "code",
   "execution_count": 0,
   "metadata": {
    "application/vnd.databricks.v1+cell": {
     "cellMetadata": {
      "byteLimit": 2048000,
      "rowLimit": 10000
     },
     "inputWidgets": {},
     "nuid": "f30d543d-8cd1-4142-8aff-93385af73966",
     "showTitle": false,
     "tableResultSettingsMap": {},
     "title": ""
    }
   },
   "outputs": [
    {
     "output_type": "stream",
     "name": "stdout",
     "output_type": "stream",
     "text": [
      "== Physical Plan ==\nAdaptiveSparkPlan isFinalPlan=false\n+- SortMergeJoin [id#2470L], [graduate_program#2464L], Cross\n   :- Sort [id#2470L ASC NULLS FIRST], false, 0\n   :  +- Exchange hashpartitioning(id#2470L, 200), ENSURE_REQUIREMENTS, [plan_id=16301]\n   :     +- Filter isnotnull(id#2470L)\n   :        +- Scan ExistingRDD[id#2470L,degree#2471,department#2472,school#2473]\n   +- Sort [graduate_program#2464L ASC NULLS FIRST], false, 0\n      +- Exchange hashpartitioning(graduate_program#2464L, 200), ENSURE_REQUIREMENTS, [plan_id=16302]\n         +- Filter isnotnull(graduate_program#2464L)\n            +- Scan ExistingRDD[id#2462L,name#2463,graduate_program#2464L,spark_status#2465]\n\n\n+---+-------+--------------------+-----------+---+----------------+----------------+---------------+\n| id| degree|          department|     school| id|            name|graduate_program|   spark_status|\n+---+-------+--------------------+-----------+---+----------------+----------------+---------------+\n|  0|Masters|School of Informa...|UC Berkeley|  0|   Bill Chambers|               0|          [100]|\n|  1|  Ph.D.|                EECS|UC Berkeley|  1|   Matei Zaharia|               1|[500, 250, 100]|\n|  1|  Ph.D.|                EECS|UC Berkeley|  2|Michael Armbrust|               1|     [250, 100]|\n+---+-------+--------------------+-----------+---+----------------+----------------+---------------+\n\n"
     ]
    }
   ],
   "source": [
    "joinType = \"cross\"\n",
    "join8 = graduateProgram.join(person, joinExpression, joinType)\n",
    "join8.explain()\n",
    "join8.show()"
   ]
  },
  {
   "cell_type": "code",
   "execution_count": 0,
   "metadata": {
    "application/vnd.databricks.v1+cell": {
     "cellMetadata": {
      "byteLimit": 2048000,
      "rowLimit": 10000
     },
     "inputWidgets": {},
     "nuid": "f02a86e8-a590-4880-8c1a-b5d6763e4dca",
     "showTitle": false,
     "tableResultSettingsMap": {},
     "title": ""
    }
   },
   "outputs": [
    {
     "output_type": "stream",
     "name": "stdout",
     "output_type": "stream",
     "text": [
      "== Physical Plan ==\nCartesianProduct\n:- *(1) Scan ExistingRDD[id#2470L,degree#2471,department#2472,school#2473]\n+- *(2) Scan ExistingRDD[id#2462L,name#2463,graduate_program#2464L,spark_status#2465]\n\n\n+---+-------+--------------------+-----------+---+----------------+----------------+---------------+\n| id| degree|          department|     school| id|            name|graduate_program|   spark_status|\n+---+-------+--------------------+-----------+---+----------------+----------------+---------------+\n|  0|Masters|School of Informa...|UC Berkeley|  0|   Bill Chambers|               0|          [100]|\n|  0|Masters|School of Informa...|UC Berkeley|  1|   Matei Zaharia|               1|[500, 250, 100]|\n|  0|Masters|School of Informa...|UC Berkeley|  2|Michael Armbrust|               1|     [250, 100]|\n|  2|Masters|                EECS|UC Berkeley|  0|   Bill Chambers|               0|          [100]|\n|  2|Masters|                EECS|UC Berkeley|  1|   Matei Zaharia|               1|[500, 250, 100]|\n|  2|Masters|                EECS|UC Berkeley|  2|Michael Armbrust|               1|     [250, 100]|\n|  1|  Ph.D.|                EECS|UC Berkeley|  0|   Bill Chambers|               0|          [100]|\n|  1|  Ph.D.|                EECS|UC Berkeley|  1|   Matei Zaharia|               1|[500, 250, 100]|\n|  1|  Ph.D.|                EECS|UC Berkeley|  2|Michael Armbrust|               1|     [250, 100]|\n+---+-------+--------------------+-----------+---+----------------+----------------+---------------+\n\n"
     ]
    }
   ],
   "source": [
    "join9 = graduateProgram.crossJoin(person)\n",
    "join9.explain()\n",
    "join9.show()"
   ]
  },
  {
   "cell_type": "code",
   "execution_count": 0,
   "metadata": {
    "application/vnd.databricks.v1+cell": {
     "cellMetadata": {
      "byteLimit": 2048000,
      "rowLimit": 10000
     },
     "inputWidgets": {},
     "nuid": "6c0a7561-833d-460d-ae50-f3551b460909",
     "showTitle": false,
     "tableResultSettingsMap": {},
     "title": ""
    }
   },
   "outputs": [
    {
     "output_type": "stream",
     "name": "stdout",
     "output_type": "stream",
     "text": [
      "== Physical Plan ==\nAdaptiveSparkPlan isFinalPlan=false\n+- SortMergeJoin [id#2470L], [graduate_program#2464L], Cross\n   :- Sort [id#2470L ASC NULLS FIRST], false, 0\n   :  +- Exchange hashpartitioning(id#2470L, 200), ENSURE_REQUIREMENTS, [plan_id=16600]\n   :     +- Filter isnotnull(id#2470L)\n   :        +- Scan ExistingRDD[id#2470L,degree#2471,department#2472,school#2473]\n   +- Sort [graduate_program#2464L ASC NULLS FIRST], false, 0\n      +- Exchange hashpartitioning(graduate_program#2464L, 200), ENSURE_REQUIREMENTS, [plan_id=16601]\n         +- Filter isnotnull(graduate_program#2464L)\n            +- Scan ExistingRDD[id#2462L,name#2463,graduate_program#2464L,spark_status#2465]\n\n\n+---+-------+--------------------+-----------+---+----------------+----------------+---------------+\n| id| degree|          department|     school| id|            name|graduate_program|   spark_status|\n+---+-------+--------------------+-----------+---+----------------+----------------+---------------+\n|  0|Masters|School of Informa...|UC Berkeley|  0|   Bill Chambers|               0|          [100]|\n|  1|  Ph.D.|                EECS|UC Berkeley|  1|   Matei Zaharia|               1|[500, 250, 100]|\n|  1|  Ph.D.|                EECS|UC Berkeley|  2|Michael Armbrust|               1|     [250, 100]|\n+---+-------+--------------------+-----------+---+----------------+----------------+---------------+\n\n"
     ]
    }
   ],
   "source": [
    "join10 = graduateProgram.join(person, joinExpression, joinType)\n",
    "join10.explain()\n",
    "join10.show()"
   ]
  },
  {
   "cell_type": "code",
   "execution_count": 0,
   "metadata": {
    "application/vnd.databricks.v1+cell": {
     "cellMetadata": {
      "byteLimit": 2048000,
      "rowLimit": 10000
     },
     "inputWidgets": {},
     "nuid": "7ed49675-2c94-490f-b9b5-1ae771a708ca",
     "showTitle": false,
     "tableResultSettingsMap": {},
     "title": ""
    }
   },
   "outputs": [
    {
     "output_type": "stream",
     "name": "stdout",
     "output_type": "stream",
     "text": [
      "== Physical Plan ==\nCartesianProduct\n:- *(1) Scan ExistingRDD[id#2470L,degree#2471,department#2472,school#2473]\n+- *(2) Scan ExistingRDD[id#2462L,name#2463,graduate_program#2464L,spark_status#2465]\n\n\n+---+-------+--------------------+-----------+---+----------------+----------------+---------------+\n| id| degree|          department|     school| id|            name|graduate_program|   spark_status|\n+---+-------+--------------------+-----------+---+----------------+----------------+---------------+\n|  0|Masters|School of Informa...|UC Berkeley|  0|   Bill Chambers|               0|          [100]|\n|  0|Masters|School of Informa...|UC Berkeley|  1|   Matei Zaharia|               1|[500, 250, 100]|\n|  0|Masters|School of Informa...|UC Berkeley|  2|Michael Armbrust|               1|     [250, 100]|\n|  2|Masters|                EECS|UC Berkeley|  0|   Bill Chambers|               0|          [100]|\n|  2|Masters|                EECS|UC Berkeley|  1|   Matei Zaharia|               1|[500, 250, 100]|\n|  2|Masters|                EECS|UC Berkeley|  2|Michael Armbrust|               1|     [250, 100]|\n|  1|  Ph.D.|                EECS|UC Berkeley|  0|   Bill Chambers|               0|          [100]|\n|  1|  Ph.D.|                EECS|UC Berkeley|  1|   Matei Zaharia|               1|[500, 250, 100]|\n|  1|  Ph.D.|                EECS|UC Berkeley|  2|Michael Armbrust|               1|     [250, 100]|\n+---+-------+--------------------+-----------+---+----------------+----------------+---------------+\n\n"
     ]
    }
   ],
   "source": [
    "join11 = graduateProgram.crossJoin(person)\n",
    "join11.explain()\n",
    "join11.show()"
   ]
  },
  {
   "cell_type": "code",
   "execution_count": 0,
   "metadata": {
    "application/vnd.databricks.v1+cell": {
     "cellMetadata": {
      "byteLimit": 2048000,
      "rowLimit": 10000
     },
     "inputWidgets": {},
     "nuid": "05c2147d-8e29-4337-ab03-afe5e23d1c62",
     "showTitle": false,
     "tableResultSettingsMap": {},
     "title": ""
    }
   },
   "outputs": [
    {
     "output_type": "stream",
     "name": "stdout",
     "output_type": "stream",
     "text": [
      "+--------+----------------+----------------+---------------+---+--------------+\n|personId|            name|graduate_program|   spark_status| id|        status|\n+--------+----------------+----------------+---------------+---+--------------+\n|       0|   Bill Chambers|               0|          [100]|100|   Contributor|\n|       1|   Matei Zaharia|               1|[500, 250, 100]|500|Vice President|\n|       1|   Matei Zaharia|               1|[500, 250, 100]|250|    PMC Member|\n|       1|   Matei Zaharia|               1|[500, 250, 100]|100|   Contributor|\n|       2|Michael Armbrust|               1|     [250, 100]|250|    PMC Member|\n|       2|Michael Armbrust|               1|     [250, 100]|100|   Contributor|\n+--------+----------------+----------------+---------------+---+--------------+\n\n"
     ]
    }
   ],
   "source": [
    "from pyspark.sql.functions import expr\n",
    "\n",
    "person.withColumnRenamed(\"id\", \"personId\") \\\n",
    "    .join(sparkStatus, expr(\"array_contains(spark_status, id)\")).show()"
   ]
  },
  {
   "cell_type": "markdown",
   "metadata": {
    "application/vnd.databricks.v1+cell": {
     "cellMetadata": {
      "byteLimit": 2048000,
      "rowLimit": 10000
     },
     "inputWidgets": {},
     "nuid": "72c143d8-d52c-4570-9522-b5849dac1eed",
     "showTitle": false,
     "tableResultSettingsMap": {},
     "title": ""
    }
   },
   "source": [
    "Duplikaty"
   ]
  },
  {
   "cell_type": "code",
   "execution_count": 0,
   "metadata": {
    "application/vnd.databricks.v1+cell": {
     "cellMetadata": {
      "byteLimit": 2048000,
      "rowLimit": 10000
     },
     "inputWidgets": {},
     "nuid": "8a0dee72-bd1b-457e-8b0e-3e387611e87b",
     "showTitle": false,
     "tableResultSettingsMap": {},
     "title": ""
    }
   },
   "outputs": [
    {
     "output_type": "stream",
     "name": "stdout",
     "output_type": "stream",
     "text": [
      "+----------------+-------+--------------------+-----------+\n|graduate_program| degree|          department|     school|\n+----------------+-------+--------------------+-----------+\n|               0|Masters|School of Informa...|UC Berkeley|\n|               2|Masters|                EECS|UC Berkeley|\n|               1|  Ph.D.|                EECS|UC Berkeley|\n+----------------+-------+--------------------+-----------+\n\n"
     ]
    }
   ],
   "source": [
    "gradProgramDupe = graduateProgram.withColumnRenamed(\"id\", \"graduate_program\")\n",
    "gradProgramDupe.show()"
   ]
  },
  {
   "cell_type": "code",
   "execution_count": 0,
   "metadata": {
    "application/vnd.databricks.v1+cell": {
     "cellMetadata": {
      "byteLimit": 2048000,
      "rowLimit": 10000
     },
     "inputWidgets": {},
     "nuid": "5a57fa11-a5cb-40a5-9cdf-c58a935bdb62",
     "showTitle": false,
     "tableResultSettingsMap": {},
     "title": ""
    }
   },
   "outputs": [],
   "source": [
    "joinExpr = gradProgramDupe[\"graduate_program\"] == person[\"graduate_program\"]\n"
   ]
  },
  {
   "cell_type": "code",
   "execution_count": 0,
   "metadata": {
    "application/vnd.databricks.v1+cell": {
     "cellMetadata": {
      "byteLimit": 2048000,
      "rowLimit": 10000
     },
     "inputWidgets": {},
     "nuid": "612a7fca-1c86-476d-a03e-336a51d825d6",
     "showTitle": false,
     "tableResultSettingsMap": {},
     "title": ""
    }
   },
   "outputs": [
    {
     "output_type": "stream",
     "name": "stdout",
     "output_type": "stream",
     "text": [
      "+---+----------------+----------------+---------------+----------------+-------+--------------------+-----------+\n| id|            name|graduate_program|   spark_status|graduate_program| degree|          department|     school|\n+---+----------------+----------------+---------------+----------------+-------+--------------------+-----------+\n|  0|   Bill Chambers|               0|          [100]|               0|Masters|School of Informa...|UC Berkeley|\n|  1|   Matei Zaharia|               1|[500, 250, 100]|               1|  Ph.D.|                EECS|UC Berkeley|\n|  2|Michael Armbrust|               1|     [250, 100]|               1|  Ph.D.|                EECS|UC Berkeley|\n+---+----------------+----------------+---------------+----------------+-------+--------------------+-----------+\n\n"
     ]
    }
   ],
   "source": [
    "person.join(gradProgramDupe, joinExpr).show()\n"
   ]
  },
  {
   "cell_type": "markdown",
   "metadata": {
    "application/vnd.databricks.v1+cell": {
     "cellMetadata": {
      "byteLimit": 2048000,
      "rowLimit": 10000
     },
     "inputWidgets": {},
     "nuid": "dae95ba8-f388-4e8a-a391-e042d6f26681",
     "showTitle": false,
     "tableResultSettingsMap": {},
     "title": ""
    }
   },
   "source": [
    "Opcja 1"
   ]
  },
  {
   "cell_type": "code",
   "execution_count": 0,
   "metadata": {
    "application/vnd.databricks.v1+cell": {
     "cellMetadata": {
      "byteLimit": 2048000,
      "rowLimit": 10000
     },
     "inputWidgets": {},
     "nuid": "0ca090a9-cef7-47ae-99c5-a84eedef3349",
     "showTitle": false,
     "tableResultSettingsMap": {},
     "title": ""
    }
   },
   "outputs": [
    {
     "output_type": "stream",
     "name": "stdout",
     "output_type": "stream",
     "text": [
      "+----------------+\n|graduate_program|\n+----------------+\n|               0|\n|               1|\n|               1|\n+----------------+\n\n"
     ]
    }
   ],
   "source": [
    "person.join(gradProgramDupe, joinExpr).select(\"person.graduate_program\").show()\n"
   ]
  },
  {
   "cell_type": "markdown",
   "metadata": {
    "application/vnd.databricks.v1+cell": {
     "cellMetadata": {
      "byteLimit": 2048000,
      "rowLimit": 10000
     },
     "inputWidgets": {},
     "nuid": "cd8f38b2-b693-4420-a9c6-3f7aef5d2453",
     "showTitle": false,
     "tableResultSettingsMap": {},
     "title": ""
    }
   },
   "source": [
    "Opcja 2 Drop after join"
   ]
  },
  {
   "cell_type": "code",
   "execution_count": 0,
   "metadata": {
    "application/vnd.databricks.v1+cell": {
     "cellMetadata": {
      "byteLimit": 2048000,
      "rowLimit": 10000
     },
     "inputWidgets": {},
     "nuid": "b784d728-0434-4f48-950c-f6826182b9b9",
     "showTitle": false,
     "tableResultSettingsMap": {},
     "title": ""
    }
   },
   "outputs": [
    {
     "output_type": "stream",
     "name": "stdout",
     "output_type": "stream",
     "text": [
      "+----------------+\n|graduate_program|\n+----------------+\n|               0|\n|               1|\n|               1|\n+----------------+\n\n"
     ]
    }
   ],
   "source": [
    "person.join(gradProgramDupe, \"graduate_program\").select(\"graduate_program\").show()\n"
   ]
  },
  {
   "cell_type": "code",
   "execution_count": 0,
   "metadata": {
    "application/vnd.databricks.v1+cell": {
     "cellMetadata": {
      "byteLimit": 2048000,
      "rowLimit": 10000
     },
     "inputWidgets": {},
     "nuid": "99ef680d-f911-408e-a642-8a070307f636",
     "showTitle": false,
     "tableResultSettingsMap": {},
     "title": ""
    }
   },
   "outputs": [
    {
     "output_type": "stream",
     "name": "stdout",
     "output_type": "stream",
     "text": [
      "+----------------+\n|graduate_program|\n+----------------+\n|               0|\n|               1|\n|               1|\n+----------------+\n\n"
     ]
    }
   ],
   "source": [
    "person.join(gradProgramDupe, joinExpr) \\\n",
    "    .drop(person[\"graduate_program\"]) \\\n",
    "    .select(\"graduate_program\").show()"
   ]
  },
  {
   "cell_type": "code",
   "execution_count": 0,
   "metadata": {
    "application/vnd.databricks.v1+cell": {
     "cellMetadata": {
      "byteLimit": 2048000,
      "rowLimit": 10000
     },
     "inputWidgets": {},
     "nuid": "51f4c3b5-91cd-4005-acf9-cd8e9b2e7163",
     "showTitle": false,
     "tableResultSettingsMap": {},
     "title": ""
    }
   },
   "outputs": [
    {
     "output_type": "stream",
     "name": "stdout",
     "output_type": "stream",
     "text": [
      "+---+----------------+----------------+---------------+-------+--------------------+-----------+\n| id|            name|graduate_program|   spark_status| degree|          department|     school|\n+---+----------------+----------------+---------------+-------+--------------------+-----------+\n|  0|   Bill Chambers|               0|          [100]|Masters|School of Informa...|UC Berkeley|\n|  1|   Matei Zaharia|               1|[500, 250, 100]|  Ph.D.|                EECS|UC Berkeley|\n|  2|Michael Armbrust|               1|     [250, 100]|  Ph.D.|                EECS|UC Berkeley|\n+---+----------------+----------------+---------------+-------+--------------------+-----------+\n\n"
     ]
    }
   ],
   "source": [
    "joinExpr = person[\"graduate_program\"] == graduateProgram[\"id\"]\n",
    "person.join(graduateProgram, joinExpr) \\\n",
    "    .drop(graduateProgram[\"id\"]).show()"
   ]
  },
  {
   "cell_type": "markdown",
   "metadata": {
    "application/vnd.databricks.v1+cell": {
     "cellMetadata": {
      "byteLimit": 2048000,
      "rowLimit": 10000
     },
     "inputWidgets": {},
     "nuid": "6f3a07f4-f443-46d9-93c7-64abdcb1128f",
     "showTitle": false,
     "tableResultSettingsMap": {},
     "title": ""
    }
   },
   "source": [
    "Opcja 3"
   ]
  },
  {
   "cell_type": "code",
   "execution_count": 0,
   "metadata": {
    "application/vnd.databricks.v1+cell": {
     "cellMetadata": {
      "byteLimit": 2048000,
      "rowLimit": 10000
     },
     "inputWidgets": {},
     "nuid": "81f23abb-0c48-41bd-b0b1-03a812cba7ec",
     "showTitle": false,
     "tableResultSettingsMap": {},
     "title": ""
    }
   },
   "outputs": [
    {
     "output_type": "stream",
     "name": "stdout",
     "output_type": "stream",
     "text": [
      "+---+----------------+----------------+---------------+-------+-------+--------------------+-----------+\n| id|            name|graduate_program|   spark_status|grad_id| degree|          department|     school|\n+---+----------------+----------------+---------------+-------+-------+--------------------+-----------+\n|  0|   Bill Chambers|               0|          [100]|      0|Masters|School of Informa...|UC Berkeley|\n|  1|   Matei Zaharia|               1|[500, 250, 100]|      1|  Ph.D.|                EECS|UC Berkeley|\n|  2|Michael Armbrust|               1|     [250, 100]|      1|  Ph.D.|                EECS|UC Berkeley|\n+---+----------------+----------------+---------------+-------+-------+--------------------+-----------+\n\n"
     ]
    }
   ],
   "source": [
    "gradProgram3 = graduateProgram.withColumnRenamed(\"id\", \"grad_id\")\n",
    "joinExpr = person[\"graduate_program\"] == gradProgram3[\"grad_id\"]\n",
    "person.join(gradProgram3, joinExpr).show()"
   ]
  },
  {
   "cell_type": "markdown",
   "metadata": {
    "application/vnd.databricks.v1+cell": {
     "cellMetadata": {
      "byteLimit": 2048000,
      "rowLimit": 10000
     },
     "inputWidgets": {},
     "nuid": "ee9d9493-ad5a-487d-8061-11cbb755a226",
     "showTitle": false,
     "tableResultSettingsMap": {},
     "title": ""
    }
   },
   "source": [
    "# Zadanie 2\n",
    "\n",
    "Cel zadania: usuwanie zduplikowanych kolumn\n",
    "\n",
    "Użyj Generatora i stwórz dwie duże tabele po 1 milion wierszy i wykonaj dwa typy joinów, inner oraz left. \n",
    "\n",
    "Połącz tabele po tych samych kolumnach i użyj jednej metody z wykładów na usunięcie duplikatów. \n"
   ]
  },
  {
   "cell_type": "code",
   "execution_count": 0,
   "metadata": {
    "application/vnd.databricks.v1+cell": {
     "cellMetadata": {
      "byteLimit": 2048000,
      "rowLimit": 10000
     },
     "inputWidgets": {},
     "nuid": "937c2810-c9d9-4c34-8b3a-44c54302dcdc",
     "showTitle": false,
     "tableResultSettingsMap": {},
     "title": ""
    }
   },
   "outputs": [
    {
     "output_type": "stream",
     "name": "stdout",
     "output_type": "stream",
     "text": [
      "Tabela po inner join:\n+---+-------------+---+-------------+\n|id1|random_value1|id2|random_value2|\n+---+-------------+---+-------------+\n|  1|          767|  1|          734|\n|  2|          221|  2|          710|\n|  3|          888|  3|          207|\n|  4|          788|  4|          243|\n|  5|          422|  5|          965|\n+---+-------------+---+-------------+\nonly showing top 5 rows\n\nTabela po inner join po usunięciu duplikatów:\n+----+-------------+-------------+\n| id1|random_value1|random_value2|\n+----+-------------+-------------+\n|  26|          274|          812|\n|  29|          384|          552|\n| 474|          284|          774|\n| 964|          170|          704|\n|1677|          199|          480|\n+----+-------------+-------------+\nonly showing top 5 rows\n\nTabela po left join:\n+---+-------------+---+-------------+\n|id1|random_value1|id2|random_value2|\n+---+-------------+---+-------------+\n|  1|          767|  1|          734|\n|  2|          221|  2|          710|\n|  3|          888|  3|          207|\n|  4|          788|  4|          243|\n|  5|          422|  5|          965|\n+---+-------------+---+-------------+\nonly showing top 5 rows\n\nTabela po left join po usunięciu duplikatów:\n+---+-------------+-------------+\n|id1|random_value1|random_value2|\n+---+-------------+-------------+\n|  6|          132|          560|\n|  5|          422|          965|\n|  1|          767|          734|\n|  3|          888|          207|\n|  2|          221|          710|\n+---+-------------+-------------+\nonly showing top 5 rows\n\n"
     ]
    }
   ],
   "source": [
    "import random\n",
    "from pyspark.sql.functions import col\n",
    "\n",
    "data1 = [(i, random.randint(100, 999)) for i in range(1, 1000001)]\n",
    "data2 = [(i, random.randint(100, 999)) for i in range(1, 1000001)]\n",
    "\n",
    "df1 = spark.createDataFrame(data1, [\"id1\", \"random_value1\"])\n",
    "df2 = spark.createDataFrame(data2, [\"id2\", \"random_value2\"])\n",
    "\n",
    "df1_alias = df1.alias(\"df1\")\n",
    "df2_alias = df2.alias(\"df2\")\n",
    "\n",
    "\n",
    "\n",
    "inner_join_df = df1_alias.join(df2_alias, col(\"df1.id1\") == col(\"df2.id2\"), how=\"inner\")\n",
    "\n",
    "print(\"Tabela po inner join:\")\n",
    "inner_join_df.show(5)\n",
    "\n",
    "print(\"Tabela po inner join po usunięciu duplikatów:\")\n",
    "join_inner_duplicate = inner_join_df.drop(\"id2\")\n",
    "join_inner_duplicate.show(5)\n",
    "\n",
    "\n",
    "\n",
    "left_join_df = df1_alias.join(df2_alias, col(\"df1.id1\") == col(\"df2.id2\"), how=\"left\")\n",
    "\n",
    "print(\"Tabela po left join:\")\n",
    "left_join_df.show(5)\n",
    "\n",
    "print(\"Tabela po left join po usunięciu duplikatów:\")\n",
    "join_left_duplicate = left_join_df.drop(\"id2\")\n",
    "join_left_duplicate.show(5)"
   ]
  }
 ],
 "metadata": {
  "application/vnd.databricks.v1+notebook": {
   "computePreferences": null,
   "dashboards": [],
   "environmentMetadata": {
    "base_environment": "",
    "environment_version": "1"
   },
   "inputWidgetPreferences": null,
   "language": "python",
   "notebookMetadata": {
    "pythonIndentUnit": 4
   },
   "notebookName": "Cwiczenia_5",
   "widgets": {}
  }
 },
 "nbformat": 4,
 "nbformat_minor": 0
}