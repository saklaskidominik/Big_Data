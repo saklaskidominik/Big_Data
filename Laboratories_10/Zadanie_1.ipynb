{
 "cells": [
  {
   "cell_type": "markdown",
   "metadata": {
    "application/vnd.databricks.v1+cell": {
     "cellMetadata": {},
     "inputWidgets": {},
     "nuid": "e050d5d5-cb15-482d-a398-4a8de6ec8bf9",
     "showTitle": false,
     "tableResultSettingsMap": {},
     "title": ""
    }
   },
   "source": [
    "Zadanie 1 \n",
    "\n",
    "\n",
    "Użycie funkcji dropFields i danych Nested.json \n",
    "\n",
    "Usuń następujące atrybuty z columny:  \n",
    "\n",
    "\"attribute1\", \"endGradeSeparation\", \"elevationAgainstDirection\",\"formsPartOfPath\" "
   ]
  },
  {
   "cell_type": "code",
   "execution_count": 0,
   "metadata": {
    "application/vnd.databricks.v1+cell": {
     "cellMetadata": {
      "byteLimit": 2048000,
      "rowLimit": 10000
     },
     "inputWidgets": {},
     "nuid": "66e87eb8-03d4-462a-bc89-b82762e42d78",
     "showTitle": false,
     "tableResultSettingsMap": {},
     "title": ""
    }
   },
   "outputs": [
    {
     "output_type": "display_data",
     "data": {
      "text/html": [
       "<style scoped>\n",
       "  .table-result-container {\n",
       "    max-height: 300px;\n",
       "    overflow: auto;\n",
       "  }\n",
       "  table, th, td {\n",
       "    border: 1px solid black;\n",
       "    border-collapse: collapse;\n",
       "  }\n",
       "  th, td {\n",
       "    padding: 5px;\n",
       "  }\n",
       "  th {\n",
       "    text-align: left;\n",
       "  }\n",
       "</style><div class='table-result-container'><table class='table-result'><thead style='background-color: white'><tr><th>CaptureDate</th><th>CaptureID</th><th>FID</th><th>Geometry</th><th>changeType_source</th><th>identifier</th><th>pathLinkInfo</th></tr></thead><tbody><tr><td>2020-12-31T00:00:00</td><td>3</td><td>24b3sdf4353fc220</td><td>Geo223</td><td>insert</td><td>2</td><td>List(null, Urban, null, List(1.3, 0), 0, eb7f6122-f765-4113-8b77-908934437ee96, false, Path, null, List(4fb3afad-2c56-4946-83d1-d734508705e2), DTM, Matched, null, MissingFID, 0, 147b7a78-04bf-4f9a-801d-61dc534a0a5, Sealed on surface)</td></tr></tbody></table></div>"
      ]
     },
     "metadata": {
      "application/vnd.databricks.v1+output": {
       "addedWidgets": {},
       "aggData": [],
       "aggError": "",
       "aggOverflow": false,
       "aggSchema": [],
       "aggSeriesLimitReached": false,
       "aggType": "",
       "arguments": {},
       "columnCustomDisplayInfos": {},
       "data": [
        [
         "2020-12-31T00:00:00",
         3,
         "24b3sdf4353fc220",
         "Geo223",
         "insert",
         2,
         [
          null,
          "Urban",
          null,
          [
           1.3,
           0
          ],
          0,
          "eb7f6122-f765-4113-8b77-908934437ee96",
          false,
          "Path",
          null,
          [
           "4fb3afad-2c56-4946-83d1-d734508705e2"
          ],
          "DTM",
          "Matched",
          null,
          "MissingFID",
          0,
          "147b7a78-04bf-4f9a-801d-61dc534a0a5",
          "Sealed on surface"
         ]
        ]
       ],
       "datasetInfos": [],
       "dbfsResultPath": null,
       "isJsonSchema": true,
       "metadata": {},
       "overflow": false,
       "plotOptions": {
        "customPlotOptions": {},
        "displayType": "table",
        "pivotAggregation": null,
        "pivotColumns": null,
        "xColumns": null,
        "yColumns": null
       },
       "removedWidgets": [],
       "schema": [
        {
         "metadata": "{}",
         "name": "CaptureDate",
         "type": "\"string\""
        },
        {
         "metadata": "{}",
         "name": "CaptureID",
         "type": "\"long\""
        },
        {
         "metadata": "{}",
         "name": "FID",
         "type": "\"string\""
        },
        {
         "metadata": "{}",
         "name": "Geometry",
         "type": "\"string\""
        },
        {
         "metadata": "{}",
         "name": "changeType_source",
         "type": "\"string\""
        },
        {
         "metadata": "{}",
         "name": "identifier",
         "type": "\"long\""
        },
        {
         "metadata": "{}",
         "name": "pathLinkInfo",
         "type": "{\"type\":\"struct\",\"fields\":[{\"name\":\"alternateName\",\"type\":\"string\",\"nullable\":true,\"metadata\":{}},{\"name\":\"captureSpecification\",\"type\":\"string\",\"nullable\":true,\"metadata\":{}},{\"name\":\"cycleFacility\",\"type\":\"string\",\"nullable\":true,\"metadata\":{}},{\"name\":\"elevationGain\",\"type\":{\"type\":\"struct\",\"fields\":[{\"name\":\"elevationAgainstDirection\",\"type\":\"double\",\"nullable\":true,\"metadata\":{}},{\"name\":\"elevationInDirection\",\"type\":\"long\",\"nullable\":true,\"metadata\":{}}]},\"nullable\":true,\"metadata\":{}},{\"name\":\"endGradeSeparation\",\"type\":\"long\",\"nullable\":true,\"metadata\":{}},{\"name\":\"endNode\",\"type\":\"string\",\"nullable\":true,\"metadata\":{}},{\"name\":\"fictitious\",\"type\":\"boolean\",\"nullable\":true,\"metadata\":{}},{\"name\":\"formOfWay\",\"type\":\"string\",\"nullable\":true,\"metadata\":{}},{\"name\":\"formsPartOfPath\",\"type\":\"string\",\"nullable\":true,\"metadata\":{}},{\"name\":\"formsPartOfStreet\",\"type\":{\"type\":\"array\",\"elementType\":\"string\",\"containsNull\":true},\"nullable\":true,\"metadata\":{}},{\"name\":\"heightingMethod\",\"type\":\"string\",\"nullable\":true,\"metadata\":{}},{\"name\":\"matchStatus\",\"type\":\"string\",\"nullable\":true,\"metadata\":{}},{\"name\":\"pathName\",\"type\":\"string\",\"nullable\":true,\"metadata\":{}},{\"name\":\"sourceFID\",\"type\":\"string\",\"nullable\":true,\"metadata\":{}},{\"name\":\"startGradeSeparation\",\"type\":\"long\",\"nullable\":true,\"metadata\":{}},{\"name\":\"startNode\",\"type\":\"string\",\"nullable\":true,\"metadata\":{}},{\"name\":\"surfaceType\",\"type\":\"string\",\"nullable\":true,\"metadata\":{}}]}"
        }
       ],
       "type": "table"
      }
     },
     "output_type": "display_data"
    }
   ],
   "source": [
    "\n",
    "file_location =  \"dbfs:/FileStore/tables/Nested.json\"\n",
    "file_type = \"json\"\n",
    " \n",
    " \n",
    " \n",
    "df = spark.read.option(\"multiline\",\"true\").json(file_location)\n",
    "df = df.drop(\"attribute1\", \"endGradeSeparation\", \"elevationAgainstDirection\",\"formsPartOfPath\" )\n",
    "display(df)"
   ]
  }
 ],
 "metadata": {
  "application/vnd.databricks.v1+notebook": {
   "computePreferences": null,
   "dashboards": [],
   "environmentMetadata": {
    "base_environment": "",
    "environment_version": "1"
   },
   "inputWidgetPreferences": null,
   "language": "python",
   "notebookMetadata": {
    "pythonIndentUnit": 4
   },
   "notebookName": "Zadanie_1",
   "widgets": {}
  }
 },
 "nbformat": 4,
 "nbformat_minor": 0
}